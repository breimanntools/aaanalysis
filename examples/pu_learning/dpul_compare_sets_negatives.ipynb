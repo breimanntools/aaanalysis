{
 "cells": [
  {
   "cell_type": "markdown",
   "source": [
    "The `dPULearn().compare_sets_negatives()` method facilitates the comparison of identified negative samples across datasets. Providing identified negatives represented by '0' in the ``list_labels`` input, it returns a DataFrame (typically named ``df_neg_comp``) where each row is a sample and each column a dataset, indicating whether the sample is identified as a negative (True) or not (False) in the respective dataset:"
   ],
   "metadata": {
    "collapsed": false
   },
   "id": "71110970eb31d943"
  },
  {
   "cell_type": "code",
   "execution_count": 1,
   "outputs": [
    {
     "data": {
      "text/plain": "<IPython.core.display.HTML object>",
      "text/html": "<style type=\"text/css\">\n#T_8875b thead th {\n  background-color: white;\n  color: black;\n}\n#T_8875b tbody tr:nth-child(odd) {\n  background-color: #f2f2f2;\n}\n#T_8875b tbody tr:nth-child(even) {\n  background-color: white;\n}\n#T_8875b th {\n  padding: 5px;\n  white-space: nowrap;\n}\n#T_8875b  td {\n  padding: 5px;\n  white-space: nowrap;\n}\n</style>\n<table id=\"T_8875b\" style='display:block; max-height: 300px; max-width: 100%; overflow-x: auto; overflow-y: auto;'>\n  <thead>\n    <tr>\n      <th class=\"blank level0\" >&nbsp;</th>\n      <th id=\"T_8875b_level0_col0\" class=\"col_heading level0 col0\" >Set 1</th>\n      <th id=\"T_8875b_level0_col1\" class=\"col_heading level0 col1\" >Set 2</th>\n      <th id=\"T_8875b_level0_col2\" class=\"col_heading level0 col2\" >Set 3</th>\n    </tr>\n  </thead>\n  <tbody>\n    <tr>\n      <th id=\"T_8875b_level0_row0\" class=\"row_heading level0 row0\" >3</th>\n      <td id=\"T_8875b_row0_col0\" class=\"data row0 col0\" >True</td>\n      <td id=\"T_8875b_row0_col1\" class=\"data row0 col1\" >True</td>\n      <td id=\"T_8875b_row0_col2\" class=\"data row0 col2\" >False</td>\n    </tr>\n    <tr>\n      <th id=\"T_8875b_level0_row1\" class=\"row_heading level0 row1\" >4</th>\n      <td id=\"T_8875b_row1_col0\" class=\"data row1 col0\" >True</td>\n      <td id=\"T_8875b_row1_col1\" class=\"data row1 col1\" >False</td>\n      <td id=\"T_8875b_row1_col2\" class=\"data row1 col2\" >True</td>\n    </tr>\n    <tr>\n      <th id=\"T_8875b_level0_row2\" class=\"row_heading level0 row2\" >5</th>\n      <td id=\"T_8875b_row2_col0\" class=\"data row2 col0\" >False</td>\n      <td id=\"T_8875b_row2_col1\" class=\"data row2 col1\" >True</td>\n      <td id=\"T_8875b_row2_col2\" class=\"data row2 col2\" >True</td>\n    </tr>\n  </tbody>\n</table>\n"
     },
     "metadata": {},
     "output_type": "display_data"
    }
   ],
   "source": [
    "import aaanalysis as aa\n",
    "list_labels = [[1, 1, 0, 0, 2], [1, 1, 0, 2, 0], [1, 1, 2, 0, 0]]\n",
    "dpul = aa.dPULearn()\n",
    "df_neg_comp = dpul.compare_sets_negatives(list_labels=list_labels)\n",
    "aa.display_df(df_neg_comp)"
   ],
   "metadata": {
    "collapsed": false,
    "ExecuteTime": {
     "end_time": "2025-06-17T00:56:24.171482784Z",
     "start_time": "2025-06-17T00:56:20.536740134Z"
    }
   },
   "id": "4c334553c492f6fd"
  },
  {
   "cell_type": "markdown",
   "source": [
    "By default, only rows containing at least one identified negative are returned. To return all rows, set ``remove_non_neg=False``: "
   ],
   "metadata": {
    "collapsed": false
   },
   "id": "367ee3ef8982203e"
  },
  {
   "cell_type": "code",
   "execution_count": 2,
   "outputs": [
    {
     "data": {
      "text/plain": "<IPython.core.display.HTML object>",
      "text/html": "<style type=\"text/css\">\n#T_3ef17 thead th {\n  background-color: white;\n  color: black;\n}\n#T_3ef17 tbody tr:nth-child(odd) {\n  background-color: #f2f2f2;\n}\n#T_3ef17 tbody tr:nth-child(even) {\n  background-color: white;\n}\n#T_3ef17 th {\n  padding: 5px;\n  white-space: nowrap;\n}\n#T_3ef17  td {\n  padding: 5px;\n  white-space: nowrap;\n}\n</style>\n<table id=\"T_3ef17\" style='display:block; max-height: 300px; max-width: 100%; overflow-x: auto; overflow-y: auto;'>\n  <thead>\n    <tr>\n      <th class=\"blank level0\" >&nbsp;</th>\n      <th id=\"T_3ef17_level0_col0\" class=\"col_heading level0 col0\" >Set 1</th>\n      <th id=\"T_3ef17_level0_col1\" class=\"col_heading level0 col1\" >Set 2</th>\n      <th id=\"T_3ef17_level0_col2\" class=\"col_heading level0 col2\" >Set 3</th>\n    </tr>\n  </thead>\n  <tbody>\n    <tr>\n      <th id=\"T_3ef17_level0_row0\" class=\"row_heading level0 row0\" >1</th>\n      <td id=\"T_3ef17_row0_col0\" class=\"data row0 col0\" >False</td>\n      <td id=\"T_3ef17_row0_col1\" class=\"data row0 col1\" >False</td>\n      <td id=\"T_3ef17_row0_col2\" class=\"data row0 col2\" >False</td>\n    </tr>\n    <tr>\n      <th id=\"T_3ef17_level0_row1\" class=\"row_heading level0 row1\" >2</th>\n      <td id=\"T_3ef17_row1_col0\" class=\"data row1 col0\" >False</td>\n      <td id=\"T_3ef17_row1_col1\" class=\"data row1 col1\" >False</td>\n      <td id=\"T_3ef17_row1_col2\" class=\"data row1 col2\" >False</td>\n    </tr>\n    <tr>\n      <th id=\"T_3ef17_level0_row2\" class=\"row_heading level0 row2\" >3</th>\n      <td id=\"T_3ef17_row2_col0\" class=\"data row2 col0\" >True</td>\n      <td id=\"T_3ef17_row2_col1\" class=\"data row2 col1\" >True</td>\n      <td id=\"T_3ef17_row2_col2\" class=\"data row2 col2\" >False</td>\n    </tr>\n    <tr>\n      <th id=\"T_3ef17_level0_row3\" class=\"row_heading level0 row3\" >4</th>\n      <td id=\"T_3ef17_row3_col0\" class=\"data row3 col0\" >True</td>\n      <td id=\"T_3ef17_row3_col1\" class=\"data row3 col1\" >False</td>\n      <td id=\"T_3ef17_row3_col2\" class=\"data row3 col2\" >True</td>\n    </tr>\n    <tr>\n      <th id=\"T_3ef17_level0_row4\" class=\"row_heading level0 row4\" >5</th>\n      <td id=\"T_3ef17_row4_col0\" class=\"data row4 col0\" >False</td>\n      <td id=\"T_3ef17_row4_col1\" class=\"data row4 col1\" >True</td>\n      <td id=\"T_3ef17_row4_col2\" class=\"data row4 col2\" >True</td>\n    </tr>\n  </tbody>\n</table>\n"
     },
     "metadata": {},
     "output_type": "display_data"
    }
   ],
   "source": [
    "df_neg_comp = dpul.compare_sets_negatives(list_labels=list_labels, remove_non_neg=False)\n",
    "aa.display_df(df_neg_comp)"
   ],
   "metadata": {
    "collapsed": false,
    "ExecuteTime": {
     "end_time": "2025-06-17T00:56:24.179085229Z",
     "start_time": "2025-06-17T00:56:24.168509173Z"
    }
   },
   "id": "aff2e824d640341f"
  },
  {
   "cell_type": "markdown",
   "source": [
    "Names of the datasets can be provided by the ``names_datasets`` argument: "
   ],
   "metadata": {
    "collapsed": false
   },
   "id": "971a2e0814ed9257"
  },
  {
   "cell_type": "code",
   "execution_count": 4,
   "outputs": [
    {
     "data": {
      "text/plain": "<IPython.core.display.HTML object>",
      "text/html": "<style type=\"text/css\">\n#T_0664b thead th {\n  background-color: white;\n  color: black;\n}\n#T_0664b tbody tr:nth-child(odd) {\n  background-color: #f2f2f2;\n}\n#T_0664b tbody tr:nth-child(even) {\n  background-color: white;\n}\n#T_0664b th {\n  padding: 5px;\n  white-space: nowrap;\n}\n#T_0664b  td {\n  padding: 5px;\n  white-space: nowrap;\n}\n</style>\n<table id=\"T_0664b\" style='display:block; max-height: 300px; max-width: 100%; overflow-x: auto; overflow-y: auto;'>\n  <thead>\n    <tr>\n      <th class=\"blank level0\" >&nbsp;</th>\n      <th id=\"T_0664b_level0_col0\" class=\"col_heading level0 col0\" >Dataset 1</th>\n      <th id=\"T_0664b_level0_col1\" class=\"col_heading level0 col1\" >Dataset 2</th>\n      <th id=\"T_0664b_level0_col2\" class=\"col_heading level0 col2\" >Dataset 3</th>\n    </tr>\n  </thead>\n  <tbody>\n    <tr>\n      <th id=\"T_0664b_level0_row0\" class=\"row_heading level0 row0\" >3</th>\n      <td id=\"T_0664b_row0_col0\" class=\"data row0 col0\" >True</td>\n      <td id=\"T_0664b_row0_col1\" class=\"data row0 col1\" >True</td>\n      <td id=\"T_0664b_row0_col2\" class=\"data row0 col2\" >False</td>\n    </tr>\n    <tr>\n      <th id=\"T_0664b_level0_row1\" class=\"row_heading level0 row1\" >4</th>\n      <td id=\"T_0664b_row1_col0\" class=\"data row1 col0\" >True</td>\n      <td id=\"T_0664b_row1_col1\" class=\"data row1 col1\" >False</td>\n      <td id=\"T_0664b_row1_col2\" class=\"data row1 col2\" >True</td>\n    </tr>\n    <tr>\n      <th id=\"T_0664b_level0_row2\" class=\"row_heading level0 row2\" >5</th>\n      <td id=\"T_0664b_row2_col0\" class=\"data row2 col0\" >False</td>\n      <td id=\"T_0664b_row2_col1\" class=\"data row2 col1\" >True</td>\n      <td id=\"T_0664b_row2_col2\" class=\"data row2 col2\" >True</td>\n    </tr>\n  </tbody>\n</table>\n"
     },
     "metadata": {},
     "output_type": "display_data"
    }
   ],
   "source": [
    "names = [\"Dataset 1\", \"Dataset 2\", \"Dataset 3\"]\n",
    "df_neg_comp = dpul.compare_sets_negatives(list_labels=list_labels, names_datasets=names)\n",
    "aa.display_df(df_neg_comp)"
   ],
   "metadata": {
    "collapsed": false,
    "ExecuteTime": {
     "end_time": "2025-06-17T00:57:00.828895024Z",
     "start_time": "2025-06-17T00:57:00.764249079Z"
    }
   },
   "id": "298bc95c58944153"
  },
  {
   "cell_type": "markdown",
   "source": [
    "A DataFrame with sequence information (``df_seq``) and an requiered 'entry' column can be provdied, which is then merged with the ``df_neg_comp`` output DataFrame:"
   ],
   "metadata": {
    "collapsed": false
   },
   "id": "f40efce41f1789af"
  },
  {
   "cell_type": "code",
   "execution_count": 5,
   "outputs": [
    {
     "data": {
      "text/plain": "<IPython.core.display.HTML object>",
      "text/html": "<style type=\"text/css\">\n#T_fa974 thead th {\n  background-color: white;\n  color: black;\n}\n#T_fa974 tbody tr:nth-child(odd) {\n  background-color: #f2f2f2;\n}\n#T_fa974 tbody tr:nth-child(even) {\n  background-color: white;\n}\n#T_fa974 th {\n  padding: 5px;\n  white-space: nowrap;\n}\n#T_fa974  td {\n  padding: 5px;\n  white-space: nowrap;\n}\n</style>\n<table id=\"T_fa974\" style='display:block; max-height: 300px; max-width: 100%; overflow-x: auto; overflow-y: auto;'>\n  <thead>\n    <tr>\n      <th class=\"blank level0\" >&nbsp;</th>\n      <th id=\"T_fa974_level0_col0\" class=\"col_heading level0 col0\" >entry</th>\n      <th id=\"T_fa974_level0_col1\" class=\"col_heading level0 col1\" >sequence</th>\n      <th id=\"T_fa974_level0_col2\" class=\"col_heading level0 col2\" >Set 1</th>\n      <th id=\"T_fa974_level0_col3\" class=\"col_heading level0 col3\" >Set 2</th>\n      <th id=\"T_fa974_level0_col4\" class=\"col_heading level0 col4\" >Set 3</th>\n    </tr>\n  </thead>\n  <tbody>\n    <tr>\n      <th id=\"T_fa974_level0_row0\" class=\"row_heading level0 row0\" >3</th>\n      <td id=\"T_fa974_row0_col0\" class=\"data row0 col0\" >entry3</td>\n      <td id=\"T_fa974_row0_col1\" class=\"data row0 col1\" >CC</td>\n      <td id=\"T_fa974_row0_col2\" class=\"data row0 col2\" >True</td>\n      <td id=\"T_fa974_row0_col3\" class=\"data row0 col3\" >True</td>\n      <td id=\"T_fa974_row0_col4\" class=\"data row0 col4\" >False</td>\n    </tr>\n    <tr>\n      <th id=\"T_fa974_level0_row1\" class=\"row_heading level0 row1\" >4</th>\n      <td id=\"T_fa974_row1_col0\" class=\"data row1 col0\" >entry4</td>\n      <td id=\"T_fa974_row1_col1\" class=\"data row1 col1\" >DD</td>\n      <td id=\"T_fa974_row1_col2\" class=\"data row1 col2\" >True</td>\n      <td id=\"T_fa974_row1_col3\" class=\"data row1 col3\" >False</td>\n      <td id=\"T_fa974_row1_col4\" class=\"data row1 col4\" >True</td>\n    </tr>\n    <tr>\n      <th id=\"T_fa974_level0_row2\" class=\"row_heading level0 row2\" >5</th>\n      <td id=\"T_fa974_row2_col0\" class=\"data row2 col0\" >entry5</td>\n      <td id=\"T_fa974_row2_col1\" class=\"data row2 col1\" >EE</td>\n      <td id=\"T_fa974_row2_col2\" class=\"data row2 col2\" >False</td>\n      <td id=\"T_fa974_row2_col3\" class=\"data row2 col3\" >True</td>\n      <td id=\"T_fa974_row2_col4\" class=\"data row2 col4\" >True</td>\n    </tr>\n  </tbody>\n</table>\n"
     },
     "metadata": {},
     "output_type": "display_data"
    }
   ],
   "source": [
    "import pandas as pd\n",
    "df_seq = pd.DataFrame([(\"entry1\", \"AA\"), (\"entry2\", \"BB\"), (\"entry3\", \"CC\"), (\"entry4\", \"DD\"), (\"entry5\", \"EE\")], columns=[\"entry\", \"sequence\"])\n",
    "df_neg_comp = dpul.compare_sets_negatives(list_labels=list_labels, df_seq=df_seq)\n",
    "aa.display_df(df_neg_comp)"
   ],
   "metadata": {
    "collapsed": false,
    "ExecuteTime": {
     "end_time": "2025-06-17T00:57:03.809422337Z",
     "start_time": "2025-06-17T00:57:03.715400748Z"
    }
   },
   "id": "3b4939c659c2da26"
  },
  {
   "cell_type": "markdown",
   "source": [
    "Such overlaps are conveniently visualized using Venn diagrams, but they are limited to a maximum of three datasets. For comparing more than three datasets, an Upset Plot is a better choice. To facilitate this, set ``return_upset_data=True`` to generate a data structure directly compatible with the Upset Plot visualizations:   "
   ],
   "metadata": {
    "collapsed": false
   },
   "id": "cecef050afa840cc"
  },
  {
   "cell_type": "code",
   "execution_count": 6,
   "outputs": [
    {
     "data": {
      "text/plain": "<Figure size 266.667x444.444 with 4 Axes>",
      "image/png": "[encoded data removed]"
     },
     "metadata": {},
     "output_type": "display_data"
    }
   ],
   "source": [
    "from upsetplot import plot\n",
    "import matplotlib.pyplot as plt\n",
    "import warnings\n",
    "warnings.filterwarnings('ignore', category=FutureWarning)\n",
    "list_labels = [[1, 1, 0, 2, 2], [1, 1, 2, 0, 0], [1, 1, 2, 0, 0], [1, 1, 0, 0, 0]]\n",
    "upset_data = dpul.compare_sets_negatives(list_labels=list_labels, return_upset_data=True)\n",
    "plot(upset_data, show_counts='%d')\n",
    "plt.suptitle(\"Overlap of identified negatives in different datasets\")\n",
    "plt.show()"
   ],
   "metadata": {
    "collapsed": false,
    "ExecuteTime": {
     "end_time": "2025-06-17T00:57:05.788264981Z",
     "start_time": "2025-06-17T00:57:05.353687162Z"
    }
   },
   "id": "1fe9eb2b159597a3"
  },
  {
   "cell_type": "code",
   "execution_count": null,
   "outputs": [],
   "source": [],
   "metadata": {
    "collapsed": false
   },
   "id": "9b358457adf8e5f0"
  }
 ],
 "metadata": {
  "kernelspec": {
   "display_name": "Python 3",
   "language": "python",
   "name": "python3"
  },
  "language_info": {
   "codemirror_mode": {
    "name": "ipython",
    "version": 2
   },
   "file_extension": ".py",
   "mimetype": "text/x-python",
   "name": "python",
   "nbconvert_exporter": "python",
   "pygments_lexer": "ipython2",
   "version": "2.7.6"
  }
 },
 "nbformat": 4,
 "nbformat_minor": 5
}
