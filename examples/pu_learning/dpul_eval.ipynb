{
 "cells": [
  {
   "cell_type": "markdown",
   "source": [
    "Create a small example dataset for dPUlearn containing positive (1), unlabeled (2) data samples and the identified negatives (0):"
   ],
   "metadata": {
    "collapsed": false
   },
   "id": "c8bdc42b86efb947"
  },
  {
   "cell_type": "code",
   "execution_count": 1,
   "outputs": [],
   "source": [
    "import aaanalysis as aa\n",
    "import pandas as pd\n",
    "import numpy as np\n",
    "aa.options[\"verbose\"] = False\n",
    "X = np.array([[0.2, 0.1], [0.1, 0.15], [0.25, 0.2], [0.2, 0.3], [0.5, 0.7]])\n",
    "# Three different sets of labels \n",
    "list_labels = [[1, 1, 2, 0, 0], [1, 1, 0, 2, 0], [1, 1, 0, 0, 2]]"
   ],
   "metadata": {
    "collapsed": false,
    "ExecuteTime": {
     "end_time": "2025-06-17T00:57:33.935860778Z",
     "start_time": "2025-06-17T00:57:30.695566823Z"
    }
   },
   "id": "18470be9f87f103e"
  },
  {
   "cell_type": "markdown",
   "source": [
    "Use the ``dPULearn().eval()`` method to obtain the evaluation for each label set:  "
   ],
   "metadata": {
    "collapsed": false
   },
   "id": "6dd812db4fded37a"
  },
  {
   "cell_type": "code",
   "execution_count": 2,
   "outputs": [
    {
     "data": {
      "text/plain": "<IPython.core.display.HTML object>",
      "text/html": "<style type=\"text/css\">\n#T_23fe5 thead th {\n  background-color: white;\n  color: black;\n}\n#T_23fe5 tbody tr:nth-child(odd) {\n  background-color: #f2f2f2;\n}\n#T_23fe5 tbody tr:nth-child(even) {\n  background-color: white;\n}\n#T_23fe5 th {\n  padding: 5px;\n  white-space: nowrap;\n}\n#T_23fe5  td {\n  padding: 5px;\n  white-space: nowrap;\n}\n</style>\n<table id=\"T_23fe5\" style='display:block; max-height: 300px; max-width: 100%; overflow-x: auto; overflow-y: auto;'>\n  <thead>\n    <tr>\n      <th class=\"blank level0\" >&nbsp;</th>\n      <th id=\"T_23fe5_level0_col0\" class=\"col_heading level0 col0\" >name</th>\n      <th id=\"T_23fe5_level0_col1\" class=\"col_heading level0 col1\" >n_rel_neg</th>\n      <th id=\"T_23fe5_level0_col2\" class=\"col_heading level0 col2\" >avg_STD</th>\n      <th id=\"T_23fe5_level0_col3\" class=\"col_heading level0 col3\" >avg_IQR</th>\n      <th id=\"T_23fe5_level0_col4\" class=\"col_heading level0 col4\" >avg_abs_AUC_pos</th>\n      <th id=\"T_23fe5_level0_col5\" class=\"col_heading level0 col5\" >avg_abs_AUC_unl</th>\n    </tr>\n  </thead>\n  <tbody>\n    <tr>\n      <th id=\"T_23fe5_level0_row0\" class=\"row_heading level0 row0\" >1</th>\n      <td id=\"T_23fe5_row0_col0\" class=\"data row0 col0\" >Set 1</td>\n      <td id=\"T_23fe5_row0_col1\" class=\"data row0 col1\" >2</td>\n      <td id=\"T_23fe5_row0_col2\" class=\"data row0 col2\" >0.175000</td>\n      <td id=\"T_23fe5_row0_col3\" class=\"data row0 col3\" >0.175000</td>\n      <td id=\"T_23fe5_row0_col4\" class=\"data row0 col4\" >0.437500</td>\n      <td id=\"T_23fe5_row0_col5\" class=\"data row0 col5\" >0.250000</td>\n    </tr>\n    <tr>\n      <th id=\"T_23fe5_level0_row1\" class=\"row_heading level0 row1\" >2</th>\n      <td id=\"T_23fe5_row1_col0\" class=\"data row1 col0\" >Set 2</td>\n      <td id=\"T_23fe5_row1_col1\" class=\"data row1 col1\" >2</td>\n      <td id=\"T_23fe5_row1_col2\" class=\"data row1 col2\" >0.187500</td>\n      <td id=\"T_23fe5_row1_col3\" class=\"data row1 col3\" >0.187500</td>\n      <td id=\"T_23fe5_row1_col4\" class=\"data row1 col4\" >0.500000</td>\n      <td id=\"T_23fe5_row1_col5\" class=\"data row1 col5\" >0.250000</td>\n    </tr>\n    <tr>\n      <th id=\"T_23fe5_level0_row2\" class=\"row_heading level0 row2\" >3</th>\n      <td id=\"T_23fe5_row2_col0\" class=\"data row2 col0\" >Set 3</td>\n      <td id=\"T_23fe5_row2_col1\" class=\"data row2 col1\" >2</td>\n      <td id=\"T_23fe5_row2_col2\" class=\"data row2 col2\" >0.037500</td>\n      <td id=\"T_23fe5_row2_col3\" class=\"data row2 col3\" >0.037500</td>\n      <td id=\"T_23fe5_row2_col4\" class=\"data row2 col4\" >0.437500</td>\n      <td id=\"T_23fe5_row2_col5\" class=\"data row2 col5\" >0.500000</td>\n    </tr>\n  </tbody>\n</table>\n"
     },
     "metadata": {},
     "output_type": "display_data"
    }
   ],
   "source": [
    "dpul = aa.dPULearn()\n",
    "df_eval = dpul.eval(X, list_labels=list_labels)\n",
    "aa.display_df(df_eval)"
   ],
   "metadata": {
    "collapsed": false,
    "ExecuteTime": {
     "end_time": "2025-06-17T00:57:34.087796935Z",
     "start_time": "2025-06-17T00:57:33.941257012Z"
    }
   },
   "id": "bcac44abd90ce73f"
  },
  {
   "cell_type": "markdown",
   "source": [
    "The dataset names given in the 'name' column or can be customized, typically using the name of the identification method, e.g., 'euclidean' for Euclidean distance-based. This can be achieved by setting ``names_datasets``:"
   ],
   "metadata": {
    "collapsed": false
   },
   "id": "293434d4476ca1ef"
  },
  {
   "cell_type": "code",
   "execution_count": 3,
   "outputs": [
    {
     "data": {
      "text/plain": "<IPython.core.display.HTML object>",
      "text/html": "<style type=\"text/css\">\n#T_b458b thead th {\n  background-color: white;\n  color: black;\n}\n#T_b458b tbody tr:nth-child(odd) {\n  background-color: #f2f2f2;\n}\n#T_b458b tbody tr:nth-child(even) {\n  background-color: white;\n}\n#T_b458b th {\n  padding: 5px;\n  white-space: nowrap;\n}\n#T_b458b  td {\n  padding: 5px;\n  white-space: nowrap;\n}\n</style>\n<table id=\"T_b458b\" style='display:block; max-height: 300px; max-width: 100%; overflow-x: auto; overflow-y: auto;'>\n  <thead>\n    <tr>\n      <th class=\"blank level0\" >&nbsp;</th>\n      <th id=\"T_b458b_level0_col0\" class=\"col_heading level0 col0\" >name</th>\n      <th id=\"T_b458b_level0_col1\" class=\"col_heading level0 col1\" >n_rel_neg</th>\n      <th id=\"T_b458b_level0_col2\" class=\"col_heading level0 col2\" >avg_STD</th>\n      <th id=\"T_b458b_level0_col3\" class=\"col_heading level0 col3\" >avg_IQR</th>\n      <th id=\"T_b458b_level0_col4\" class=\"col_heading level0 col4\" >avg_abs_AUC_pos</th>\n      <th id=\"T_b458b_level0_col5\" class=\"col_heading level0 col5\" >avg_abs_AUC_unl</th>\n    </tr>\n  </thead>\n  <tbody>\n    <tr>\n      <th id=\"T_b458b_level0_row0\" class=\"row_heading level0 row0\" >1</th>\n      <td id=\"T_b458b_row0_col0\" class=\"data row0 col0\" >Dataset 1</td>\n      <td id=\"T_b458b_row0_col1\" class=\"data row0 col1\" >2</td>\n      <td id=\"T_b458b_row0_col2\" class=\"data row0 col2\" >0.175000</td>\n      <td id=\"T_b458b_row0_col3\" class=\"data row0 col3\" >0.175000</td>\n      <td id=\"T_b458b_row0_col4\" class=\"data row0 col4\" >0.437500</td>\n      <td id=\"T_b458b_row0_col5\" class=\"data row0 col5\" >0.250000</td>\n    </tr>\n    <tr>\n      <th id=\"T_b458b_level0_row1\" class=\"row_heading level0 row1\" >2</th>\n      <td id=\"T_b458b_row1_col0\" class=\"data row1 col0\" >Dataset 2</td>\n      <td id=\"T_b458b_row1_col1\" class=\"data row1 col1\" >2</td>\n      <td id=\"T_b458b_row1_col2\" class=\"data row1 col2\" >0.187500</td>\n      <td id=\"T_b458b_row1_col3\" class=\"data row1 col3\" >0.187500</td>\n      <td id=\"T_b458b_row1_col4\" class=\"data row1 col4\" >0.500000</td>\n      <td id=\"T_b458b_row1_col5\" class=\"data row1 col5\" >0.250000</td>\n    </tr>\n    <tr>\n      <th id=\"T_b458b_level0_row2\" class=\"row_heading level0 row2\" >3</th>\n      <td id=\"T_b458b_row2_col0\" class=\"data row2 col0\" >Dataset 3</td>\n      <td id=\"T_b458b_row2_col1\" class=\"data row2 col1\" >2</td>\n      <td id=\"T_b458b_row2_col2\" class=\"data row2 col2\" >0.037500</td>\n      <td id=\"T_b458b_row2_col3\" class=\"data row2 col3\" >0.037500</td>\n      <td id=\"T_b458b_row2_col4\" class=\"data row2 col4\" >0.437500</td>\n      <td id=\"T_b458b_row2_col5\" class=\"data row2 col5\" >0.500000</td>\n    </tr>\n  </tbody>\n</table>\n"
     },
     "metadata": {},
     "output_type": "display_data"
    }
   ],
   "source": [
    "names_datasets = [\"Dataset 1\", \"Dataset 2\", \"Dataset 3\"]\n",
    "df_eval = dpul.eval(X, list_labels=list_labels, names_datasets=names_datasets)\n",
    "aa.display_df(df_eval)"
   ],
   "metadata": {
    "collapsed": false,
    "ExecuteTime": {
     "end_time": "2025-06-17T00:57:34.097022494Z",
     "start_time": "2025-06-17T00:57:34.070570632Z"
    }
   },
   "id": "f29abff49a30d817"
  },
  {
   "cell_type": "markdown",
   "source": [
    "The `df_eval` DataFrame provides two categories of quality measures:\n",
    "\n",
    "1. **Homogeneity Within Negatives**: Measured by 'avg_STD' and 'avg_IQR', indicating the uniformity and spread of identified negatives.\n",
    "2. **Dissimilarity With Other Groups**: Represented here by 'avg_abs_AUC_pos/unl', comparing identified negatives with positives ('pos', label 1) and unlabeled samples ('unl', label 2).\n",
    "\n",
    "For a more comprehensive analysis, include `X_neg` as a feature matrix of ground-truth negatives to assess their dissimilarity with the identified negatives:"
   ],
   "metadata": {
    "collapsed": false
   },
   "id": "ac14b12a21c73bed"
  },
  {
   "cell_type": "code",
   "execution_count": 4,
   "outputs": [
    {
     "data": {
      "text/plain": "<IPython.core.display.HTML object>",
      "text/html": "<style type=\"text/css\">\n#T_86386 thead th {\n  background-color: white;\n  color: black;\n}\n#T_86386 tbody tr:nth-child(odd) {\n  background-color: #f2f2f2;\n}\n#T_86386 tbody tr:nth-child(even) {\n  background-color: white;\n}\n#T_86386 th {\n  padding: 5px;\n  white-space: nowrap;\n}\n#T_86386  td {\n  padding: 5px;\n  white-space: nowrap;\n}\n</style>\n<table id=\"T_86386\" style='display:block; max-height: 300px; max-width: 100%; overflow-x: auto; overflow-y: auto;'>\n  <thead>\n    <tr>\n      <th class=\"blank level0\" >&nbsp;</th>\n      <th id=\"T_86386_level0_col0\" class=\"col_heading level0 col0\" >name</th>\n      <th id=\"T_86386_level0_col1\" class=\"col_heading level0 col1\" >n_rel_neg</th>\n      <th id=\"T_86386_level0_col2\" class=\"col_heading level0 col2\" >avg_STD</th>\n      <th id=\"T_86386_level0_col3\" class=\"col_heading level0 col3\" >avg_IQR</th>\n      <th id=\"T_86386_level0_col4\" class=\"col_heading level0 col4\" >avg_abs_AUC_pos</th>\n      <th id=\"T_86386_level0_col5\" class=\"col_heading level0 col5\" >avg_abs_AUC_unl</th>\n      <th id=\"T_86386_level0_col6\" class=\"col_heading level0 col6\" >avg_abs_AUC_neg</th>\n    </tr>\n  </thead>\n  <tbody>\n    <tr>\n      <th id=\"T_86386_level0_row0\" class=\"row_heading level0 row0\" >1</th>\n      <td id=\"T_86386_row0_col0\" class=\"data row0 col0\" >Dataset 1</td>\n      <td id=\"T_86386_row0_col1\" class=\"data row0 col1\" >2</td>\n      <td id=\"T_86386_row0_col2\" class=\"data row0 col2\" >0.175000</td>\n      <td id=\"T_86386_row0_col3\" class=\"data row0 col3\" >0.175000</td>\n      <td id=\"T_86386_row0_col4\" class=\"data row0 col4\" >0.437500</td>\n      <td id=\"T_86386_row0_col5\" class=\"data row0 col5\" >0.250000</td>\n      <td id=\"T_86386_row0_col6\" class=\"data row0 col6\" >0.187500</td>\n    </tr>\n    <tr>\n      <th id=\"T_86386_level0_row1\" class=\"row_heading level0 row1\" >2</th>\n      <td id=\"T_86386_row1_col0\" class=\"data row1 col0\" >Dataset 2</td>\n      <td id=\"T_86386_row1_col1\" class=\"data row1 col1\" >2</td>\n      <td id=\"T_86386_row1_col2\" class=\"data row1 col2\" >0.187500</td>\n      <td id=\"T_86386_row1_col3\" class=\"data row1 col3\" >0.187500</td>\n      <td id=\"T_86386_row1_col4\" class=\"data row1 col4\" >0.500000</td>\n      <td id=\"T_86386_row1_col5\" class=\"data row1 col5\" >0.250000</td>\n      <td id=\"T_86386_row1_col6\" class=\"data row1 col6\" >0.187500</td>\n    </tr>\n    <tr>\n      <th id=\"T_86386_level0_row2\" class=\"row_heading level0 row2\" >3</th>\n      <td id=\"T_86386_row2_col0\" class=\"data row2 col0\" >Dataset 3</td>\n      <td id=\"T_86386_row2_col1\" class=\"data row2 col1\" >2</td>\n      <td id=\"T_86386_row2_col2\" class=\"data row2 col2\" >0.037500</td>\n      <td id=\"T_86386_row2_col3\" class=\"data row2 col3\" >0.037500</td>\n      <td id=\"T_86386_row2_col4\" class=\"data row2 col4\" >0.437500</td>\n      <td id=\"T_86386_row2_col5\" class=\"data row2 col5\" >0.500000</td>\n      <td id=\"T_86386_row2_col6\" class=\"data row2 col6\" >0.500000</td>\n    </tr>\n  </tbody>\n</table>\n"
     },
     "metadata": {},
     "output_type": "display_data"
    }
   ],
   "source": [
    "X_neg = [[0.5, 0.8], [0.4, 0.4]]\n",
    "df_eval = dpul.eval(X, list_labels=list_labels, names_datasets=names_datasets, X_neg=X_neg)\n",
    "aa.display_df(df_eval)"
   ],
   "metadata": {
    "collapsed": false,
    "ExecuteTime": {
     "end_time": "2025-06-17T00:57:34.133919009Z",
     "start_time": "2025-06-17T00:57:34.121004882Z"
    }
   },
   "id": "53f024cd4233e06"
  },
  {
   "cell_type": "markdown",
   "source": [
    "If the variance within the data is high enough, the Kullback-Leibler Divergence (KLD) can be computed to assess the dissimilarity of distributions between the identified negatives and the other groups:"
   ],
   "metadata": {
    "collapsed": false
   },
   "id": "e0662ee765e8ad0a"
  },
  {
   "cell_type": "code",
   "execution_count": 5,
   "outputs": [
    {
     "data": {
      "text/plain": "<IPython.core.display.HTML object>",
      "text/html": "<style type=\"text/css\">\n#T_88060 thead th {\n  background-color: white;\n  color: black;\n}\n#T_88060 tbody tr:nth-child(odd) {\n  background-color: #f2f2f2;\n}\n#T_88060 tbody tr:nth-child(even) {\n  background-color: white;\n}\n#T_88060 th {\n  padding: 5px;\n  white-space: nowrap;\n}\n#T_88060  td {\n  padding: 5px;\n  white-space: nowrap;\n}\n</style>\n<table id=\"T_88060\" style='display:block; max-height: 300px; max-width: 100%; overflow-x: auto; overflow-y: auto;'>\n  <thead>\n    <tr>\n      <th class=\"blank level0\" >&nbsp;</th>\n      <th id=\"T_88060_level0_col0\" class=\"col_heading level0 col0\" >name</th>\n      <th id=\"T_88060_level0_col1\" class=\"col_heading level0 col1\" >n_rel_neg</th>\n      <th id=\"T_88060_level0_col2\" class=\"col_heading level0 col2\" >avg_STD</th>\n      <th id=\"T_88060_level0_col3\" class=\"col_heading level0 col3\" >avg_IQR</th>\n      <th id=\"T_88060_level0_col4\" class=\"col_heading level0 col4\" >avg_abs_AUC_pos</th>\n      <th id=\"T_88060_level0_col5\" class=\"col_heading level0 col5\" >avg_KLD_pos</th>\n      <th id=\"T_88060_level0_col6\" class=\"col_heading level0 col6\" >avg_abs_AUC_unl</th>\n      <th id=\"T_88060_level0_col7\" class=\"col_heading level0 col7\" >avg_KLD_unl</th>\n      <th id=\"T_88060_level0_col8\" class=\"col_heading level0 col8\" >avg_abs_AUC_neg</th>\n      <th id=\"T_88060_level0_col9\" class=\"col_heading level0 col9\" >avg_KLD_neg</th>\n    </tr>\n  </thead>\n  <tbody>\n    <tr>\n      <th id=\"T_88060_level0_row0\" class=\"row_heading level0 row0\" >1</th>\n      <td id=\"T_88060_row0_col0\" class=\"data row0 col0\" >Dataset 1</td>\n      <td id=\"T_88060_row0_col1\" class=\"data row0 col1\" >2</td>\n      <td id=\"T_88060_row0_col2\" class=\"data row0 col2\" >0.175000</td>\n      <td id=\"T_88060_row0_col3\" class=\"data row0 col3\" >0.175000</td>\n      <td id=\"T_88060_row0_col4\" class=\"data row0 col4\" >0.437500</td>\n      <td id=\"T_88060_row0_col5\" class=\"data row0 col5\" >1.414400</td>\n      <td id=\"T_88060_row0_col6\" class=\"data row0 col6\" >0.125000</td>\n      <td id=\"T_88060_row0_col7\" class=\"data row0 col7\" >0.003100</td>\n      <td id=\"T_88060_row0_col8\" class=\"data row0 col8\" >0.187500</td>\n      <td id=\"T_88060_row0_col9\" class=\"data row0 col9\" >0.181300</td>\n    </tr>\n    <tr>\n      <th id=\"T_88060_level0_row1\" class=\"row_heading level0 row1\" >2</th>\n      <td id=\"T_88060_row1_col0\" class=\"data row1 col0\" >Dataset 2</td>\n      <td id=\"T_88060_row1_col1\" class=\"data row1 col1\" >2</td>\n      <td id=\"T_88060_row1_col2\" class=\"data row1 col2\" >0.187500</td>\n      <td id=\"T_88060_row1_col3\" class=\"data row1 col3\" >0.187500</td>\n      <td id=\"T_88060_row1_col4\" class=\"data row1 col4\" >0.500000</td>\n      <td id=\"T_88060_row1_col5\" class=\"data row1 col5\" >1.366900</td>\n      <td id=\"T_88060_row1_col6\" class=\"data row1 col6\" >0.125000</td>\n      <td id=\"T_88060_row1_col7\" class=\"data row1 col7\" >0.003300</td>\n      <td id=\"T_88060_row1_col8\" class=\"data row1 col8\" >0.187500</td>\n      <td id=\"T_88060_row1_col9\" class=\"data row1 col9\" >0.104100</td>\n    </tr>\n    <tr>\n      <th id=\"T_88060_level0_row2\" class=\"row_heading level0 row2\" >3</th>\n      <td id=\"T_88060_row2_col0\" class=\"data row2 col0\" >Dataset 3</td>\n      <td id=\"T_88060_row2_col1\" class=\"data row2 col1\" >2</td>\n      <td id=\"T_88060_row2_col2\" class=\"data row2 col2\" >0.037500</td>\n      <td id=\"T_88060_row2_col3\" class=\"data row2 col3\" >0.037500</td>\n      <td id=\"T_88060_row2_col4\" class=\"data row2 col4\" >0.437500</td>\n      <td id=\"T_88060_row2_col5\" class=\"data row2 col5\" >1.016800</td>\n      <td id=\"T_88060_row2_col6\" class=\"data row2 col6\" >0.500000</td>\n      <td id=\"T_88060_row2_col7\" class=\"data row2 col7\" >30.317900</td>\n      <td id=\"T_88060_row2_col8\" class=\"data row2 col8\" >0.500000</td>\n      <td id=\"T_88060_row2_col9\" class=\"data row2 col9\" >12.020200</td>\n    </tr>\n  </tbody>\n</table>\n"
     },
     "metadata": {},
     "output_type": "display_data"
    }
   ],
   "source": [
    "# Extend the unlabeled group by one sample to fulfill variance requirements\n",
    "X = np.array([[0.2, 0.1], [0.1, 0.15], [0.25, 0.2], [0.2, 0.3], [0.5, 0.7], [0.6, 0.8]])\n",
    "list_labels = [[1, 1, 2, 0, 0, 2], [1, 1, 0, 2, 0, 2], [1, 1, 0, 0, 2, 2]]\n",
    "df_eval = dpul.eval(X, list_labels=list_labels, names_datasets=names_datasets, X_neg=X_neg, comp_kld=True)\n",
    "aa.display_df(df_eval)"
   ],
   "metadata": {
    "collapsed": false,
    "ExecuteTime": {
     "end_time": "2025-06-17T00:57:34.280715261Z",
     "start_time": "2025-06-17T00:57:34.141899011Z"
    }
   },
   "id": "2e8c63e74f8fe621"
  }
 ],
 "metadata": {
  "kernelspec": {
   "display_name": "Python 3",
   "language": "python",
   "name": "python3"
  },
  "language_info": {
   "codemirror_mode": {
    "name": "ipython",
    "version": 2
   },
   "file_extension": ".py",
   "mimetype": "text/x-python",
   "name": "python",
   "nbconvert_exporter": "python",
   "pygments_lexer": "ipython2",
   "version": "2.7.6"
  }
 },
 "nbformat": 4,
 "nbformat_minor": 5
}
