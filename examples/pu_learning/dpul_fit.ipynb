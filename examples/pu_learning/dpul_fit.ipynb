{
 "cells": [
  {
   "cell_type": "markdown",
   "source": [
    "To demonstrate the ``dPULearn().fit()``method, we create a small example dataset containing positive (1) and unlabeled (2) data samples:"
   ],
   "metadata": {
    "collapsed": false
   },
   "id": "ee0cb04bb68d6b2e"
  },
  {
   "cell_type": "code",
   "execution_count": 1,
   "outputs": [],
   "source": [
    "import aaanalysis as aa\n",
    "import pandas as pd\n",
    "import numpy as np\n",
    "aa.options[\"verbose\"] = False\n",
    "\n",
    "X = np.array([[0.2, 0.1], [0.25, 0.2], [0.2, 0.3], [0.5, 0.7]])\n",
    "labels = np.array([1, 2, 2, 2])"
   ],
   "metadata": {
    "collapsed": false,
    "ExecuteTime": {
     "end_time": "2025-06-17T00:57:44.609433009Z",
     "start_time": "2025-06-17T00:57:41.433472085Z"
    }
   },
   "id": "7632fd4609a320e1"
  },
  {
   "cell_type": "markdown",
   "source": [
    "Use ``dPULearn`` with default Principal Component Analysis (PCA) to obtain a defined number of reliable negatives samples (0) by specifying the ``n_unl_to_neg`` parameter:"
   ],
   "metadata": {
    "collapsed": false
   },
   "id": "9cb00bb9175d432b"
  },
  {
   "cell_type": "code",
   "execution_count": 2,
   "outputs": [
    {
     "data": {
      "text/plain": "<IPython.core.display.HTML object>",
      "text/html": "<style type=\"text/css\">\n#T_c876e thead th {\n  background-color: white;\n  color: black;\n}\n#T_c876e tbody tr:nth-child(odd) {\n  background-color: #f2f2f2;\n}\n#T_c876e tbody tr:nth-child(even) {\n  background-color: white;\n}\n#T_c876e th {\n  padding: 5px;\n  white-space: nowrap;\n}\n#T_c876e  td {\n  padding: 5px;\n  white-space: nowrap;\n}\n</style>\n<table id=\"T_c876e\" style='display:block; max-height: 300px; max-width: 100%; overflow-x: auto; overflow-y: auto;'>\n  <thead>\n    <tr>\n      <th class=\"blank level0\" >&nbsp;</th>\n      <th id=\"T_c876e_level0_col0\" class=\"col_heading level0 col0\" >selection_via</th>\n      <th id=\"T_c876e_level0_col1\" class=\"col_heading level0 col1\" >PC1 (100.0%)</th>\n      <th id=\"T_c876e_level0_col2\" class=\"col_heading level0 col2\" >PC1 (100.0%)_abs_dif</th>\n    </tr>\n  </thead>\n  <tbody>\n    <tr>\n      <th id=\"T_c876e_level0_row0\" class=\"row_heading level0 row0\" >1</th>\n      <td id=\"T_c876e_row0_col0\" class=\"data row0 col0\" >None</td>\n      <td id=\"T_c876e_row0_col1\" class=\"data row0 col1\" >-0.400000</td>\n      <td id=\"T_c876e_row0_col2\" class=\"data row0 col2\" >0.000000</td>\n    </tr>\n    <tr>\n      <th id=\"T_c876e_level0_row1\" class=\"row_heading level0 row1\" >2</th>\n      <td id=\"T_c876e_row1_col0\" class=\"data row1 col0\" >None</td>\n      <td id=\"T_c876e_row1_col1\" class=\"data row1 col1\" >-0.200000</td>\n      <td id=\"T_c876e_row1_col2\" class=\"data row1 col2\" >0.200000</td>\n    </tr>\n    <tr>\n      <th id=\"T_c876e_level0_row2\" class=\"row_heading level0 row2\" >3</th>\n      <td id=\"T_c876e_row2_col0\" class=\"data row2 col0\" >None</td>\n      <td id=\"T_c876e_row2_col1\" class=\"data row2 col1\" >0.400000</td>\n      <td id=\"T_c876e_row2_col2\" class=\"data row2 col2\" >0.800000</td>\n    </tr>\n    <tr>\n      <th id=\"T_c876e_level0_row3\" class=\"row_heading level0 row3\" >4</th>\n      <td id=\"T_c876e_row3_col0\" class=\"data row3 col0\" >PC1</td>\n      <td id=\"T_c876e_row3_col1\" class=\"data row3 col1\" >0.800000</td>\n      <td id=\"T_c876e_row3_col2\" class=\"data row3 col2\" >1.200000</td>\n    </tr>\n  </tbody>\n</table>\n"
     },
     "metadata": {},
     "output_type": "display_data"
    }
   ],
   "source": [
    "dpul = aa.dPULearn()\n",
    "dpul.fit(X=X, labels=labels, n_unl_to_neg=1)\n",
    "df_pu = dpul.df_pu_\n",
    "labels = dpul.labels_ # Updated labels\n",
    "aa.display_df(df_pu)"
   ],
   "metadata": {
    "collapsed": false,
    "ExecuteTime": {
     "end_time": "2025-06-17T00:57:44.735797251Z",
     "start_time": "2025-06-17T00:57:44.614093660Z"
    }
   },
   "id": "da2ac31420e15802"
  },
  {
   "cell_type": "markdown",
   "source": [
    "As a real-world example, you can load our γ-secretase substrate prediction dataset containing substrates (positive samples, 1) and a redundancy-reduced set of single-span type I transmembrane proteins with unknown substrates status (unlabeled samples, 2):"
   ],
   "metadata": {
    "collapsed": false
   },
   "id": "ca46c9e21ca7bc0c"
  },
  {
   "cell_type": "code",
   "execution_count": 3,
   "outputs": [
    {
     "name": "stdout",
     "output_type": "stream",
     "text": [
      "DataFrame shape: (5, 8)\n"
     ]
    },
    {
     "data": {
      "text/plain": "<IPython.core.display.HTML object>",
      "text/html": "<style type=\"text/css\">\n#T_4483c thead th {\n  background-color: white;\n  color: black;\n}\n#T_4483c tbody tr:nth-child(odd) {\n  background-color: #f2f2f2;\n}\n#T_4483c tbody tr:nth-child(even) {\n  background-color: white;\n}\n#T_4483c th {\n  padding: 5px;\n  white-space: nowrap;\n}\n#T_4483c  td {\n  padding: 5px;\n  white-space: nowrap;\n}\n</style>\n<table id=\"T_4483c\" style='display:block; max-height: 300px; max-width: 100%; overflow-x: auto; overflow-y: auto;'>\n  <thead>\n    <tr>\n      <th class=\"blank level0\" >&nbsp;</th>\n      <th id=\"T_4483c_level0_col0\" class=\"col_heading level0 col0\" >entry</th>\n      <th id=\"T_4483c_level0_col1\" class=\"col_heading level0 col1\" >sequence</th>\n      <th id=\"T_4483c_level0_col2\" class=\"col_heading level0 col2\" >label</th>\n      <th id=\"T_4483c_level0_col3\" class=\"col_heading level0 col3\" >tmd_start</th>\n      <th id=\"T_4483c_level0_col4\" class=\"col_heading level0 col4\" >tmd_stop</th>\n    </tr>\n  </thead>\n  <tbody>\n    <tr>\n      <th id=\"T_4483c_level0_row0\" class=\"row_heading level0 row0\" >690</th>\n      <td id=\"T_4483c_row0_col0\" class=\"data row0 col0\" >P60852</td>\n      <td id=\"T_4483c_row0_col1\" class=\"data row0 col1\" >MAGGSATTWGYPVAL...LSQTWAQKLWESNRQ</td>\n      <td id=\"T_4483c_row0_col2\" class=\"data row0 col2\" >2</td>\n      <td id=\"T_4483c_row0_col3\" class=\"data row0 col3\" >602</td>\n      <td id=\"T_4483c_row0_col4\" class=\"data row0 col4\" >624</td>\n    </tr>\n    <tr>\n      <th id=\"T_4483c_level0_row1\" class=\"row_heading level0 row1\" >691</th>\n      <td id=\"T_4483c_row1_col0\" class=\"data row1 col0\" >P20239</td>\n      <td id=\"T_4483c_row1_col1\" class=\"data row1 col1\" >MARWQRKASVSSPCG...FICYLYKKRTIRFNH</td>\n      <td id=\"T_4483c_row1_col2\" class=\"data row1 col2\" >2</td>\n      <td id=\"T_4483c_row1_col3\" class=\"data row1 col3\" >684</td>\n      <td id=\"T_4483c_row1_col4\" class=\"data row1 col4\" >703</td>\n    </tr>\n    <tr>\n      <th id=\"T_4483c_level0_row2\" class=\"row_heading level0 row2\" >692</th>\n      <td id=\"T_4483c_row2_col0\" class=\"data row2 col0\" >P21754</td>\n      <td id=\"T_4483c_row2_col1\" class=\"data row2 col1\" >MELSYRLFICLLLWG...TRRCRTASHPVSASE</td>\n      <td id=\"T_4483c_row2_col2\" class=\"data row2 col2\" >2</td>\n      <td id=\"T_4483c_row2_col3\" class=\"data row2 col3\" >387</td>\n      <td id=\"T_4483c_row2_col4\" class=\"data row2 col4\" >409</td>\n    </tr>\n    <tr>\n      <th id=\"T_4483c_level0_row3\" class=\"row_heading level0 row3\" >693</th>\n      <td id=\"T_4483c_row3_col0\" class=\"data row3 col0\" >Q12836</td>\n      <td id=\"T_4483c_row3_col1\" class=\"data row3 col1\" >MWLLRCVLLCVSLSL...LAVKKQKSCPDQMCQ</td>\n      <td id=\"T_4483c_row3_col2\" class=\"data row3 col2\" >2</td>\n      <td id=\"T_4483c_row3_col3\" class=\"data row3 col3\" >506</td>\n      <td id=\"T_4483c_row3_col4\" class=\"data row3 col4\" >528</td>\n    </tr>\n    <tr>\n      <th id=\"T_4483c_level0_row4\" class=\"row_heading level0 row4\" >694</th>\n      <td id=\"T_4483c_row4_col0\" class=\"data row4 col0\" >Q8TCW7</td>\n      <td id=\"T_4483c_row4_col1\" class=\"data row4 col1\" >MEQIWLLLLLTIRVL...PTSLVLNGIRNPVFD</td>\n      <td id=\"T_4483c_row4_col2\" class=\"data row4 col2\" >2</td>\n      <td id=\"T_4483c_row4_col3\" class=\"data row4 col3\" >374</td>\n      <td id=\"T_4483c_row4_col4\" class=\"data row4 col4\" >396</td>\n    </tr>\n  </tbody>\n</table>\n"
     },
     "metadata": {},
     "output_type": "display_data"
    }
   ],
   "source": [
    "df_seq = aa.load_dataset(name=\"DOM_GSEC_PU\")\n",
    "labels = df_seq[\"label\"].to_numpy()\n",
    "n_pos = sum([x == 1 for x in labels])   # Get number of positive samples\n",
    "aa.display_df(df=df_seq.tail(5), show_shape=True, n_cols=5)"
   ],
   "metadata": {
    "collapsed": false,
    "ExecuteTime": {
     "end_time": "2025-06-17T00:57:44.795727063Z",
     "start_time": "2025-06-17T00:57:44.722735867Z"
    }
   },
   "id": "fb7ea317dcf0c81c"
  },
  {
   "cell_type": "markdown",
   "source": [
    "Using the respective features, we can create a feature matrix and obtain 'reliable' non-substrates by dPULearn:"
   ],
   "metadata": {
    "collapsed": false
   },
   "id": "2c6bc098f6e0c835"
  },
  {
   "cell_type": "code",
   "execution_count": 4,
   "outputs": [
    {
     "name": "stdout",
     "output_type": "stream",
     "text": [
      "2    631\n",
      "1     63\n",
      "Name: count, dtype: int64\n",
      "2    568\n",
      "1     63\n",
      "0     63\n",
      "Name: count, dtype: int64\n",
      "DataFrame shape: (63, 15)\n"
     ]
    },
    {
     "data": {
      "text/plain": "<IPython.core.display.HTML object>",
      "text/html": "<style type=\"text/css\">\n#T_2dd4c thead th {\n  background-color: white;\n  color: black;\n}\n#T_2dd4c tbody tr:nth-child(odd) {\n  background-color: #f2f2f2;\n}\n#T_2dd4c tbody tr:nth-child(even) {\n  background-color: white;\n}\n#T_2dd4c th {\n  padding: 5px;\n  white-space: nowrap;\n}\n#T_2dd4c  td {\n  padding: 5px;\n  white-space: nowrap;\n}\n</style>\n<table id=\"T_2dd4c\" style='display:block; max-height: 300px; max-width: 100%; overflow-x: auto; overflow-y: auto;'>\n  <thead>\n    <tr>\n      <th class=\"blank level0\" >&nbsp;</th>\n      <th id=\"T_2dd4c_level0_col0\" class=\"col_heading level0 col0\" >selection_via</th>\n      <th id=\"T_2dd4c_level0_col1\" class=\"col_heading level0 col1\" >PC1 (56.2%)</th>\n      <th id=\"T_2dd4c_level0_col2\" class=\"col_heading level0 col2\" >PC2 (7.4%)</th>\n      <th id=\"T_2dd4c_level0_col3\" class=\"col_heading level0 col3\" >PC3 (2.9%)</th>\n      <th id=\"T_2dd4c_level0_col4\" class=\"col_heading level0 col4\" >PC4 (2.8%)</th>\n    </tr>\n  </thead>\n  <tbody>\n    <tr>\n      <th id=\"T_2dd4c_level0_row0\" class=\"row_heading level0 row0\" >81</th>\n      <td id=\"T_2dd4c_row0_col0\" class=\"data row0 col0\" >PC3</td>\n      <td id=\"T_2dd4c_row0_col1\" class=\"data row0 col1\" >0.033600</td>\n      <td id=\"T_2dd4c_row0_col2\" class=\"data row0 col2\" >0.007300</td>\n      <td id=\"T_2dd4c_row0_col3\" class=\"data row0 col3\" >0.098200</td>\n      <td id=\"T_2dd4c_row0_col4\" class=\"data row0 col4\" >-0.007800</td>\n    </tr>\n    <tr>\n      <th id=\"T_2dd4c_level0_row1\" class=\"row_heading level0 row1\" >82</th>\n      <td id=\"T_2dd4c_row1_col0\" class=\"data row1 col0\" >PC7</td>\n      <td id=\"T_2dd4c_row1_col1\" class=\"data row1 col1\" >0.033400</td>\n      <td id=\"T_2dd4c_row1_col2\" class=\"data row1 col2\" >-0.041100</td>\n      <td id=\"T_2dd4c_row1_col3\" class=\"data row1 col3\" >0.033500</td>\n      <td id=\"T_2dd4c_row1_col4\" class=\"data row1 col4\" >-0.005200</td>\n    </tr>\n    <tr>\n      <th id=\"T_2dd4c_level0_row2\" class=\"row_heading level0 row2\" >84</th>\n      <td id=\"T_2dd4c_row2_col0\" class=\"data row2 col0\" >PC1</td>\n      <td id=\"T_2dd4c_row2_col1\" class=\"data row2 col1\" >0.021000</td>\n      <td id=\"T_2dd4c_row2_col2\" class=\"data row2 col2\" >-0.047800</td>\n      <td id=\"T_2dd4c_row2_col3\" class=\"data row2 col3\" >0.075200</td>\n      <td id=\"T_2dd4c_row2_col4\" class=\"data row2 col4\" >-0.005400</td>\n    </tr>\n    <tr>\n      <th id=\"T_2dd4c_level0_row3\" class=\"row_heading level0 row3\" >90</th>\n      <td id=\"T_2dd4c_row3_col0\" class=\"data row3 col0\" >PC4</td>\n      <td id=\"T_2dd4c_row3_col1\" class=\"data row3 col1\" >0.039000</td>\n      <td id=\"T_2dd4c_row3_col2\" class=\"data row3 col2\" >-0.032000</td>\n      <td id=\"T_2dd4c_row3_col3\" class=\"data row3 col3\" >-0.001300</td>\n      <td id=\"T_2dd4c_row3_col4\" class=\"data row3 col4\" >0.110900</td>\n    </tr>\n    <tr>\n      <th id=\"T_2dd4c_level0_row4\" class=\"row_heading level0 row4\" >95</th>\n      <td id=\"T_2dd4c_row4_col0\" class=\"data row4 col0\" >PC2</td>\n      <td id=\"T_2dd4c_row4_col1\" class=\"data row4 col1\" >0.032000</td>\n      <td id=\"T_2dd4c_row4_col2\" class=\"data row4 col2\" >-0.082100</td>\n      <td id=\"T_2dd4c_row4_col3\" class=\"data row4 col3\" >0.025800</td>\n      <td id=\"T_2dd4c_row4_col4\" class=\"data row4 col4\" >-0.037700</td>\n    </tr>\n    <tr>\n      <th id=\"T_2dd4c_level0_row5\" class=\"row_heading level0 row5\" >109</th>\n      <td id=\"T_2dd4c_row5_col0\" class=\"data row5 col0\" >PC1</td>\n      <td id=\"T_2dd4c_row5_col1\" class=\"data row5 col1\" >0.026100</td>\n      <td id=\"T_2dd4c_row5_col2\" class=\"data row5 col2\" >-0.058500</td>\n      <td id=\"T_2dd4c_row5_col3\" class=\"data row5 col3\" >0.075700</td>\n      <td id=\"T_2dd4c_row5_col4\" class=\"data row5 col4\" >-0.020900</td>\n    </tr>\n    <tr>\n      <th id=\"T_2dd4c_level0_row6\" class=\"row_heading level0 row6\" >149</th>\n      <td id=\"T_2dd4c_row6_col0\" class=\"data row6 col0\" >PC1</td>\n      <td id=\"T_2dd4c_row6_col1\" class=\"data row6 col1\" >0.026500</td>\n      <td id=\"T_2dd4c_row6_col2\" class=\"data row6 col2\" >-0.038000</td>\n      <td id=\"T_2dd4c_row6_col3\" class=\"data row6 col3\" >0.019100</td>\n      <td id=\"T_2dd4c_row6_col4\" class=\"data row6 col4\" >0.045500</td>\n    </tr>\n    <tr>\n      <th id=\"T_2dd4c_level0_row7\" class=\"row_heading level0 row7\" >158</th>\n      <td id=\"T_2dd4c_row7_col0\" class=\"data row7 col0\" >PC1</td>\n      <td id=\"T_2dd4c_row7_col1\" class=\"data row7 col1\" >0.023500</td>\n      <td id=\"T_2dd4c_row7_col2\" class=\"data row7 col2\" >-0.060700</td>\n      <td id=\"T_2dd4c_row7_col3\" class=\"data row7 col3\" >0.054000</td>\n      <td id=\"T_2dd4c_row7_col4\" class=\"data row7 col4\" >0.000900</td>\n    </tr>\n    <tr>\n      <th id=\"T_2dd4c_level0_row8\" class=\"row_heading level0 row8\" >161</th>\n      <td id=\"T_2dd4c_row8_col0\" class=\"data row8 col0\" >PC1</td>\n      <td id=\"T_2dd4c_row8_col1\" class=\"data row8 col1\" >0.025900</td>\n      <td id=\"T_2dd4c_row8_col2\" class=\"data row8 col2\" >0.031400</td>\n      <td id=\"T_2dd4c_row8_col3\" class=\"data row8 col3\" >0.044900</td>\n      <td id=\"T_2dd4c_row8_col4\" class=\"data row8 col4\" >0.055400</td>\n    </tr>\n    <tr>\n      <th id=\"T_2dd4c_level0_row9\" class=\"row_heading level0 row9\" >169</th>\n      <td id=\"T_2dd4c_row9_col0\" class=\"data row9 col0\" >PC1</td>\n      <td id=\"T_2dd4c_row9_col1\" class=\"data row9 col1\" >0.026500</td>\n      <td id=\"T_2dd4c_row9_col2\" class=\"data row9 col2\" >-0.009900</td>\n      <td id=\"T_2dd4c_row9_col3\" class=\"data row9 col3\" >0.012500</td>\n      <td id=\"T_2dd4c_row9_col4\" class=\"data row9 col4\" >-0.016700</td>\n    </tr>\n    <tr>\n      <th id=\"T_2dd4c_level0_row10\" class=\"row_heading level0 row10\" >170</th>\n      <td id=\"T_2dd4c_row10_col0\" class=\"data row10 col0\" >PC1</td>\n      <td id=\"T_2dd4c_row10_col1\" class=\"data row10 col1\" >0.026100</td>\n      <td id=\"T_2dd4c_row10_col2\" class=\"data row10 col2\" >-0.035300</td>\n      <td id=\"T_2dd4c_row10_col3\" class=\"data row10 col3\" >0.058300</td>\n      <td id=\"T_2dd4c_row10_col4\" class=\"data row10 col4\" >0.025800</td>\n    </tr>\n    <tr>\n      <th id=\"T_2dd4c_level0_row11\" class=\"row_heading level0 row11\" >187</th>\n      <td id=\"T_2dd4c_row11_col0\" class=\"data row11 col0\" >PC1</td>\n      <td id=\"T_2dd4c_row11_col1\" class=\"data row11 col1\" >0.026100</td>\n      <td id=\"T_2dd4c_row11_col2\" class=\"data row11 col2\" >0.018800</td>\n      <td id=\"T_2dd4c_row11_col3\" class=\"data row11 col3\" >0.050600</td>\n      <td id=\"T_2dd4c_row11_col4\" class=\"data row11 col4\" >0.038600</td>\n    </tr>\n    <tr>\n      <th id=\"T_2dd4c_level0_row12\" class=\"row_heading level0 row12\" >192</th>\n      <td id=\"T_2dd4c_row12_col0\" class=\"data row12 col0\" >PC6</td>\n      <td id=\"T_2dd4c_row12_col1\" class=\"data row12 col1\" >0.040100</td>\n      <td id=\"T_2dd4c_row12_col2\" class=\"data row12 col2\" >-0.002200</td>\n      <td id=\"T_2dd4c_row12_col3\" class=\"data row12 col3\" >0.004300</td>\n      <td id=\"T_2dd4c_row12_col4\" class=\"data row12 col4\" >-0.053600</td>\n    </tr>\n    <tr>\n      <th id=\"T_2dd4c_level0_row13\" class=\"row_heading level0 row13\" >193</th>\n      <td id=\"T_2dd4c_row13_col0\" class=\"data row13 col0\" >PC1</td>\n      <td id=\"T_2dd4c_row13_col1\" class=\"data row13 col1\" >0.024700</td>\n      <td id=\"T_2dd4c_row13_col2\" class=\"data row13 col2\" >-0.056900</td>\n      <td id=\"T_2dd4c_row13_col3\" class=\"data row13 col3\" >0.051300</td>\n      <td id=\"T_2dd4c_row13_col4\" class=\"data row13 col4\" >-0.035600</td>\n    </tr>\n    <tr>\n      <th id=\"T_2dd4c_level0_row14\" class=\"row_heading level0 row14\" >195</th>\n      <td id=\"T_2dd4c_row14_col0\" class=\"data row14 col0\" >PC5</td>\n      <td id=\"T_2dd4c_row14_col1\" class=\"data row14 col1\" >0.029900</td>\n      <td id=\"T_2dd4c_row14_col2\" class=\"data row14 col2\" >0.006500</td>\n      <td id=\"T_2dd4c_row14_col3\" class=\"data row14 col3\" >0.035800</td>\n      <td id=\"T_2dd4c_row14_col4\" class=\"data row14 col4\" >0.050200</td>\n    </tr>\n    <tr>\n      <th id=\"T_2dd4c_level0_row15\" class=\"row_heading level0 row15\" >200</th>\n      <td id=\"T_2dd4c_row15_col0\" class=\"data row15 col0\" >PC1</td>\n      <td id=\"T_2dd4c_row15_col1\" class=\"data row15 col1\" >0.021200</td>\n      <td id=\"T_2dd4c_row15_col2\" class=\"data row15 col2\" >-0.056200</td>\n      <td id=\"T_2dd4c_row15_col3\" class=\"data row15 col3\" >0.005700</td>\n      <td id=\"T_2dd4c_row15_col4\" class=\"data row15 col4\" >0.072600</td>\n    </tr>\n    <tr>\n      <th id=\"T_2dd4c_level0_row16\" class=\"row_heading level0 row16\" >204</th>\n      <td id=\"T_2dd4c_row16_col0\" class=\"data row16 col0\" >PC1</td>\n      <td id=\"T_2dd4c_row16_col1\" class=\"data row16 col1\" >0.025500</td>\n      <td id=\"T_2dd4c_row16_col2\" class=\"data row16 col2\" >-0.007100</td>\n      <td id=\"T_2dd4c_row16_col3\" class=\"data row16 col3\" >0.062900</td>\n      <td id=\"T_2dd4c_row16_col4\" class=\"data row16 col4\" >-0.052500</td>\n    </tr>\n    <tr>\n      <th id=\"T_2dd4c_level0_row17\" class=\"row_heading level0 row17\" >223</th>\n      <td id=\"T_2dd4c_row17_col0\" class=\"data row17 col0\" >PC1</td>\n      <td id=\"T_2dd4c_row17_col1\" class=\"data row17 col1\" >0.018800</td>\n      <td id=\"T_2dd4c_row17_col2\" class=\"data row17 col2\" >-0.043600</td>\n      <td id=\"T_2dd4c_row17_col3\" class=\"data row17 col3\" >0.048500</td>\n      <td id=\"T_2dd4c_row17_col4\" class=\"data row17 col4\" >-0.072700</td>\n    </tr>\n    <tr>\n      <th id=\"T_2dd4c_level0_row18\" class=\"row_heading level0 row18\" >254</th>\n      <td id=\"T_2dd4c_row18_col0\" class=\"data row18 col0\" >PC1</td>\n      <td id=\"T_2dd4c_row18_col1\" class=\"data row18 col1\" >0.021500</td>\n      <td id=\"T_2dd4c_row18_col2\" class=\"data row18 col2\" >-0.012900</td>\n      <td id=\"T_2dd4c_row18_col3\" class=\"data row18 col3\" >0.071500</td>\n      <td id=\"T_2dd4c_row18_col4\" class=\"data row18 col4\" >0.038500</td>\n    </tr>\n    <tr>\n      <th id=\"T_2dd4c_level0_row19\" class=\"row_heading level0 row19\" >264</th>\n      <td id=\"T_2dd4c_row19_col0\" class=\"data row19 col0\" >PC4</td>\n      <td id=\"T_2dd4c_row19_col1\" class=\"data row19 col1\" >0.040500</td>\n      <td id=\"T_2dd4c_row19_col2\" class=\"data row19 col2\" >0.023100</td>\n      <td id=\"T_2dd4c_row19_col3\" class=\"data row19 col3\" >-0.024700</td>\n      <td id=\"T_2dd4c_row19_col4\" class=\"data row19 col4\" >0.113800</td>\n    </tr>\n  </tbody>\n</table>\n"
     },
     "metadata": {},
     "output_type": "display_data"
    }
   ],
   "source": [
    "df_feat = aa.load_features(name=\"DOM_GSEC\")\n",
    "sf = aa.SequenceFeature()\n",
    "df_parts = sf.get_df_parts(df_seq=df_seq)\n",
    "X = sf.feature_matrix(features=df_feat[\"feature\"], df_parts=df_parts)\n",
    "\n",
    "# Number of positive (1) and unlabeled (2) samples\n",
    "print(pd.Series(labels).value_counts())\n",
    "dpul.fit(X=X, labels=labels, n_unl_to_neg=n_pos)\n",
    "df_pu = dpul.df_pu_\n",
    "new_labels = dpul.labels_ \n",
    "\n",
    "# Number of updated labels containing reliable negatives (0)\n",
    "print(pd.Series(new_labels).value_counts())\n",
    "\n",
    "# Show only selected entries\n",
    "df = df_pu[df_pu[\"selection_via\"].str.contains(\"PC\", na=False)]\n",
    "aa.display_df(df=df, show_shape=True, n_rows=20, n_cols=5)"
   ],
   "metadata": {
    "collapsed": false,
    "ExecuteTime": {
     "end_time": "2025-06-17T00:57:47.790151238Z",
     "start_time": "2025-06-17T00:57:44.794786094Z"
    }
   },
   "id": "772eb0fd613630d6"
  },
  {
   "cell_type": "markdown",
   "source": [
    "Since ``dPULearn().fit()`` returns the fitted model, list comprehension can be utilized to create results for various settings of a ``n_componentes``. If given as a float > 0 and < 1, this parameter represents the percentage of total variance to be retained by principal component analysis (PCA)."
   ],
   "metadata": {
    "collapsed": false
   },
   "id": "1f5dcbae1954b63e"
  },
  {
   "cell_type": "code",
   "execution_count": 5,
   "outputs": [],
   "source": [
    "list_labels = [dpul.fit(X=X, labels=labels, n_unl_to_neg=n_pos, n_components=i).labels_ for i in [0.6, 0.7, 0.8, 0.9, 0.95]]"
   ],
   "metadata": {
    "collapsed": false,
    "ExecuteTime": {
     "end_time": "2025-06-17T00:57:48.714458702Z",
     "start_time": "2025-06-17T00:57:47.779414294Z"
    }
   },
   "id": "6e9aa4b93419060c"
  },
  {
   "cell_type": "markdown",
   "source": [
    "As alternative to ``PCA-based identification`` of negatives, ``distance-based identification`` can be performed using distance metrics including 'euclidean', 'manhattan', or 'cosine' distance. A DataFrame with the "
   ],
   "metadata": {
    "collapsed": false
   },
   "id": "93e7e97dcc0b7ac8"
  },
  {
   "cell_type": "code",
   "execution_count": 6,
   "outputs": [
    {
     "name": "stdout",
     "output_type": "stream",
     "text": [
      "DataFrame shape: (694, 3)\n"
     ]
    },
    {
     "data": {
      "text/plain": "<IPython.core.display.HTML object>",
      "text/html": "<style type=\"text/css\">\n#T_64905 thead th {\n  background-color: white;\n  color: black;\n}\n#T_64905 tbody tr:nth-child(odd) {\n  background-color: #f2f2f2;\n}\n#T_64905 tbody tr:nth-child(even) {\n  background-color: white;\n}\n#T_64905 th {\n  padding: 5px;\n  white-space: nowrap;\n}\n#T_64905  td {\n  padding: 5px;\n  white-space: nowrap;\n}\n</style>\n<table id=\"T_64905\" style='display:block; max-height: 300px; max-width: 100%; overflow-x: auto; overflow-y: auto;'>\n  <thead>\n    <tr>\n      <th class=\"blank level0\" >&nbsp;</th>\n      <th id=\"T_64905_level0_col0\" class=\"col_heading level0 col0\" >selection_via</th>\n      <th id=\"T_64905_level0_col1\" class=\"col_heading level0 col1\" >euclidean_dif</th>\n      <th id=\"T_64905_level0_col2\" class=\"col_heading level0 col2\" >euclidean_abs_dif</th>\n    </tr>\n  </thead>\n  <tbody>\n    <tr>\n      <th id=\"T_64905_level0_row0\" class=\"row_heading level0 row0\" >84</th>\n      <td id=\"T_64905_row0_col0\" class=\"data row0 col0\" >euclidean</td>\n      <td id=\"T_64905_row0_col1\" class=\"data row0 col1\" >3.480700</td>\n      <td id=\"T_64905_row0_col2\" class=\"data row0 col2\" >3.480700</td>\n    </tr>\n    <tr>\n      <th id=\"T_64905_level0_row1\" class=\"row_heading level0 row1\" >505</th>\n      <td id=\"T_64905_row1_col0\" class=\"data row1 col0\" >euclidean</td>\n      <td id=\"T_64905_row1_col1\" class=\"data row1 col1\" >3.232700</td>\n      <td id=\"T_64905_row1_col2\" class=\"data row1 col2\" >3.232700</td>\n    </tr>\n    <tr>\n      <th id=\"T_64905_level0_row2\" class=\"row_heading level0 row2\" >509</th>\n      <td id=\"T_64905_row2_col0\" class=\"data row2 col0\" >euclidean</td>\n      <td id=\"T_64905_row2_col1\" class=\"data row2 col1\" >3.336300</td>\n      <td id=\"T_64905_row2_col2\" class=\"data row2 col2\" >3.336300</td>\n    </tr>\n    <tr>\n      <th id=\"T_64905_level0_row3\" class=\"row_heading level0 row3\" >526</th>\n      <td id=\"T_64905_row3_col0\" class=\"data row3 col0\" >euclidean</td>\n      <td id=\"T_64905_row3_col1\" class=\"data row3 col1\" >3.389700</td>\n      <td id=\"T_64905_row3_col2\" class=\"data row3 col2\" >3.389700</td>\n    </tr>\n    <tr>\n      <th id=\"T_64905_level0_row4\" class=\"row_heading level0 row4\" >533</th>\n      <td id=\"T_64905_row4_col0\" class=\"data row4 col0\" >euclidean</td>\n      <td id=\"T_64905_row4_col1\" class=\"data row4 col1\" >3.363900</td>\n      <td id=\"T_64905_row4_col2\" class=\"data row4 col2\" >3.363900</td>\n    </tr>\n    <tr>\n      <th id=\"T_64905_level0_row5\" class=\"row_heading level0 row5\" >542</th>\n      <td id=\"T_64905_row5_col0\" class=\"data row5 col0\" >euclidean</td>\n      <td id=\"T_64905_row5_col1\" class=\"data row5 col1\" >3.075000</td>\n      <td id=\"T_64905_row5_col2\" class=\"data row5 col2\" >3.075000</td>\n    </tr>\n    <tr>\n      <th id=\"T_64905_level0_row6\" class=\"row_heading level0 row6\" >546</th>\n      <td id=\"T_64905_row6_col0\" class=\"data row6 col0\" >euclidean</td>\n      <td id=\"T_64905_row6_col1\" class=\"data row6 col1\" >3.162500</td>\n      <td id=\"T_64905_row6_col2\" class=\"data row6 col2\" >3.162500</td>\n    </tr>\n    <tr>\n      <th id=\"T_64905_level0_row7\" class=\"row_heading level0 row7\" >548</th>\n      <td id=\"T_64905_row7_col0\" class=\"data row7 col0\" >euclidean</td>\n      <td id=\"T_64905_row7_col1\" class=\"data row7 col1\" >3.111900</td>\n      <td id=\"T_64905_row7_col2\" class=\"data row7 col2\" >3.111900</td>\n    </tr>\n    <tr>\n      <th id=\"T_64905_level0_row8\" class=\"row_heading level0 row8\" >552</th>\n      <td id=\"T_64905_row8_col0\" class=\"data row8 col0\" >euclidean</td>\n      <td id=\"T_64905_row8_col1\" class=\"data row8 col1\" >3.288600</td>\n      <td id=\"T_64905_row8_col2\" class=\"data row8 col2\" >3.288600</td>\n    </tr>\n    <tr>\n      <th id=\"T_64905_level0_row9\" class=\"row_heading level0 row9\" >553</th>\n      <td id=\"T_64905_row9_col0\" class=\"data row9 col0\" >euclidean</td>\n      <td id=\"T_64905_row9_col1\" class=\"data row9 col1\" >3.620800</td>\n      <td id=\"T_64905_row9_col2\" class=\"data row9 col2\" >3.620800</td>\n    </tr>\n  </tbody>\n</table>\n"
     },
     "metadata": {},
     "output_type": "display_data"
    }
   ],
   "source": [
    "df_pu = dpul.fit(X=X, labels=labels, n_unl_to_neg=n_pos, metric=\"euclidean\").df_pu_\n",
    "aa.display_df(df_pu.sort_values(by=\"selection_via\"), n_rows=10, show_shape=True)"
   ],
   "metadata": {
    "collapsed": false,
    "ExecuteTime": {
     "end_time": "2025-06-17T00:57:48.787161116Z",
     "start_time": "2025-06-17T00:57:48.713623517Z"
    }
   },
   "id": "a3f2a24092217134"
  },
  {
   "cell_type": "markdown",
   "source": [
    "Using ``PCA-based identification``, 'df_pu' provides the principal component (PC) values for all used PC and offers a label indicating based on which PC the respective negative samples was identified on:   "
   ],
   "metadata": {
    "collapsed": false
   },
   "id": "925b027cdd021c2a"
  },
  {
   "cell_type": "code",
   "execution_count": 7,
   "outputs": [
    {
     "name": "stdout",
     "output_type": "stream",
     "text": [
      "DataFrame shape: (694, 15)\n"
     ]
    },
    {
     "data": {
      "text/plain": "<IPython.core.display.HTML object>",
      "text/html": "<style type=\"text/css\">\n#T_cf6f1 thead th {\n  background-color: white;\n  color: black;\n}\n#T_cf6f1 tbody tr:nth-child(odd) {\n  background-color: #f2f2f2;\n}\n#T_cf6f1 tbody tr:nth-child(even) {\n  background-color: white;\n}\n#T_cf6f1 th {\n  padding: 5px;\n  white-space: nowrap;\n}\n#T_cf6f1  td {\n  padding: 5px;\n  white-space: nowrap;\n}\n</style>\n<table id=\"T_cf6f1\" style='display:block; max-height: 300px; max-width: 100%; overflow-x: auto; overflow-y: auto;'>\n  <thead>\n    <tr>\n      <th class=\"blank level0\" >&nbsp;</th>\n      <th id=\"T_cf6f1_level0_col0\" class=\"col_heading level0 col0\" >selection_via</th>\n      <th id=\"T_cf6f1_level0_col1\" class=\"col_heading level0 col1\" >PC1 (56.2%)</th>\n      <th id=\"T_cf6f1_level0_col2\" class=\"col_heading level0 col2\" >PC2 (7.4%)</th>\n      <th id=\"T_cf6f1_level0_col3\" class=\"col_heading level0 col3\" >PC3 (2.9%)</th>\n    </tr>\n  </thead>\n  <tbody>\n    <tr>\n      <th id=\"T_cf6f1_level0_row0\" class=\"row_heading level0 row0\" >497</th>\n      <td id=\"T_cf6f1_row0_col0\" class=\"data row0 col0\" >PC1</td>\n      <td id=\"T_cf6f1_row0_col1\" class=\"data row0 col1\" >0.022500</td>\n      <td id=\"T_cf6f1_row0_col2\" class=\"data row0 col2\" >-0.051200</td>\n      <td id=\"T_cf6f1_row0_col3\" class=\"data row0 col3\" >0.013400</td>\n    </tr>\n    <tr>\n      <th id=\"T_cf6f1_level0_row1\" class=\"row_heading level0 row1\" >615</th>\n      <td id=\"T_cf6f1_row1_col0\" class=\"data row1 col0\" >PC1</td>\n      <td id=\"T_cf6f1_row1_col1\" class=\"data row1 col1\" >0.026100</td>\n      <td id=\"T_cf6f1_row1_col2\" class=\"data row1 col2\" >-0.053300</td>\n      <td id=\"T_cf6f1_row1_col3\" class=\"data row1 col3\" >0.099300</td>\n    </tr>\n    <tr>\n      <th id=\"T_cf6f1_level0_row2\" class=\"row_heading level0 row2\" >406</th>\n      <td id=\"T_cf6f1_row2_col0\" class=\"data row2 col0\" >PC1</td>\n      <td id=\"T_cf6f1_row2_col1\" class=\"data row2 col1\" >0.025400</td>\n      <td id=\"T_cf6f1_row2_col2\" class=\"data row2 col2\" >-0.030800</td>\n      <td id=\"T_cf6f1_row2_col3\" class=\"data row2 col3\" >0.027200</td>\n    </tr>\n    <tr>\n      <th id=\"T_cf6f1_level0_row3\" class=\"row_heading level0 row3\" >446</th>\n      <td id=\"T_cf6f1_row3_col0\" class=\"data row3 col0\" >PC1</td>\n      <td id=\"T_cf6f1_row3_col1\" class=\"data row3 col1\" >0.026200</td>\n      <td id=\"T_cf6f1_row3_col2\" class=\"data row3 col2\" >-0.013700</td>\n      <td id=\"T_cf6f1_row3_col3\" class=\"data row3 col3\" >0.054500</td>\n    </tr>\n    <tr>\n      <th id=\"T_cf6f1_level0_row4\" class=\"row_heading level0 row4\" >455</th>\n      <td id=\"T_cf6f1_row4_col0\" class=\"data row4 col0\" >PC1</td>\n      <td id=\"T_cf6f1_row4_col1\" class=\"data row4 col1\" >0.026600</td>\n      <td id=\"T_cf6f1_row4_col2\" class=\"data row4 col2\" >-0.052100</td>\n      <td id=\"T_cf6f1_row4_col3\" class=\"data row4 col3\" >0.089500</td>\n    </tr>\n    <tr>\n      <th id=\"T_cf6f1_level0_row5\" class=\"row_heading level0 row5\" >468</th>\n      <td id=\"T_cf6f1_row5_col0\" class=\"data row5 col0\" >PC1</td>\n      <td id=\"T_cf6f1_row5_col1\" class=\"data row5 col1\" >0.025600</td>\n      <td id=\"T_cf6f1_row5_col2\" class=\"data row5 col2\" >-0.068800</td>\n      <td id=\"T_cf6f1_row5_col3\" class=\"data row5 col3\" >0.011800</td>\n    </tr>\n    <tr>\n      <th id=\"T_cf6f1_level0_row6\" class=\"row_heading level0 row6\" >471</th>\n      <td id=\"T_cf6f1_row6_col0\" class=\"data row6 col0\" >PC1</td>\n      <td id=\"T_cf6f1_row6_col1\" class=\"data row6 col1\" >0.025000</td>\n      <td id=\"T_cf6f1_row6_col2\" class=\"data row6 col2\" >-0.005500</td>\n      <td id=\"T_cf6f1_row6_col3\" class=\"data row6 col3\" >0.083500</td>\n    </tr>\n    <tr>\n      <th id=\"T_cf6f1_level0_row7\" class=\"row_heading level0 row7\" >668</th>\n      <td id=\"T_cf6f1_row7_col0\" class=\"data row7 col0\" >PC1</td>\n      <td id=\"T_cf6f1_row7_col1\" class=\"data row7 col1\" >0.023200</td>\n      <td id=\"T_cf6f1_row7_col2\" class=\"data row7 col2\" >-0.016900</td>\n      <td id=\"T_cf6f1_row7_col3\" class=\"data row7 col3\" >0.076500</td>\n    </tr>\n    <tr>\n      <th id=\"T_cf6f1_level0_row8\" class=\"row_heading level0 row8\" >605</th>\n      <td id=\"T_cf6f1_row8_col0\" class=\"data row8 col0\" >PC1</td>\n      <td id=\"T_cf6f1_row8_col1\" class=\"data row8 col1\" >0.025800</td>\n      <td id=\"T_cf6f1_row8_col2\" class=\"data row8 col2\" >-0.054500</td>\n      <td id=\"T_cf6f1_row8_col3\" class=\"data row8 col3\" >0.006700</td>\n    </tr>\n    <tr>\n      <th id=\"T_cf6f1_level0_row9\" class=\"row_heading level0 row9\" >505</th>\n      <td id=\"T_cf6f1_row9_col0\" class=\"data row9 col0\" >PC1</td>\n      <td id=\"T_cf6f1_row9_col1\" class=\"data row9 col1\" >0.023100</td>\n      <td id=\"T_cf6f1_row9_col2\" class=\"data row9 col2\" >-0.048400</td>\n      <td id=\"T_cf6f1_row9_col3\" class=\"data row9 col3\" >0.033900</td>\n    </tr>\n    <tr>\n      <th id=\"T_cf6f1_level0_row10\" class=\"row_heading level0 row10\" >509</th>\n      <td id=\"T_cf6f1_row10_col0\" class=\"data row10 col0\" >PC1</td>\n      <td id=\"T_cf6f1_row10_col1\" class=\"data row10 col1\" >0.022800</td>\n      <td id=\"T_cf6f1_row10_col2\" class=\"data row10 col2\" >-0.056300</td>\n      <td id=\"T_cf6f1_row10_col3\" class=\"data row10 col3\" >0.086300</td>\n    </tr>\n    <tr>\n      <th id=\"T_cf6f1_level0_row11\" class=\"row_heading level0 row11\" >604</th>\n      <td id=\"T_cf6f1_row11_col0\" class=\"data row11 col0\" >PC1</td>\n      <td id=\"T_cf6f1_row11_col1\" class=\"data row11 col1\" >0.024800</td>\n      <td id=\"T_cf6f1_row11_col2\" class=\"data row11 col2\" >-0.078800</td>\n      <td id=\"T_cf6f1_row11_col3\" class=\"data row11 col3\" >0.027600</td>\n    </tr>\n    <tr>\n      <th id=\"T_cf6f1_level0_row12\" class=\"row_heading level0 row12\" >526</th>\n      <td id=\"T_cf6f1_row12_col0\" class=\"data row12 col0\" >PC1</td>\n      <td id=\"T_cf6f1_row12_col1\" class=\"data row12 col1\" >0.022500</td>\n      <td id=\"T_cf6f1_row12_col2\" class=\"data row12 col2\" >-0.055700</td>\n      <td id=\"T_cf6f1_row12_col3\" class=\"data row12 col3\" >0.038200</td>\n    </tr>\n    <tr>\n      <th id=\"T_cf6f1_level0_row13\" class=\"row_heading level0 row13\" >600</th>\n      <td id=\"T_cf6f1_row13_col0\" class=\"data row13 col0\" >PC1</td>\n      <td id=\"T_cf6f1_row13_col1\" class=\"data row13 col1\" >0.019600</td>\n      <td id=\"T_cf6f1_row13_col2\" class=\"data row13 col2\" >-0.044200</td>\n      <td id=\"T_cf6f1_row13_col3\" class=\"data row13 col3\" >0.092700</td>\n    </tr>\n    <tr>\n      <th id=\"T_cf6f1_level0_row14\" class=\"row_heading level0 row14\" >534</th>\n      <td id=\"T_cf6f1_row14_col0\" class=\"data row14 col0\" >PC1</td>\n      <td id=\"T_cf6f1_row14_col1\" class=\"data row14 col1\" >0.026100</td>\n      <td id=\"T_cf6f1_row14_col2\" class=\"data row14 col2\" >-0.032300</td>\n      <td id=\"T_cf6f1_row14_col3\" class=\"data row14 col3\" >-0.019400</td>\n    </tr>\n    <tr>\n      <th id=\"T_cf6f1_level0_row15\" class=\"row_heading level0 row15\" >542</th>\n      <td id=\"T_cf6f1_row15_col0\" class=\"data row15 col0\" >PC1</td>\n      <td id=\"T_cf6f1_row15_col1\" class=\"data row15 col1\" >0.026400</td>\n      <td id=\"T_cf6f1_row15_col2\" class=\"data row15 col2\" >-0.039100</td>\n      <td id=\"T_cf6f1_row15_col3\" class=\"data row15 col3\" >0.049200</td>\n    </tr>\n    <tr>\n      <th id=\"T_cf6f1_level0_row16\" class=\"row_heading level0 row16\" >545</th>\n      <td id=\"T_cf6f1_row16_col0\" class=\"data row16 col0\" >PC1</td>\n      <td id=\"T_cf6f1_row16_col1\" class=\"data row16 col1\" >0.026200</td>\n      <td id=\"T_cf6f1_row16_col2\" class=\"data row16 col2\" >0.007200</td>\n      <td id=\"T_cf6f1_row16_col3\" class=\"data row16 col3\" >0.039200</td>\n    </tr>\n    <tr>\n      <th id=\"T_cf6f1_level0_row17\" class=\"row_heading level0 row17\" >548</th>\n      <td id=\"T_cf6f1_row17_col0\" class=\"data row17 col0\" >PC1</td>\n      <td id=\"T_cf6f1_row17_col1\" class=\"data row17 col1\" >0.025200</td>\n      <td id=\"T_cf6f1_row17_col2\" class=\"data row17 col2\" >-0.056900</td>\n      <td id=\"T_cf6f1_row17_col3\" class=\"data row17 col3\" >0.039300</td>\n    </tr>\n    <tr>\n      <th id=\"T_cf6f1_level0_row18\" class=\"row_heading level0 row18\" >552</th>\n      <td id=\"T_cf6f1_row18_col0\" class=\"data row18 col0\" >PC1</td>\n      <td id=\"T_cf6f1_row18_col1\" class=\"data row18 col1\" >0.026000</td>\n      <td id=\"T_cf6f1_row18_col2\" class=\"data row18 col2\" >-0.072800</td>\n      <td id=\"T_cf6f1_row18_col3\" class=\"data row18 col3\" >-0.031000</td>\n    </tr>\n    <tr>\n      <th id=\"T_cf6f1_level0_row19\" class=\"row_heading level0 row19\" >553</th>\n      <td id=\"T_cf6f1_row19_col0\" class=\"data row19 col0\" >PC1</td>\n      <td id=\"T_cf6f1_row19_col1\" class=\"data row19 col1\" >0.020500</td>\n      <td id=\"T_cf6f1_row19_col2\" class=\"data row19 col2\" >-0.077500</td>\n      <td id=\"T_cf6f1_row19_col3\" class=\"data row19 col3\" >0.079700</td>\n    </tr>\n    <tr>\n      <th id=\"T_cf6f1_level0_row20\" class=\"row_heading level0 row20\" >336</th>\n      <td id=\"T_cf6f1_row20_col0\" class=\"data row20 col0\" >PC1</td>\n      <td id=\"T_cf6f1_row20_col1\" class=\"data row20 col1\" >0.026200</td>\n      <td id=\"T_cf6f1_row20_col2\" class=\"data row20 col2\" >-0.020700</td>\n      <td id=\"T_cf6f1_row20_col3\" class=\"data row20 col3\" >0.032200</td>\n    </tr>\n    <tr>\n      <th id=\"T_cf6f1_level0_row21\" class=\"row_heading level0 row21\" >329</th>\n      <td id=\"T_cf6f1_row21_col0\" class=\"data row21 col0\" >PC1</td>\n      <td id=\"T_cf6f1_row21_col1\" class=\"data row21 col1\" >0.025800</td>\n      <td id=\"T_cf6f1_row21_col2\" class=\"data row21 col2\" >-0.014900</td>\n      <td id=\"T_cf6f1_row21_col3\" class=\"data row21 col3\" >0.043100</td>\n    </tr>\n    <tr>\n      <th id=\"T_cf6f1_level0_row22\" class=\"row_heading level0 row22\" >624</th>\n      <td id=\"T_cf6f1_row22_col0\" class=\"data row22 col0\" >PC1</td>\n      <td id=\"T_cf6f1_row22_col1\" class=\"data row22 col1\" >0.026500</td>\n      <td id=\"T_cf6f1_row22_col2\" class=\"data row22 col2\" >0.034500</td>\n      <td id=\"T_cf6f1_row22_col3\" class=\"data row22 col3\" >0.046800</td>\n    </tr>\n    <tr>\n      <th id=\"T_cf6f1_level0_row23\" class=\"row_heading level0 row23\" >308</th>\n      <td id=\"T_cf6f1_row23_col0\" class=\"data row23 col0\" >PC1</td>\n      <td id=\"T_cf6f1_row23_col1\" class=\"data row23 col1\" >0.025400</td>\n      <td id=\"T_cf6f1_row23_col2\" class=\"data row23 col2\" >-0.030600</td>\n      <td id=\"T_cf6f1_row23_col3\" class=\"data row23 col3\" >0.033100</td>\n    </tr>\n    <tr>\n      <th id=\"T_cf6f1_level0_row24\" class=\"row_heading level0 row24\" >84</th>\n      <td id=\"T_cf6f1_row24_col0\" class=\"data row24 col0\" >PC1</td>\n      <td id=\"T_cf6f1_row24_col1\" class=\"data row24 col1\" >0.021000</td>\n      <td id=\"T_cf6f1_row24_col2\" class=\"data row24 col2\" >-0.047800</td>\n      <td id=\"T_cf6f1_row24_col3\" class=\"data row24 col3\" >0.075200</td>\n    </tr>\n    <tr>\n      <th id=\"T_cf6f1_level0_row25\" class=\"row_heading level0 row25\" >649</th>\n      <td id=\"T_cf6f1_row25_col0\" class=\"data row25 col0\" >PC1</td>\n      <td id=\"T_cf6f1_row25_col1\" class=\"data row25 col1\" >0.022800</td>\n      <td id=\"T_cf6f1_row25_col2\" class=\"data row25 col2\" >-0.032400</td>\n      <td id=\"T_cf6f1_row25_col3\" class=\"data row25 col3\" >0.108000</td>\n    </tr>\n    <tr>\n      <th id=\"T_cf6f1_level0_row26\" class=\"row_heading level0 row26\" >637</th>\n      <td id=\"T_cf6f1_row26_col0\" class=\"data row26 col0\" >PC1</td>\n      <td id=\"T_cf6f1_row26_col1\" class=\"data row26 col1\" >0.022600</td>\n      <td id=\"T_cf6f1_row26_col2\" class=\"data row26 col2\" >-0.057800</td>\n      <td id=\"T_cf6f1_row26_col3\" class=\"data row26 col3\" >0.044500</td>\n    </tr>\n    <tr>\n      <th id=\"T_cf6f1_level0_row27\" class=\"row_heading level0 row27\" >109</th>\n      <td id=\"T_cf6f1_row27_col0\" class=\"data row27 col0\" >PC1</td>\n      <td id=\"T_cf6f1_row27_col1\" class=\"data row27 col1\" >0.026100</td>\n      <td id=\"T_cf6f1_row27_col2\" class=\"data row27 col2\" >-0.058500</td>\n      <td id=\"T_cf6f1_row27_col3\" class=\"data row27 col3\" >0.075700</td>\n    </tr>\n    <tr>\n      <th id=\"T_cf6f1_level0_row28\" class=\"row_heading level0 row28\" >149</th>\n      <td id=\"T_cf6f1_row28_col0\" class=\"data row28 col0\" >PC1</td>\n      <td id=\"T_cf6f1_row28_col1\" class=\"data row28 col1\" >0.026500</td>\n      <td id=\"T_cf6f1_row28_col2\" class=\"data row28 col2\" >-0.038000</td>\n      <td id=\"T_cf6f1_row28_col3\" class=\"data row28 col3\" >0.019100</td>\n    </tr>\n    <tr>\n      <th id=\"T_cf6f1_level0_row29\" class=\"row_heading level0 row29\" >158</th>\n      <td id=\"T_cf6f1_row29_col0\" class=\"data row29 col0\" >PC1</td>\n      <td id=\"T_cf6f1_row29_col1\" class=\"data row29 col1\" >0.023500</td>\n      <td id=\"T_cf6f1_row29_col2\" class=\"data row29 col2\" >-0.060700</td>\n      <td id=\"T_cf6f1_row29_col3\" class=\"data row29 col3\" >0.054000</td>\n    </tr>\n    <tr>\n      <th id=\"T_cf6f1_level0_row30\" class=\"row_heading level0 row30\" >161</th>\n      <td id=\"T_cf6f1_row30_col0\" class=\"data row30 col0\" >PC1</td>\n      <td id=\"T_cf6f1_row30_col1\" class=\"data row30 col1\" >0.025900</td>\n      <td id=\"T_cf6f1_row30_col2\" class=\"data row30 col2\" >0.031400</td>\n      <td id=\"T_cf6f1_row30_col3\" class=\"data row30 col3\" >0.044900</td>\n    </tr>\n    <tr>\n      <th id=\"T_cf6f1_level0_row31\" class=\"row_heading level0 row31\" >169</th>\n      <td id=\"T_cf6f1_row31_col0\" class=\"data row31 col0\" >PC1</td>\n      <td id=\"T_cf6f1_row31_col1\" class=\"data row31 col1\" >0.026500</td>\n      <td id=\"T_cf6f1_row31_col2\" class=\"data row31 col2\" >-0.009900</td>\n      <td id=\"T_cf6f1_row31_col3\" class=\"data row31 col3\" >0.012500</td>\n    </tr>\n    <tr>\n      <th id=\"T_cf6f1_level0_row32\" class=\"row_heading level0 row32\" >569</th>\n      <td id=\"T_cf6f1_row32_col0\" class=\"data row32 col0\" >PC1</td>\n      <td id=\"T_cf6f1_row32_col1\" class=\"data row32 col1\" >0.022100</td>\n      <td id=\"T_cf6f1_row32_col2\" class=\"data row32 col2\" >-0.043600</td>\n      <td id=\"T_cf6f1_row32_col3\" class=\"data row32 col3\" >0.065400</td>\n    </tr>\n    <tr>\n      <th id=\"T_cf6f1_level0_row33\" class=\"row_heading level0 row33\" >170</th>\n      <td id=\"T_cf6f1_row33_col0\" class=\"data row33 col0\" >PC1</td>\n      <td id=\"T_cf6f1_row33_col1\" class=\"data row33 col1\" >0.026100</td>\n      <td id=\"T_cf6f1_row33_col2\" class=\"data row33 col2\" >-0.035300</td>\n      <td id=\"T_cf6f1_row33_col3\" class=\"data row33 col3\" >0.058300</td>\n    </tr>\n    <tr>\n      <th id=\"T_cf6f1_level0_row34\" class=\"row_heading level0 row34\" >635</th>\n      <td id=\"T_cf6f1_row34_col0\" class=\"data row34 col0\" >PC1</td>\n      <td id=\"T_cf6f1_row34_col1\" class=\"data row34 col1\" >0.025400</td>\n      <td id=\"T_cf6f1_row34_col2\" class=\"data row34 col2\" >0.040600</td>\n      <td id=\"T_cf6f1_row34_col3\" class=\"data row34 col3\" >0.054600</td>\n    </tr>\n    <tr>\n      <th id=\"T_cf6f1_level0_row35\" class=\"row_heading level0 row35\" >193</th>\n      <td id=\"T_cf6f1_row35_col0\" class=\"data row35 col0\" >PC1</td>\n      <td id=\"T_cf6f1_row35_col1\" class=\"data row35 col1\" >0.024700</td>\n      <td id=\"T_cf6f1_row35_col2\" class=\"data row35 col2\" >-0.056900</td>\n      <td id=\"T_cf6f1_row35_col3\" class=\"data row35 col3\" >0.051300</td>\n    </tr>\n    <tr>\n      <th id=\"T_cf6f1_level0_row36\" class=\"row_heading level0 row36\" >634</th>\n      <td id=\"T_cf6f1_row36_col0\" class=\"data row36 col0\" >PC1</td>\n      <td id=\"T_cf6f1_row36_col1\" class=\"data row36 col1\" >0.026000</td>\n      <td id=\"T_cf6f1_row36_col2\" class=\"data row36 col2\" >-0.042200</td>\n      <td id=\"T_cf6f1_row36_col3\" class=\"data row36 col3\" >0.007900</td>\n    </tr>\n    <tr>\n      <th id=\"T_cf6f1_level0_row37\" class=\"row_heading level0 row37\" >200</th>\n      <td id=\"T_cf6f1_row37_col0\" class=\"data row37 col0\" >PC1</td>\n      <td id=\"T_cf6f1_row37_col1\" class=\"data row37 col1\" >0.021200</td>\n      <td id=\"T_cf6f1_row37_col2\" class=\"data row37 col2\" >-0.056200</td>\n      <td id=\"T_cf6f1_row37_col3\" class=\"data row37 col3\" >0.005700</td>\n    </tr>\n    <tr>\n      <th id=\"T_cf6f1_level0_row38\" class=\"row_heading level0 row38\" >204</th>\n      <td id=\"T_cf6f1_row38_col0\" class=\"data row38 col0\" >PC1</td>\n      <td id=\"T_cf6f1_row38_col1\" class=\"data row38 col1\" >0.025500</td>\n      <td id=\"T_cf6f1_row38_col2\" class=\"data row38 col2\" >-0.007100</td>\n      <td id=\"T_cf6f1_row38_col3\" class=\"data row38 col3\" >0.062900</td>\n    </tr>\n    <tr>\n      <th id=\"T_cf6f1_level0_row39\" class=\"row_heading level0 row39\" >223</th>\n      <td id=\"T_cf6f1_row39_col0\" class=\"data row39 col0\" >PC1</td>\n      <td id=\"T_cf6f1_row39_col1\" class=\"data row39 col1\" >0.018800</td>\n      <td id=\"T_cf6f1_row39_col2\" class=\"data row39 col2\" >-0.043600</td>\n      <td id=\"T_cf6f1_row39_col3\" class=\"data row39 col3\" >0.048500</td>\n    </tr>\n    <tr>\n      <th id=\"T_cf6f1_level0_row40\" class=\"row_heading level0 row40\" >254</th>\n      <td id=\"T_cf6f1_row40_col0\" class=\"data row40 col0\" >PC1</td>\n      <td id=\"T_cf6f1_row40_col1\" class=\"data row40 col1\" >0.021500</td>\n      <td id=\"T_cf6f1_row40_col2\" class=\"data row40 col2\" >-0.012900</td>\n      <td id=\"T_cf6f1_row40_col3\" class=\"data row40 col3\" >0.071500</td>\n    </tr>\n    <tr>\n      <th id=\"T_cf6f1_level0_row41\" class=\"row_heading level0 row41\" >628</th>\n      <td id=\"T_cf6f1_row41_col0\" class=\"data row41 col0\" >PC1</td>\n      <td id=\"T_cf6f1_row41_col1\" class=\"data row41 col1\" >0.025600</td>\n      <td id=\"T_cf6f1_row41_col2\" class=\"data row41 col2\" >-0.027200</td>\n      <td id=\"T_cf6f1_row41_col3\" class=\"data row41 col3\" >0.051300</td>\n    </tr>\n    <tr>\n      <th id=\"T_cf6f1_level0_row42\" class=\"row_heading level0 row42\" >300</th>\n      <td id=\"T_cf6f1_row42_col0\" class=\"data row42 col0\" >PC1</td>\n      <td id=\"T_cf6f1_row42_col1\" class=\"data row42 col1\" >0.024900</td>\n      <td id=\"T_cf6f1_row42_col2\" class=\"data row42 col2\" >-0.013500</td>\n      <td id=\"T_cf6f1_row42_col3\" class=\"data row42 col3\" >0.052900</td>\n    </tr>\n    <tr>\n      <th id=\"T_cf6f1_level0_row43\" class=\"row_heading level0 row43\" >187</th>\n      <td id=\"T_cf6f1_row43_col0\" class=\"data row43 col0\" >PC1</td>\n      <td id=\"T_cf6f1_row43_col1\" class=\"data row43 col1\" >0.026100</td>\n      <td id=\"T_cf6f1_row43_col2\" class=\"data row43 col2\" >0.018800</td>\n      <td id=\"T_cf6f1_row43_col3\" class=\"data row43 col3\" >0.050600</td>\n    </tr>\n    <tr>\n      <th id=\"T_cf6f1_level0_row44\" class=\"row_heading level0 row44\" >585</th>\n      <td id=\"T_cf6f1_row44_col0\" class=\"data row44 col0\" >PC1</td>\n      <td id=\"T_cf6f1_row44_col1\" class=\"data row44 col1\" >0.022400</td>\n      <td id=\"T_cf6f1_row44_col2\" class=\"data row44 col2\" >-0.022200</td>\n      <td id=\"T_cf6f1_row44_col3\" class=\"data row44 col3\" >0.087800</td>\n    </tr>\n    <tr>\n      <th id=\"T_cf6f1_level0_row45\" class=\"row_heading level0 row45\" >658</th>\n      <td id=\"T_cf6f1_row45_col0\" class=\"data row45 col0\" >PC2</td>\n      <td id=\"T_cf6f1_row45_col1\" class=\"data row45 col1\" >0.035200</td>\n      <td id=\"T_cf6f1_row45_col2\" class=\"data row45 col2\" >-0.081100</td>\n      <td id=\"T_cf6f1_row45_col3\" class=\"data row45 col3\" >-0.040700</td>\n    </tr>\n    <tr>\n      <th id=\"T_cf6f1_level0_row46\" class=\"row_heading level0 row46\" >683</th>\n      <td id=\"T_cf6f1_row46_col0\" class=\"data row46 col0\" >PC2</td>\n      <td id=\"T_cf6f1_row46_col1\" class=\"data row46 col1\" >0.028700</td>\n      <td id=\"T_cf6f1_row46_col2\" class=\"data row46 col2\" >-0.103200</td>\n      <td id=\"T_cf6f1_row46_col3\" class=\"data row46 col3\" >0.011900</td>\n    </tr>\n    <tr>\n      <th id=\"T_cf6f1_level0_row47\" class=\"row_heading level0 row47\" >533</th>\n      <td id=\"T_cf6f1_row47_col0\" class=\"data row47 col0\" >PC2</td>\n      <td id=\"T_cf6f1_row47_col1\" class=\"data row47 col1\" >0.039300</td>\n      <td id=\"T_cf6f1_row47_col2\" class=\"data row47 col2\" >-0.094200</td>\n      <td id=\"T_cf6f1_row47_col3\" class=\"data row47 col3\" >-0.045800</td>\n    </tr>\n    <tr>\n      <th id=\"T_cf6f1_level0_row48\" class=\"row_heading level0 row48\" >337</th>\n      <td id=\"T_cf6f1_row48_col0\" class=\"data row48 col0\" >PC2</td>\n      <td id=\"T_cf6f1_row48_col1\" class=\"data row48 col1\" >0.035100</td>\n      <td id=\"T_cf6f1_row48_col2\" class=\"data row48 col2\" >-0.102700</td>\n      <td id=\"T_cf6f1_row48_col3\" class=\"data row48 col3\" >-0.021700</td>\n    </tr>\n    <tr>\n      <th id=\"T_cf6f1_level0_row49\" class=\"row_heading level0 row49\" >322</th>\n      <td id=\"T_cf6f1_row49_col0\" class=\"data row49 col0\" >PC2</td>\n      <td id=\"T_cf6f1_row49_col1\" class=\"data row49 col1\" >0.041300</td>\n      <td id=\"T_cf6f1_row49_col2\" class=\"data row49 col2\" >-0.096300</td>\n      <td id=\"T_cf6f1_row49_col3\" class=\"data row49 col3\" >-0.075700</td>\n    </tr>\n    <tr>\n      <th id=\"T_cf6f1_level0_row50\" class=\"row_heading level0 row50\" >95</th>\n      <td id=\"T_cf6f1_row50_col0\" class=\"data row50 col0\" >PC2</td>\n      <td id=\"T_cf6f1_row50_col1\" class=\"data row50 col1\" >0.032000</td>\n      <td id=\"T_cf6f1_row50_col2\" class=\"data row50 col2\" >-0.082100</td>\n      <td id=\"T_cf6f1_row50_col3\" class=\"data row50 col3\" >0.025800</td>\n    </tr>\n    <tr>\n      <th id=\"T_cf6f1_level0_row51\" class=\"row_heading level0 row51\" >524</th>\n      <td id=\"T_cf6f1_row51_col0\" class=\"data row51 col0\" >PC3</td>\n      <td id=\"T_cf6f1_row51_col1\" class=\"data row51 col1\" >0.031600</td>\n      <td id=\"T_cf6f1_row51_col2\" class=\"data row51 col2\" >0.028400</td>\n      <td id=\"T_cf6f1_row51_col3\" class=\"data row51 col3\" >0.106200</td>\n    </tr>\n    <tr>\n      <th id=\"T_cf6f1_level0_row52\" class=\"row_heading level0 row52\" >632</th>\n      <td id=\"T_cf6f1_row52_col0\" class=\"data row52 col0\" >PC3</td>\n      <td id=\"T_cf6f1_row52_col1\" class=\"data row52 col1\" >0.030100</td>\n      <td id=\"T_cf6f1_row52_col2\" class=\"data row52 col2\" >0.022500</td>\n      <td id=\"T_cf6f1_row52_col3\" class=\"data row52 col3\" >0.090800</td>\n    </tr>\n    <tr>\n      <th id=\"T_cf6f1_level0_row53\" class=\"row_heading level0 row53\" >81</th>\n      <td id=\"T_cf6f1_row53_col0\" class=\"data row53 col0\" >PC3</td>\n      <td id=\"T_cf6f1_row53_col1\" class=\"data row53 col1\" >0.033600</td>\n      <td id=\"T_cf6f1_row53_col2\" class=\"data row53 col2\" >0.007300</td>\n      <td id=\"T_cf6f1_row53_col3\" class=\"data row53 col3\" >0.098200</td>\n    </tr>\n    <tr>\n      <th id=\"T_cf6f1_level0_row54\" class=\"row_heading level0 row54\" >264</th>\n      <td id=\"T_cf6f1_row54_col0\" class=\"data row54 col0\" >PC4</td>\n      <td id=\"T_cf6f1_row54_col1\" class=\"data row54 col1\" >0.040500</td>\n      <td id=\"T_cf6f1_row54_col2\" class=\"data row54 col2\" >0.023100</td>\n      <td id=\"T_cf6f1_row54_col3\" class=\"data row54 col3\" >-0.024700</td>\n    </tr>\n    <tr>\n      <th id=\"T_cf6f1_level0_row55\" class=\"row_heading level0 row55\" >90</th>\n      <td id=\"T_cf6f1_row55_col0\" class=\"data row55 col0\" >PC4</td>\n      <td id=\"T_cf6f1_row55_col1\" class=\"data row55 col1\" >0.039000</td>\n      <td id=\"T_cf6f1_row55_col2\" class=\"data row55 col2\" >-0.032000</td>\n      <td id=\"T_cf6f1_row55_col3\" class=\"data row55 col3\" >-0.001300</td>\n    </tr>\n    <tr>\n      <th id=\"T_cf6f1_level0_row56\" class=\"row_heading level0 row56\" >591</th>\n      <td id=\"T_cf6f1_row56_col0\" class=\"data row56 col0\" >PC4</td>\n      <td id=\"T_cf6f1_row56_col1\" class=\"data row56 col1\" >0.031300</td>\n      <td id=\"T_cf6f1_row56_col2\" class=\"data row56 col2\" >-0.004000</td>\n      <td id=\"T_cf6f1_row56_col3\" class=\"data row56 col3\" >0.032100</td>\n    </tr>\n    <tr>\n      <th id=\"T_cf6f1_level0_row57\" class=\"row_heading level0 row57\" >195</th>\n      <td id=\"T_cf6f1_row57_col0\" class=\"data row57 col0\" >PC5</td>\n      <td id=\"T_cf6f1_row57_col1\" class=\"data row57 col1\" >0.029900</td>\n      <td id=\"T_cf6f1_row57_col2\" class=\"data row57 col2\" >0.006500</td>\n      <td id=\"T_cf6f1_row57_col3\" class=\"data row57 col3\" >0.035800</td>\n    </tr>\n    <tr>\n      <th id=\"T_cf6f1_level0_row58\" class=\"row_heading level0 row58\" >641</th>\n      <td id=\"T_cf6f1_row58_col0\" class=\"data row58 col0\" >PC5</td>\n      <td id=\"T_cf6f1_row58_col1\" class=\"data row58 col1\" >0.043500</td>\n      <td id=\"T_cf6f1_row58_col2\" class=\"data row58 col2\" >0.006500</td>\n      <td id=\"T_cf6f1_row58_col3\" class=\"data row58 col3\" >0.015200</td>\n    </tr>\n    <tr>\n      <th id=\"T_cf6f1_level0_row59\" class=\"row_heading level0 row59\" >501</th>\n      <td id=\"T_cf6f1_row59_col0\" class=\"data row59 col0\" >PC6</td>\n      <td id=\"T_cf6f1_row59_col1\" class=\"data row59 col1\" >0.042100</td>\n      <td id=\"T_cf6f1_row59_col2\" class=\"data row59 col2\" >-0.018500</td>\n      <td id=\"T_cf6f1_row59_col3\" class=\"data row59 col3\" >-0.050200</td>\n    </tr>\n    <tr>\n      <th id=\"T_cf6f1_level0_row60\" class=\"row_heading level0 row60\" >192</th>\n      <td id=\"T_cf6f1_row60_col0\" class=\"data row60 col0\" >PC6</td>\n      <td id=\"T_cf6f1_row60_col1\" class=\"data row60 col1\" >0.040100</td>\n      <td id=\"T_cf6f1_row60_col2\" class=\"data row60 col2\" >-0.002200</td>\n      <td id=\"T_cf6f1_row60_col3\" class=\"data row60 col3\" >0.004300</td>\n    </tr>\n    <tr>\n      <th id=\"T_cf6f1_level0_row61\" class=\"row_heading level0 row61\" >82</th>\n      <td id=\"T_cf6f1_row61_col0\" class=\"data row61 col0\" >PC7</td>\n      <td id=\"T_cf6f1_row61_col1\" class=\"data row61 col1\" >0.033400</td>\n      <td id=\"T_cf6f1_row61_col2\" class=\"data row61 col2\" >-0.041100</td>\n      <td id=\"T_cf6f1_row61_col3\" class=\"data row61 col3\" >0.033500</td>\n    </tr>\n    <tr>\n      <th id=\"T_cf6f1_level0_row62\" class=\"row_heading level0 row62\" >666</th>\n      <td id=\"T_cf6f1_row62_col0\" class=\"data row62 col0\" >PC7</td>\n      <td id=\"T_cf6f1_row62_col1\" class=\"data row62 col1\" >0.035200</td>\n      <td id=\"T_cf6f1_row62_col2\" class=\"data row62 col2\" >0.075600</td>\n      <td id=\"T_cf6f1_row62_col3\" class=\"data row62 col3\" >-0.011600</td>\n    </tr>\n    <tr>\n      <th id=\"T_cf6f1_level0_row63\" class=\"row_heading level0 row63\" >1</th>\n      <td id=\"T_cf6f1_row63_col0\" class=\"data row63 col0\" >None</td>\n      <td id=\"T_cf6f1_row63_col1\" class=\"data row63 col1\" >0.052400</td>\n      <td id=\"T_cf6f1_row63_col2\" class=\"data row63 col2\" >0.039300</td>\n      <td id=\"T_cf6f1_row63_col3\" class=\"data row63 col3\" >-0.066300</td>\n    </tr>\n  </tbody>\n</table>\n"
     },
     "metadata": {},
     "output_type": "display_data"
    }
   ],
   "source": [
    "df_pu = dpul.fit(X=X, labels=labels, n_unl_to_neg=n_pos, n_components=0.8).df_pu_\n",
    "aa.display_df(df_pu.sort_values(by=\"selection_via\"), n_rows=n_pos+1, n_cols=4, show_shape=True)"
   ],
   "metadata": {
    "collapsed": false,
    "ExecuteTime": {
     "end_time": "2025-06-17T00:57:49.087337434Z",
     "start_time": "2025-06-17T00:57:48.785414579Z"
    }
   },
   "id": "77d2558171e91dee"
  }
 ],
 "metadata": {
  "kernelspec": {
   "display_name": "Python 3",
   "language": "python",
   "name": "python3"
  },
  "language_info": {
   "codemirror_mode": {
    "name": "ipython",
    "version": 2
   },
   "file_extension": ".py",
   "mimetype": "text/x-python",
   "name": "python",
   "nbconvert_exporter": "python",
   "pygments_lexer": "ipython2",
   "version": "2.7.6"
  }
 },
 "nbformat": 4,
 "nbformat_minor": 5
}
