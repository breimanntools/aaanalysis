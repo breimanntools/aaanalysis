{
 "cells": [
  {
   "cell_type": "markdown",
   "source": [
    "To demonstrate the ``TreeModel().predict_proba()``method, we obtain the ``DOM_GSEC`` example dataset and its respective feature set (see [Breimann25a]_):"
   ],
   "metadata": {
    "collapsed": false
   },
   "id": "8b484859ee6cffe9"
  },
  {
   "cell_type": "code",
   "execution_count": 1,
   "outputs": [],
   "source": [
    "import aaanalysis as aa\n",
    "aa.options[\"verbose\"] = False # Disable verbosity\n",
    "\n",
    "df_seq = aa.load_dataset(name=\"DOM_GSEC\")\n",
    "labels = df_seq[\"label\"].to_list()\n",
    "df_feat = aa.load_features(name=\"DOM_GSEC\").head(100)\n",
    "\n",
    "# Create feature matrix\n",
    "sf = aa.SequenceFeature()\n",
    "df_parts = sf.get_df_parts(df_seq=df_seq)\n",
    "X = sf.feature_matrix(features=df_feat[\"feature\"], df_parts=df_parts)"
   ],
   "metadata": {
    "collapsed": false,
    "ExecuteTime": {
     "end_time": "2025-06-17T00:46:03.582308081Z",
     "start_time": "2025-06-17T00:45:58.663106519Z"
    }
   },
   "id": "5d61f39f22e3b3f3"
  },
  {
   "cell_type": "markdown",
   "source": [
    "We can not fit the ``TreeModel``, which will internally fit 3 tree-based models over 5 training rounds be default:"
   ],
   "metadata": {
    "collapsed": false
   },
   "id": "2766f7ee7fbc8972"
  },
  {
   "cell_type": "code",
   "execution_count": 2,
   "outputs": [],
   "source": [
    "tm = aa.TreeModel()\n",
    "tm = tm.fit(X, labels=labels)"
   ],
   "metadata": {
    "collapsed": false,
    "ExecuteTime": {
     "end_time": "2025-06-17T00:46:06.488116655Z",
     "start_time": "2025-06-17T00:46:03.583225593Z"
    }
   },
   "id": "8390118ec95f64a5"
  },
  {
   "cell_type": "markdown",
   "source": [
    "Using the ``TreeModel().predict_proba()`` method calculates probability predictions by averaging across multiple models and rounds, using a Monte Carlo approach for robust estimation:"
   ],
   "metadata": {
    "collapsed": false
   },
   "id": "90a7faa4c2f46196"
  },
  {
   "cell_type": "code",
   "execution_count": 3,
   "outputs": [
    {
     "name": "stdout",
     "output_type": "stream",
     "text": [
      "Prediction scores for 5 substrates\n"
     ]
    },
    {
     "data": {
      "text/plain": "<IPython.core.display.HTML object>",
      "text/html": "<style type=\"text/css\">\n#T_d99ca thead th {\n  background-color: white;\n  color: black;\n}\n#T_d99ca tbody tr:nth-child(odd) {\n  background-color: #f2f2f2;\n}\n#T_d99ca tbody tr:nth-child(even) {\n  background-color: white;\n}\n#T_d99ca th {\n  padding: 5px;\n  white-space: nowrap;\n}\n#T_d99ca  td {\n  padding: 5px;\n  white-space: nowrap;\n}\n</style>\n<table id=\"T_d99ca\" style='display:block; max-height: 300px; max-width: 100%; overflow-x: auto; overflow-y: auto;'>\n  <thead>\n    <tr>\n      <th class=\"blank level0\" >&nbsp;</th>\n      <th id=\"T_d99ca_level0_col0\" class=\"col_heading level0 col0\" >entry</th>\n      <th id=\"T_d99ca_level0_col1\" class=\"col_heading level0 col1\" >sequence</th>\n      <th id=\"T_d99ca_level0_col2\" class=\"col_heading level0 col2\" >label</th>\n      <th id=\"T_d99ca_level0_col3\" class=\"col_heading level0 col3\" >tmd_start</th>\n      <th id=\"T_d99ca_level0_col4\" class=\"col_heading level0 col4\" >tmd_stop</th>\n      <th id=\"T_d99ca_level0_col5\" class=\"col_heading level0 col5\" >jmd_n</th>\n      <th id=\"T_d99ca_level0_col6\" class=\"col_heading level0 col6\" >tmd</th>\n      <th id=\"T_d99ca_level0_col7\" class=\"col_heading level0 col7\" >jmd_c</th>\n      <th id=\"T_d99ca_level0_col8\" class=\"col_heading level0 col8\" >prediction</th>\n      <th id=\"T_d99ca_level0_col9\" class=\"col_heading level0 col9\" >pred_std</th>\n    </tr>\n  </thead>\n  <tbody>\n    <tr>\n      <th id=\"T_d99ca_level0_row0\" class=\"row_heading level0 row0\" >1</th>\n      <td id=\"T_d99ca_row0_col0\" class=\"data row0 col0\" >P05067</td>\n      <td id=\"T_d99ca_row0_col1\" class=\"data row0 col1\" >MLPGLALLLLAAWTA...GYENPTYKFFEQMQN</td>\n      <td id=\"T_d99ca_row0_col2\" class=\"data row0 col2\" >1</td>\n      <td id=\"T_d99ca_row0_col3\" class=\"data row0 col3\" >701</td>\n      <td id=\"T_d99ca_row0_col4\" class=\"data row0 col4\" >723</td>\n      <td id=\"T_d99ca_row0_col5\" class=\"data row0 col5\" >FAEDVGSNKG</td>\n      <td id=\"T_d99ca_row0_col6\" class=\"data row0 col6\" >AIIGLMVGGVVIATVIVITLVML</td>\n      <td id=\"T_d99ca_row0_col7\" class=\"data row0 col7\" >KKKQYTSIHH</td>\n      <td id=\"T_d99ca_row0_col8\" class=\"data row0 col8\" >0.981000</td>\n      <td id=\"T_d99ca_row0_col9\" class=\"data row0 col9\" >0.013928</td>\n    </tr>\n    <tr>\n      <th id=\"T_d99ca_level0_row1\" class=\"row_heading level0 row1\" >2</th>\n      <td id=\"T_d99ca_row1_col0\" class=\"data row1 col0\" >P14925</td>\n      <td id=\"T_d99ca_row1_col1\" class=\"data row1 col1\" >MAGRARSGLLLLLLG...EEEYSAPLPKPAPSS</td>\n      <td id=\"T_d99ca_row1_col2\" class=\"data row1 col2\" >1</td>\n      <td id=\"T_d99ca_row1_col3\" class=\"data row1 col3\" >868</td>\n      <td id=\"T_d99ca_row1_col4\" class=\"data row1 col4\" >890</td>\n      <td id=\"T_d99ca_row1_col5\" class=\"data row1 col5\" >KLSTEPGSGV</td>\n      <td id=\"T_d99ca_row1_col6\" class=\"data row1 col6\" >SVVLITTLLVIPVLVLLAIVMFI</td>\n      <td id=\"T_d99ca_row1_col7\" class=\"data row1 col7\" >RWKKSRAFGD</td>\n      <td id=\"T_d99ca_row1_col8\" class=\"data row1 col8\" >0.973000</td>\n      <td id=\"T_d99ca_row1_col9\" class=\"data row1 col9\" >0.012884</td>\n    </tr>\n    <tr>\n      <th id=\"T_d99ca_level0_row2\" class=\"row_heading level0 row2\" >3</th>\n      <td id=\"T_d99ca_row2_col0\" class=\"data row2 col0\" >P70180</td>\n      <td id=\"T_d99ca_row2_col1\" class=\"data row2 col1\" >MRSLLLFTFSACVLL...RELREDSIRSHFSVA</td>\n      <td id=\"T_d99ca_row2_col2\" class=\"data row2 col2\" >1</td>\n      <td id=\"T_d99ca_row2_col3\" class=\"data row2 col3\" >477</td>\n      <td id=\"T_d99ca_row2_col4\" class=\"data row2 col4\" >499</td>\n      <td id=\"T_d99ca_row2_col5\" class=\"data row2 col5\" >PCKSSGGLEE</td>\n      <td id=\"T_d99ca_row2_col6\" class=\"data row2 col6\" >SAVTGIVVGALLGAGLLMAFYFF</td>\n      <td id=\"T_d99ca_row2_col7\" class=\"data row2 col7\" >RKKYRITIER</td>\n      <td id=\"T_d99ca_row2_col8\" class=\"data row2 col8\" >0.976000</td>\n      <td id=\"T_d99ca_row2_col9\" class=\"data row2 col9\" >0.008000</td>\n    </tr>\n    <tr>\n      <th id=\"T_d99ca_level0_row3\" class=\"row_heading level0 row3\" >4</th>\n      <td id=\"T_d99ca_row3_col0\" class=\"data row3 col0\" >Q03157</td>\n      <td id=\"T_d99ca_row3_col1\" class=\"data row3 col1\" >MGPTSPAARGQGRRW...HGYENPTYRFLEERP</td>\n      <td id=\"T_d99ca_row3_col2\" class=\"data row3 col2\" >1</td>\n      <td id=\"T_d99ca_row3_col3\" class=\"data row3 col3\" >585</td>\n      <td id=\"T_d99ca_row3_col4\" class=\"data row3 col4\" >607</td>\n      <td id=\"T_d99ca_row3_col5\" class=\"data row3 col5\" >APSGTGVSRE</td>\n      <td id=\"T_d99ca_row3_col6\" class=\"data row3 col6\" >ALSGLLIMGAGGGSLIVLSLLLL</td>\n      <td id=\"T_d99ca_row3_col7\" class=\"data row3 col7\" >RKKKPYGTIS</td>\n      <td id=\"T_d99ca_row3_col8\" class=\"data row3 col8\" >0.989000</td>\n      <td id=\"T_d99ca_row3_col9\" class=\"data row3 col9\" >0.008000</td>\n    </tr>\n    <tr>\n      <th id=\"T_d99ca_level0_row4\" class=\"row_heading level0 row4\" >5</th>\n      <td id=\"T_d99ca_row4_col0\" class=\"data row4 col0\" >Q06481</td>\n      <td id=\"T_d99ca_row4_col1\" class=\"data row4 col1\" >MAATGTAAAAATGRL...GYENPTYKYLEQMQI</td>\n      <td id=\"T_d99ca_row4_col2\" class=\"data row4 col2\" >1</td>\n      <td id=\"T_d99ca_row4_col3\" class=\"data row4 col3\" >694</td>\n      <td id=\"T_d99ca_row4_col4\" class=\"data row4 col4\" >716</td>\n      <td id=\"T_d99ca_row4_col5\" class=\"data row4 col5\" >LREDFSLSSS</td>\n      <td id=\"T_d99ca_row4_col6\" class=\"data row4 col6\" >ALIGLLVIAVAIATVIVISLVML</td>\n      <td id=\"T_d99ca_row4_col7\" class=\"data row4 col7\" >RKRQYGTISH</td>\n      <td id=\"T_d99ca_row4_col8\" class=\"data row4 col8\" >0.996000</td>\n      <td id=\"T_d99ca_row4_col9\" class=\"data row4 col9\" >0.003742</td>\n    </tr>\n  </tbody>\n</table>\n"
     },
     "metadata": {},
     "output_type": "display_data"
    },
    {
     "name": "stdout",
     "output_type": "stream",
     "text": [
      "Prediction scores for 5 non-substrates\n"
     ]
    },
    {
     "data": {
      "text/plain": "<IPython.core.display.HTML object>",
      "text/html": "<style type=\"text/css\">\n#T_583f7 thead th {\n  background-color: white;\n  color: black;\n}\n#T_583f7 tbody tr:nth-child(odd) {\n  background-color: #f2f2f2;\n}\n#T_583f7 tbody tr:nth-child(even) {\n  background-color: white;\n}\n#T_583f7 th {\n  padding: 5px;\n  white-space: nowrap;\n}\n#T_583f7  td {\n  padding: 5px;\n  white-space: nowrap;\n}\n</style>\n<table id=\"T_583f7\" style='display:block; max-height: 300px; max-width: 100%; overflow-x: auto; overflow-y: auto;'>\n  <thead>\n    <tr>\n      <th class=\"blank level0\" >&nbsp;</th>\n      <th id=\"T_583f7_level0_col0\" class=\"col_heading level0 col0\" >entry</th>\n      <th id=\"T_583f7_level0_col1\" class=\"col_heading level0 col1\" >sequence</th>\n      <th id=\"T_583f7_level0_col2\" class=\"col_heading level0 col2\" >label</th>\n      <th id=\"T_583f7_level0_col3\" class=\"col_heading level0 col3\" >tmd_start</th>\n      <th id=\"T_583f7_level0_col4\" class=\"col_heading level0 col4\" >tmd_stop</th>\n      <th id=\"T_583f7_level0_col5\" class=\"col_heading level0 col5\" >jmd_n</th>\n      <th id=\"T_583f7_level0_col6\" class=\"col_heading level0 col6\" >tmd</th>\n      <th id=\"T_583f7_level0_col7\" class=\"col_heading level0 col7\" >jmd_c</th>\n      <th id=\"T_583f7_level0_col8\" class=\"col_heading level0 col8\" >prediction</th>\n      <th id=\"T_583f7_level0_col9\" class=\"col_heading level0 col9\" >pred_std</th>\n    </tr>\n  </thead>\n  <tbody>\n    <tr>\n      <th id=\"T_583f7_level0_row0\" class=\"row_heading level0 row0\" >122</th>\n      <td id=\"T_583f7_row0_col0\" class=\"data row0 col0\" >P36941</td>\n      <td id=\"T_583f7_row0_col1\" class=\"data row0 col1\" >MLLPWATSAPGLAWG...TPSNRGPRNQFITHD</td>\n      <td id=\"T_583f7_row0_col2\" class=\"data row0 col2\" >0</td>\n      <td id=\"T_583f7_row0_col3\" class=\"data row0 col3\" >226</td>\n      <td id=\"T_583f7_row0_col4\" class=\"data row0 col4\" >248</td>\n      <td id=\"T_583f7_row0_col5\" class=\"data row0 col5\" >PLPPEMSGTM</td>\n      <td id=\"T_583f7_row0_col6\" class=\"data row0 col6\" >LMLAVLLPLAFFLLLATVFSCIW</td>\n      <td id=\"T_583f7_row0_col7\" class=\"data row0 col7\" >KSHPSLCRKL</td>\n      <td id=\"T_583f7_row0_col8\" class=\"data row0 col8\" >0.008000</td>\n      <td id=\"T_583f7_row0_col9\" class=\"data row0 col9\" >0.005099</td>\n    </tr>\n    <tr>\n      <th id=\"T_583f7_level0_row1\" class=\"row_heading level0 row1\" >123</th>\n      <td id=\"T_583f7_row1_col0\" class=\"data row1 col0\" >P25446</td>\n      <td id=\"T_583f7_row1_col1\" class=\"data row1 col1\" >MLWIWAVLPLVLAGS...STPDTGNENEGQCLE</td>\n      <td id=\"T_583f7_row1_col2\" class=\"data row1 col2\" >0</td>\n      <td id=\"T_583f7_row1_col3\" class=\"data row1 col3\" >170</td>\n      <td id=\"T_583f7_row1_col4\" class=\"data row1 col4\" >187</td>\n      <td id=\"T_583f7_row1_col5\" class=\"data row1 col5\" >NCRKQSPRNR</td>\n      <td id=\"T_583f7_row1_col6\" class=\"data row1 col6\" >LWLLTILVLLIPLVFIYR</td>\n      <td id=\"T_583f7_row1_col7\" class=\"data row1 col7\" >KYRKRKCWKR</td>\n      <td id=\"T_583f7_row1_col8\" class=\"data row1 col8\" >0.150000</td>\n      <td id=\"T_583f7_row1_col9\" class=\"data row1 col9\" >0.025884</td>\n    </tr>\n    <tr>\n      <th id=\"T_583f7_level0_row2\" class=\"row_heading level0 row2\" >124</th>\n      <td id=\"T_583f7_row2_col0\" class=\"data row2 col0\" >Q9P2J2</td>\n      <td id=\"T_583f7_row2_col1\" class=\"data row2 col1\" >MVWCLGLAVLSLVIS...AYRQPVPHPEQATLL</td>\n      <td id=\"T_583f7_row2_col2\" class=\"data row2 col2\" >0</td>\n      <td id=\"T_583f7_row2_col3\" class=\"data row2 col3\" >738</td>\n      <td id=\"T_583f7_row2_col4\" class=\"data row2 col4\" >760</td>\n      <td id=\"T_583f7_row2_col5\" class=\"data row2 col5\" >PGLLPQPVLA</td>\n      <td id=\"T_583f7_row2_col6\" class=\"data row2 col6\" >GVVGGVCFLGVAVLVSILAGCLL</td>\n      <td id=\"T_583f7_row2_col7\" class=\"data row2 col7\" >NRRRAARRRR</td>\n      <td id=\"T_583f7_row2_col8\" class=\"data row2 col8\" >0.122000</td>\n      <td id=\"T_583f7_row2_col9\" class=\"data row2 col9\" >0.017205</td>\n    </tr>\n    <tr>\n      <th id=\"T_583f7_level0_row3\" class=\"row_heading level0 row3\" >125</th>\n      <td id=\"T_583f7_row3_col0\" class=\"data row3 col0\" >Q96J42</td>\n      <td id=\"T_583f7_row3_col1\" class=\"data row3 col1\" >MVPAAGRRPPRVMRL...SIRWLIPGQEQEHVE</td>\n      <td id=\"T_583f7_row3_col2\" class=\"data row3 col2\" >0</td>\n      <td id=\"T_583f7_row3_col3\" class=\"data row3 col3\" >324</td>\n      <td id=\"T_583f7_row3_col4\" class=\"data row3 col4\" >342</td>\n      <td id=\"T_583f7_row3_col5\" class=\"data row3 col5\" >LPSTLIKSVD</td>\n      <td id=\"T_583f7_row3_col6\" class=\"data row3 col6\" >WLLVFSLFFLISFIMYATI</td>\n      <td id=\"T_583f7_row3_col7\" class=\"data row3 col7\" >RTESIRWLIP</td>\n      <td id=\"T_583f7_row3_col8\" class=\"data row3 col8\" >0.037000</td>\n      <td id=\"T_583f7_row3_col9\" class=\"data row3 col9\" >0.012490</td>\n    </tr>\n    <tr>\n      <th id=\"T_583f7_level0_row4\" class=\"row_heading level0 row4\" >126</th>\n      <td id=\"T_583f7_row4_col0\" class=\"data row4 col0\" >P0DPA2</td>\n      <td id=\"T_583f7_row4_col1\" class=\"data row4 col1\" >MRVGGAFHLLLVCLS...DCAEGPVQCKNGLLV</td>\n      <td id=\"T_583f7_row4_col2\" class=\"data row4 col2\" >0</td>\n      <td id=\"T_583f7_row4_col3\" class=\"data row4 col3\" >265</td>\n      <td id=\"T_583f7_row4_col4\" class=\"data row4 col4\" >287</td>\n      <td id=\"T_583f7_row4_col5\" class=\"data row4 col5\" >KVSDSRRIGV</td>\n      <td id=\"T_583f7_row4_col6\" class=\"data row4 col6\" >IIGIVLGSLLALGCLAVGIWGLV</td>\n      <td id=\"T_583f7_row4_col7\" class=\"data row4 col7\" >CCCCGGSGAG</td>\n      <td id=\"T_583f7_row4_col8\" class=\"data row4 col8\" >0.011000</td>\n      <td id=\"T_583f7_row4_col9\" class=\"data row4 col9\" >0.004899</td>\n    </tr>\n  </tbody>\n</table>\n"
     },
     "metadata": {},
     "output_type": "display_data"
    }
   ],
   "source": [
    "pred, pred_std = tm.predict_proba(X)\n",
    "\n",
    "df_seq[\"prediction\"] = pred\n",
    "df_seq[\"pred_std\"] = pred_std\n",
    "\n",
    "print(\"Prediction scores for 5 substrates\")\n",
    "aa.display_df(df_seq.head(5))\n",
    "\n",
    "print(\"Prediction scores for 5 non-substrates\")\n",
    "aa.display_df(df_seq.tail(5))"
   ],
   "metadata": {
    "collapsed": false,
    "ExecuteTime": {
     "end_time": "2025-06-17T00:46:06.762685299Z",
     "start_time": "2025-06-17T00:46:06.484751763Z"
    }
   },
   "id": "2bbde4e35ddf0c92"
  },
  {
   "cell_type": "code",
   "execution_count": 3,
   "outputs": [],
   "source": [],
   "metadata": {
    "collapsed": false,
    "ExecuteTime": {
     "end_time": "2025-06-17T00:46:06.795563099Z",
     "start_time": "2025-06-17T00:46:06.766050302Z"
    }
   },
   "id": "73917f6ebe44d3a4"
  }
 ],
 "metadata": {
  "kernelspec": {
   "display_name": "Python 3",
   "language": "python",
   "name": "python3"
  },
  "language_info": {
   "codemirror_mode": {
    "name": "ipython",
    "version": 2
   },
   "file_extension": ".py",
   "mimetype": "text/x-python",
   "name": "python",
   "nbconvert_exporter": "python",
   "pygments_lexer": "ipython2",
   "version": "2.7.6"
  }
 },
 "nbformat": 4,
 "nbformat_minor": 5
}
