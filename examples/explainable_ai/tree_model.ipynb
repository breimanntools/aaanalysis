{
 "cells": [
  {
   "cell_type": "markdown",
   "source": [
    "The ``TreeModel`` object can be instantiated without providing any parameter:"
   ],
   "metadata": {
    "collapsed": false
   },
   "id": "c84036a40e26e3d"
  },
  {
   "cell_type": "code",
   "execution_count": 1,
   "outputs": [],
   "source": [
    "import aaanalysis as aa\n",
    "tm = aa.TreeModel()"
   ],
   "metadata": {
    "collapsed": false,
    "ExecuteTime": {
     "end_time": "2025-06-17T00:46:05.035381013Z",
     "start_time": "2025-06-17T00:46:01.513981579Z"
    }
   },
   "id": "3120e3fde1e372ad"
  },
  {
   "cell_type": "markdown",
   "source": [
    "You can provide a list of tree-based models and their respective arguments using the ``list_model_classes`` and ``list_model_kwargs`` parameters:"
   ],
   "metadata": {
    "collapsed": false
   },
   "id": "ca0b5dc8aa6abff0"
  },
  {
   "cell_type": "code",
   "execution_count": 2,
   "outputs": [
    {
     "name": "stdout",
     "output_type": "stream",
     "text": [
      "Default model arguments:  [{'random_state': None}, {'random_state': None}]\n",
      "New model arguments:  [{'n_estimators': 64, 'random_state': None}, {'n_estimators': 64, 'random_state': None}, {'n_estimators': 64, 'random_state': None}]\n"
     ]
    }
   ],
   "source": [
    "from sklearn.ensemble import RandomForestClassifier, ExtraTreesClassifier, GradientBoostingClassifier\n",
    "\n",
    "# Classes used as default\n",
    "list_model_classes = [RandomForestClassifier, ExtraTreesClassifier, GradientBoostingClassifier]\n",
    "print(\"Default model arguments: \", tm._list_model_kwargs)\n",
    "\n",
    "# Adjust default parameters\n",
    "list_model_kwargs = [dict(n_estimators=64)] * 3\n",
    "tm = aa.TreeModel(list_model_classes=list_model_classes, list_model_kwargs=list_model_kwargs)\n",
    "print(\"New model arguments: \", tm._list_model_kwargs)"
   ],
   "metadata": {
    "collapsed": false,
    "ExecuteTime": {
     "end_time": "2025-06-17T00:46:05.054115492Z",
     "start_time": "2025-06-17T00:46:05.043102547Z"
    }
   },
   "id": "1bb078b0512fd21f"
  },
  {
   "cell_type": "markdown",
   "source": [
    "You can set the ``random_state`` and ``verbose`` parameters: "
   ],
   "metadata": {
    "collapsed": false
   },
   "id": "baa4c4b9b160cd5d"
  },
  {
   "cell_type": "code",
   "execution_count": 3,
   "outputs": [
    {
     "name": "stdout",
     "output_type": "stream",
     "text": [
      "New model arguments:  [{'random_state': 42}, {'random_state': 42}]\n"
     ]
    }
   ],
   "source": [
    "# Set random sed and disable verbosity\n",
    "tm = aa.TreeModel(random_state=42, verbose=False)\n",
    "print(\"New model arguments: \", tm._list_model_kwargs)"
   ],
   "metadata": {
    "collapsed": false,
    "ExecuteTime": {
     "end_time": "2025-06-17T00:46:05.103189025Z",
     "start_time": "2025-06-17T00:46:05.057335167Z"
    }
   },
   "id": "96aec708c7be5727"
  },
  {
   "cell_type": "markdown",
   "source": [
    "You compare different feature pre-filtering strategies by utilizing the ``is_preselected`` parameter, which we will demonstrate using the ``DOM_GSEC`` example dataset and its respective feature set (see [Breimann25a]_):"
   ],
   "metadata": {
    "collapsed": false
   },
   "id": "f5524d63cfe6ea83"
  },
  {
   "cell_type": "code",
   "execution_count": 14,
   "outputs": [],
   "source": [
    "import numpy as np\n",
    "aa.options[\"verbose\"] = False # Disable verbosity\n",
    "\n",
    "df_seq = aa.load_dataset(name=\"DOM_GSEC\")\n",
    "labels = df_seq[\"label\"].to_list()\n",
    "df_feat = aa.load_features(name=\"DOM_GSEC\").head(100)\n",
    "\n",
    "# Create feature matrix\n",
    "sf = aa.SequenceFeature()\n",
    "df_parts = sf.get_df_parts(df_seq=df_seq)\n",
    "X = sf.feature_matrix(features=df_feat[\"feature\"], df_parts=df_parts)\n",
    "\n",
    "# Pre-select top 10 and top 50 features\n",
    "mask_top10 = np.asarray(df_feat.index < 10)\n",
    "mask_top50 = np.asarray(df_feat.index < 50)"
   ],
   "metadata": {
    "collapsed": false,
    "ExecuteTime": {
     "end_time": "2025-06-17T00:50:31.119565978Z",
     "start_time": "2025-06-17T00:50:30.537037856Z"
    }
   },
   "id": "36084e6e1399d14e"
  },
  {
   "cell_type": "markdown",
   "source": [
    "We can now compare the prediction performance for these preselected feature sets using the ``TreeModel().eval()`` method:"
   ],
   "metadata": {
    "collapsed": false
   },
   "id": "b2376de3f499666b"
  },
  {
   "cell_type": "code",
   "execution_count": 15,
   "outputs": [
    {
     "data": {
      "text/plain": "<IPython.core.display.HTML object>",
      "text/html": "<style type=\"text/css\">\n#T_5313b thead th {\n  background-color: white;\n  color: black;\n}\n#T_5313b tbody tr:nth-child(odd) {\n  background-color: #f2f2f2;\n}\n#T_5313b tbody tr:nth-child(even) {\n  background-color: white;\n}\n#T_5313b th {\n  padding: 5px;\n  white-space: nowrap;\n}\n#T_5313b  td {\n  padding: 5px;\n  white-space: nowrap;\n}\n</style>\n<table id=\"T_5313b\" style='display:block; max-height: 300px; max-width: 100%; overflow-x: auto; overflow-y: auto;'>\n  <thead>\n    <tr>\n      <th class=\"blank level0\" >&nbsp;</th>\n      <th id=\"T_5313b_level0_col0\" class=\"col_heading level0 col0\" >name</th>\n      <th id=\"T_5313b_level0_col1\" class=\"col_heading level0 col1\" >accuracy</th>\n      <th id=\"T_5313b_level0_col2\" class=\"col_heading level0 col2\" >precision</th>\n      <th id=\"T_5313b_level0_col3\" class=\"col_heading level0 col3\" >recall</th>\n      <th id=\"T_5313b_level0_col4\" class=\"col_heading level0 col4\" >f1</th>\n    </tr>\n  </thead>\n  <tbody>\n    <tr>\n      <th id=\"T_5313b_level0_row0\" class=\"row_heading level0 row0\" >1</th>\n      <td id=\"T_5313b_row0_col0\" class=\"data row0 col0\" >Set 1</td>\n      <td id=\"T_5313b_row0_col1\" class=\"data row0 col1\" >0.762200</td>\n      <td id=\"T_5313b_row0_col2\" class=\"data row0 col2\" >0.769900</td>\n      <td id=\"T_5313b_row0_col3\" class=\"data row0 col3\" >0.769200</td>\n      <td id=\"T_5313b_row0_col4\" class=\"data row0 col4\" >0.762600</td>\n    </tr>\n    <tr>\n      <th id=\"T_5313b_level0_row1\" class=\"row_heading level0 row1\" >2</th>\n      <td id=\"T_5313b_row1_col0\" class=\"data row1 col0\" >Set 2</td>\n      <td id=\"T_5313b_row1_col1\" class=\"data row1 col1\" >0.842200</td>\n      <td id=\"T_5313b_row1_col2\" class=\"data row1 col2\" >0.838600</td>\n      <td id=\"T_5313b_row1_col3\" class=\"data row1 col3\" >0.875000</td>\n      <td id=\"T_5313b_row1_col4\" class=\"data row1 col4\" >0.849000</td>\n    </tr>\n  </tbody>\n</table>\n"
     },
     "metadata": {},
     "output_type": "display_data"
    }
   ],
   "source": [
    "df_eval = tm.eval(X, labels=labels, list_is_selected=[np.array([mask_top10]), np.array([mask_top50])])\n",
    "aa.display_df(df_eval)"
   ],
   "metadata": {
    "collapsed": false,
    "ExecuteTime": {
     "end_time": "2025-06-17T00:50:51.346066083Z",
     "start_time": "2025-06-17T00:50:32.843059058Z"
    }
   },
   "id": "c0202bc51710eb"
  },
  {
   "cell_type": "code",
   "execution_count": null,
   "outputs": [],
   "source": [],
   "metadata": {
    "collapsed": false
   },
   "id": "83d97b4a39c9122e"
  }
 ],
 "metadata": {
  "kernelspec": {
   "display_name": "Python 3",
   "language": "python",
   "name": "python3"
  },
  "language_info": {
   "codemirror_mode": {
    "name": "ipython",
    "version": 2
   },
   "file_extension": ".py",
   "mimetype": "text/x-python",
   "name": "python",
   "nbconvert_exporter": "python",
   "pygments_lexer": "ipython2",
   "version": "2.7.6"
  }
 },
 "nbformat": 4,
 "nbformat_minor": 5
}
