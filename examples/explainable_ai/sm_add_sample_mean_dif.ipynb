{
 "cells": [
  {
   "cell_type": "markdown",
   "source": [
    "To demonstrate the ``ShapModel().add_sample_mean_dif()`` method, we obtain the DOM_GSEC example dataset and its respective feature set (see [Breimann25a]_):"
   ],
   "metadata": {
    "collapsed": false
   },
   "id": "814edd5eb5a85363"
  },
  {
   "cell_type": "code",
   "execution_count": 7,
   "outputs": [
    {
     "data": {
      "text/plain": "<IPython.core.display.HTML object>",
      "text/html": "<style type=\"text/css\">\n#T_fe8ac thead th {\n  background-color: white;\n  color: black;\n}\n#T_fe8ac tbody tr:nth-child(odd) {\n  background-color: #f2f2f2;\n}\n#T_fe8ac tbody tr:nth-child(even) {\n  background-color: white;\n}\n#T_fe8ac th {\n  padding: 5px;\n  white-space: nowrap;\n}\n#T_fe8ac  td {\n  padding: 5px;\n  white-space: nowrap;\n}\n</style>\n<table id=\"T_fe8ac\" style='display:block; max-height: 300px; max-width: 100%; overflow-x: auto; overflow-y: auto;'>\n  <thead>\n    <tr>\n      <th class=\"blank level0\" >&nbsp;</th>\n      <th id=\"T_fe8ac_level0_col0\" class=\"col_heading level0 col0\" >entry</th>\n      <th id=\"T_fe8ac_level0_col1\" class=\"col_heading level0 col1\" >sequence</th>\n      <th id=\"T_fe8ac_level0_col2\" class=\"col_heading level0 col2\" >label</th>\n      <th id=\"T_fe8ac_level0_col3\" class=\"col_heading level0 col3\" >tmd_start</th>\n      <th id=\"T_fe8ac_level0_col4\" class=\"col_heading level0 col4\" >tmd_stop</th>\n      <th id=\"T_fe8ac_level0_col5\" class=\"col_heading level0 col5\" >jmd_n</th>\n      <th id=\"T_fe8ac_level0_col6\" class=\"col_heading level0 col6\" >tmd</th>\n      <th id=\"T_fe8ac_level0_col7\" class=\"col_heading level0 col7\" >jmd_c</th>\n    </tr>\n  </thead>\n  <tbody>\n    <tr>\n      <th id=\"T_fe8ac_level0_row0\" class=\"row_heading level0 row0\" >1</th>\n      <td id=\"T_fe8ac_row0_col0\" class=\"data row0 col0\" >Q14802</td>\n      <td id=\"T_fe8ac_row0_col1\" class=\"data row0 col1\" >MQKVTLGLLVFLAGF...PGETPPLITPGSAQS</td>\n      <td id=\"T_fe8ac_row0_col2\" class=\"data row0 col2\" >0</td>\n      <td id=\"T_fe8ac_row0_col3\" class=\"data row0 col3\" >37</td>\n      <td id=\"T_fe8ac_row0_col4\" class=\"data row0 col4\" >59</td>\n      <td id=\"T_fe8ac_row0_col5\" class=\"data row0 col5\" >NSPFYYDWHS</td>\n      <td id=\"T_fe8ac_row0_col6\" class=\"data row0 col6\" >LQVGGLICAGVLCAMGIIIVMSA</td>\n      <td id=\"T_fe8ac_row0_col7\" class=\"data row0 col7\" >KCKCKFGQKS</td>\n    </tr>\n    <tr>\n      <th id=\"T_fe8ac_level0_row1\" class=\"row_heading level0 row1\" >2</th>\n      <td id=\"T_fe8ac_row1_col0\" class=\"data row1 col0\" >Q86UE4</td>\n      <td id=\"T_fe8ac_row1_col1\" class=\"data row1 col1\" >MAARSWQDELAQQAE...SPKQIKKKKKARRET</td>\n      <td id=\"T_fe8ac_row1_col2\" class=\"data row1 col2\" >0</td>\n      <td id=\"T_fe8ac_row1_col3\" class=\"data row1 col3\" >50</td>\n      <td id=\"T_fe8ac_row1_col4\" class=\"data row1 col4\" >72</td>\n      <td id=\"T_fe8ac_row1_col5\" class=\"data row1 col5\" >LGLEPKRYPG</td>\n      <td id=\"T_fe8ac_row1_col6\" class=\"data row1 col6\" >WVILVGTGALGLLLLFLLGYGWA</td>\n      <td id=\"T_fe8ac_row1_col7\" class=\"data row1 col7\" >AACAGARKKR</td>\n    </tr>\n    <tr>\n      <th id=\"T_fe8ac_level0_row2\" class=\"row_heading level0 row2\" >3</th>\n      <td id=\"T_fe8ac_row2_col0\" class=\"data row2 col0\" >Q969W9</td>\n      <td id=\"T_fe8ac_row2_col1\" class=\"data row2 col1\" >MHRLMGVNSTAAAAA...AIWSKEKDKQKGHPL</td>\n      <td id=\"T_fe8ac_row2_col2\" class=\"data row2 col2\" >0</td>\n      <td id=\"T_fe8ac_row2_col3\" class=\"data row2 col3\" >41</td>\n      <td id=\"T_fe8ac_row2_col4\" class=\"data row2 col4\" >63</td>\n      <td id=\"T_fe8ac_row2_col5\" class=\"data row2 col5\" >FQSMEITELE</td>\n      <td id=\"T_fe8ac_row2_col6\" class=\"data row2 col6\" >FVQIIIIVVVMMVMVVVITCLLS</td>\n      <td id=\"T_fe8ac_row2_col7\" class=\"data row2 col7\" >HYKLSARSFI</td>\n    </tr>\n    <tr>\n      <th id=\"T_fe8ac_level0_row3\" class=\"row_heading level0 row3\" >4</th>\n      <td id=\"T_fe8ac_row3_col0\" class=\"data row3 col0\" >P05067</td>\n      <td id=\"T_fe8ac_row3_col1\" class=\"data row3 col1\" >MLPGLALLLLAAWTA...GYENPTYKFFEQMQN</td>\n      <td id=\"T_fe8ac_row3_col2\" class=\"data row3 col2\" >1</td>\n      <td id=\"T_fe8ac_row3_col3\" class=\"data row3 col3\" >701</td>\n      <td id=\"T_fe8ac_row3_col4\" class=\"data row3 col4\" >723</td>\n      <td id=\"T_fe8ac_row3_col5\" class=\"data row3 col5\" >FAEDVGSNKG</td>\n      <td id=\"T_fe8ac_row3_col6\" class=\"data row3 col6\" >AIIGLMVGGVVIATVIVITLVML</td>\n      <td id=\"T_fe8ac_row3_col7\" class=\"data row3 col7\" >KKKQYTSIHH</td>\n    </tr>\n    <tr>\n      <th id=\"T_fe8ac_level0_row4\" class=\"row_heading level0 row4\" >5</th>\n      <td id=\"T_fe8ac_row4_col0\" class=\"data row4 col0\" >P14925</td>\n      <td id=\"T_fe8ac_row4_col1\" class=\"data row4 col1\" >MAGRARSGLLLLLLG...EEEYSAPLPKPAPSS</td>\n      <td id=\"T_fe8ac_row4_col2\" class=\"data row4 col2\" >1</td>\n      <td id=\"T_fe8ac_row4_col3\" class=\"data row4 col3\" >868</td>\n      <td id=\"T_fe8ac_row4_col4\" class=\"data row4 col4\" >890</td>\n      <td id=\"T_fe8ac_row4_col5\" class=\"data row4 col5\" >KLSTEPGSGV</td>\n      <td id=\"T_fe8ac_row4_col6\" class=\"data row4 col6\" >SVVLITTLLVIPVLVLLAIVMFI</td>\n      <td id=\"T_fe8ac_row4_col7\" class=\"data row4 col7\" >RWKKSRAFGD</td>\n    </tr>\n    <tr>\n      <th id=\"T_fe8ac_level0_row5\" class=\"row_heading level0 row5\" >6</th>\n      <td id=\"T_fe8ac_row5_col0\" class=\"data row5 col0\" >P70180</td>\n      <td id=\"T_fe8ac_row5_col1\" class=\"data row5 col1\" >MRSLLLFTFSACVLL...RELREDSIRSHFSVA</td>\n      <td id=\"T_fe8ac_row5_col2\" class=\"data row5 col2\" >1</td>\n      <td id=\"T_fe8ac_row5_col3\" class=\"data row5 col3\" >477</td>\n      <td id=\"T_fe8ac_row5_col4\" class=\"data row5 col4\" >499</td>\n      <td id=\"T_fe8ac_row5_col5\" class=\"data row5 col5\" >PCKSSGGLEE</td>\n      <td id=\"T_fe8ac_row5_col6\" class=\"data row5 col6\" >SAVTGIVVGALLGAGLLMAFYFF</td>\n      <td id=\"T_fe8ac_row5_col7\" class=\"data row5 col7\" >RKKYRITIER</td>\n    </tr>\n  </tbody>\n</table>\n"
     },
     "metadata": {},
     "output_type": "display_data"
    }
   ],
   "source": [
    "import aaanalysis as aa\n",
    "aa.options[\"verbose\"] = False # Disable verbosity\n",
    "\n",
    "df_seq = aa.load_dataset(name=\"DOM_GSEC\", n=3)\n",
    "labels = df_seq[\"label\"].to_list()\n",
    "df_feat = aa.load_features(name=\"DOM_GSEC\").head(5)\n",
    "\n",
    "# Create feature matrix\n",
    "sf = aa.SequenceFeature()\n",
    "df_parts = sf.get_df_parts(df_seq=df_seq)\n",
    "X = sf.feature_matrix(features=df_feat[\"feature\"], df_parts=df_parts)\n",
    "\n",
    "aa.display_df(df_seq)"
   ],
   "metadata": {
    "collapsed": false,
    "ExecuteTime": {
     "end_time": "2025-06-17T00:40:45.373145394Z",
     "start_time": "2025-06-17T00:40:45.178935118Z"
    }
   },
   "id": "352a4bb6144cbc72"
  },
  {
   "cell_type": "markdown",
   "source": [
    "You need to provide ``X``, ``labels``, and ``df_feat`` to the ``ShapModel().add_samples_mean_dif()`` method, which will then  compute the feature value difference for each sample against the reference group average:"
   ],
   "metadata": {
    "collapsed": false
   },
   "id": "92847e3710a984a7"
  },
  {
   "cell_type": "code",
   "execution_count": 8,
   "outputs": [
    {
     "data": {
      "text/plain": "<IPython.core.display.HTML object>",
      "text/html": "<style type=\"text/css\">\n#T_995ee thead th {\n  background-color: white;\n  color: black;\n}\n#T_995ee tbody tr:nth-child(odd) {\n  background-color: #f2f2f2;\n}\n#T_995ee tbody tr:nth-child(even) {\n  background-color: white;\n}\n#T_995ee th {\n  padding: 5px;\n  white-space: nowrap;\n}\n#T_995ee  td {\n  padding: 5px;\n  white-space: nowrap;\n}\n</style>\n<table id=\"T_995ee\" style='display:block; max-height: 300px; max-width: 100%; overflow-x: auto; overflow-y: auto;'>\n  <thead>\n    <tr>\n      <th class=\"blank level0\" >&nbsp;</th>\n      <th id=\"T_995ee_level0_col0\" class=\"col_heading level0 col0\" >feature</th>\n      <th id=\"T_995ee_level0_col1\" class=\"col_heading level0 col1\" >category</th>\n      <th id=\"T_995ee_level0_col2\" class=\"col_heading level0 col2\" >subcategory</th>\n      <th id=\"T_995ee_level0_col3\" class=\"col_heading level0 col3\" >scale_name</th>\n      <th id=\"T_995ee_level0_col4\" class=\"col_heading level0 col4\" >scale_description</th>\n      <th id=\"T_995ee_level0_col5\" class=\"col_heading level0 col5\" >abs_auc</th>\n      <th id=\"T_995ee_level0_col6\" class=\"col_heading level0 col6\" >abs_mean_dif</th>\n      <th id=\"T_995ee_level0_col7\" class=\"col_heading level0 col7\" >mean_dif</th>\n      <th id=\"T_995ee_level0_col8\" class=\"col_heading level0 col8\" >std_test</th>\n      <th id=\"T_995ee_level0_col9\" class=\"col_heading level0 col9\" >std_ref</th>\n      <th id=\"T_995ee_level0_col10\" class=\"col_heading level0 col10\" >p_val_mann_whitney</th>\n      <th id=\"T_995ee_level0_col11\" class=\"col_heading level0 col11\" >p_val_fdr_bh</th>\n      <th id=\"T_995ee_level0_col12\" class=\"col_heading level0 col12\" >positions</th>\n      <th id=\"T_995ee_level0_col13\" class=\"col_heading level0 col13\" >feat_importance</th>\n      <th id=\"T_995ee_level0_col14\" class=\"col_heading level0 col14\" >feat_importance_std</th>\n      <th id=\"T_995ee_level0_col15\" class=\"col_heading level0 col15\" >mean_dif_Protein0</th>\n      <th id=\"T_995ee_level0_col16\" class=\"col_heading level0 col16\" >mean_dif_Protein1</th>\n      <th id=\"T_995ee_level0_col17\" class=\"col_heading level0 col17\" >mean_dif_Protein2</th>\n      <th id=\"T_995ee_level0_col18\" class=\"col_heading level0 col18\" >mean_dif_Protein3</th>\n      <th id=\"T_995ee_level0_col19\" class=\"col_heading level0 col19\" >mean_dif_Protein4</th>\n      <th id=\"T_995ee_level0_col20\" class=\"col_heading level0 col20\" >mean_dif_Protein5</th>\n    </tr>\n  </thead>\n  <tbody>\n    <tr>\n      <th id=\"T_995ee_level0_row0\" class=\"row_heading level0 row0\" >1</th>\n      <td id=\"T_995ee_row0_col0\" class=\"data row0 col0\" >TMD_C_JMD_C-Seg...3,4)-KLEP840101</td>\n      <td id=\"T_995ee_row0_col1\" class=\"data row0 col1\" >Energy</td>\n      <td id=\"T_995ee_row0_col2\" class=\"data row0 col2\" >Charge</td>\n      <td id=\"T_995ee_row0_col3\" class=\"data row0 col3\" >Charge</td>\n      <td id=\"T_995ee_row0_col4\" class=\"data row0 col4\" >Net charge (Kle...n et al., 1984)</td>\n      <td id=\"T_995ee_row0_col5\" class=\"data row0 col5\" >0.244000</td>\n      <td id=\"T_995ee_row0_col6\" class=\"data row0 col6\" >0.103666</td>\n      <td id=\"T_995ee_row0_col7\" class=\"data row0 col7\" >0.103666</td>\n      <td id=\"T_995ee_row0_col8\" class=\"data row0 col8\" >0.106692</td>\n      <td id=\"T_995ee_row0_col9\" class=\"data row0 col9\" >0.110506</td>\n      <td id=\"T_995ee_row0_col10\" class=\"data row0 col10\" >0.000000</td>\n      <td id=\"T_995ee_row0_col11\" class=\"data row0 col11\" >0.000000</td>\n      <td id=\"T_995ee_row0_col12\" class=\"data row0 col12\" >31,32,33,34,35</td>\n      <td id=\"T_995ee_row0_col13\" class=\"data row0 col13\" >0.970400</td>\n      <td id=\"T_995ee_row0_col14\" class=\"data row0 col14\" >1.438918</td>\n      <td id=\"T_995ee_row0_col15\" class=\"data row0 col15\" >0.100000</td>\n      <td id=\"T_995ee_row0_col16\" class=\"data row0 col16\" >-0.100000</td>\n      <td id=\"T_995ee_row0_col17\" class=\"data row0 col17\" >0.000000</td>\n      <td id=\"T_995ee_row0_col18\" class=\"data row0 col18\" >0.200000</td>\n      <td id=\"T_995ee_row0_col19\" class=\"data row0 col19\" >0.200000</td>\n      <td id=\"T_995ee_row0_col20\" class=\"data row0 col20\" >0.200000</td>\n    </tr>\n    <tr>\n      <th id=\"T_995ee_level0_row1\" class=\"row_heading level0 row1\" >2</th>\n      <td id=\"T_995ee_row1_col0\" class=\"data row1 col0\" >TMD_C_JMD_C-Seg...3,4)-FINA910104</td>\n      <td id=\"T_995ee_row1_col1\" class=\"data row1 col1\" >Conformation</td>\n      <td id=\"T_995ee_row1_col2\" class=\"data row1 col2\" >α-helix (C-cap)</td>\n      <td id=\"T_995ee_row1_col3\" class=\"data row1 col3\" >α-helix termination</td>\n      <td id=\"T_995ee_row1_col4\" class=\"data row1 col4\" >Helix terminati...n et al., 1991)</td>\n      <td id=\"T_995ee_row1_col5\" class=\"data row1 col5\" >0.243000</td>\n      <td id=\"T_995ee_row1_col6\" class=\"data row1 col6\" >0.085064</td>\n      <td id=\"T_995ee_row1_col7\" class=\"data row1 col7\" >0.085064</td>\n      <td id=\"T_995ee_row1_col8\" class=\"data row1 col8\" >0.098774</td>\n      <td id=\"T_995ee_row1_col9\" class=\"data row1 col9\" >0.096946</td>\n      <td id=\"T_995ee_row1_col10\" class=\"data row1 col10\" >0.000000</td>\n      <td id=\"T_995ee_row1_col11\" class=\"data row1 col11\" >0.000000</td>\n      <td id=\"T_995ee_row1_col12\" class=\"data row1 col12\" >31,32,33,34,35</td>\n      <td id=\"T_995ee_row1_col13\" class=\"data row1 col13\" >0.000000</td>\n      <td id=\"T_995ee_row1_col14\" class=\"data row1 col14\" >0.000000</td>\n      <td id=\"T_995ee_row1_col15\" class=\"data row1 col15\" >0.087600</td>\n      <td id=\"T_995ee_row1_col16\" class=\"data row1 col16\" >-0.087600</td>\n      <td id=\"T_995ee_row1_col17\" class=\"data row1 col17\" >0.000000</td>\n      <td id=\"T_995ee_row1_col18\" class=\"data row1 col18\" >0.175200</td>\n      <td id=\"T_995ee_row1_col19\" class=\"data row1 col19\" >0.175200</td>\n      <td id=\"T_995ee_row1_col20\" class=\"data row1 col20\" >0.175200</td>\n    </tr>\n    <tr>\n      <th id=\"T_995ee_level0_row2\" class=\"row_heading level0 row2\" >3</th>\n      <td id=\"T_995ee_row2_col0\" class=\"data row2 col0\" >TMD_C_JMD_C-Seg...6,9)-LEVM760105</td>\n      <td id=\"T_995ee_row2_col1\" class=\"data row2 col1\" >Shape</td>\n      <td id=\"T_995ee_row2_col2\" class=\"data row2 col2\" >Side chain length</td>\n      <td id=\"T_995ee_row2_col3\" class=\"data row2 col3\" >Side chain length</td>\n      <td id=\"T_995ee_row2_col4\" class=\"data row2 col4\" >Radius of gyrat... (Levitt, 1976)</td>\n      <td id=\"T_995ee_row2_col5\" class=\"data row2 col5\" >0.233000</td>\n      <td id=\"T_995ee_row2_col6\" class=\"data row2 col6\" >0.137044</td>\n      <td id=\"T_995ee_row2_col7\" class=\"data row2 col7\" >0.137044</td>\n      <td id=\"T_995ee_row2_col8\" class=\"data row2 col8\" >0.161683</td>\n      <td id=\"T_995ee_row2_col9\" class=\"data row2 col9\" >0.176964</td>\n      <td id=\"T_995ee_row2_col10\" class=\"data row2 col10\" >0.000000</td>\n      <td id=\"T_995ee_row2_col11\" class=\"data row2 col11\" >0.000001</td>\n      <td id=\"T_995ee_row2_col12\" class=\"data row2 col12\" >32,33</td>\n      <td id=\"T_995ee_row2_col13\" class=\"data row2 col13\" >1.554800</td>\n      <td id=\"T_995ee_row2_col14\" class=\"data row2 col14\" >2.109848</td>\n      <td id=\"T_995ee_row2_col15\" class=\"data row2 col15\" >0.123890</td>\n      <td id=\"T_995ee_row2_col16\" class=\"data row2 col16\" >-0.360780</td>\n      <td id=\"T_995ee_row2_col17\" class=\"data row2 col17\" >0.236890</td>\n      <td id=\"T_995ee_row2_col18\" class=\"data row2 col18\" >0.282890</td>\n      <td id=\"T_995ee_row2_col19\" class=\"data row2 col19\" >0.362890</td>\n      <td id=\"T_995ee_row2_col20\" class=\"data row2 col20\" >0.338560</td>\n    </tr>\n    <tr>\n      <th id=\"T_995ee_level0_row3\" class=\"row_heading level0 row3\" >4</th>\n      <td id=\"T_995ee_row3_col0\" class=\"data row3 col0\" >TMD_C_JMD_C-Seg...3,4)-HUTJ700102</td>\n      <td id=\"T_995ee_row3_col1\" class=\"data row3 col1\" >Energy</td>\n      <td id=\"T_995ee_row3_col2\" class=\"data row3 col2\" >Entropy</td>\n      <td id=\"T_995ee_row3_col3\" class=\"data row3 col3\" >Entropy</td>\n      <td id=\"T_995ee_row3_col4\" class=\"data row3 col4\" >Absolute entrop...Hutchens, 1970)</td>\n      <td id=\"T_995ee_row3_col5\" class=\"data row3 col5\" >0.229000</td>\n      <td id=\"T_995ee_row3_col6\" class=\"data row3 col6\" >0.098224</td>\n      <td id=\"T_995ee_row3_col7\" class=\"data row3 col7\" >0.098224</td>\n      <td id=\"T_995ee_row3_col8\" class=\"data row3 col8\" >0.106865</td>\n      <td id=\"T_995ee_row3_col9\" class=\"data row3 col9\" >0.124608</td>\n      <td id=\"T_995ee_row3_col10\" class=\"data row3 col10\" >0.000000</td>\n      <td id=\"T_995ee_row3_col11\" class=\"data row3 col11\" >0.000001</td>\n      <td id=\"T_995ee_row3_col12\" class=\"data row3 col12\" >31,32,33,34,35</td>\n      <td id=\"T_995ee_row3_col13\" class=\"data row3 col13\" >3.111200</td>\n      <td id=\"T_995ee_row3_col14\" class=\"data row3 col14\" >3.109955</td>\n      <td id=\"T_995ee_row3_col15\" class=\"data row3 col15\" >0.131267</td>\n      <td id=\"T_995ee_row3_col16\" class=\"data row3 col16\" >-0.269733</td>\n      <td id=\"T_995ee_row3_col17\" class=\"data row3 col17\" >0.138467</td>\n      <td id=\"T_995ee_row3_col18\" class=\"data row3 col18\" >0.231467</td>\n      <td id=\"T_995ee_row3_col19\" class=\"data row3 col19\" >0.312467</td>\n      <td id=\"T_995ee_row3_col20\" class=\"data row3 col20\" >0.277867</td>\n    </tr>\n    <tr>\n      <th id=\"T_995ee_level0_row4\" class=\"row_heading level0 row4\" >5</th>\n      <td id=\"T_995ee_row4_col0\" class=\"data row4 col0\" >TMD_C_JMD_C-Seg...6,9)-RADA880106</td>\n      <td id=\"T_995ee_row4_col1\" class=\"data row4 col1\" >ASA/Volume</td>\n      <td id=\"T_995ee_row4_col2\" class=\"data row4 col2\" >Volume</td>\n      <td id=\"T_995ee_row4_col3\" class=\"data row4 col3\" >Accessible surface area (ASA)</td>\n      <td id=\"T_995ee_row4_col4\" class=\"data row4 col4\" >Accessible surf...olfenden, 1988)</td>\n      <td id=\"T_995ee_row4_col5\" class=\"data row4 col5\" >0.223000</td>\n      <td id=\"T_995ee_row4_col6\" class=\"data row4 col6\" >0.095071</td>\n      <td id=\"T_995ee_row4_col7\" class=\"data row4 col7\" >0.095071</td>\n      <td id=\"T_995ee_row4_col8\" class=\"data row4 col8\" >0.114758</td>\n      <td id=\"T_995ee_row4_col9\" class=\"data row4 col9\" >0.132829</td>\n      <td id=\"T_995ee_row4_col10\" class=\"data row4 col10\" >0.000000</td>\n      <td id=\"T_995ee_row4_col11\" class=\"data row4 col11\" >0.000002</td>\n      <td id=\"T_995ee_row4_col12\" class=\"data row4 col12\" >32,33</td>\n      <td id=\"T_995ee_row4_col13\" class=\"data row4 col13\" >0.000000</td>\n      <td id=\"T_995ee_row4_col14\" class=\"data row4 col14\" >0.000000</td>\n      <td id=\"T_995ee_row4_col15\" class=\"data row4 col15\" >0.067557</td>\n      <td id=\"T_995ee_row4_col16\" class=\"data row4 col16\" >-0.230443</td>\n      <td id=\"T_995ee_row4_col17\" class=\"data row4 col17\" >0.162887</td>\n      <td id=\"T_995ee_row4_col18\" class=\"data row4 col18\" >0.165557</td>\n      <td id=\"T_995ee_row4_col19\" class=\"data row4 col19\" >0.278227</td>\n      <td id=\"T_995ee_row4_col20\" class=\"data row4 col20\" >0.208887</td>\n    </tr>\n  </tbody>\n</table>\n"
     },
     "metadata": {},
     "output_type": "display_data"
    }
   ],
   "source": [
    "sm = aa.ShapModel()\n",
    "\n",
    "# Compute difference against average for negative (0) group\n",
    "df_feat = sm.add_sample_mean_dif(X, labels=labels, df_feat=df_feat)\n",
    "aa.display_df(df_feat)"
   ],
   "metadata": {
    "collapsed": false,
    "ExecuteTime": {
     "end_time": "2025-06-17T00:40:45.916087893Z",
     "start_time": "2025-06-17T00:40:45.380312375Z"
    }
   },
   "id": "63727367b4dbee68"
  },
  {
   "cell_type": "markdown",
   "source": [
    "To change the reference group, use the ``label_ref`` parameter (default=0). Since ``df_feat`` already contains mean difference columns, we must set ``drop=True`` to remove them:"
   ],
   "metadata": {
    "collapsed": false
   },
   "id": "16723d1e360fec05"
  },
  {
   "cell_type": "code",
   "execution_count": 9,
   "outputs": [
    {
     "data": {
      "text/plain": "<IPython.core.display.HTML object>",
      "text/html": "<style type=\"text/css\">\n#T_48b5a thead th {\n  background-color: white;\n  color: black;\n}\n#T_48b5a tbody tr:nth-child(odd) {\n  background-color: #f2f2f2;\n}\n#T_48b5a tbody tr:nth-child(even) {\n  background-color: white;\n}\n#T_48b5a th {\n  padding: 5px;\n  white-space: nowrap;\n}\n#T_48b5a  td {\n  padding: 5px;\n  white-space: nowrap;\n}\n</style>\n<table id=\"T_48b5a\" style='display:block; max-height: 300px; max-width: 100%; overflow-x: auto; overflow-y: auto;'>\n  <thead>\n    <tr>\n      <th class=\"blank level0\" >&nbsp;</th>\n      <th id=\"T_48b5a_level0_col0\" class=\"col_heading level0 col0\" >mean_dif_Protein0</th>\n      <th id=\"T_48b5a_level0_col1\" class=\"col_heading level0 col1\" >mean_dif_Protein1</th>\n      <th id=\"T_48b5a_level0_col2\" class=\"col_heading level0 col2\" >mean_dif_Protein2</th>\n      <th id=\"T_48b5a_level0_col3\" class=\"col_heading level0 col3\" >mean_dif_Protein3</th>\n      <th id=\"T_48b5a_level0_col4\" class=\"col_heading level0 col4\" >mean_dif_Protein4</th>\n      <th id=\"T_48b5a_level0_col5\" class=\"col_heading level0 col5\" >mean_dif_Protein5</th>\n    </tr>\n  </thead>\n  <tbody>\n    <tr>\n      <th id=\"T_48b5a_level0_row0\" class=\"row_heading level0 row0\" >1</th>\n      <td id=\"T_48b5a_row0_col0\" class=\"data row0 col0\" >-0.100000</td>\n      <td id=\"T_48b5a_row0_col1\" class=\"data row0 col1\" >-0.300000</td>\n      <td id=\"T_48b5a_row0_col2\" class=\"data row0 col2\" >-0.200000</td>\n      <td id=\"T_48b5a_row0_col3\" class=\"data row0 col3\" >-0.000000</td>\n      <td id=\"T_48b5a_row0_col4\" class=\"data row0 col4\" >-0.000000</td>\n      <td id=\"T_48b5a_row0_col5\" class=\"data row0 col5\" >-0.000000</td>\n    </tr>\n    <tr>\n      <th id=\"T_48b5a_level0_row1\" class=\"row_heading level0 row1\" >2</th>\n      <td id=\"T_48b5a_row1_col0\" class=\"data row1 col0\" >-0.087600</td>\n      <td id=\"T_48b5a_row1_col1\" class=\"data row1 col1\" >-0.262800</td>\n      <td id=\"T_48b5a_row1_col2\" class=\"data row1 col2\" >-0.175200</td>\n      <td id=\"T_48b5a_row1_col3\" class=\"data row1 col3\" >-0.000000</td>\n      <td id=\"T_48b5a_row1_col4\" class=\"data row1 col4\" >-0.000000</td>\n      <td id=\"T_48b5a_row1_col5\" class=\"data row1 col5\" >-0.000000</td>\n    </tr>\n    <tr>\n      <th id=\"T_48b5a_level0_row2\" class=\"row_heading level0 row2\" >3</th>\n      <td id=\"T_48b5a_row2_col0\" class=\"data row2 col0\" >-0.204223</td>\n      <td id=\"T_48b5a_row2_col1\" class=\"data row2 col1\" >-0.688893</td>\n      <td id=\"T_48b5a_row2_col2\" class=\"data row2 col2\" >-0.091223</td>\n      <td id=\"T_48b5a_row2_col3\" class=\"data row2 col3\" >-0.045223</td>\n      <td id=\"T_48b5a_row2_col4\" class=\"data row2 col4\" >0.034777</td>\n      <td id=\"T_48b5a_row2_col5\" class=\"data row2 col5\" >0.010447</td>\n    </tr>\n    <tr>\n      <th id=\"T_48b5a_level0_row3\" class=\"row_heading level0 row3\" >4</th>\n      <td id=\"T_48b5a_row3_col0\" class=\"data row3 col0\" >-0.142667</td>\n      <td id=\"T_48b5a_row3_col1\" class=\"data row3 col1\" >-0.543667</td>\n      <td id=\"T_48b5a_row3_col2\" class=\"data row3 col2\" >-0.135467</td>\n      <td id=\"T_48b5a_row3_col3\" class=\"data row3 col3\" >-0.042467</td>\n      <td id=\"T_48b5a_row3_col4\" class=\"data row3 col4\" >0.038533</td>\n      <td id=\"T_48b5a_row3_col5\" class=\"data row3 col5\" >0.003933</td>\n    </tr>\n    <tr>\n      <th id=\"T_48b5a_level0_row4\" class=\"row_heading level0 row4\" >5</th>\n      <td id=\"T_48b5a_row4_col0\" class=\"data row4 col0\" >-0.150000</td>\n      <td id=\"T_48b5a_row4_col1\" class=\"data row4 col1\" >-0.448000</td>\n      <td id=\"T_48b5a_row4_col2\" class=\"data row4 col2\" >-0.054670</td>\n      <td id=\"T_48b5a_row4_col3\" class=\"data row4 col3\" >-0.052000</td>\n      <td id=\"T_48b5a_row4_col4\" class=\"data row4 col4\" >0.060670</td>\n      <td id=\"T_48b5a_row4_col5\" class=\"data row4 col5\" >-0.008670</td>\n    </tr>\n  </tbody>\n</table>\n"
     },
     "metadata": {},
     "output_type": "display_data"
    }
   ],
   "source": [
    "# Compute difference against average for positive (1) group\n",
    "df_feat = sm.add_sample_mean_dif(X, labels=labels, label_ref=1, df_feat=df_feat, drop=True)\n",
    "aa.display_df(df_feat, n_cols=-6)"
   ],
   "metadata": {
    "collapsed": false,
    "ExecuteTime": {
     "end_time": "2025-06-17T00:40:45.917171941Z",
     "start_time": "2025-06-17T00:40:45.823771226Z"
    }
   },
   "id": "3ae1727fe0203aa7"
  },
  {
   "cell_type": "markdown",
   "source": [
    "Select a specific sample based in its position index in label using the ``sample_positions`` parameter. You can provide its name by the ``names`` parameter:"
   ],
   "metadata": {
    "collapsed": false
   },
   "id": "fec287282ea16a47"
  },
  {
   "cell_type": "code",
   "execution_count": 10,
   "outputs": [
    {
     "data": {
      "text/plain": "<IPython.core.display.HTML object>",
      "text/html": "<style type=\"text/css\">\n#T_dc7a1 thead th {\n  background-color: white;\n  color: black;\n}\n#T_dc7a1 tbody tr:nth-child(odd) {\n  background-color: #f2f2f2;\n}\n#T_dc7a1 tbody tr:nth-child(even) {\n  background-color: white;\n}\n#T_dc7a1 th {\n  padding: 5px;\n  white-space: nowrap;\n}\n#T_dc7a1  td {\n  padding: 5px;\n  white-space: nowrap;\n}\n</style>\n<table id=\"T_dc7a1\" style='display:block; max-height: 300px; max-width: 100%; overflow-x: auto; overflow-y: auto;'>\n  <thead>\n    <tr>\n      <th class=\"blank level0\" >&nbsp;</th>\n      <th id=\"T_dc7a1_level0_col0\" class=\"col_heading level0 col0\" >mean_dif_Selected_sample</th>\n    </tr>\n  </thead>\n  <tbody>\n    <tr>\n      <th id=\"T_dc7a1_level0_row0\" class=\"row_heading level0 row0\" >1</th>\n      <td id=\"T_dc7a1_row0_col0\" class=\"data row0 col0\" >0.100000</td>\n    </tr>\n    <tr>\n      <th id=\"T_dc7a1_level0_row1\" class=\"row_heading level0 row1\" >2</th>\n      <td id=\"T_dc7a1_row1_col0\" class=\"data row1 col0\" >0.087600</td>\n    </tr>\n    <tr>\n      <th id=\"T_dc7a1_level0_row2\" class=\"row_heading level0 row2\" >3</th>\n      <td id=\"T_dc7a1_row2_col0\" class=\"data row2 col0\" >0.123890</td>\n    </tr>\n    <tr>\n      <th id=\"T_dc7a1_level0_row3\" class=\"row_heading level0 row3\" >4</th>\n      <td id=\"T_dc7a1_row3_col0\" class=\"data row3 col0\" >0.131267</td>\n    </tr>\n    <tr>\n      <th id=\"T_dc7a1_level0_row4\" class=\"row_heading level0 row4\" >5</th>\n      <td id=\"T_dc7a1_row4_col0\" class=\"data row4 col0\" >0.067557</td>\n    </tr>\n  </tbody>\n</table>\n"
     },
     "metadata": {},
     "output_type": "display_data"
    }
   ],
   "source": [
    "# Single sample\n",
    "df_feat = sm.add_sample_mean_dif(X, labels=labels, df_feat=df_feat, drop=True, sample_positions=0, names=\"Selected_sample\")\n",
    "aa.display_df(df_feat, n_cols=-1)"
   ],
   "metadata": {
    "collapsed": false,
    "ExecuteTime": {
     "end_time": "2025-06-17T00:40:45.918117916Z",
     "start_time": "2025-06-17T00:40:45.844505324Z"
    }
   },
   "id": "ac6570b8c05a0688"
  },
  {
   "cell_type": "markdown",
   "source": [
    "Three different scenarios are possible:\n",
    "\n",
    "a) **Single sample**: Compute the difference for a single sample (above).\n",
    "b) **Multiple samples**: Compute the difference for multiple samples (all by default).\n",
    "c) **Group of samples**: Compute the difference using the average of a group of samples.\n",
    "\n",
    "To target on specific samples, define their indices in ``sample_positions``. Ensure the ``names`` parameter, if used, corresponds in length to ``sample_positions``."
   ],
   "metadata": {
    "collapsed": false
   },
   "id": "1f0a7b695c8cb95c"
  },
  {
   "cell_type": "code",
   "execution_count": 11,
   "outputs": [
    {
     "data": {
      "text/plain": "<IPython.core.display.HTML object>",
      "text/html": "<style type=\"text/css\">\n#T_a867d thead th {\n  background-color: white;\n  color: black;\n}\n#T_a867d tbody tr:nth-child(odd) {\n  background-color: #f2f2f2;\n}\n#T_a867d tbody tr:nth-child(even) {\n  background-color: white;\n}\n#T_a867d th {\n  padding: 5px;\n  white-space: nowrap;\n}\n#T_a867d  td {\n  padding: 5px;\n  white-space: nowrap;\n}\n</style>\n<table id=\"T_a867d\" style='display:block; max-height: 300px; max-width: 100%; overflow-x: auto; overflow-y: auto;'>\n  <thead>\n    <tr>\n      <th class=\"blank level0\" >&nbsp;</th>\n      <th id=\"T_a867d_level0_col0\" class=\"col_heading level0 col0\" >mean_dif_Sample 1</th>\n      <th id=\"T_a867d_level0_col1\" class=\"col_heading level0 col1\" >mean_dif_Sample 2</th>\n    </tr>\n  </thead>\n  <tbody>\n    <tr>\n      <th id=\"T_a867d_level0_row0\" class=\"row_heading level0 row0\" >1</th>\n      <td id=\"T_a867d_row0_col0\" class=\"data row0 col0\" >0.100000</td>\n      <td id=\"T_a867d_row0_col1\" class=\"data row0 col1\" >-0.100000</td>\n    </tr>\n    <tr>\n      <th id=\"T_a867d_level0_row1\" class=\"row_heading level0 row1\" >2</th>\n      <td id=\"T_a867d_row1_col0\" class=\"data row1 col0\" >0.087600</td>\n      <td id=\"T_a867d_row1_col1\" class=\"data row1 col1\" >-0.087600</td>\n    </tr>\n    <tr>\n      <th id=\"T_a867d_level0_row2\" class=\"row_heading level0 row2\" >3</th>\n      <td id=\"T_a867d_row2_col0\" class=\"data row2 col0\" >0.123890</td>\n      <td id=\"T_a867d_row2_col1\" class=\"data row2 col1\" >-0.360780</td>\n    </tr>\n    <tr>\n      <th id=\"T_a867d_level0_row3\" class=\"row_heading level0 row3\" >4</th>\n      <td id=\"T_a867d_row3_col0\" class=\"data row3 col0\" >0.131267</td>\n      <td id=\"T_a867d_row3_col1\" class=\"data row3 col1\" >-0.269733</td>\n    </tr>\n    <tr>\n      <th id=\"T_a867d_level0_row4\" class=\"row_heading level0 row4\" >5</th>\n      <td id=\"T_a867d_row4_col0\" class=\"data row4 col0\" >0.067557</td>\n      <td id=\"T_a867d_row4_col1\" class=\"data row4 col1\" >-0.230443</td>\n    </tr>\n  </tbody>\n</table>\n"
     },
     "metadata": {},
     "output_type": "display_data"
    }
   ],
   "source": [
    "# Multiple samples\n",
    "df_feat = sm.add_sample_mean_dif(X, labels=labels, df_feat=df_feat, drop=True, sample_positions=[0, 1], names=[\"Sample 1\", \"Sample 2\"])\n",
    "aa.display_df(df_feat, n_cols=-2)"
   ],
   "metadata": {
    "collapsed": false,
    "ExecuteTime": {
     "end_time": "2025-06-17T00:40:45.918839571Z",
     "start_time": "2025-06-17T00:40:45.859771168Z"
    }
   },
   "id": "fe7548598314d579"
  },
  {
   "cell_type": "markdown",
   "source": [
    "To compute the group average, set ``group_average=True`` and specify the sample indices in `sample_positions`.Assign a name to the group using the ``names`` parameter; if not provided, 'Group' will be used as the default name:"
   ],
   "metadata": {
    "collapsed": false
   },
   "id": "ba7e8f61ed22877a"
  },
  {
   "cell_type": "code",
   "execution_count": 12,
   "outputs": [
    {
     "data": {
      "text/plain": "<IPython.core.display.HTML object>",
      "text/html": "<style type=\"text/css\">\n#T_c23e9 thead th {\n  background-color: white;\n  color: black;\n}\n#T_c23e9 tbody tr:nth-child(odd) {\n  background-color: #f2f2f2;\n}\n#T_c23e9 tbody tr:nth-child(even) {\n  background-color: white;\n}\n#T_c23e9 th {\n  padding: 5px;\n  white-space: nowrap;\n}\n#T_c23e9  td {\n  padding: 5px;\n  white-space: nowrap;\n}\n</style>\n<table id=\"T_c23e9\" style='display:block; max-height: 300px; max-width: 100%; overflow-x: auto; overflow-y: auto;'>\n  <thead>\n    <tr>\n      <th class=\"blank level0\" >&nbsp;</th>\n      <th id=\"T_c23e9_level0_col0\" class=\"col_heading level0 col0\" >mean_dif_Group</th>\n    </tr>\n  </thead>\n  <tbody>\n    <tr>\n      <th id=\"T_c23e9_level0_row0\" class=\"row_heading level0 row0\" >1</th>\n      <td id=\"T_c23e9_row0_col0\" class=\"data row0 col0\" >0.000000</td>\n    </tr>\n    <tr>\n      <th id=\"T_c23e9_level0_row1\" class=\"row_heading level0 row1\" >2</th>\n      <td id=\"T_c23e9_row1_col0\" class=\"data row1 col0\" >0.000000</td>\n    </tr>\n    <tr>\n      <th id=\"T_c23e9_level0_row2\" class=\"row_heading level0 row2\" >3</th>\n      <td id=\"T_c23e9_row2_col0\" class=\"data row2 col0\" >-0.118445</td>\n    </tr>\n    <tr>\n      <th id=\"T_c23e9_level0_row3\" class=\"row_heading level0 row3\" >4</th>\n      <td id=\"T_c23e9_row3_col0\" class=\"data row3 col0\" >-0.069233</td>\n    </tr>\n    <tr>\n      <th id=\"T_c23e9_level0_row4\" class=\"row_heading level0 row4\" >5</th>\n      <td id=\"T_c23e9_row4_col0\" class=\"data row4 col0\" >-0.081443</td>\n    </tr>\n  </tbody>\n</table>\n"
     },
     "metadata": {},
     "output_type": "display_data"
    }
   ],
   "source": [
    "# Group of samples\n",
    "df_feat = sm.add_sample_mean_dif(X, labels=labels, df_feat=df_feat, drop=True, sample_positions=[0, 1], group_average=True)\n",
    "aa.display_df(df_feat, n_cols=-1)"
   ],
   "metadata": {
    "collapsed": false,
    "ExecuteTime": {
     "end_time": "2025-06-17T00:40:45.919487746Z",
     "start_time": "2025-06-17T00:40:45.874712737Z"
    }
   },
   "id": "1d52fa0ba6b9694"
  }
 ],
 "metadata": {
  "kernelspec": {
   "display_name": "Python 3",
   "language": "python",
   "name": "python3"
  },
  "language_info": {
   "codemirror_mode": {
    "name": "ipython",
    "version": 2
   },
   "file_extension": ".py",
   "mimetype": "text/x-python",
   "name": "python",
   "nbconvert_exporter": "python",
   "pygments_lexer": "ipython2",
   "version": "2.7.6"
  }
 },
 "nbformat": 4,
 "nbformat_minor": 5
}
