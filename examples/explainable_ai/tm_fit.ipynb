{
 "cells": [
  {
   "cell_type": "markdown",
   "source": [
    "To demonstrate the ``TreeModel().fit()``method, we obtain the ``DOM_GSEC`` example dataset and its respective feature set (see [Breimann25a]_):"
   ],
   "metadata": {
    "collapsed": false
   },
   "id": "ed68431a64addda8"
  },
  {
   "cell_type": "code",
   "execution_count": 1,
   "outputs": [],
   "source": [
    "import aaanalysis as aa\n",
    "aa.options[\"verbose\"] = False # Disable verbosity\n",
    "\n",
    "df_seq = aa.load_dataset(name=\"DOM_GSEC\")\n",
    "labels = df_seq[\"label\"].to_list()\n",
    "df_feat = aa.load_features(name=\"DOM_GSEC\").head(10)\n",
    "\n",
    "# Create feature matrix\n",
    "sf = aa.SequenceFeature()\n",
    "df_parts = sf.get_df_parts(df_seq=df_seq)\n",
    "X = sf.feature_matrix(features=df_feat[\"feature\"], df_parts=df_parts)"
   ],
   "metadata": {
    "collapsed": false,
    "ExecuteTime": {
     "end_time": "2025-06-17T00:46:00.088962846Z",
     "start_time": "2025-06-17T00:45:55.853572571Z"
    }
   },
   "id": "535d576d07277d53"
  },
  {
   "cell_type": "markdown",
   "source": [
    "We can now create a ``TreeModel`` object and fit it to obtain the importance of each feature and their standard deviation using the ``feat_importance`` and ``feat_importance_std`` attributes:"
   ],
   "metadata": {
    "collapsed": false
   },
   "id": "1e1a81780018b7e3"
  },
  {
   "cell_type": "code",
   "execution_count": 2,
   "outputs": [
    {
     "name": "stdout",
     "output_type": "stream",
     "text": [
      "Feature importance:  [ 6.294  9.552 11.667 12.728  9.545  5.666  8.222  9.047 11.695 15.584]\n",
      "Their STD:  [0.452 0.892 0.913 0.807 0.89  0.459 0.353 0.19  0.463 0.98 ]\n"
     ]
    }
   ],
   "source": [
    "tm = aa.TreeModel()\n",
    "tm.fit(X, labels=labels)\n",
    "\n",
    "feat_importance = tm.feat_importance\n",
    "feat_importance_std = tm.feat_importance_std\n",
    "\n",
    "print(\"Feature importance: \", feat_importance)\n",
    "print(\"Their STD: \", feat_importance_std)"
   ],
   "metadata": {
    "collapsed": false,
    "ExecuteTime": {
     "end_time": "2025-06-17T00:46:03.263772380Z",
     "start_time": "2025-06-17T00:46:00.071095370Z"
    }
   },
   "id": "674ff259d6d98a32"
  },
  {
   "cell_type": "markdown",
   "source": [
    "To obtain Monte Carlo estimates of the feature importance, the ``TreeModel().fit()`` method performs 5 rounds of model fitting and averages the feature importance across all rounds. The number of rounds can be adjusted using the ``n_rounds`` (default=5) parameter:"
   ],
   "metadata": {
    "collapsed": false
   },
   "id": "565f4435696dbf3e"
  },
  {
   "cell_type": "code",
   "execution_count": 3,
   "outputs": [
    {
     "name": "stdout",
     "output_type": "stream",
     "text": [
      "Feature importance:  [ 7.307  8.944 11.914 12.237 10.92   6.139  7.903  8.776 10.644 15.215]\n",
      "Their STD:  [0. 0. 0. 0. 0. 0. 0. 0. 0. 0.]\n"
     ]
    }
   ],
   "source": [
    "tm = aa.TreeModel()\n",
    "tm.fit(X, labels=labels, n_rounds=1)\n",
    "\n",
    "feat_importance = tm.feat_importance\n",
    "feat_importance_std = tm.feat_importance_std\n",
    "\n",
    "print(\"Feature importance: \", feat_importance)\n",
    "print(\"Their STD: \", feat_importance_std)"
   ],
   "metadata": {
    "collapsed": false,
    "ExecuteTime": {
     "end_time": "2025-06-17T00:46:03.778481510Z",
     "start_time": "2025-06-17T00:46:03.267834752Z"
    }
   },
   "id": "d9d6fa8e6a0f6fdb"
  },
  {
   "cell_type": "markdown",
   "source": [
    "Moreover, it applies a recursive feature elimination (RFE) algorithm, which can be disabled by setting ``use_rfe=False``:"
   ],
   "metadata": {
    "collapsed": false
   },
   "id": "2c341aebf03fdcb"
  },
  {
   "cell_type": "code",
   "execution_count": 4,
   "outputs": [
    {
     "name": "stdout",
     "output_type": "stream",
     "text": [
      "Feature importance:  [ 6.054 10.371 11.681 11.519 10.112  6.028  8.332  9.352 10.814 15.738]\n"
     ]
    }
   ],
   "source": [
    "tm.fit(X, labels=labels, use_rfe=False)\n",
    "feat_importance = tm.feat_importance\n",
    "print(\"Feature importance: \", feat_importance)"
   ],
   "metadata": {
    "collapsed": false,
    "ExecuteTime": {
     "end_time": "2025-06-17T00:46:06.181616922Z",
     "start_time": "2025-06-17T00:46:03.815230319Z"
    }
   },
   "id": "c93268378a29585c"
  },
  {
   "cell_type": "markdown",
   "source": [
    "The number of features selected per round is controlled by the ``n_feat_min`` and ``n_feat_max`` parameters:"
   ],
   "metadata": {
    "collapsed": false
   },
   "id": "fba4bddfdc440c20"
  },
  {
   "cell_type": "code",
   "execution_count": 5,
   "outputs": [
    {
     "name": "stdout",
     "output_type": "stream",
     "text": [
      "Feature importance:  [ 6.471 10.085 11.328 12.093  9.88   5.853  8.283  9.282 10.995 15.731]\n"
     ]
    }
   ],
   "source": [
    "tm.fit(X, labels=labels, n_feat_min=1, n_feat_max=3)\n",
    "feat_importance = tm.feat_importance\n",
    "print(\"Feature importance: \", feat_importance)"
   ],
   "metadata": {
    "collapsed": false,
    "ExecuteTime": {
     "end_time": "2025-06-17T00:46:08.495300853Z",
     "start_time": "2025-06-17T00:46:06.186863992Z"
    }
   },
   "id": "b9d508673003bd0e"
  },
  {
   "cell_type": "markdown",
   "source": [
    "The performance measure for the evaluation during each RFE iteration can be set by the ``metric`` parameter (default=``accuracy``):"
   ],
   "metadata": {
    "collapsed": false
   },
   "id": "8f7ff79b77db6055"
  },
  {
   "cell_type": "code",
   "execution_count": 6,
   "outputs": [
    {
     "name": "stdout",
     "output_type": "stream",
     "text": [
      "Feature importance:  [ 7.18   9.461 11.579 12.39   9.407  6.258  8.293  9.634 11.201 14.599]\n"
     ]
    }
   ],
   "source": [
    "tm.fit(X, labels=labels, metric=\"recall\")\n",
    "feat_importance = tm.feat_importance\n",
    "print(\"Feature importance: \", feat_importance)"
   ],
   "metadata": {
    "collapsed": false,
    "ExecuteTime": {
     "end_time": "2025-06-17T00:46:10.718724276Z",
     "start_time": "2025-06-17T00:46:08.537841545Z"
    }
   },
   "id": "d9b6bbdbb25e0308"
  },
  {
   "cell_type": "markdown",
   "source": [
    "The features eliminated in each step is controlled by the ``step`` parameter (default=1), which can be set to ``None`` to remove in each iteration all features with the lowest importance. This offers a faster but less precise approach:"
   ],
   "metadata": {
    "collapsed": false
   },
   "id": "b77721491d3213d5"
  },
  {
   "cell_type": "code",
   "execution_count": 7,
   "outputs": [
    {
     "name": "stdout",
     "output_type": "stream",
     "text": [
      "Feature importance:  [ 6.955  9.854 11.818 12.225  9.785  5.923  7.901  9.162 11.722 14.654]\n"
     ]
    }
   ],
   "source": [
    "tm.fit(X, labels=labels, step=None)\n",
    "feat_importance = tm.feat_importance\n",
    "print(\"Feature importance: \", feat_importance)"
   ],
   "metadata": {
    "collapsed": false,
    "ExecuteTime": {
     "end_time": "2025-06-17T00:46:13.117852350Z",
     "start_time": "2025-06-17T00:46:10.770165213Z"
    }
   },
   "id": "56c88a441ea58e1e"
  }
 ],
 "metadata": {
  "kernelspec": {
   "display_name": "Python 3",
   "language": "python",
   "name": "python3"
  },
  "language_info": {
   "codemirror_mode": {
    "name": "ipython",
    "version": 2
   },
   "file_extension": ".py",
   "mimetype": "text/x-python",
   "name": "python",
   "nbconvert_exporter": "python",
   "pygments_lexer": "ipython2",
   "version": "2.7.6"
  }
 },
 "nbformat": 4,
 "nbformat_minor": 5
}
