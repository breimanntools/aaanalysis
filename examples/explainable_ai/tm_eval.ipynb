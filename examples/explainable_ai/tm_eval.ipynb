{
 "cells": [
  {
   "cell_type": "markdown",
   "source": [
    "To demonstrate the ``TreeModel().eval()``method, we obtain the ``DOM_GSEC`` example dataset and its respective feature set (see [Breimann25a]_):"
   ],
   "metadata": {
    "collapsed": false
   },
   "id": "e462948a88c24701"
  },
  {
   "cell_type": "code",
   "execution_count": 1,
   "outputs": [],
   "source": [
    "import aaanalysis as aa\n",
    "aa.options[\"verbose\"] = False # Disable verbosity\n",
    "\n",
    "df_seq = aa.load_dataset(name=\"DOM_GSEC\")\n",
    "labels = df_seq[\"label\"].to_list()\n",
    "df_feat = aa.load_features(name=\"DOM_GSEC\").head(100)\n",
    "\n",
    "# Create feature matrix\n",
    "sf = aa.SequenceFeature()\n",
    "df_parts = sf.get_df_parts(df_seq=df_seq)\n",
    "X = sf.feature_matrix(features=df_feat[\"feature\"], df_parts=df_parts)"
   ],
   "metadata": {
    "collapsed": false,
    "ExecuteTime": {
     "end_time": "2025-06-17T00:44:58.080321180Z",
     "start_time": "2025-06-17T00:44:54.584417049Z"
    }
   },
   "id": "52c1fba0507d7311"
  },
  {
   "cell_type": "markdown",
   "source": [
    "We can now create two feature selections using the ``is_preselected`` parameter of the ``TreeModel`` class and its ``.fit()`` method:"
   ],
   "metadata": {
    "collapsed": false
   },
   "id": "97d4e18360e3e538"
  },
  {
   "cell_type": "code",
   "execution_count": 2,
   "outputs": [],
   "source": [
    "import numpy as np\n",
    "\n",
    "tm = aa.TreeModel()\n",
    "is_selected = tm.fit(X=X, labels=labels).is_selected_\n",
    "\n",
    "# Pre-selected from top 20\n",
    "is_preselected_top20 = np.asarray(df_feat.index < 20)\n",
    "tm = aa.TreeModel(is_preselected=is_preselected_top20)\n",
    "is_selected_top20 = tm.fit(X=X, labels=labels).is_selected_"
   ],
   "metadata": {
    "collapsed": false,
    "ExecuteTime": {
     "end_time": "2025-06-17T00:45:02.713042516Z",
     "start_time": "2025-06-17T00:44:58.090739329Z"
    }
   },
   "id": "33c3e6ba39dbd517"
  },
  {
   "cell_type": "markdown",
   "source": [
    "To evaluate different feature selections, provide ``X``, ``labels``, and the feature selection in terms of boolean 2D arrays using the ``list_is_selected`` parameters:"
   ],
   "metadata": {
    "collapsed": false
   },
   "id": "cbfeea35db2fe6e5"
  },
  {
   "cell_type": "code",
   "execution_count": 3,
   "outputs": [
    {
     "data": {
      "text/plain": "<IPython.core.display.HTML object>",
      "text/html": "<style type=\"text/css\">\n#T_058cf thead th {\n  background-color: white;\n  color: black;\n}\n#T_058cf tbody tr:nth-child(odd) {\n  background-color: #f2f2f2;\n}\n#T_058cf tbody tr:nth-child(even) {\n  background-color: white;\n}\n#T_058cf th {\n  padding: 5px;\n  white-space: nowrap;\n}\n#T_058cf  td {\n  padding: 5px;\n  white-space: nowrap;\n}\n</style>\n<table id=\"T_058cf\" style='display:block; max-height: 300px; max-width: 100%; overflow-x: auto; overflow-y: auto;'>\n  <thead>\n    <tr>\n      <th class=\"blank level0\" >&nbsp;</th>\n      <th id=\"T_058cf_level0_col0\" class=\"col_heading level0 col0\" >name</th>\n      <th id=\"T_058cf_level0_col1\" class=\"col_heading level0 col1\" >accuracy</th>\n      <th id=\"T_058cf_level0_col2\" class=\"col_heading level0 col2\" >precision</th>\n      <th id=\"T_058cf_level0_col3\" class=\"col_heading level0 col3\" >recall</th>\n      <th id=\"T_058cf_level0_col4\" class=\"col_heading level0 col4\" >f1</th>\n    </tr>\n  </thead>\n  <tbody>\n    <tr>\n      <th id=\"T_058cf_level0_row0\" class=\"row_heading level0 row0\" >1</th>\n      <td id=\"T_058cf_row0_col0\" class=\"data row0 col0\" >Set 1</td>\n      <td id=\"T_058cf_row0_col1\" class=\"data row0 col1\" >0.863500</td>\n      <td id=\"T_058cf_row0_col2\" class=\"data row0 col2\" >0.846300</td>\n      <td id=\"T_058cf_row0_col3\" class=\"data row0 col3\" >0.895000</td>\n      <td id=\"T_058cf_row0_col4\" class=\"data row0 col4\" >0.865000</td>\n    </tr>\n    <tr>\n      <th id=\"T_058cf_level0_row1\" class=\"row_heading level0 row1\" >2</th>\n      <td id=\"T_058cf_row1_col0\" class=\"data row1 col0\" >Set 2</td>\n      <td id=\"T_058cf_row1_col1\" class=\"data row1 col1\" >0.814900</td>\n      <td id=\"T_058cf_row1_col2\" class=\"data row1 col2\" >0.814500</td>\n      <td id=\"T_058cf_row1_col3\" class=\"data row1 col3\" >0.833300</td>\n      <td id=\"T_058cf_row1_col4\" class=\"data row1 col4\" >0.822000</td>\n    </tr>\n  </tbody>\n</table>\n"
     },
     "metadata": {},
     "output_type": "display_data"
    }
   ],
   "source": [
    "list_is_selected = [is_selected, is_selected_top20]\n",
    "df_eval = tm.eval(X, labels=labels, list_is_selected=list_is_selected)\n",
    "aa.display_df(df_eval)"
   ],
   "metadata": {
    "collapsed": false,
    "ExecuteTime": {
     "end_time": "2025-06-17T00:46:37.709181913Z",
     "start_time": "2025-06-17T00:45:02.721777475Z"
    }
   },
   "id": "e87c3bd3b3391add"
  },
  {
   "cell_type": "markdown",
   "source": [
    "You can also use 1D boolean masks by setting ``convert_1d_to_2d=True``. To demonstrate this we create three different boolean masks based on different scale categories:"
   ],
   "metadata": {
    "collapsed": false
   },
   "id": "399308ef421efc65"
  },
  {
   "cell_type": "code",
   "execution_count": 4,
   "outputs": [
    {
     "data": {
      "text/plain": "<IPython.core.display.HTML object>",
      "text/html": "<style type=\"text/css\">\n#T_2b0b9 thead th {\n  background-color: white;\n  color: black;\n}\n#T_2b0b9 tbody tr:nth-child(odd) {\n  background-color: #f2f2f2;\n}\n#T_2b0b9 tbody tr:nth-child(even) {\n  background-color: white;\n}\n#T_2b0b9 th {\n  padding: 5px;\n  white-space: nowrap;\n}\n#T_2b0b9  td {\n  padding: 5px;\n  white-space: nowrap;\n}\n</style>\n<table id=\"T_2b0b9\" style='display:block; max-height: 300px; max-width: 100%; overflow-x: auto; overflow-y: auto;'>\n  <thead>\n    <tr>\n      <th class=\"blank level0\" >&nbsp;</th>\n      <th id=\"T_2b0b9_level0_col0\" class=\"col_heading level0 col0\" >name</th>\n      <th id=\"T_2b0b9_level0_col1\" class=\"col_heading level0 col1\" >accuracy</th>\n      <th id=\"T_2b0b9_level0_col2\" class=\"col_heading level0 col2\" >precision</th>\n      <th id=\"T_2b0b9_level0_col3\" class=\"col_heading level0 col3\" >recall</th>\n      <th id=\"T_2b0b9_level0_col4\" class=\"col_heading level0 col4\" >f1</th>\n    </tr>\n  </thead>\n  <tbody>\n    <tr>\n      <th id=\"T_2b0b9_level0_row0\" class=\"row_heading level0 row0\" >1</th>\n      <td id=\"T_2b0b9_row0_col0\" class=\"data row0 col0\" >Set 1</td>\n      <td id=\"T_2b0b9_row0_col1\" class=\"data row0 col1\" >0.813800</td>\n      <td id=\"T_2b0b9_row0_col2\" class=\"data row0 col2\" >0.839500</td>\n      <td id=\"T_2b0b9_row0_col3\" class=\"data row0 col3\" >0.817900</td>\n      <td id=\"T_2b0b9_row0_col4\" class=\"data row0 col4\" >0.821900</td>\n    </tr>\n    <tr>\n      <th id=\"T_2b0b9_level0_row1\" class=\"row_heading level0 row1\" >2</th>\n      <td id=\"T_2b0b9_row1_col0\" class=\"data row1 col0\" >Set 2</td>\n      <td id=\"T_2b0b9_row1_col1\" class=\"data row1 col1\" >0.838500</td>\n      <td id=\"T_2b0b9_row1_col2\" class=\"data row1 col2\" >0.854700</td>\n      <td id=\"T_2b0b9_row1_col3\" class=\"data row1 col3\" >0.867300</td>\n      <td id=\"T_2b0b9_row1_col4\" class=\"data row1 col4\" >0.840300</td>\n    </tr>\n    <tr>\n      <th id=\"T_2b0b9_level0_row2\" class=\"row_heading level0 row2\" >3</th>\n      <td id=\"T_2b0b9_row2_col0\" class=\"data row2 col0\" >Set 3</td>\n      <td id=\"T_2b0b9_row2_col1\" class=\"data row2 col1\" >0.825700</td>\n      <td id=\"T_2b0b9_row2_col2\" class=\"data row2 col2\" >0.822600</td>\n      <td id=\"T_2b0b9_row2_col3\" class=\"data row2 col3\" >0.866700</td>\n      <td id=\"T_2b0b9_row2_col4\" class=\"data row2 col4\" >0.826100</td>\n    </tr>\n  </tbody>\n</table>\n"
     },
     "metadata": {},
     "output_type": "display_data"
    }
   ],
   "source": [
    "mask_volume = np.asarray(df_feat[\"category\"] == \"ASA/Volume\")\n",
    "mask_conformation = np.asarray(df_feat[\"category\"] == \"Conformation\")\n",
    "mask_energy = np.asarray(df_feat[\"category\"] == \"Energy\")\n",
    "\n",
    "list_is_selected = [mask_volume, mask_conformation, mask_energy]\n",
    "df_eval = tm.eval(X, labels=labels, list_is_selected=list_is_selected, convert_1d_to_2d=True)\n",
    "aa.display_df(df_eval)"
   ],
   "metadata": {
    "collapsed": false,
    "ExecuteTime": {
     "end_time": "2025-06-17T00:47:03.744113019Z",
     "start_time": "2025-06-17T00:46:37.668794005Z"
    }
   },
   "id": "464cc7bb4362a735"
  },
  {
   "cell_type": "markdown",
   "source": [
    "Provide the names of the feature selections using the ``names_feature_selections`` parameter:"
   ],
   "metadata": {
    "collapsed": false
   },
   "id": "f499794f2ce5cc58"
  },
  {
   "cell_type": "code",
   "execution_count": 5,
   "outputs": [
    {
     "data": {
      "text/plain": "<IPython.core.display.HTML object>",
      "text/html": "<style type=\"text/css\">\n#T_de42e thead th {\n  background-color: white;\n  color: black;\n}\n#T_de42e tbody tr:nth-child(odd) {\n  background-color: #f2f2f2;\n}\n#T_de42e tbody tr:nth-child(even) {\n  background-color: white;\n}\n#T_de42e th {\n  padding: 5px;\n  white-space: nowrap;\n}\n#T_de42e  td {\n  padding: 5px;\n  white-space: nowrap;\n}\n</style>\n<table id=\"T_de42e\" style='display:block; max-height: 300px; max-width: 100%; overflow-x: auto; overflow-y: auto;'>\n  <thead>\n    <tr>\n      <th class=\"blank level0\" >&nbsp;</th>\n      <th id=\"T_de42e_level0_col0\" class=\"col_heading level0 col0\" >name</th>\n      <th id=\"T_de42e_level0_col1\" class=\"col_heading level0 col1\" >accuracy</th>\n      <th id=\"T_de42e_level0_col2\" class=\"col_heading level0 col2\" >precision</th>\n      <th id=\"T_de42e_level0_col3\" class=\"col_heading level0 col3\" >recall</th>\n      <th id=\"T_de42e_level0_col4\" class=\"col_heading level0 col4\" >f1</th>\n    </tr>\n  </thead>\n  <tbody>\n    <tr>\n      <th id=\"T_de42e_level0_row0\" class=\"row_heading level0 row0\" >1</th>\n      <td id=\"T_de42e_row0_col0\" class=\"data row0 col0\" >ASA/Volume</td>\n      <td id=\"T_de42e_row0_col1\" class=\"data row0 col1\" >0.834000</td>\n      <td id=\"T_de42e_row0_col2\" class=\"data row0 col2\" >0.821600</td>\n      <td id=\"T_de42e_row0_col3\" class=\"data row0 col3\" >0.802600</td>\n      <td id=\"T_de42e_row0_col4\" class=\"data row0 col4\" >0.820800</td>\n    </tr>\n    <tr>\n      <th id=\"T_de42e_level0_row1\" class=\"row_heading level0 row1\" >2</th>\n      <td id=\"T_de42e_row1_col0\" class=\"data row1 col0\" >Conformation</td>\n      <td id=\"T_de42e_row1_col1\" class=\"data row1 col1\" >0.838300</td>\n      <td id=\"T_de42e_row1_col2\" class=\"data row1 col2\" >0.853400</td>\n      <td id=\"T_de42e_row1_col3\" class=\"data row1 col3\" >0.906400</td>\n      <td id=\"T_de42e_row1_col4\" class=\"data row1 col4\" >0.854700</td>\n    </tr>\n    <tr>\n      <th id=\"T_de42e_level0_row2\" class=\"row_heading level0 row2\" >3</th>\n      <td id=\"T_de42e_row2_col0\" class=\"data row2 col0\" >Energy</td>\n      <td id=\"T_de42e_row2_col1\" class=\"data row2 col1\" >0.829700</td>\n      <td id=\"T_de42e_row2_col2\" class=\"data row2 col2\" >0.839400</td>\n      <td id=\"T_de42e_row2_col3\" class=\"data row2 col3\" >0.834000</td>\n      <td id=\"T_de42e_row2_col4\" class=\"data row2 col4\" >0.820900</td>\n    </tr>\n  </tbody>\n</table>\n"
     },
     "metadata": {},
     "output_type": "display_data"
    }
   ],
   "source": [
    "names_feature_selections = [\"ASA/Volume\", \"Conformation\", \"Energy\"]\n",
    "df_eval = tm.eval(X, labels=labels, list_is_selected=list_is_selected, convert_1d_to_2d=True, names_feature_selections=names_feature_selections)\n",
    "aa.display_df(df_eval)"
   ],
   "metadata": {
    "collapsed": false,
    "ExecuteTime": {
     "end_time": "2025-06-17T00:47:30.478255338Z",
     "start_time": "2025-06-17T00:47:03.744270017Z"
    }
   },
   "id": "e5dc86b6b1f19f21"
  },
  {
   "cell_type": "markdown",
   "source": [
    "The evaluation strategy can be adjusting by changing the number cross-validation folds (``n_cv``, default=5) and the scoring metrics via the ``list_metrics`` parameter (default=[\"accuracy\", \"recall\", \"precision\", \"f1\"]):"
   ],
   "metadata": {
    "collapsed": false
   },
   "id": "cfea9d6793508df2"
  },
  {
   "cell_type": "code",
   "execution_count": 6,
   "outputs": [
    {
     "data": {
      "text/plain": "<IPython.core.display.HTML object>",
      "text/html": "<style type=\"text/css\">\n#T_81926 thead th {\n  background-color: white;\n  color: black;\n}\n#T_81926 tbody tr:nth-child(odd) {\n  background-color: #f2f2f2;\n}\n#T_81926 tbody tr:nth-child(even) {\n  background-color: white;\n}\n#T_81926 th {\n  padding: 5px;\n  white-space: nowrap;\n}\n#T_81926  td {\n  padding: 5px;\n  white-space: nowrap;\n}\n</style>\n<table id=\"T_81926\" style='display:block; max-height: 300px; max-width: 100%; overflow-x: auto; overflow-y: auto;'>\n  <thead>\n    <tr>\n      <th class=\"blank level0\" >&nbsp;</th>\n      <th id=\"T_81926_level0_col0\" class=\"col_heading level0 col0\" >name</th>\n      <th id=\"T_81926_level0_col1\" class=\"col_heading level0 col1\" >balanced_accuracy</th>\n      <th id=\"T_81926_level0_col2\" class=\"col_heading level0 col2\" >roc_auc</th>\n    </tr>\n  </thead>\n  <tbody>\n    <tr>\n      <th id=\"T_81926_level0_row0\" class=\"row_heading level0 row0\" >1</th>\n      <td id=\"T_81926_row0_col0\" class=\"data row0 col0\" >Set 1</td>\n      <td id=\"T_81926_row0_col1\" class=\"data row0 col1\" >0.834900</td>\n      <td id=\"T_81926_row0_col2\" class=\"data row0 col2\" >0.886700</td>\n    </tr>\n    <tr>\n      <th id=\"T_81926_level0_row1\" class=\"row_heading level0 row1\" >2</th>\n      <td id=\"T_81926_row1_col0\" class=\"data row1 col0\" >Set 2</td>\n      <td id=\"T_81926_row1_col1\" class=\"data row1 col1\" >0.840100</td>\n      <td id=\"T_81926_row1_col2\" class=\"data row1 col2\" >0.954400</td>\n    </tr>\n    <tr>\n      <th id=\"T_81926_level0_row2\" class=\"row_heading level0 row2\" >3</th>\n      <td id=\"T_81926_row2_col0\" class=\"data row2 col0\" >Set 3</td>\n      <td id=\"T_81926_row2_col1\" class=\"data row2 col1\" >0.832100</td>\n      <td id=\"T_81926_row2_col2\" class=\"data row2 col2\" >0.911800</td>\n    </tr>\n  </tbody>\n</table>\n"
     },
     "metadata": {},
     "output_type": "display_data"
    }
   ],
   "source": [
    "list_metrics = [\"balanced_accuracy\", \"roc_auc\"]\n",
    "df_eval = tm.eval(X, labels=labels, list_is_selected=list_is_selected, convert_1d_to_2d=True, list_metrics=list_metrics)\n",
    "aa.display_df(df_eval)"
   ],
   "metadata": {
    "collapsed": false,
    "ExecuteTime": {
     "end_time": "2025-06-17T00:47:43.339262161Z",
     "start_time": "2025-06-17T00:47:30.500521462Z"
    }
   },
   "id": "1a06edca812f75c2"
  }
 ],
 "metadata": {
  "kernelspec": {
   "display_name": "Python 3",
   "language": "python",
   "name": "python3"
  },
  "language_info": {
   "codemirror_mode": {
    "name": "ipython",
    "version": 2
   },
   "file_extension": ".py",
   "mimetype": "text/x-python",
   "name": "python",
   "nbconvert_exporter": "python",
   "pygments_lexer": "ipython2",
   "version": "2.7.6"
  }
 },
 "nbformat": 4,
 "nbformat_minor": 5
}
