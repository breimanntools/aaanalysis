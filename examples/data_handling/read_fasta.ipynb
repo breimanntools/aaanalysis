{
 "cells": [
  {
   "cell_type": "markdown",
   "source": [
    "You can read FASTA files using the ``read_fasta()`` function:"
   ],
   "metadata": {
    "collapsed": false
   },
   "id": "f204a08b42e761b5"
  },
  {
   "cell_type": "code",
   "execution_count": 6,
   "outputs": [
    {
     "data": {
      "text/plain": "<IPython.core.display.HTML object>",
      "text/html": "<style type=\"text/css\">\n#T_8c2bb thead th {\n  background-color: white;\n  color: black;\n}\n#T_8c2bb tbody tr:nth-child(odd) {\n  background-color: #f2f2f2;\n}\n#T_8c2bb tbody tr:nth-child(even) {\n  background-color: white;\n}\n#T_8c2bb th {\n  padding: 5px;\n  white-space: nowrap;\n}\n#T_8c2bb  td {\n  padding: 5px;\n  white-space: nowrap;\n}\n</style>\n<table id=\"T_8c2bb\" style='display:block; max-height: 300px; max-width: 100%; overflow-x: auto; overflow-y: auto;'>\n  <thead>\n    <tr>\n      <th class=\"blank level0\" >&nbsp;</th>\n      <th id=\"T_8c2bb_level0_col0\" class=\"col_heading level0 col0\" >entry</th>\n      <th id=\"T_8c2bb_level0_col1\" class=\"col_heading level0 col1\" >sequence</th>\n    </tr>\n  </thead>\n  <tbody>\n    <tr>\n      <th id=\"T_8c2bb_level0_row0\" class=\"row_heading level0 row0\" >1</th>\n      <td id=\"T_8c2bb_row0_col0\" class=\"data row0 col0\" >SEMA4A,38.4</td>\n      <td id=\"T_8c2bb_row0_col1\" class=\"data row0 col1\" >LAAQQSYWPHFVTVT...IILVASPLRALRARG</td>\n    </tr>\n    <tr>\n      <th id=\"T_8c2bb_level0_row1\" class=\"row_heading level0 row1\" >2</th>\n      <td id=\"T_8c2bb_row1_col0\" class=\"data row1 col0\" >SEMA4B,47.0</td>\n      <td id=\"T_8c2bb_row1_col1\" class=\"data row1 col1\" >WGADRSYWKEFLVMC...LFLLYRHRNSMKVFL</td>\n    </tr>\n    <tr>\n      <th id=\"T_8c2bb_level0_row2\" class=\"row_heading level0 row2\" >3</th>\n      <td id=\"T_8c2bb_row2_col0\" class=\"data row2 col0\" >SEMA4C,86.6</td>\n      <td id=\"T_8c2bb_row2_col1\" class=\"data row2 col1\" >EARAPLENLGLVWLA...LLLVLSLRRRLREEL</td>\n    </tr>\n    <tr>\n      <th id=\"T_8c2bb_level0_row3\" class=\"row_heading level0 row3\" >4</th>\n      <td id=\"T_8c2bb_row3_col0\" class=\"data row3 col0\" >SEMA4D,19.1</td>\n      <td id=\"T_8c2bb_row3_col1\" class=\"data row3 col1\" >TMYLKSSDNRLLMSL...FFYNCYKGYLPRQCL</td>\n    </tr>\n  </tbody>\n</table>\n"
     },
     "metadata": {},
     "output_type": "display_data"
    }
   ],
   "source": [
    "import aaanalysis as aa\n",
    "file_path = \"data/example_FASTA.fasta\"\n",
    "df_seq = aa.read_fasta(file_path)\n",
    "aa.display_df(df_seq, n_rows=4)"
   ],
   "metadata": {
    "collapsed": false,
    "ExecuteTime": {
     "end_time": "2025-06-17T00:32:50.723607560Z",
     "start_time": "2025-06-17T00:32:50.722374982Z"
    }
   },
   "id": "6221c1f3f94b587"
  },
  {
   "cell_type": "markdown",
   "source": [
    "To adjust the names of the columns for the primary FASTA file information, use the ``col_id`` and ``col_seq`` parameters:"
   ],
   "metadata": {
    "collapsed": false
   },
   "id": "6195ed555b5e7680"
  },
  {
   "cell_type": "code",
   "execution_count": 7,
   "outputs": [
    {
     "data": {
      "text/plain": "<IPython.core.display.HTML object>",
      "text/html": "<style type=\"text/css\">\n#T_8127d thead th {\n  background-color: white;\n  color: black;\n}\n#T_8127d tbody tr:nth-child(odd) {\n  background-color: #f2f2f2;\n}\n#T_8127d tbody tr:nth-child(even) {\n  background-color: white;\n}\n#T_8127d th {\n  padding: 5px;\n  white-space: nowrap;\n}\n#T_8127d  td {\n  padding: 5px;\n  white-space: nowrap;\n}\n</style>\n<table id=\"T_8127d\" style='display:block; max-height: 300px; max-width: 100%; overflow-x: auto; overflow-y: auto;'>\n  <thead>\n    <tr>\n      <th class=\"blank level0\" >&nbsp;</th>\n      <th id=\"T_8127d_level0_col0\" class=\"col_heading level0 col0\" >ENTRY</th>\n      <th id=\"T_8127d_level0_col1\" class=\"col_heading level0 col1\" >SEQUENCE</th>\n    </tr>\n  </thead>\n  <tbody>\n    <tr>\n      <th id=\"T_8127d_level0_row0\" class=\"row_heading level0 row0\" >1</th>\n      <td id=\"T_8127d_row0_col0\" class=\"data row0 col0\" >SEMA4A,38.4</td>\n      <td id=\"T_8127d_row0_col1\" class=\"data row0 col1\" >LAAQQSYWPHFVTVT...IILVASPLRALRARG</td>\n    </tr>\n    <tr>\n      <th id=\"T_8127d_level0_row1\" class=\"row_heading level0 row1\" >2</th>\n      <td id=\"T_8127d_row1_col0\" class=\"data row1 col0\" >SEMA4B,47.0</td>\n      <td id=\"T_8127d_row1_col1\" class=\"data row1 col1\" >WGADRSYWKEFLVMC...LFLLYRHRNSMKVFL</td>\n    </tr>\n    <tr>\n      <th id=\"T_8127d_level0_row2\" class=\"row_heading level0 row2\" >3</th>\n      <td id=\"T_8127d_row2_col0\" class=\"data row2 col0\" >SEMA4C,86.6</td>\n      <td id=\"T_8127d_row2_col1\" class=\"data row2 col1\" >EARAPLENLGLVWLA...LLLVLSLRRRLREEL</td>\n    </tr>\n    <tr>\n      <th id=\"T_8127d_level0_row3\" class=\"row_heading level0 row3\" >4</th>\n      <td id=\"T_8127d_row3_col0\" class=\"data row3 col0\" >SEMA4D,19.1</td>\n      <td id=\"T_8127d_row3_col1\" class=\"data row3 col1\" >TMYLKSSDNRLLMSL...FFYNCYKGYLPRQCL</td>\n    </tr>\n  </tbody>\n</table>\n"
     },
     "metadata": {},
     "output_type": "display_data"
    }
   ],
   "source": [
    "df_seq = aa.read_fasta(file_path, col_id=\"ENTRY\", col_seq=\"SEQUENCE\")\n",
    "aa.display_df(df_seq, n_rows=4)"
   ],
   "metadata": {
    "collapsed": false,
    "ExecuteTime": {
     "end_time": "2025-06-17T00:32:50.785030793Z",
     "start_time": "2025-06-17T00:32:50.722711193Z"
    }
   },
   "id": "8d4c33fedb070859"
  },
  {
   "cell_type": "markdown",
   "source": [
    "The ``col_id`` column should only contain the unique identifier. If the FASTA file comprises additional information, use the ``sep`` (default='|') argument to save them in additional columns, named ``info1`` to ``info(n)``:"
   ],
   "metadata": {
    "collapsed": false
   },
   "id": "d0ed30c599bcde82"
  },
  {
   "cell_type": "code",
   "execution_count": 8,
   "outputs": [
    {
     "data": {
      "text/plain": "<IPython.core.display.HTML object>",
      "text/html": "<style type=\"text/css\">\n#T_948d8 thead th {\n  background-color: white;\n  color: black;\n}\n#T_948d8 tbody tr:nth-child(odd) {\n  background-color: #f2f2f2;\n}\n#T_948d8 tbody tr:nth-child(even) {\n  background-color: white;\n}\n#T_948d8 th {\n  padding: 5px;\n  white-space: nowrap;\n}\n#T_948d8  td {\n  padding: 5px;\n  white-space: nowrap;\n}\n</style>\n<table id=\"T_948d8\" style='display:block; max-height: 300px; max-width: 100%; overflow-x: auto; overflow-y: auto;'>\n  <thead>\n    <tr>\n      <th class=\"blank level0\" >&nbsp;</th>\n      <th id=\"T_948d8_level0_col0\" class=\"col_heading level0 col0\" >entry</th>\n      <th id=\"T_948d8_level0_col1\" class=\"col_heading level0 col1\" >sequence</th>\n      <th id=\"T_948d8_level0_col2\" class=\"col_heading level0 col2\" >info1</th>\n    </tr>\n  </thead>\n  <tbody>\n    <tr>\n      <th id=\"T_948d8_level0_row0\" class=\"row_heading level0 row0\" >1</th>\n      <td id=\"T_948d8_row0_col0\" class=\"data row0 col0\" >SEMA4A</td>\n      <td id=\"T_948d8_row0_col1\" class=\"data row0 col1\" >LAAQQSYWPHFVTVT...IILVASPLRALRARG</td>\n      <td id=\"T_948d8_row0_col2\" class=\"data row0 col2\" >38.4</td>\n    </tr>\n    <tr>\n      <th id=\"T_948d8_level0_row1\" class=\"row_heading level0 row1\" >2</th>\n      <td id=\"T_948d8_row1_col0\" class=\"data row1 col0\" >SEMA4B</td>\n      <td id=\"T_948d8_row1_col1\" class=\"data row1 col1\" >WGADRSYWKEFLVMC...LFLLYRHRNSMKVFL</td>\n      <td id=\"T_948d8_row1_col2\" class=\"data row1 col2\" >47.0</td>\n    </tr>\n    <tr>\n      <th id=\"T_948d8_level0_row2\" class=\"row_heading level0 row2\" >3</th>\n      <td id=\"T_948d8_row2_col0\" class=\"data row2 col0\" >SEMA4C</td>\n      <td id=\"T_948d8_row2_col1\" class=\"data row2 col1\" >EARAPLENLGLVWLA...LLLVLSLRRRLREEL</td>\n      <td id=\"T_948d8_row2_col2\" class=\"data row2 col2\" >86.6</td>\n    </tr>\n    <tr>\n      <th id=\"T_948d8_level0_row3\" class=\"row_heading level0 row3\" >4</th>\n      <td id=\"T_948d8_row3_col0\" class=\"data row3 col0\" >SEMA4D</td>\n      <td id=\"T_948d8_row3_col1\" class=\"data row3 col1\" >TMYLKSSDNRLLMSL...FFYNCYKGYLPRQCL</td>\n      <td id=\"T_948d8_row3_col2\" class=\"data row3 col2\" >19.1</td>\n    </tr>\n  </tbody>\n</table>\n"
     },
     "metadata": {},
     "output_type": "display_data"
    }
   ],
   "source": [
    "df_seq = aa.read_fasta(file_path, sep=\",\")\n",
    "aa.display_df(df_seq, n_rows=4)"
   ],
   "metadata": {
    "collapsed": false,
    "ExecuteTime": {
     "end_time": "2025-06-17T00:32:50.786019325Z",
     "start_time": "2025-06-17T00:32:50.763924903Z"
    }
   },
   "id": "c63b0719186b520e"
  },
  {
   "cell_type": "markdown",
   "source": [
    "To adjust the name of the additional columns, provide a list of column names by ``cols_info``:"
   ],
   "metadata": {
    "collapsed": false
   },
   "id": "11e7cc89b5449eff"
  },
  {
   "cell_type": "code",
   "execution_count": 9,
   "outputs": [
    {
     "data": {
      "text/plain": "<IPython.core.display.HTML object>",
      "text/html": "<style type=\"text/css\">\n#T_a6aa0 thead th {\n  background-color: white;\n  color: black;\n}\n#T_a6aa0 tbody tr:nth-child(odd) {\n  background-color: #f2f2f2;\n}\n#T_a6aa0 tbody tr:nth-child(even) {\n  background-color: white;\n}\n#T_a6aa0 th {\n  padding: 5px;\n  white-space: nowrap;\n}\n#T_a6aa0  td {\n  padding: 5px;\n  white-space: nowrap;\n}\n</style>\n<table id=\"T_a6aa0\" style='display:block; max-height: 300px; max-width: 100%; overflow-x: auto; overflow-y: auto;'>\n  <thead>\n    <tr>\n      <th class=\"blank level0\" >&nbsp;</th>\n      <th id=\"T_a6aa0_level0_col0\" class=\"col_heading level0 col0\" >entry</th>\n      <th id=\"T_a6aa0_level0_col1\" class=\"col_heading level0 col1\" >sequence</th>\n      <th id=\"T_a6aa0_level0_col2\" class=\"col_heading level0 col2\" >prediction</th>\n    </tr>\n  </thead>\n  <tbody>\n    <tr>\n      <th id=\"T_a6aa0_level0_row0\" class=\"row_heading level0 row0\" >1</th>\n      <td id=\"T_a6aa0_row0_col0\" class=\"data row0 col0\" >SEMA4A</td>\n      <td id=\"T_a6aa0_row0_col1\" class=\"data row0 col1\" >LAAQQSYWPHFVTVT...IILVASPLRALRARG</td>\n      <td id=\"T_a6aa0_row0_col2\" class=\"data row0 col2\" >38.4</td>\n    </tr>\n    <tr>\n      <th id=\"T_a6aa0_level0_row1\" class=\"row_heading level0 row1\" >2</th>\n      <td id=\"T_a6aa0_row1_col0\" class=\"data row1 col0\" >SEMA4B</td>\n      <td id=\"T_a6aa0_row1_col1\" class=\"data row1 col1\" >WGADRSYWKEFLVMC...LFLLYRHRNSMKVFL</td>\n      <td id=\"T_a6aa0_row1_col2\" class=\"data row1 col2\" >47.0</td>\n    </tr>\n    <tr>\n      <th id=\"T_a6aa0_level0_row2\" class=\"row_heading level0 row2\" >3</th>\n      <td id=\"T_a6aa0_row2_col0\" class=\"data row2 col0\" >SEMA4C</td>\n      <td id=\"T_a6aa0_row2_col1\" class=\"data row2 col1\" >EARAPLENLGLVWLA...LLLVLSLRRRLREEL</td>\n      <td id=\"T_a6aa0_row2_col2\" class=\"data row2 col2\" >86.6</td>\n    </tr>\n    <tr>\n      <th id=\"T_a6aa0_level0_row3\" class=\"row_heading level0 row3\" >4</th>\n      <td id=\"T_a6aa0_row3_col0\" class=\"data row3 col0\" >SEMA4D</td>\n      <td id=\"T_a6aa0_row3_col1\" class=\"data row3 col1\" >TMYLKSSDNRLLMSL...FFYNCYKGYLPRQCL</td>\n      <td id=\"T_a6aa0_row3_col2\" class=\"data row3 col2\" >19.1</td>\n    </tr>\n  </tbody>\n</table>\n"
     },
     "metadata": {},
     "output_type": "display_data"
    }
   ],
   "source": [
    "df_seq = aa.read_fasta(file_path, sep=\",\", cols_info=[\"prediction\"])\n",
    "aa.display_df(df_seq, n_rows=4)"
   ],
   "metadata": {
    "collapsed": false,
    "ExecuteTime": {
     "end_time": "2025-06-17T00:32:50.786802705Z",
     "start_time": "2025-06-17T00:32:50.764161284Z"
    }
   },
   "id": "1850be103c278e65"
  },
  {
   "cell_type": "markdown",
   "source": [
    "The headers of FASTA files can start with a database abbreviation (e.g., 'sp' for Swiss-Prot). To properly convert these into a database column, provide a name to the ``col_db`` parameter:"
   ],
   "metadata": {
    "collapsed": false
   },
   "id": "97037f69fc5c0803"
  },
  {
   "cell_type": "code",
   "execution_count": 10,
   "outputs": [
    {
     "data": {
      "text/plain": "<IPython.core.display.HTML object>",
      "text/html": "<style type=\"text/css\">\n#T_fb9cd thead th {\n  background-color: white;\n  color: black;\n}\n#T_fb9cd tbody tr:nth-child(odd) {\n  background-color: #f2f2f2;\n}\n#T_fb9cd tbody tr:nth-child(even) {\n  background-color: white;\n}\n#T_fb9cd th {\n  padding: 5px;\n  white-space: nowrap;\n}\n#T_fb9cd  td {\n  padding: 5px;\n  white-space: nowrap;\n}\n</style>\n<table id=\"T_fb9cd\" style='display:block; max-height: 300px; max-width: 100%; overflow-x: auto; overflow-y: auto;'>\n  <thead>\n    <tr>\n      <th class=\"blank level0\" >&nbsp;</th>\n      <th id=\"T_fb9cd_level0_col0\" class=\"col_heading level0 col0\" >entry</th>\n      <th id=\"T_fb9cd_level0_col1\" class=\"col_heading level0 col1\" >sequence</th>\n      <th id=\"T_fb9cd_level0_col2\" class=\"col_heading level0 col2\" >database</th>\n      <th id=\"T_fb9cd_level0_col3\" class=\"col_heading level0 col3\" >info1</th>\n    </tr>\n  </thead>\n  <tbody>\n    <tr>\n      <th id=\"T_fb9cd_level0_row0\" class=\"row_heading level0 row0\" >1</th>\n      <td id=\"T_fb9cd_row0_col0\" class=\"data row0 col0\" >SEMA4A</td>\n      <td id=\"T_fb9cd_row0_col1\" class=\"data row0 col1\" >LAAQQSYWPHFVTVT...IILVASPLRALRARG</td>\n      <td id=\"T_fb9cd_row0_col2\" class=\"data row0 col2\" >sp</td>\n      <td id=\"T_fb9cd_row0_col3\" class=\"data row0 col3\" >38.4</td>\n    </tr>\n    <tr>\n      <th id=\"T_fb9cd_level0_row1\" class=\"row_heading level0 row1\" >2</th>\n      <td id=\"T_fb9cd_row1_col0\" class=\"data row1 col0\" >SEMA4B</td>\n      <td id=\"T_fb9cd_row1_col1\" class=\"data row1 col1\" >WGADRSYWKEFLVMC...LFLLYRHRNSMKVFL</td>\n      <td id=\"T_fb9cd_row1_col2\" class=\"data row1 col2\" >sp</td>\n      <td id=\"T_fb9cd_row1_col3\" class=\"data row1 col3\" >47.0</td>\n    </tr>\n    <tr>\n      <th id=\"T_fb9cd_level0_row2\" class=\"row_heading level0 row2\" >3</th>\n      <td id=\"T_fb9cd_row2_col0\" class=\"data row2 col0\" >SEMA4C</td>\n      <td id=\"T_fb9cd_row2_col1\" class=\"data row2 col1\" >EARAPLENLGLVWLA...LLLVLSLRRRLREEL</td>\n      <td id=\"T_fb9cd_row2_col2\" class=\"data row2 col2\" >sp</td>\n      <td id=\"T_fb9cd_row2_col3\" class=\"data row2 col3\" >86.6</td>\n    </tr>\n    <tr>\n      <th id=\"T_fb9cd_level0_row3\" class=\"row_heading level0 row3\" >4</th>\n      <td id=\"T_fb9cd_row3_col0\" class=\"data row3 col0\" >SEMA4D</td>\n      <td id=\"T_fb9cd_row3_col1\" class=\"data row3 col1\" >TMYLKSSDNRLLMSL...FFYNCYKGYLPRQCL</td>\n      <td id=\"T_fb9cd_row3_col2\" class=\"data row3 col2\" >sp</td>\n      <td id=\"T_fb9cd_row3_col3\" class=\"data row3 col3\" >19.1</td>\n    </tr>\n  </tbody>\n</table>\n"
     },
     "metadata": {},
     "output_type": "display_data"
    }
   ],
   "source": [
    "file_path = \"data/example_FASTA_db.fasta\"\n",
    "df_seq = aa.read_fasta(file_path, col_db=\"database\", sep=\",\")\n",
    "aa.display_df(df_seq, n_rows=4)"
   ],
   "metadata": {
    "collapsed": false,
    "ExecuteTime": {
     "end_time": "2025-06-17T00:32:50.805429767Z",
     "start_time": "2025-06-17T00:32:50.764300357Z"
    }
   },
   "id": "47b9fc8f87c8d72f"
  }
 ],
 "metadata": {
  "kernelspec": {
   "display_name": "Python 3",
   "language": "python",
   "name": "python3"
  },
  "language_info": {
   "codemirror_mode": {
    "name": "ipython",
    "version": 2
   },
   "file_extension": ".py",
   "mimetype": "text/x-python",
   "name": "python",
   "nbconvert_exporter": "python",
   "pygments_lexer": "ipython2",
   "version": "2.7.6"
  }
 },
 "nbformat": 4,
 "nbformat_minor": 5
}
