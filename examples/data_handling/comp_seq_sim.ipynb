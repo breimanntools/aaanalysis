{
 "cells": [
  {
   "cell_type": "markdown",
   "source": [
    "You can compute the pairwise sequence similarity between two sequences using the features  ``comput_seq_sim()`` function:"
   ],
   "metadata": {
    "collapsed": false
   },
   "id": "b78d962562ea92b2"
  },
  {
   "cell_type": "code",
   "execution_count": 1,
   "outputs": [
    {
     "name": "stdout",
     "output_type": "stream",
     "text": [
      "50.0\n"
     ]
    }
   ],
   "source": [
    "import aaanalysis as aa\n",
    "aa.options[\"verbose\"] = False\n",
    "\n",
    "seq1 = \"GTGGHWWW\"\n",
    "seq2 = \"GTGGHFALSE\"\n",
    "\n",
    "# Compute similarity between two sequences \n",
    "seq_sim = aa.comp_seq_sim(seq1=seq1, seq2=seq2)\n",
    "print(seq_sim)"
   ],
   "metadata": {
    "collapsed": false,
    "ExecuteTime": {
     "end_time": "2025-06-17T00:29:56.866833008Z",
     "start_time": "2025-06-17T00:29:53.551213774Z"
    }
   },
   "id": "b90cefe2cd1ee6c4"
  },
  {
   "cell_type": "markdown",
   "source": [
    "To compute the similarity between all pairs of sequences from a DataFrame, you can use the ``df_seq`` parameter: "
   ],
   "metadata": {
    "collapsed": false
   },
   "id": "fa314332970936a"
  },
  {
   "cell_type": "code",
   "execution_count": 8,
   "outputs": [
    {
     "data": {
      "text/plain": "<IPython.core.display.HTML object>",
      "text/html": "<style type=\"text/css\">\n#T_7b169 thead th {\n  background-color: white;\n  color: black;\n}\n#T_7b169 tbody tr:nth-child(odd) {\n  background-color: #f2f2f2;\n}\n#T_7b169 tbody tr:nth-child(even) {\n  background-color: white;\n}\n#T_7b169 th {\n  padding: 5px;\n  white-space: nowrap;\n}\n#T_7b169  td {\n  padding: 5px;\n  white-space: nowrap;\n}\n</style>\n<table id=\"T_7b169\" style='display:block; max-height: 300px; max-width: 100%; overflow-x: auto; overflow-y: auto;'>\n  <thead>\n    <tr>\n      <th class=\"blank level0\" >&nbsp;</th>\n      <th id=\"T_7b169_level0_col0\" class=\"col_heading level0 col0\" >Q14802</th>\n      <th id=\"T_7b169_level0_col1\" class=\"col_heading level0 col1\" >Q86UE4</th>\n      <th id=\"T_7b169_level0_col2\" class=\"col_heading level0 col2\" >Q969W9</th>\n      <th id=\"T_7b169_level0_col3\" class=\"col_heading level0 col3\" >P53801</th>\n      <th id=\"T_7b169_level0_col4\" class=\"col_heading level0 col4\" >Q8IUW5</th>\n      <th id=\"T_7b169_level0_col5\" class=\"col_heading level0 col5\" >P05067</th>\n      <th id=\"T_7b169_level0_col6\" class=\"col_heading level0 col6\" >P14925</th>\n      <th id=\"T_7b169_level0_col7\" class=\"col_heading level0 col7\" >P70180</th>\n      <th id=\"T_7b169_level0_col8\" class=\"col_heading level0 col8\" >Q03157</th>\n      <th id=\"T_7b169_level0_col9\" class=\"col_heading level0 col9\" >Q06481</th>\n    </tr>\n  </thead>\n  <tbody>\n    <tr>\n      <th id=\"T_7b169_level0_row0\" class=\"row_heading level0 row0\" >Q14802</th>\n      <td id=\"T_7b169_row0_col0\" class=\"data row0 col0\" >1.000000</td>\n      <td id=\"T_7b169_row0_col1\" class=\"data row0 col1\" >11.340200</td>\n      <td id=\"T_7b169_row0_col2\" class=\"data row0 col2\" >17.073200</td>\n      <td id=\"T_7b169_row0_col3\" class=\"data row0 col3\" >22.777800</td>\n      <td id=\"T_7b169_row0_col4\" class=\"data row0 col4\" >18.450200</td>\n      <td id=\"T_7b169_row0_col5\" class=\"data row0 col5\" >8.701300</td>\n      <td id=\"T_7b169_row0_col6\" class=\"data row0 col6\" >7.991800</td>\n      <td id=\"T_7b169_row0_col7\" class=\"data row0 col7\" >12.313400</td>\n      <td id=\"T_7b169_row0_col8\" class=\"data row0 col8\" >10.091700</td>\n      <td id=\"T_7b169_row0_col9\" class=\"data row0 col9\" >9.043300</td>\n    </tr>\n    <tr>\n      <th id=\"T_7b169_level0_row1\" class=\"row_heading level0 row1\" >Q86UE4</th>\n      <td id=\"T_7b169_row1_col0\" class=\"data row1 col0\" >11.340200</td>\n      <td id=\"T_7b169_row1_col1\" class=\"data row1 col1\" >1.000000</td>\n      <td id=\"T_7b169_row1_col2\" class=\"data row1 col2\" >23.195900</td>\n      <td id=\"T_7b169_row1_col3\" class=\"data row1 col3\" >18.213100</td>\n      <td id=\"T_7b169_row1_col4\" class=\"data row1 col4\" >23.539500</td>\n      <td id=\"T_7b169_row1_col5\" class=\"data row1 col5\" >29.740300</td>\n      <td id=\"T_7b169_row1_col6\" class=\"data row1 col6\" >28.381100</td>\n      <td id=\"T_7b169_row1_col7\" class=\"data row1 col7\" >34.020600</td>\n      <td id=\"T_7b169_row1_col8\" class=\"data row1 col8\" >32.568800</td>\n      <td id=\"T_7b169_row1_col9\" class=\"data row1 col9\" >29.882000</td>\n    </tr>\n    <tr>\n      <th id=\"T_7b169_level0_row2\" class=\"row_heading level0 row2\" >Q969W9</th>\n      <td id=\"T_7b169_row2_col0\" class=\"data row2 col0\" >17.073200</td>\n      <td id=\"T_7b169_row2_col1\" class=\"data row2 col1\" >23.195900</td>\n      <td id=\"T_7b169_row2_col2\" class=\"data row2 col2\" >1.000000</td>\n      <td id=\"T_7b169_row2_col3\" class=\"data row2 col3\" >24.390200</td>\n      <td id=\"T_7b169_row2_col4\" class=\"data row2 col4\" >34.494800</td>\n      <td id=\"T_7b169_row2_col5\" class=\"data row2 col5\" >19.480500</td>\n      <td id=\"T_7b169_row2_col6\" class=\"data row2 col6\" >18.545100</td>\n      <td id=\"T_7b169_row2_col7\" class=\"data row2 col7\" >26.119400</td>\n      <td id=\"T_7b169_row2_col8\" class=\"data row2 col8\" >22.935800</td>\n      <td id=\"T_7b169_row2_col9\" class=\"data row2 col9\" >20.314500</td>\n    </tr>\n    <tr>\n      <th id=\"T_7b169_level0_row3\" class=\"row_heading level0 row3\" >P53801</th>\n      <td id=\"T_7b169_row3_col0\" class=\"data row3 col0\" >22.777800</td>\n      <td id=\"T_7b169_row3_col1\" class=\"data row3 col1\" >18.213100</td>\n      <td id=\"T_7b169_row3_col2\" class=\"data row3 col2\" >24.390200</td>\n      <td id=\"T_7b169_row3_col3\" class=\"data row3 col3\" >1.000000</td>\n      <td id=\"T_7b169_row3_col4\" class=\"data row3 col4\" >30.258300</td>\n      <td id=\"T_7b169_row3_col5\" class=\"data row3 col5\" >15.194800</td>\n      <td id=\"T_7b169_row3_col6\" class=\"data row3 col6\" >13.217200</td>\n      <td id=\"T_7b169_row3_col7\" class=\"data row3 col7\" >19.776100</td>\n      <td id=\"T_7b169_row3_col8\" class=\"data row3 col8\" >17.584100</td>\n      <td id=\"T_7b169_row3_col9\" class=\"data row3 col9\" >15.465300</td>\n    </tr>\n    <tr>\n      <th id=\"T_7b169_level0_row4\" class=\"row_heading level0 row4\" >Q8IUW5</th>\n      <td id=\"T_7b169_row4_col0\" class=\"data row4 col0\" >18.450200</td>\n      <td id=\"T_7b169_row4_col1\" class=\"data row4 col1\" >23.539500</td>\n      <td id=\"T_7b169_row4_col2\" class=\"data row4 col2\" >34.494800</td>\n      <td id=\"T_7b169_row4_col3\" class=\"data row4 col3\" >30.258300</td>\n      <td id=\"T_7b169_row4_col4\" class=\"data row4 col4\" >1.000000</td>\n      <td id=\"T_7b169_row4_col5\" class=\"data row4 col5\" >20.259700</td>\n      <td id=\"T_7b169_row4_col6\" class=\"data row4 col6\" >17.930300</td>\n      <td id=\"T_7b169_row4_col7\" class=\"data row4 col7\" >25.373100</td>\n      <td id=\"T_7b169_row4_col8\" class=\"data row4 col8\" >22.782900</td>\n      <td id=\"T_7b169_row4_col9\" class=\"data row4 col9\" >20.314500</td>\n    </tr>\n    <tr>\n      <th id=\"T_7b169_level0_row5\" class=\"row_heading level0 row5\" >P05067</th>\n      <td id=\"T_7b169_row5_col0\" class=\"data row5 col0\" >8.701300</td>\n      <td id=\"T_7b169_row5_col1\" class=\"data row5 col1\" >29.740300</td>\n      <td id=\"T_7b169_row5_col2\" class=\"data row5 col2\" >19.480500</td>\n      <td id=\"T_7b169_row5_col3\" class=\"data row5 col3\" >15.194800</td>\n      <td id=\"T_7b169_row5_col4\" class=\"data row5 col4\" >20.259700</td>\n      <td id=\"T_7b169_row5_col5\" class=\"data row5 col5\" >1.000000</td>\n      <td id=\"T_7b169_row5_col6\" class=\"data row5 col6\" >31.864800</td>\n      <td id=\"T_7b169_row5_col7\" class=\"data row5 col7\" >29.740300</td>\n      <td id=\"T_7b169_row5_col8\" class=\"data row5 col8\" >45.324700</td>\n      <td id=\"T_7b169_row5_col9\" class=\"data row5 col9\" >58.701300</td>\n    </tr>\n    <tr>\n      <th id=\"T_7b169_level0_row6\" class=\"row_heading level0 row6\" >P14925</th>\n      <td id=\"T_7b169_row6_col0\" class=\"data row6 col0\" >7.991800</td>\n      <td id=\"T_7b169_row6_col1\" class=\"data row6 col1\" >28.381100</td>\n      <td id=\"T_7b169_row6_col2\" class=\"data row6 col2\" >18.545100</td>\n      <td id=\"T_7b169_row6_col3\" class=\"data row6 col3\" >13.217200</td>\n      <td id=\"T_7b169_row6_col4\" class=\"data row6 col4\" >17.930300</td>\n      <td id=\"T_7b169_row6_col5\" class=\"data row6 col5\" >31.864800</td>\n      <td id=\"T_7b169_row6_col6\" class=\"data row6 col6\" >1.000000</td>\n      <td id=\"T_7b169_row6_col7\" class=\"data row6 col7\" >28.176200</td>\n      <td id=\"T_7b169_row6_col8\" class=\"data row6 col8\" >29.508200</td>\n      <td id=\"T_7b169_row6_col9\" class=\"data row6 col9\" >32.274600</td>\n    </tr>\n    <tr>\n      <th id=\"T_7b169_level0_row7\" class=\"row_heading level0 row7\" >P70180</th>\n      <td id=\"T_7b169_row7_col0\" class=\"data row7 col0\" >12.313400</td>\n      <td id=\"T_7b169_row7_col1\" class=\"data row7 col1\" >34.020600</td>\n      <td id=\"T_7b169_row7_col2\" class=\"data row7 col2\" >26.119400</td>\n      <td id=\"T_7b169_row7_col3\" class=\"data row7 col3\" >19.776100</td>\n      <td id=\"T_7b169_row7_col4\" class=\"data row7 col4\" >25.373100</td>\n      <td id=\"T_7b169_row7_col5\" class=\"data row7 col5\" >29.740300</td>\n      <td id=\"T_7b169_row7_col6\" class=\"data row7 col6\" >28.176200</td>\n      <td id=\"T_7b169_row7_col7\" class=\"data row7 col7\" >1.000000</td>\n      <td id=\"T_7b169_row7_col8\" class=\"data row7 col8\" >34.556600</td>\n      <td id=\"T_7b169_row7_col9\" class=\"data row7 col9\" >29.357800</td>\n    </tr>\n    <tr>\n      <th id=\"T_7b169_level0_row8\" class=\"row_heading level0 row8\" >Q03157</th>\n      <td id=\"T_7b169_row8_col0\" class=\"data row8 col0\" >10.091700</td>\n      <td id=\"T_7b169_row8_col1\" class=\"data row8 col1\" >32.568800</td>\n      <td id=\"T_7b169_row8_col2\" class=\"data row8 col2\" >22.935800</td>\n      <td id=\"T_7b169_row8_col3\" class=\"data row8 col3\" >17.584100</td>\n      <td id=\"T_7b169_row8_col4\" class=\"data row8 col4\" >22.782900</td>\n      <td id=\"T_7b169_row8_col5\" class=\"data row8 col5\" >45.324700</td>\n      <td id=\"T_7b169_row8_col6\" class=\"data row8 col6\" >29.508200</td>\n      <td id=\"T_7b169_row8_col7\" class=\"data row8 col7\" >34.556600</td>\n      <td id=\"T_7b169_row8_col8\" class=\"data row8 col8\" >1.000000</td>\n      <td id=\"T_7b169_row8_col9\" class=\"data row8 col9\" >46.920100</td>\n    </tr>\n    <tr>\n      <th id=\"T_7b169_level0_row9\" class=\"row_heading level0 row9\" >Q06481</th>\n      <td id=\"T_7b169_row9_col0\" class=\"data row9 col0\" >9.043300</td>\n      <td id=\"T_7b169_row9_col1\" class=\"data row9 col1\" >29.882000</td>\n      <td id=\"T_7b169_row9_col2\" class=\"data row9 col2\" >20.314500</td>\n      <td id=\"T_7b169_row9_col3\" class=\"data row9 col3\" >15.465300</td>\n      <td id=\"T_7b169_row9_col4\" class=\"data row9 col4\" >20.314500</td>\n      <td id=\"T_7b169_row9_col5\" class=\"data row9 col5\" >58.701300</td>\n      <td id=\"T_7b169_row9_col6\" class=\"data row9 col6\" >32.274600</td>\n      <td id=\"T_7b169_row9_col7\" class=\"data row9 col7\" >29.357800</td>\n      <td id=\"T_7b169_row9_col8\" class=\"data row9 col8\" >46.920100</td>\n      <td id=\"T_7b169_row9_col9\" class=\"data row9 col9\" >1.000000</td>\n    </tr>\n  </tbody>\n</table>\n"
     },
     "metadata": {},
     "output_type": "display_data"
    }
   ],
   "source": [],
   "metadata": {
    "collapsed": false,
    "ExecuteTime": {
     "end_time": "2024-06-24T20:15:51.297799442Z",
     "start_time": "2024-06-24T20:15:51.196320646Z"
    }
   },
   "id": "3105342610261a4a"
  }
 ],
 "metadata": {
  "kernelspec": {
   "display_name": "Python 3",
   "language": "python",
   "name": "python3"
  },
  "language_info": {
   "codemirror_mode": {
    "name": "ipython",
    "version": 2
   },
   "file_extension": ".py",
   "mimetype": "text/x-python",
   "name": "python",
   "nbconvert_exporter": "python",
   "pygments_lexer": "ipython2",
   "version": "2.7.6"
  }
 },
 "nbformat": 4,
 "nbformat_minor": 5
}
