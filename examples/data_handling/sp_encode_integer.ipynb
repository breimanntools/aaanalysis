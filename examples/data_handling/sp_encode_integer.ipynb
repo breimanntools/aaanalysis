{
 "cells": [
  {
   "cell_type": "markdown",
   "source": [
    "To demonstrate integer encoding of protein sequences using the ``SequencePreprocessor().encode_integer()`` method, we first create an example sequence:"
   ],
   "metadata": {
    "collapsed": false
   },
   "id": "91e15230dad23b05"
  },
  {
   "cell_type": "code",
   "execution_count": 1,
   "outputs": [],
   "source": [
    "import aaanalysis as aa\n",
    "import pandas as pd\n",
    "\n",
    "list_seq = [\"AACDEFGHIY\", \"IIHGFECDAY\"]\n",
    "sp = aa.SequencePreprocessor()"
   ],
   "metadata": {
    "collapsed": false,
    "ExecuteTime": {
     "end_time": "2025-06-17T00:32:59.808874309Z",
     "start_time": "2025-06-17T00:32:56.644014434Z"
    }
   },
   "id": "6529c65f51e1c14f"
  },
  {
   "cell_type": "markdown",
   "source": [
    "Provide the sequence as ``seq`` parameter to obtain a feature matrix (``X``) and the respective ``features``, which are integer amino acid representation at given residue positions: "
   ],
   "metadata": {
    "collapsed": false
   },
   "id": "1163b1302190f5a5"
  },
  {
   "cell_type": "code",
   "execution_count": 2,
   "outputs": [
    {
     "name": "stdout",
     "output_type": "stream",
     "text": [
      "DataFrame shape: (2, 10)\n"
     ]
    },
    {
     "data": {
      "text/plain": "<IPython.core.display.HTML object>",
      "text/html": "<style type=\"text/css\">\n#T_dd584 thead th {\n  background-color: white;\n  color: black;\n}\n#T_dd584 tbody tr:nth-child(odd) {\n  background-color: #f2f2f2;\n}\n#T_dd584 tbody tr:nth-child(even) {\n  background-color: white;\n}\n#T_dd584 th {\n  padding: 5px;\n  white-space: nowrap;\n}\n#T_dd584  td {\n  padding: 5px;\n  white-space: nowrap;\n}\n</style>\n<table id=\"T_dd584\" style='display:block; max-height: 300px; max-width: 100%; overflow-x: auto; overflow-y: auto;'>\n  <thead>\n    <tr>\n      <th class=\"blank level0\" >&nbsp;</th>\n      <th id=\"T_dd584_level0_col0\" class=\"col_heading level0 col0\" >P1</th>\n      <th id=\"T_dd584_level0_col1\" class=\"col_heading level0 col1\" >P2</th>\n      <th id=\"T_dd584_level0_col2\" class=\"col_heading level0 col2\" >P3</th>\n      <th id=\"T_dd584_level0_col3\" class=\"col_heading level0 col3\" >P4</th>\n      <th id=\"T_dd584_level0_col4\" class=\"col_heading level0 col4\" >P5</th>\n      <th id=\"T_dd584_level0_col5\" class=\"col_heading level0 col5\" >P6</th>\n      <th id=\"T_dd584_level0_col6\" class=\"col_heading level0 col6\" >P7</th>\n      <th id=\"T_dd584_level0_col7\" class=\"col_heading level0 col7\" >P8</th>\n      <th id=\"T_dd584_level0_col8\" class=\"col_heading level0 col8\" >P9</th>\n      <th id=\"T_dd584_level0_col9\" class=\"col_heading level0 col9\" >P10</th>\n    </tr>\n  </thead>\n  <tbody>\n    <tr>\n      <th id=\"T_dd584_level0_row0\" class=\"row_heading level0 row0\" >AACDEFGHIY</th>\n      <td id=\"T_dd584_row0_col0\" class=\"data row0 col0\" >1</td>\n      <td id=\"T_dd584_row0_col1\" class=\"data row0 col1\" >1</td>\n      <td id=\"T_dd584_row0_col2\" class=\"data row0 col2\" >2</td>\n      <td id=\"T_dd584_row0_col3\" class=\"data row0 col3\" >3</td>\n      <td id=\"T_dd584_row0_col4\" class=\"data row0 col4\" >4</td>\n      <td id=\"T_dd584_row0_col5\" class=\"data row0 col5\" >5</td>\n      <td id=\"T_dd584_row0_col6\" class=\"data row0 col6\" >6</td>\n      <td id=\"T_dd584_row0_col7\" class=\"data row0 col7\" >7</td>\n      <td id=\"T_dd584_row0_col8\" class=\"data row0 col8\" >8</td>\n      <td id=\"T_dd584_row0_col9\" class=\"data row0 col9\" >20</td>\n    </tr>\n    <tr>\n      <th id=\"T_dd584_level0_row1\" class=\"row_heading level0 row1\" >IIHGFECDAY</th>\n      <td id=\"T_dd584_row1_col0\" class=\"data row1 col0\" >8</td>\n      <td id=\"T_dd584_row1_col1\" class=\"data row1 col1\" >8</td>\n      <td id=\"T_dd584_row1_col2\" class=\"data row1 col2\" >7</td>\n      <td id=\"T_dd584_row1_col3\" class=\"data row1 col3\" >6</td>\n      <td id=\"T_dd584_row1_col4\" class=\"data row1 col4\" >5</td>\n      <td id=\"T_dd584_row1_col5\" class=\"data row1 col5\" >4</td>\n      <td id=\"T_dd584_row1_col6\" class=\"data row1 col6\" >2</td>\n      <td id=\"T_dd584_row1_col7\" class=\"data row1 col7\" >3</td>\n      <td id=\"T_dd584_row1_col8\" class=\"data row1 col8\" >1</td>\n      <td id=\"T_dd584_row1_col9\" class=\"data row1 col9\" >20</td>\n    </tr>\n  </tbody>\n</table>\n"
     },
     "metadata": {},
     "output_type": "display_data"
    }
   ],
   "source": [
    "X, features = sp.encode_integer(list_seq=list_seq)\n",
    "\n",
    "# Convert to DataFrame for visualization\n",
    "df_encode = pd.DataFrame(X, columns=features, index=list_seq)\n",
    "aa.display_df(df=df_encode, show_shape=True)"
   ],
   "metadata": {
    "collapsed": false,
    "ExecuteTime": {
     "end_time": "2025-06-17T00:32:59.918732128Z",
     "start_time": "2025-06-17T00:32:59.820338595Z"
    }
   },
   "id": "ae99247d4a174b85"
  },
  {
   "cell_type": "markdown",
   "source": [
    "You can adjust the used ``alphabet`` to change the considered characters:"
   ],
   "metadata": {
    "collapsed": false
   },
   "id": "bd44a3454980db67"
  },
  {
   "cell_type": "code",
   "execution_count": 3,
   "outputs": [
    {
     "name": "stdout",
     "output_type": "stream",
     "text": [
      "DataFrame shape: (2, 3)\n"
     ]
    },
    {
     "data": {
      "text/plain": "<IPython.core.display.HTML object>",
      "text/html": "<style type=\"text/css\">\n#T_b86b1 thead th {\n  background-color: white;\n  color: black;\n}\n#T_b86b1 tbody tr:nth-child(odd) {\n  background-color: #f2f2f2;\n}\n#T_b86b1 tbody tr:nth-child(even) {\n  background-color: white;\n}\n#T_b86b1 th {\n  padding: 5px;\n  white-space: nowrap;\n}\n#T_b86b1  td {\n  padding: 5px;\n  white-space: nowrap;\n}\n</style>\n<table id=\"T_b86b1\" style='display:block; max-height: 300px; max-width: 100%; overflow-x: auto; overflow-y: auto;'>\n  <thead>\n    <tr>\n      <th class=\"blank level0\" >&nbsp;</th>\n      <th id=\"T_b86b1_level0_col0\" class=\"col_heading level0 col0\" >P1</th>\n      <th id=\"T_b86b1_level0_col1\" class=\"col_heading level0 col1\" >P2</th>\n      <th id=\"T_b86b1_level0_col2\" class=\"col_heading level0 col2\" >P3</th>\n    </tr>\n  </thead>\n  <tbody>\n    <tr>\n      <th id=\"T_b86b1_level0_row0\" class=\"row_heading level0 row0\" >ABC</th>\n      <td id=\"T_b86b1_row0_col0\" class=\"data row0 col0\" >1</td>\n      <td id=\"T_b86b1_row0_col1\" class=\"data row0 col1\" >2</td>\n      <td id=\"T_b86b1_row0_col2\" class=\"data row0 col2\" >3</td>\n    </tr>\n    <tr>\n      <th id=\"T_b86b1_level0_row1\" class=\"row_heading level0 row1\" >CBA</th>\n      <td id=\"T_b86b1_row1_col0\" class=\"data row1 col0\" >3</td>\n      <td id=\"T_b86b1_row1_col1\" class=\"data row1 col1\" >2</td>\n      <td id=\"T_b86b1_row1_col2\" class=\"data row1 col2\" >1</td>\n    </tr>\n  </tbody>\n</table>\n"
     },
     "metadata": {},
     "output_type": "display_data"
    }
   ],
   "source": [
    "# Show integer encoding with smaller alphabet\n",
    "list_seq = [\"ABC\", \"CBA\"]\n",
    "ALPHABET = \"ABC\"\n",
    "X, features = sp.encode_integer(list_seq=list_seq, alphabet=ALPHABET)\n",
    "\n",
    "# Convert to DataFrame for visualization\n",
    "df_encode = pd.DataFrame(X, columns=features, index=list_seq)\n",
    "aa.display_df(df=df_encode, show_shape=True)"
   ],
   "metadata": {
    "collapsed": false,
    "ExecuteTime": {
     "end_time": "2025-06-17T00:32:59.937802485Z",
     "start_time": "2025-06-17T00:32:59.926342082Z"
    }
   },
   "id": "280dd1afa9267756"
  },
  {
   "cell_type": "markdown",
   "source": [
    "Change the ``gap`` symbol (default=``-``) as follows:"
   ],
   "metadata": {
    "collapsed": false
   },
   "id": "f53bf29b98c3fd9e"
  },
  {
   "cell_type": "code",
   "execution_count": 4,
   "outputs": [
    {
     "name": "stdout",
     "output_type": "stream",
     "text": [
      "DataFrame shape: (2, 3)\n"
     ]
    },
    {
     "data": {
      "text/plain": "<IPython.core.display.HTML object>",
      "text/html": "<style type=\"text/css\">\n#T_81648 thead th {\n  background-color: white;\n  color: black;\n}\n#T_81648 tbody tr:nth-child(odd) {\n  background-color: #f2f2f2;\n}\n#T_81648 tbody tr:nth-child(even) {\n  background-color: white;\n}\n#T_81648 th {\n  padding: 5px;\n  white-space: nowrap;\n}\n#T_81648  td {\n  padding: 5px;\n  white-space: nowrap;\n}\n</style>\n<table id=\"T_81648\" style='display:block; max-height: 300px; max-width: 100%; overflow-x: auto; overflow-y: auto;'>\n  <thead>\n    <tr>\n      <th class=\"blank level0\" >&nbsp;</th>\n      <th id=\"T_81648_level0_col0\" class=\"col_heading level0 col0\" >P1</th>\n      <th id=\"T_81648_level0_col1\" class=\"col_heading level0 col1\" >P2</th>\n      <th id=\"T_81648_level0_col2\" class=\"col_heading level0 col2\" >P3</th>\n    </tr>\n  </thead>\n  <tbody>\n    <tr>\n      <th id=\"T_81648_level0_row0\" class=\"row_heading level0 row0\" >ABC</th>\n      <td id=\"T_81648_row0_col0\" class=\"data row0 col0\" >1</td>\n      <td id=\"T_81648_row0_col1\" class=\"data row0 col1\" >2</td>\n      <td id=\"T_81648_row0_col2\" class=\"data row0 col2\" >3</td>\n    </tr>\n    <tr>\n      <th id=\"T_81648_level0_row1\" class=\"row_heading level0 row1\" >CB*</th>\n      <td id=\"T_81648_row1_col0\" class=\"data row1 col0\" >3</td>\n      <td id=\"T_81648_row1_col1\" class=\"data row1 col1\" >2</td>\n      <td id=\"T_81648_row1_col2\" class=\"data row1 col2\" >0</td>\n    </tr>\n  </tbody>\n</table>\n"
     },
     "metadata": {},
     "output_type": "display_data"
    }
   ],
   "source": [
    "# Show integer encoding with other gap ('*')\n",
    "list_seq = [\"ABC\", \"CB*\"]\n",
    "ALPHABET = \"ABC\"\n",
    "X, features = sp.encode_integer(list_seq=list_seq, alphabet=ALPHABET, gap=\"*\")\n",
    "\n",
    "# Convert to DataFrame for visualization\n",
    "df_encode = pd.DataFrame(X, columns=features, index=list_seq)\n",
    "aa.display_df(df=df_encode, show_shape=True)"
   ],
   "metadata": {
    "collapsed": false,
    "ExecuteTime": {
     "end_time": "2025-06-17T00:32:59.973660976Z",
     "start_time": "2025-06-17T00:32:59.940361197Z"
    }
   },
   "id": "91341e3430083a63"
  },
  {
   "cell_type": "markdown",
   "source": [
    "If one sequence is smaller than the other, gaps will be included either at the N-terminus or C-terminus (default), which is called padding. Adjust the padding using the ``pad_at`` (``N`` or ``C``) parameter:"
   ],
   "metadata": {
    "collapsed": false
   },
   "id": "4691599de5bd9c99"
  },
  {
   "cell_type": "code",
   "execution_count": 5,
   "outputs": [
    {
     "name": "stdout",
     "output_type": "stream",
     "text": [
      "DataFrame shape: (2, 3)\n"
     ]
    },
    {
     "data": {
      "text/plain": "<IPython.core.display.HTML object>",
      "text/html": "<style type=\"text/css\">\n#T_bd9d5 thead th {\n  background-color: white;\n  color: black;\n}\n#T_bd9d5 tbody tr:nth-child(odd) {\n  background-color: #f2f2f2;\n}\n#T_bd9d5 tbody tr:nth-child(even) {\n  background-color: white;\n}\n#T_bd9d5 th {\n  padding: 5px;\n  white-space: nowrap;\n}\n#T_bd9d5  td {\n  padding: 5px;\n  white-space: nowrap;\n}\n</style>\n<table id=\"T_bd9d5\" style='display:block; max-height: 300px; max-width: 100%; overflow-x: auto; overflow-y: auto;'>\n  <thead>\n    <tr>\n      <th class=\"blank level0\" >&nbsp;</th>\n      <th id=\"T_bd9d5_level0_col0\" class=\"col_heading level0 col0\" >P1</th>\n      <th id=\"T_bd9d5_level0_col1\" class=\"col_heading level0 col1\" >P2</th>\n      <th id=\"T_bd9d5_level0_col2\" class=\"col_heading level0 col2\" >P3</th>\n    </tr>\n  </thead>\n  <tbody>\n    <tr>\n      <th id=\"T_bd9d5_level0_row0\" class=\"row_heading level0 row0\" >ABC</th>\n      <td id=\"T_bd9d5_row0_col0\" class=\"data row0 col0\" >1</td>\n      <td id=\"T_bd9d5_row0_col1\" class=\"data row0 col1\" >2</td>\n      <td id=\"T_bd9d5_row0_col2\" class=\"data row0 col2\" >3</td>\n    </tr>\n    <tr>\n      <th id=\"T_bd9d5_level0_row1\" class=\"row_heading level0 row1\" >B</th>\n      <td id=\"T_bd9d5_row1_col0\" class=\"data row1 col0\" >2</td>\n      <td id=\"T_bd9d5_row1_col1\" class=\"data row1 col1\" >0</td>\n      <td id=\"T_bd9d5_row1_col2\" class=\"data row1 col2\" >0</td>\n    </tr>\n  </tbody>\n</table>\n"
     },
     "metadata": {},
     "output_type": "display_data"
    }
   ],
   "source": [
    "# Show default padding (at C-Termius)\n",
    "list_seq = [\"ABC\", \"B\"]\n",
    "ALPHABET = \"ABC\"\n",
    "X, features = sp.encode_integer(list_seq=list_seq, alphabet=ALPHABET)\n",
    "\n",
    "# Convert to DataFrame for visualization\n",
    "df_encode = pd.DataFrame(X, columns=features, index=list_seq)\n",
    "aa.display_df(df=df_encode, show_shape=True)"
   ],
   "metadata": {
    "collapsed": false,
    "ExecuteTime": {
     "end_time": "2025-06-17T00:32:59.975212214Z",
     "start_time": "2025-06-17T00:32:59.947808864Z"
    }
   },
   "id": "48ff3a51801c9d62"
  },
  {
   "cell_type": "code",
   "execution_count": 6,
   "outputs": [
    {
     "name": "stdout",
     "output_type": "stream",
     "text": [
      "DataFrame shape: (2, 3)\n"
     ]
    },
    {
     "data": {
      "text/plain": "<IPython.core.display.HTML object>",
      "text/html": "<style type=\"text/css\">\n#T_f7c3d thead th {\n  background-color: white;\n  color: black;\n}\n#T_f7c3d tbody tr:nth-child(odd) {\n  background-color: #f2f2f2;\n}\n#T_f7c3d tbody tr:nth-child(even) {\n  background-color: white;\n}\n#T_f7c3d th {\n  padding: 5px;\n  white-space: nowrap;\n}\n#T_f7c3d  td {\n  padding: 5px;\n  white-space: nowrap;\n}\n</style>\n<table id=\"T_f7c3d\" style='display:block; max-height: 300px; max-width: 100%; overflow-x: auto; overflow-y: auto;'>\n  <thead>\n    <tr>\n      <th class=\"blank level0\" >&nbsp;</th>\n      <th id=\"T_f7c3d_level0_col0\" class=\"col_heading level0 col0\" >P1</th>\n      <th id=\"T_f7c3d_level0_col1\" class=\"col_heading level0 col1\" >P2</th>\n      <th id=\"T_f7c3d_level0_col2\" class=\"col_heading level0 col2\" >P3</th>\n    </tr>\n  </thead>\n  <tbody>\n    <tr>\n      <th id=\"T_f7c3d_level0_row0\" class=\"row_heading level0 row0\" >ABC</th>\n      <td id=\"T_f7c3d_row0_col0\" class=\"data row0 col0\" >1</td>\n      <td id=\"T_f7c3d_row0_col1\" class=\"data row0 col1\" >2</td>\n      <td id=\"T_f7c3d_row0_col2\" class=\"data row0 col2\" >3</td>\n    </tr>\n    <tr>\n      <th id=\"T_f7c3d_level0_row1\" class=\"row_heading level0 row1\" >B</th>\n      <td id=\"T_f7c3d_row1_col0\" class=\"data row1 col0\" >0</td>\n      <td id=\"T_f7c3d_row1_col1\" class=\"data row1 col1\" >0</td>\n      <td id=\"T_f7c3d_row1_col2\" class=\"data row1 col2\" >2</td>\n    </tr>\n  </tbody>\n</table>\n"
     },
     "metadata": {},
     "output_type": "display_data"
    }
   ],
   "source": [
    "# Show N-terminal padding\n",
    "list_seq = [\"ABC\", \"B\"]\n",
    "ALPHABET = \"ABC\"\n",
    "X, features = sp.encode_integer(list_seq=list_seq, alphabet=ALPHABET, pad_at=\"N\")\n",
    "\n",
    "# Convert to DataFrame for visualization\n",
    "df_encode = pd.DataFrame(X, columns=features, index=list_seq)\n",
    "aa.display_df(df=df_encode, show_shape=True)"
   ],
   "metadata": {
    "collapsed": false,
    "ExecuteTime": {
     "end_time": "2025-06-17T00:32:59.977291096Z",
     "start_time": "2025-06-17T00:32:59.967977830Z"
    }
   },
   "id": "43798b8ac9b7e61c"
  }
 ],
 "metadata": {
  "kernelspec": {
   "display_name": "Python 3",
   "language": "python",
   "name": "python3"
  },
  "language_info": {
   "codemirror_mode": {
    "name": "ipython",
    "version": 2
   },
   "file_extension": ".py",
   "mimetype": "text/x-python",
   "name": "python",
   "nbconvert_exporter": "python",
   "pygments_lexer": "ipython2",
   "version": "2.7.6"
  }
 },
 "nbformat": 4,
 "nbformat_minor": 5
}
