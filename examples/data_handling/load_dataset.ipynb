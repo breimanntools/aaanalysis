{
 "cells": [
  {
   "cell_type": "markdown",
   "source": [
    "An overview dataset table is provided as default, where the suffix in the 'Dataset' ('AA', 'SEQ', and 'DOM') column corresponds to the 'Level' values ('Amino acid', 'Sequence', and 'Domain' level). Load datasets using the ``load_dataset()`` function:"
   ],
   "metadata": {
    "collapsed": false
   },
   "id": "d64f6a126f1e115d"
  },
  {
   "cell_type": "code",
   "execution_count": 1,
   "outputs": [
    {
     "name": "stdout",
     "output_type": "stream",
     "text": [
      "DataFrame shape: (14, 11)\n"
     ]
    },
    {
     "data": {
      "text/plain": "<IPython.core.display.HTML object>",
      "text/html": "<style type=\"text/css\">\n#T_a28ed thead th {\n  background-color: white;\n  color: black;\n}\n#T_a28ed tbody tr:nth-child(odd) {\n  background-color: #f2f2f2;\n}\n#T_a28ed tbody tr:nth-child(even) {\n  background-color: white;\n}\n#T_a28ed th {\n  padding: 5px;\n  white-space: nowrap;\n}\n#T_a28ed  td {\n  padding: 5px;\n  white-space: nowrap;\n}\n</style>\n<table id=\"T_a28ed\" style='display:block; max-height: 600px; max-width: 100%; overflow-x: auto; overflow-y: auto;'>\n  <thead>\n    <tr>\n      <th class=\"blank level0\" >&nbsp;</th>\n      <th id=\"T_a28ed_level0_col0\" class=\"col_heading level0 col0\" >Level</th>\n      <th id=\"T_a28ed_level0_col1\" class=\"col_heading level0 col1\" >Dataset</th>\n      <th id=\"T_a28ed_level0_col2\" class=\"col_heading level0 col2\" ># Sequences</th>\n      <th id=\"T_a28ed_level0_col3\" class=\"col_heading level0 col3\" >Avg length</th>\n      <th id=\"T_a28ed_level0_col4\" class=\"col_heading level0 col4\" ># Amino acids</th>\n      <th id=\"T_a28ed_level0_col5\" class=\"col_heading level0 col5\" ># Positives</th>\n      <th id=\"T_a28ed_level0_col6\" class=\"col_heading level0 col6\" ># Negatives</th>\n      <th id=\"T_a28ed_level0_col7\" class=\"col_heading level0 col7\" >Predictor</th>\n      <th id=\"T_a28ed_level0_col8\" class=\"col_heading level0 col8\" >Description</th>\n      <th id=\"T_a28ed_level0_col9\" class=\"col_heading level0 col9\" >Reference</th>\n      <th id=\"T_a28ed_level0_col10\" class=\"col_heading level0 col10\" >Label</th>\n    </tr>\n  </thead>\n  <tbody>\n    <tr>\n      <th id=\"T_a28ed_level0_row0\" class=\"row_heading level0 row0\" >1</th>\n      <td id=\"T_a28ed_row0_col0\" class=\"data row0 col0\" >Amino acid</td>\n      <td id=\"T_a28ed_row0_col1\" class=\"data row0 col1\" >AA_CASPASE3</td>\n      <td id=\"T_a28ed_row0_col2\" class=\"data row0 col2\" >233</td>\n      <td id=\"T_a28ed_row0_col3\" class=\"data row0 col3\" >796.587983</td>\n      <td id=\"T_a28ed_row0_col4\" class=\"data row0 col4\" >185605</td>\n      <td id=\"T_a28ed_row0_col5\" class=\"data row0 col5\" >705</td>\n      <td id=\"T_a28ed_row0_col6\" class=\"data row0 col6\" >184900</td>\n      <td id=\"T_a28ed_row0_col7\" class=\"data row0 col7\" >PROSPERous</td>\n      <td id=\"T_a28ed_row0_col8\" class=\"data row0 col8\" >Prediction of c...3 cleavage site</td>\n      <td id=\"T_a28ed_row0_col9\" class=\"data row0 col9\" >Song et al., 2018</td>\n      <td id=\"T_a28ed_row0_col10\" class=\"data row0 col10\" >1 (adjacent to ... cleavage site)</td>\n    </tr>\n    <tr>\n      <th id=\"T_a28ed_level0_row1\" class=\"row_heading level0 row1\" >2</th>\n      <td id=\"T_a28ed_row1_col0\" class=\"data row1 col0\" >Amino acid</td>\n      <td id=\"T_a28ed_row1_col1\" class=\"data row1 col1\" >AA_FURIN</td>\n      <td id=\"T_a28ed_row1_col2\" class=\"data row1 col2\" >71</td>\n      <td id=\"T_a28ed_row1_col3\" class=\"data row1 col3\" >831.028169</td>\n      <td id=\"T_a28ed_row1_col4\" class=\"data row1 col4\" >59003</td>\n      <td id=\"T_a28ed_row1_col5\" class=\"data row1 col5\" >163</td>\n      <td id=\"T_a28ed_row1_col6\" class=\"data row1 col6\" >58840</td>\n      <td id=\"T_a28ed_row1_col7\" class=\"data row1 col7\" >PROSPERous</td>\n      <td id=\"T_a28ed_row1_col8\" class=\"data row1 col8\" >Prediction of f...n cleavage site</td>\n      <td id=\"T_a28ed_row1_col9\" class=\"data row1 col9\" >Song et al., 2018</td>\n      <td id=\"T_a28ed_row1_col10\" class=\"data row1 col10\" >1 (adjacent to ... cleavage site)</td>\n    </tr>\n    <tr>\n      <th id=\"T_a28ed_level0_row2\" class=\"row_heading level0 row2\" >3</th>\n      <td id=\"T_a28ed_row2_col0\" class=\"data row2 col0\" >Amino acid</td>\n      <td id=\"T_a28ed_row2_col1\" class=\"data row2 col1\" >AA_LDR</td>\n      <td id=\"T_a28ed_row2_col2\" class=\"data row2 col2\" >342</td>\n      <td id=\"T_a28ed_row2_col3\" class=\"data row2 col3\" >345.754386</td>\n      <td id=\"T_a28ed_row2_col4\" class=\"data row2 col4\" >118248</td>\n      <td id=\"T_a28ed_row2_col5\" class=\"data row2 col5\" >35469</td>\n      <td id=\"T_a28ed_row2_col6\" class=\"data row2 col6\" >82779</td>\n      <td id=\"T_a28ed_row2_col7\" class=\"data row2 col7\" >IDP-Seq2Seq</td>\n      <td id=\"T_a28ed_row2_col8\" class=\"data row2 col8\" >Prediction of l...d regions (LDR)</td>\n      <td id=\"T_a28ed_row2_col9\" class=\"data row2 col9\" >Tang et al., 2020</td>\n      <td id=\"T_a28ed_row2_col10\" class=\"data row2 col10\" >1 (disordered), 0 (ordered)</td>\n    </tr>\n    <tr>\n      <th id=\"T_a28ed_level0_row3\" class=\"row_heading level0 row3\" >4</th>\n      <td id=\"T_a28ed_row3_col0\" class=\"data row3 col0\" >Amino acid</td>\n      <td id=\"T_a28ed_row3_col1\" class=\"data row3 col1\" >AA_MMP2</td>\n      <td id=\"T_a28ed_row3_col2\" class=\"data row3 col2\" >573</td>\n      <td id=\"T_a28ed_row3_col3\" class=\"data row3 col3\" >546.205934</td>\n      <td id=\"T_a28ed_row3_col4\" class=\"data row3 col4\" >312976</td>\n      <td id=\"T_a28ed_row3_col5\" class=\"data row3 col5\" >2416</td>\n      <td id=\"T_a28ed_row3_col6\" class=\"data row3 col6\" >310560</td>\n      <td id=\"T_a28ed_row3_col7\" class=\"data row3 col7\" >PROSPERous</td>\n      <td id=\"T_a28ed_row3_col8\" class=\"data row3 col8\" >Prediction of M...) cleavage site</td>\n      <td id=\"T_a28ed_row3_col9\" class=\"data row3 col9\" >Song et al., 2018</td>\n      <td id=\"T_a28ed_row3_col10\" class=\"data row3 col10\" >1 (adjacent to ... cleavage site)</td>\n    </tr>\n    <tr>\n      <th id=\"T_a28ed_level0_row4\" class=\"row_heading level0 row4\" >5</th>\n      <td id=\"T_a28ed_row4_col0\" class=\"data row4 col0\" >Amino acid</td>\n      <td id=\"T_a28ed_row4_col1\" class=\"data row4 col1\" >AA_RNABIND</td>\n      <td id=\"T_a28ed_row4_col2\" class=\"data row4 col2\" >221</td>\n      <td id=\"T_a28ed_row4_col3\" class=\"data row4 col3\" >248.873303</td>\n      <td id=\"T_a28ed_row4_col4\" class=\"data row4 col4\" >55001</td>\n      <td id=\"T_a28ed_row4_col5\" class=\"data row4 col5\" >6492</td>\n      <td id=\"T_a28ed_row4_col6\" class=\"data row4 col6\" >48509</td>\n      <td id=\"T_a28ed_row4_col7\" class=\"data row4 col7\" >GMKSVM-RU</td>\n      <td id=\"T_a28ed_row4_col8\" class=\"data row4 col8\" >Prediction of R...(RBP60 dataset)</td>\n      <td id=\"T_a28ed_row4_col9\" class=\"data row4 col9\" >Yang et al., 2021</td>\n      <td id=\"T_a28ed_row4_col10\" class=\"data row4 col10\" >1 (binding), 0 (non-binding)</td>\n    </tr>\n    <tr>\n      <th id=\"T_a28ed_level0_row5\" class=\"row_heading level0 row5\" >6</th>\n      <td id=\"T_a28ed_row5_col0\" class=\"data row5 col0\" >Amino acid</td>\n      <td id=\"T_a28ed_row5_col1\" class=\"data row5 col1\" >AA_SA</td>\n      <td id=\"T_a28ed_row5_col2\" class=\"data row5 col2\" >233</td>\n      <td id=\"T_a28ed_row5_col3\" class=\"data row5 col3\" >796.587983</td>\n      <td id=\"T_a28ed_row5_col4\" class=\"data row5 col4\" >185605</td>\n      <td id=\"T_a28ed_row5_col5\" class=\"data row5 col5\" >101082</td>\n      <td id=\"T_a28ed_row5_col6\" class=\"data row5 col6\" >84523</td>\n      <td id=\"T_a28ed_row5_col7\" class=\"data row5 col7\" >PROSPERous</td>\n      <td id=\"T_a28ed_row5_col8\" class=\"data row5 col8\" >Prediction of s...PASE3 data set)</td>\n      <td id=\"T_a28ed_row5_col9\" class=\"data row5 col9\" >Song et al., 2018</td>\n      <td id=\"T_a28ed_row5_col10\" class=\"data row5 col10\" >1 (exposed/acce...non-accessible)</td>\n    </tr>\n    <tr>\n      <th id=\"T_a28ed_level0_row6\" class=\"row_heading level0 row6\" >7</th>\n      <td id=\"T_a28ed_row6_col0\" class=\"data row6 col0\" >Sequence</td>\n      <td id=\"T_a28ed_row6_col1\" class=\"data row6 col1\" >SEQ_AMYLO</td>\n      <td id=\"T_a28ed_row6_col2\" class=\"data row6 col2\" >1414</td>\n      <td id=\"T_a28ed_row6_col3\" class=\"data row6 col3\" >6.000000</td>\n      <td id=\"T_a28ed_row6_col4\" class=\"data row6 col4\" >8484</td>\n      <td id=\"T_a28ed_row6_col5\" class=\"data row6 col5\" >511</td>\n      <td id=\"T_a28ed_row6_col6\" class=\"data row6 col6\" >903</td>\n      <td id=\"T_a28ed_row6_col7\" class=\"data row6 col7\" >ReRF-Pred</td>\n      <td id=\"T_a28ed_row6_col8\" class=\"data row6 col8\" >Prediction of a...ognenic regions</td>\n      <td id=\"T_a28ed_row6_col9\" class=\"data row6 col9\" >Teng et al. 2021</td>\n      <td id=\"T_a28ed_row6_col10\" class=\"data row6 col10\" >1 (amyloidogeni...-amyloidogenic)</td>\n    </tr>\n    <tr>\n      <th id=\"T_a28ed_level0_row7\" class=\"row_heading level0 row7\" >8</th>\n      <td id=\"T_a28ed_row7_col0\" class=\"data row7 col0\" >Sequence</td>\n      <td id=\"T_a28ed_row7_col1\" class=\"data row7 col1\" >SEQ_CAPSID</td>\n      <td id=\"T_a28ed_row7_col2\" class=\"data row7 col2\" >7935</td>\n      <td id=\"T_a28ed_row7_col3\" class=\"data row7 col3\" >424.030246</td>\n      <td id=\"T_a28ed_row7_col4\" class=\"data row7 col4\" >3364680</td>\n      <td id=\"T_a28ed_row7_col5\" class=\"data row7 col5\" >3864</td>\n      <td id=\"T_a28ed_row7_col6\" class=\"data row7 col6\" >4071</td>\n      <td id=\"T_a28ed_row7_col7\" class=\"data row7 col7\" >VIRALpro</td>\n      <td id=\"T_a28ed_row7_col8\" class=\"data row7 col8\" >Prediction of capdsid proteins</td>\n      <td id=\"T_a28ed_row7_col9\" class=\"data row7 col9\" >Galiez et al., 2016</td>\n      <td id=\"T_a28ed_row7_col10\" class=\"data row7 col10\" >1 (capsid prote...capsid protein)</td>\n    </tr>\n    <tr>\n      <th id=\"T_a28ed_level0_row8\" class=\"row_heading level0 row8\" >9</th>\n      <td id=\"T_a28ed_row8_col0\" class=\"data row8 col0\" >Sequence</td>\n      <td id=\"T_a28ed_row8_col1\" class=\"data row8 col1\" >SEQ_DISULFIDE</td>\n      <td id=\"T_a28ed_row8_col2\" class=\"data row8 col2\" >2547</td>\n      <td id=\"T_a28ed_row8_col3\" class=\"data row8 col3\" >241.252454</td>\n      <td id=\"T_a28ed_row8_col4\" class=\"data row8 col4\" >614470</td>\n      <td id=\"T_a28ed_row8_col5\" class=\"data row8 col5\" >897</td>\n      <td id=\"T_a28ed_row8_col6\" class=\"data row8 col6\" >1650</td>\n      <td id=\"T_a28ed_row8_col7\" class=\"data row8 col7\" >Dipro</td>\n      <td id=\"T_a28ed_row8_col8\" class=\"data row8 col8\" >Prediction of d...es in sequences</td>\n      <td id=\"T_a28ed_row8_col9\" class=\"data row8 col9\" >Cheng et al., 2006</td>\n      <td id=\"T_a28ed_row8_col10\" class=\"data row8 col10\" >1 (sequence wit...ithout SS bond)</td>\n    </tr>\n    <tr>\n      <th id=\"T_a28ed_level0_row9\" class=\"row_heading level0 row9\" >10</th>\n      <td id=\"T_a28ed_row9_col0\" class=\"data row9 col0\" >Sequence</td>\n      <td id=\"T_a28ed_row9_col1\" class=\"data row9 col1\" >SEQ_LOCATION</td>\n      <td id=\"T_a28ed_row9_col2\" class=\"data row9 col2\" >1835</td>\n      <td id=\"T_a28ed_row9_col3\" class=\"data row9 col3\" >399.126975</td>\n      <td id=\"T_a28ed_row9_col4\" class=\"data row9 col4\" >732398</td>\n      <td id=\"T_a28ed_row9_col5\" class=\"data row9 col5\" >1045</td>\n      <td id=\"T_a28ed_row9_col6\" class=\"data row9 col6\" >790</td>\n      <td id=\"T_a28ed_row9_col7\" class=\"data row9 col7\" >nan</td>\n      <td id=\"T_a28ed_row9_col8\" class=\"data row9 col8\" >Prediction of s...lasma membrane)</td>\n      <td id=\"T_a28ed_row9_col9\" class=\"data row9 col9\" >Shen et al., 2019</td>\n      <td id=\"T_a28ed_row9_col10\" class=\"data row9 col10\" >1 (protein in c...asma membrane) </td>\n    </tr>\n    <tr>\n      <th id=\"T_a28ed_level0_row10\" class=\"row_heading level0 row10\" >11</th>\n      <td id=\"T_a28ed_row10_col0\" class=\"data row10 col0\" >Sequence</td>\n      <td id=\"T_a28ed_row10_col1\" class=\"data row10 col1\" >SEQ_SOLUBLE</td>\n      <td id=\"T_a28ed_row10_col2\" class=\"data row10 col2\" >17408</td>\n      <td id=\"T_a28ed_row10_col3\" class=\"data row10 col3\" >254.611041</td>\n      <td id=\"T_a28ed_row10_col4\" class=\"data row10 col4\" >4432269</td>\n      <td id=\"T_a28ed_row10_col5\" class=\"data row10 col5\" >8704</td>\n      <td id=\"T_a28ed_row10_col6\" class=\"data row10 col6\" >8704</td>\n      <td id=\"T_a28ed_row10_col7\" class=\"data row10 col7\" >SOLpro</td>\n      <td id=\"T_a28ed_row10_col8\" class=\"data row10 col8\" >Prediction of s...oluble proteins</td>\n      <td id=\"T_a28ed_row10_col9\" class=\"data row10 col9\" >Magnan et al., 2009</td>\n      <td id=\"T_a28ed_row10_col10\" class=\"data row10 col10\" >1 (soluble), 0 (insoluble)</td>\n    </tr>\n    <tr>\n      <th id=\"T_a28ed_level0_row11\" class=\"row_heading level0 row11\" >12</th>\n      <td id=\"T_a28ed_row11_col0\" class=\"data row11 col0\" >Sequence</td>\n      <td id=\"T_a28ed_row11_col1\" class=\"data row11 col1\" >SEQ_TAIL</td>\n      <td id=\"T_a28ed_row11_col2\" class=\"data row11 col2\" >6668</td>\n      <td id=\"T_a28ed_row11_col3\" class=\"data row11 col3\" >400.673365</td>\n      <td id=\"T_a28ed_row11_col4\" class=\"data row11 col4\" >2671690</td>\n      <td id=\"T_a28ed_row11_col5\" class=\"data row11 col5\" >2574</td>\n      <td id=\"T_a28ed_row11_col6\" class=\"data row11 col6\" >4094</td>\n      <td id=\"T_a28ed_row11_col7\" class=\"data row11 col7\" >VIRALpro</td>\n      <td id=\"T_a28ed_row11_col8\" class=\"data row11 col8\" >Prediction of tail proteins</td>\n      <td id=\"T_a28ed_row11_col9\" class=\"data row11 col9\" >Galiez et al., 2016</td>\n      <td id=\"T_a28ed_row11_col10\" class=\"data row11 col10\" >1 (tail protein...n-tail protein)</td>\n    </tr>\n    <tr>\n      <th id=\"T_a28ed_level0_row12\" class=\"row_heading level0 row12\" >13</th>\n      <td id=\"T_a28ed_row12_col0\" class=\"data row12 col0\" >Domain</td>\n      <td id=\"T_a28ed_row12_col1\" class=\"data row12 col1\" >DOM_GSEC</td>\n      <td id=\"T_a28ed_row12_col2\" class=\"data row12 col2\" >126</td>\n      <td id=\"T_a28ed_row12_col3\" class=\"data row12 col3\" >737.809524</td>\n      <td id=\"T_a28ed_row12_col4\" class=\"data row12 col4\" >92964</td>\n      <td id=\"T_a28ed_row12_col5\" class=\"data row12 col5\" >63</td>\n      <td id=\"T_a28ed_row12_col6\" class=\"data row12 col6\" >63</td>\n      <td id=\"T_a28ed_row12_col7\" class=\"data row12 col7\" >nan</td>\n      <td id=\"T_a28ed_row12_col8\" class=\"data row12 col8\" >Prediction of g...tase substrates</td>\n      <td id=\"T_a28ed_row12_col9\" class=\"data row12 col9\" >Breimann et al, 2024c</td>\n      <td id=\"T_a28ed_row12_col10\" class=\"data row12 col10\" >1 (substrate), ...(non-substrate)</td>\n    </tr>\n    <tr>\n      <th id=\"T_a28ed_level0_row13\" class=\"row_heading level0 row13\" >14</th>\n      <td id=\"T_a28ed_row13_col0\" class=\"data row13 col0\" >Domain</td>\n      <td id=\"T_a28ed_row13_col1\" class=\"data row13 col1\" >DOM_GSEC_PU</td>\n      <td id=\"T_a28ed_row13_col2\" class=\"data row13 col2\" >694</td>\n      <td id=\"T_a28ed_row13_col3\" class=\"data row13 col3\" >712.570605</td>\n      <td id=\"T_a28ed_row13_col4\" class=\"data row13 col4\" >494524</td>\n      <td id=\"T_a28ed_row13_col5\" class=\"data row13 col5\" >63</td>\n      <td id=\"T_a28ed_row13_col6\" class=\"data row13 col6\" >0</td>\n      <td id=\"T_a28ed_row13_col7\" class=\"data row13 col7\" >nan</td>\n      <td id=\"T_a28ed_row13_col8\" class=\"data row13 col8\" >Prediction of g...es (PU dataset)</td>\n      <td id=\"T_a28ed_row13_col9\" class=\"data row13 col9\" >Breimann et al, 2024c</td>\n      <td id=\"T_a28ed_row13_col10\" class=\"data row13 col10\" >1 (substrate), ...bstrate status)</td>\n    </tr>\n  </tbody>\n</table>\n"
     },
     "metadata": {},
     "output_type": "display_data"
    }
   ],
   "source": [
    "import aaanalysis as aa\n",
    "df_info = aa.load_dataset()\n",
    "aa.display_df(df=df_info, show_shape=True, max_height=600)"
   ],
   "metadata": {
    "collapsed": false,
    "ExecuteTime": {
     "end_time": "2025-06-17T00:32:05.361207317Z",
     "start_time": "2025-06-17T00:32:02.122928999Z"
    }
   },
   "id": "initial_id"
  },
  {
   "cell_type": "markdown",
   "source": [
    "Load one of the datasets from the overview table by using a name from the 'Dataset' column (e.g., ``name='SEQ_CAPSID'``). The number of proteins per class can be adjusted by the ``n`` parameter:"
   ],
   "metadata": {
    "collapsed": false
   },
   "id": "c8cf5ba416584c24"
  },
  {
   "cell_type": "code",
   "execution_count": 2,
   "outputs": [
    {
     "data": {
      "text/plain": "<IPython.core.display.HTML object>",
      "text/html": "<style type=\"text/css\">\n#T_94605 thead th {\n  background-color: white;\n  color: black;\n}\n#T_94605 tbody tr:nth-child(odd) {\n  background-color: #f2f2f2;\n}\n#T_94605 tbody tr:nth-child(even) {\n  background-color: white;\n}\n#T_94605 th {\n  padding: 5px;\n  white-space: nowrap;\n}\n#T_94605  td {\n  padding: 5px;\n  white-space: nowrap;\n}\n</style>\n<table id=\"T_94605\" style='display:block; max-height: 300px; max-width: 100%; overflow-x: auto; overflow-y: auto;'>\n  <thead>\n    <tr>\n      <th class=\"blank level0\" >&nbsp;</th>\n      <th id=\"T_94605_level0_col0\" class=\"col_heading level0 col0\" >entry</th>\n      <th id=\"T_94605_level0_col1\" class=\"col_heading level0 col1\" >sequence</th>\n      <th id=\"T_94605_level0_col2\" class=\"col_heading level0 col2\" >label</th>\n    </tr>\n  </thead>\n  <tbody>\n    <tr>\n      <th id=\"T_94605_level0_row0\" class=\"row_heading level0 row0\" >1</th>\n      <td id=\"T_94605_row0_col0\" class=\"data row0 col0\" >CAPSID_1</td>\n      <td id=\"T_94605_row0_col1\" class=\"data row0 col1\" >MVTHNVKINKHVTRR...DTPRIPATKLDEENV</td>\n      <td id=\"T_94605_row0_col2\" class=\"data row0 col2\" >0</td>\n    </tr>\n    <tr>\n      <th id=\"T_94605_level0_row1\" class=\"row_heading level0 row1\" >2</th>\n      <td id=\"T_94605_row1_col0\" class=\"data row1 col0\" >CAPSID_2</td>\n      <td id=\"T_94605_row1_col1\" class=\"data row1 col1\" >MKKRQKKMTLSNFTD...AMLEAVINARHFGEE</td>\n      <td id=\"T_94605_row1_col2\" class=\"data row1 col2\" >0</td>\n    </tr>\n    <tr>\n      <th id=\"T_94605_level0_row2\" class=\"row_heading level0 row2\" >3</th>\n      <td id=\"T_94605_row2_col0\" class=\"data row2 col0\" >CAPSID_4072</td>\n      <td id=\"T_94605_row2_col1\" class=\"data row2 col1\" >MALTTNDVITEDFVR...AWKAIFPEAAVKVDA</td>\n      <td id=\"T_94605_row2_col2\" class=\"data row2 col2\" >1</td>\n    </tr>\n    <tr>\n      <th id=\"T_94605_level0_row3\" class=\"row_heading level0 row3\" >4</th>\n      <td id=\"T_94605_row3_col0\" class=\"data row3 col0\" >CAPSID_4073</td>\n      <td id=\"T_94605_row3_col1\" class=\"data row3 col1\" >MGELTDNGVQLAKAQ...TCTNPAAHAKIRDLK</td>\n      <td id=\"T_94605_row3_col2\" class=\"data row3 col2\" >1</td>\n    </tr>\n  </tbody>\n</table>\n"
     },
     "metadata": {},
     "output_type": "display_data"
    }
   ],
   "source": [
    "df_seq = aa.load_dataset(name=\"SEQ_CAPSID\", n=2)\n",
    "aa.display_df(df=df_seq)"
   ],
   "metadata": {
    "collapsed": false,
    "ExecuteTime": {
     "end_time": "2025-06-17T00:32:05.623843318Z",
     "start_time": "2025-06-17T00:32:05.340088605Z"
    }
   },
   "id": "29441ff404197ad8"
  },
  {
   "cell_type": "markdown",
   "source": [
    "The sampling can be performed randomly by setting ``random=True``: "
   ],
   "metadata": {
    "collapsed": false
   },
   "id": "4a1a9e5a2592113c"
  },
  {
   "cell_type": "code",
   "execution_count": 3,
   "outputs": [
    {
     "data": {
      "text/plain": "<IPython.core.display.HTML object>",
      "text/html": "<style type=\"text/css\">\n#T_99cfd thead th {\n  background-color: white;\n  color: black;\n}\n#T_99cfd tbody tr:nth-child(odd) {\n  background-color: #f2f2f2;\n}\n#T_99cfd tbody tr:nth-child(even) {\n  background-color: white;\n}\n#T_99cfd th {\n  padding: 5px;\n  white-space: nowrap;\n}\n#T_99cfd  td {\n  padding: 5px;\n  white-space: nowrap;\n}\n</style>\n<table id=\"T_99cfd\" style='display:block; max-height: 300px; max-width: 100%; overflow-x: auto; overflow-y: auto;'>\n  <thead>\n    <tr>\n      <th class=\"blank level0\" >&nbsp;</th>\n      <th id=\"T_99cfd_level0_col0\" class=\"col_heading level0 col0\" >entry</th>\n      <th id=\"T_99cfd_level0_col1\" class=\"col_heading level0 col1\" >sequence</th>\n      <th id=\"T_99cfd_level0_col2\" class=\"col_heading level0 col2\" >label</th>\n    </tr>\n  </thead>\n  <tbody>\n    <tr>\n      <th id=\"T_99cfd_level0_row0\" class=\"row_heading level0 row0\" >1</th>\n      <td id=\"T_99cfd_row0_col0\" class=\"data row0 col0\" >CAPSID_1080</td>\n      <td id=\"T_99cfd_row0_col1\" class=\"data row0 col1\" >MKFTQFGEKFTRYSG...GINIIAEEVLKAYSE</td>\n      <td id=\"T_99cfd_row0_col2\" class=\"data row0 col2\" >0</td>\n    </tr>\n    <tr>\n      <th id=\"T_99cfd_level0_row1\" class=\"row_heading level0 row1\" >2</th>\n      <td id=\"T_99cfd_row1_col0\" class=\"data row1 col0\" >CAPSID_3847</td>\n      <td id=\"T_99cfd_row1_col1\" class=\"data row1 col1\" >MLAELLSTFRRRPPE...KRAATGYGEGGRRRG</td>\n      <td id=\"T_99cfd_row1_col2\" class=\"data row1 col2\" >0</td>\n    </tr>\n    <tr>\n      <th id=\"T_99cfd_level0_row2\" class=\"row_heading level0 row2\" >3</th>\n      <td id=\"T_99cfd_row2_col0\" class=\"data row2 col0\" >CAPSID_6263</td>\n      <td id=\"T_99cfd_row2_col1\" class=\"data row2 col1\" >MANYQDIAVEFAGDL...QNVVAAARVFRGTGV</td>\n      <td id=\"T_99cfd_row2_col2\" class=\"data row2 col2\" >1</td>\n    </tr>\n    <tr>\n      <th id=\"T_99cfd_level0_row3\" class=\"row_heading level0 row3\" >4</th>\n      <td id=\"T_99cfd_row3_col0\" class=\"data row3 col0\" >CAPSID_5423</td>\n      <td id=\"T_99cfd_row3_col1\" class=\"data row3 col1\" >MGALLAVIAEVAEVS...TTPHRSSKTYSKRRH</td>\n      <td id=\"T_99cfd_row3_col2\" class=\"data row3 col2\" >1</td>\n    </tr>\n  </tbody>\n</table>\n"
     },
     "metadata": {},
     "output_type": "display_data"
    }
   ],
   "source": [
    "df_seq = aa.load_dataset(name=\"SEQ_CAPSID\", n=2, random=True)\n",
    "aa.display_df(df=df_seq)"
   ],
   "metadata": {
    "collapsed": false,
    "ExecuteTime": {
     "end_time": "2025-06-17T00:32:05.906304271Z",
     "start_time": "2025-06-17T00:32:05.616979021Z"
    }
   },
   "id": "117de37987631b8d"
  },
  {
   "cell_type": "markdown",
   "source": [
    "Sequences with non-canonical amino acids are by default removed, which can be disabled by setting ``non_canonical_aa='keep'`` or ``non_canonical_aa='gap'``: "
   ],
   "metadata": {
    "collapsed": false
   },
   "id": "6967245ac7a62253"
  },
  {
   "cell_type": "code",
   "execution_count": 4,
   "outputs": [
    {
     "name": "stdout",
     "output_type": "stream",
     "text": [
      "'SEQ_DISULFIDE' contain 2547 proteins and 2202 after filtering.\n"
     ]
    }
   ],
   "source": [
    "n_unfiltered = len(aa.load_dataset(name='SEQ_DISULFIDE', non_canonical_aa=\"keep\"))\n",
    "n = len(aa.load_dataset(name='SEQ_DISULFIDE'))\n",
    "print(f\"'SEQ_DISULFIDE' contain {n_unfiltered} proteins and {n} after filtering.\")    "
   ],
   "metadata": {
    "collapsed": false,
    "ExecuteTime": {
     "end_time": "2025-06-17T00:32:05.977757660Z",
     "start_time": "2025-06-17T00:32:05.904223105Z"
    }
   },
   "id": "9e706ce1a55dc432"
  },
  {
   "cell_type": "markdown",
   "source": [
    "Datasets can be filtered for the minimum and maximum sequence length using ``min_len`` and ``max_len``:"
   ],
   "metadata": {
    "collapsed": false
   },
   "id": "233639c1f00a80b5"
  },
  {
   "cell_type": "code",
   "execution_count": 5,
   "outputs": [
    {
     "name": "stdout",
     "output_type": "stream",
     "text": [
      "'SEQ_DISULFIDE' contain 2547 proteins, of which 644 have a length between 100 and 200 residues.\n"
     ]
    }
   ],
   "source": [
    "n_len_filtered = len(aa.load_dataset(name='SEQ_DISULFIDE', min_len=100, max_len=200))\n",
    "print(f\"'SEQ_DISULFIDE' contain {n_unfiltered} proteins, of which {n_len_filtered} have a length between 100 and 200 residues.\")   \n"
   ],
   "metadata": {
    "collapsed": false,
    "ExecuteTime": {
     "end_time": "2025-06-17T00:32:06.019322297Z",
     "start_time": "2025-06-17T00:32:05.977334328Z"
    }
   },
   "id": "c509510217042c3e"
  },
  {
   "cell_type": "markdown",
   "source": [
    "For the 'Amino acid level' datasets, the size of the amino acid window can be adjusted using the ``aa_window_size`` parameter:"
   ],
   "metadata": {
    "collapsed": false
   },
   "id": "ff705f6c6c7332be"
  },
  {
   "cell_type": "code",
   "execution_count": 6,
   "outputs": [
    {
     "data": {
      "text/plain": "<IPython.core.display.HTML object>",
      "text/html": "<style type=\"text/css\">\n#T_a99a7 thead th {\n  background-color: white;\n  color: black;\n}\n#T_a99a7 tbody tr:nth-child(odd) {\n  background-color: #f2f2f2;\n}\n#T_a99a7 tbody tr:nth-child(even) {\n  background-color: white;\n}\n#T_a99a7 th {\n  padding: 5px;\n  white-space: nowrap;\n}\n#T_a99a7  td {\n  padding: 5px;\n  white-space: nowrap;\n}\n</style>\n<table id=\"T_a99a7\" style='display:block; max-height: 300px; max-width: 100%; overflow-x: auto; overflow-y: auto;'>\n  <thead>\n    <tr>\n      <th class=\"blank level0\" >&nbsp;</th>\n      <th id=\"T_a99a7_level0_col0\" class=\"col_heading level0 col0\" >entry</th>\n      <th id=\"T_a99a7_level0_col1\" class=\"col_heading level0 col1\" >sequence</th>\n      <th id=\"T_a99a7_level0_col2\" class=\"col_heading level0 col2\" >label</th>\n    </tr>\n  </thead>\n  <tbody>\n    <tr>\n      <th id=\"T_a99a7_level0_row0\" class=\"row_heading level0 row0\" >1</th>\n      <td id=\"T_a99a7_row0_col0\" class=\"data row0 col0\" >CASPASE3_1_pos126</td>\n      <td id=\"T_a99a7_row0_col1\" class=\"data row0 col1\" >LRDSM</td>\n      <td id=\"T_a99a7_row0_col2\" class=\"data row0 col2\" >1</td>\n    </tr>\n    <tr>\n      <th id=\"T_a99a7_level0_row1\" class=\"row_heading level0 row1\" >2</th>\n      <td id=\"T_a99a7_row1_col0\" class=\"data row1 col0\" >CASPASE3_1_pos127</td>\n      <td id=\"T_a99a7_row1_col1\" class=\"data row1 col1\" >RDSML</td>\n      <td id=\"T_a99a7_row1_col2\" class=\"data row1 col2\" >1</td>\n    </tr>\n    <tr>\n      <th id=\"T_a99a7_level0_row2\" class=\"row_heading level0 row2\" >3</th>\n      <td id=\"T_a99a7_row2_col0\" class=\"data row2 col0\" >CASPASE3_1_pos2</td>\n      <td id=\"T_a99a7_row2_col1\" class=\"data row2 col1\" >MSLFD</td>\n      <td id=\"T_a99a7_row2_col2\" class=\"data row2 col2\" >0</td>\n    </tr>\n    <tr>\n      <th id=\"T_a99a7_level0_row3\" class=\"row_heading level0 row3\" >4</th>\n      <td id=\"T_a99a7_row3_col0\" class=\"data row3 col0\" >CASPASE3_1_pos3</td>\n      <td id=\"T_a99a7_row3_col1\" class=\"data row3 col1\" >SLFDL</td>\n      <td id=\"T_a99a7_row3_col2\" class=\"data row3 col2\" >0</td>\n    </tr>\n  </tbody>\n</table>\n"
     },
     "metadata": {},
     "output_type": "display_data"
    }
   ],
   "source": [
    "df_aa = aa.load_dataset(name=\"AA_CASPASE3\", n=2, aa_window_size=5)\n",
    "aa.display_df(df=df_aa)"
   ],
   "metadata": {
    "collapsed": false,
    "ExecuteTime": {
     "end_time": "2025-06-17T00:32:06.567619706Z",
     "start_time": "2025-06-17T00:32:06.018843441Z"
    }
   },
   "id": "9429cb6eb0a0e028"
  },
  {
   "cell_type": "markdown",
   "source": [
    "For Positive-Unlabeled (PU) learning, datasets are provided containing only positive (labeled by '1') and unlabeled data ('2'), indicated by a 'PU' suffix in the 'Dataset' column name:"
   ],
   "metadata": {
    "collapsed": false
   },
   "id": "fc40fc211c4d5dfe"
  },
  {
   "cell_type": "code",
   "execution_count": 7,
   "outputs": [
    {
     "data": {
      "text/plain": "<IPython.core.display.HTML object>",
      "text/html": "<style type=\"text/css\">\n#T_92936 thead th {\n  background-color: white;\n  color: black;\n}\n#T_92936 tbody tr:nth-child(odd) {\n  background-color: #f2f2f2;\n}\n#T_92936 tbody tr:nth-child(even) {\n  background-color: white;\n}\n#T_92936 th {\n  padding: 5px;\n  white-space: nowrap;\n}\n#T_92936  td {\n  padding: 5px;\n  white-space: nowrap;\n}\n</style>\n<table id=\"T_92936\" style='display:block; max-height: 300px; max-width: 100%; overflow-x: auto; overflow-y: auto;'>\n  <thead>\n    <tr>\n      <th class=\"blank level0\" >&nbsp;</th>\n      <th id=\"T_92936_level0_col0\" class=\"col_heading level0 col0\" >entry</th>\n      <th id=\"T_92936_level0_col1\" class=\"col_heading level0 col1\" >sequence</th>\n      <th id=\"T_92936_level0_col2\" class=\"col_heading level0 col2\" >label</th>\n      <th id=\"T_92936_level0_col3\" class=\"col_heading level0 col3\" >tmd_start</th>\n      <th id=\"T_92936_level0_col4\" class=\"col_heading level0 col4\" >tmd_stop</th>\n      <th id=\"T_92936_level0_col5\" class=\"col_heading level0 col5\" >jmd_n</th>\n      <th id=\"T_92936_level0_col6\" class=\"col_heading level0 col6\" >tmd</th>\n      <th id=\"T_92936_level0_col7\" class=\"col_heading level0 col7\" >jmd_c</th>\n    </tr>\n  </thead>\n  <tbody>\n    <tr>\n      <th id=\"T_92936_level0_row0\" class=\"row_heading level0 row0\" >1</th>\n      <td id=\"T_92936_row0_col0\" class=\"data row0 col0\" >P05067</td>\n      <td id=\"T_92936_row0_col1\" class=\"data row0 col1\" >MLPGLALLLLAAWTA...GYENPTYKFFEQMQN</td>\n      <td id=\"T_92936_row0_col2\" class=\"data row0 col2\" >1</td>\n      <td id=\"T_92936_row0_col3\" class=\"data row0 col3\" >701</td>\n      <td id=\"T_92936_row0_col4\" class=\"data row0 col4\" >723</td>\n      <td id=\"T_92936_row0_col5\" class=\"data row0 col5\" >FAEDVGSNKG</td>\n      <td id=\"T_92936_row0_col6\" class=\"data row0 col6\" >AIIGLMVGGVVIATVIVITLVML</td>\n      <td id=\"T_92936_row0_col7\" class=\"data row0 col7\" >KKKQYTSIHH</td>\n    </tr>\n    <tr>\n      <th id=\"T_92936_level0_row1\" class=\"row_heading level0 row1\" >2</th>\n      <td id=\"T_92936_row1_col0\" class=\"data row1 col0\" >P14925</td>\n      <td id=\"T_92936_row1_col1\" class=\"data row1 col1\" >MAGRARSGLLLLLLG...EEEYSAPLPKPAPSS</td>\n      <td id=\"T_92936_row1_col2\" class=\"data row1 col2\" >1</td>\n      <td id=\"T_92936_row1_col3\" class=\"data row1 col3\" >868</td>\n      <td id=\"T_92936_row1_col4\" class=\"data row1 col4\" >890</td>\n      <td id=\"T_92936_row1_col5\" class=\"data row1 col5\" >KLSTEPGSGV</td>\n      <td id=\"T_92936_row1_col6\" class=\"data row1 col6\" >SVVLITTLLVIPVLVLLAIVMFI</td>\n      <td id=\"T_92936_row1_col7\" class=\"data row1 col7\" >RWKKSRAFGD</td>\n    </tr>\n    <tr>\n      <th id=\"T_92936_level0_row2\" class=\"row_heading level0 row2\" >3</th>\n      <td id=\"T_92936_row2_col0\" class=\"data row2 col0\" >P70180</td>\n      <td id=\"T_92936_row2_col1\" class=\"data row2 col1\" >MRSLLLFTFSACVLL...RELREDSIRSHFSVA</td>\n      <td id=\"T_92936_row2_col2\" class=\"data row2 col2\" >1</td>\n      <td id=\"T_92936_row2_col3\" class=\"data row2 col3\" >477</td>\n      <td id=\"T_92936_row2_col4\" class=\"data row2 col4\" >499</td>\n      <td id=\"T_92936_row2_col5\" class=\"data row2 col5\" >PCKSSGGLEE</td>\n      <td id=\"T_92936_row2_col6\" class=\"data row2 col6\" >SAVTGIVVGALLGAGLLMAFYFF</td>\n      <td id=\"T_92936_row2_col7\" class=\"data row2 col7\" >RKKYRITIER</td>\n    </tr>\n    <tr>\n      <th id=\"T_92936_level0_row3\" class=\"row_heading level0 row3\" >4</th>\n      <td id=\"T_92936_row3_col0\" class=\"data row3 col0\" >P12821</td>\n      <td id=\"T_92936_row3_col1\" class=\"data row3 col1\" >MGAASGRRGPGLLLP...SHGPQFGSEVELRHS</td>\n      <td id=\"T_92936_row3_col2\" class=\"data row3 col2\" >2</td>\n      <td id=\"T_92936_row3_col3\" class=\"data row3 col3\" >1257</td>\n      <td id=\"T_92936_row3_col4\" class=\"data row3 col4\" >1276</td>\n      <td id=\"T_92936_row3_col5\" class=\"data row3 col5\" >GLDLDAQQAR</td>\n      <td id=\"T_92936_row3_col6\" class=\"data row3 col6\" >VGQWLLLFLGIALLVATLGL</td>\n      <td id=\"T_92936_row3_col7\" class=\"data row3 col7\" >SQRLFSIRHR</td>\n    </tr>\n    <tr>\n      <th id=\"T_92936_level0_row4\" class=\"row_heading level0 row4\" >5</th>\n      <td id=\"T_92936_row4_col0\" class=\"data row4 col0\" >P36896</td>\n      <td id=\"T_92936_row4_col1\" class=\"data row4 col1\" >MAESAGASSFFPLVV...KKTLSQLSVQEDVKI</td>\n      <td id=\"T_92936_row4_col2\" class=\"data row4 col2\" >2</td>\n      <td id=\"T_92936_row4_col3\" class=\"data row4 col3\" >127</td>\n      <td id=\"T_92936_row4_col4\" class=\"data row4 col4\" >149</td>\n      <td id=\"T_92936_row4_col5\" class=\"data row4 col5\" >EHPSMWGPVE</td>\n      <td id=\"T_92936_row4_col6\" class=\"data row4 col6\" >LVGIIAGPVFLLFLIIIIVFLVI</td>\n      <td id=\"T_92936_row4_col7\" class=\"data row4 col7\" >NYHQRVYHNR</td>\n    </tr>\n    <tr>\n      <th id=\"T_92936_level0_row5\" class=\"row_heading level0 row5\" >6</th>\n      <td id=\"T_92936_row5_col0\" class=\"data row5 col0\" >Q8NER5</td>\n      <td id=\"T_92936_row5_col1\" class=\"data row5 col1\" >MTRALCSALRQALLL...KKTISQLCVKEDCKA</td>\n      <td id=\"T_92936_row5_col2\" class=\"data row5 col2\" >2</td>\n      <td id=\"T_92936_row5_col3\" class=\"data row5 col3\" >114</td>\n      <td id=\"T_92936_row5_col4\" class=\"data row5 col4\" >136</td>\n      <td id=\"T_92936_row5_col5\" class=\"data row5 col5\" >PNAPKLGPME</td>\n      <td id=\"T_92936_row5_col6\" class=\"data row5 col6\" >LAIIITVPVCLLSIAAMLTVWAC</td>\n      <td id=\"T_92936_row5_col7\" class=\"data row5 col7\" >QGRQCSYRKK</td>\n    </tr>\n  </tbody>\n</table>\n"
     },
     "metadata": {},
     "output_type": "display_data"
    }
   ],
   "source": [
    "df_seq = aa.load_dataset(name=\"DOM_GSEC_PU\", n=3)\n",
    "aa.display_df(df=df_seq)"
   ],
   "metadata": {
    "collapsed": false,
    "ExecuteTime": {
     "end_time": "2025-06-17T00:32:06.629147642Z",
     "start_time": "2025-06-17T00:32:06.566274755Z"
    }
   },
   "id": "6af074b2cefe5480"
  }
 ],
 "metadata": {
  "kernelspec": {
   "display_name": "Python 3",
   "language": "python",
   "name": "python3"
  },
  "language_info": {
   "codemirror_mode": {
    "name": "ipython",
    "version": 2
   },
   "file_extension": ".py",
   "mimetype": "text/x-python",
   "name": "python",
   "nbconvert_exporter": "python",
   "pygments_lexer": "ipython2",
   "version": "2.7.6"
  }
 },
 "nbformat": 4,
 "nbformat_minor": 5
}
