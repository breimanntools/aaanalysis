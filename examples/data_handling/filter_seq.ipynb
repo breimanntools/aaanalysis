{
 "cells": [
  {
   "cell_type": "markdown",
   "source": [
    "To demonstrate the ``filter_seq()`` function, we load the ``SEQ_CAPSID`` example dataset (see [Breimann24a]_):"
   ],
   "metadata": {
    "collapsed": false
   },
   "id": "16cfa652f8305a50"
  },
  {
   "cell_type": "code",
   "execution_count": 1,
   "outputs": [],
   "source": [
    "import aaanalysis as aa\n",
    "aa.options[\"verbose\"] = False\n",
    "df_seq = aa.load_dataset(name=\"SEQ_CAPSID\", n=1000)"
   ],
   "metadata": {
    "collapsed": false,
    "ExecuteTime": {
     "end_time": "2025-06-17T00:30:12.000518112Z",
     "start_time": "2025-06-17T00:30:08.663030642Z"
    }
   },
   "id": "f6652f89954b8969"
  },
  {
   "cell_type": "markdown",
   "source": [
    "The ``filter_seq()`` function is a Python wrapper for two different sequence clustering and filtering algorithms, which have to be installed independently of the ``AAanaylsis`` package. Select them by setting the ``method`` parameter to ``cd-hit`` (default) or ``mmseqs``:"
   ],
   "metadata": {
    "collapsed": false
   },
   "id": "9958fde3220f3953"
  },
  {
   "cell_type": "code",
   "execution_count": 2,
   "outputs": [
    {
     "name": "stdout",
     "output_type": "stream",
     "text": [
      "Number of CD-HIT clusters: 2000\n",
      "DataFrame shape: (2000, 4)\n"
     ]
    },
    {
     "data": {
      "text/plain": "<IPython.core.display.HTML object>",
      "text/html": "<style type=\"text/css\">\n#T_078dd thead th {\n  background-color: white;\n  color: black;\n}\n#T_078dd tbody tr:nth-child(odd) {\n  background-color: #f2f2f2;\n}\n#T_078dd tbody tr:nth-child(even) {\n  background-color: white;\n}\n#T_078dd th {\n  padding: 5px;\n  white-space: nowrap;\n}\n#T_078dd  td {\n  padding: 5px;\n  white-space: nowrap;\n}\n</style>\n<table id=\"T_078dd\" style='display:block; max-height: 300px; max-width: 100%; overflow-x: auto; overflow-y: auto;'>\n  <thead>\n    <tr>\n      <th class=\"blank level0\" >&nbsp;</th>\n      <th id=\"T_078dd_level0_col0\" class=\"col_heading level0 col0\" >entry</th>\n      <th id=\"T_078dd_level0_col1\" class=\"col_heading level0 col1\" >cluster</th>\n      <th id=\"T_078dd_level0_col2\" class=\"col_heading level0 col2\" >identity_with_rep</th>\n      <th id=\"T_078dd_level0_col3\" class=\"col_heading level0 col3\" >is_representative</th>\n    </tr>\n  </thead>\n  <tbody>\n    <tr>\n      <th id=\"T_078dd_level0_row0\" class=\"row_heading level0 row0\" >1996</th>\n      <td id=\"T_078dd_row0_col0\" class=\"data row0 col0\" >CAPSID_4517</td>\n      <td id=\"T_078dd_row0_col1\" class=\"data row0 col1\" >1995</td>\n      <td id=\"T_078dd_row0_col2\" class=\"data row0 col2\" >100.000000</td>\n      <td id=\"T_078dd_row0_col3\" class=\"data row0 col3\" >1</td>\n    </tr>\n    <tr>\n      <th id=\"T_078dd_level0_row1\" class=\"row_heading level0 row1\" >1997</th>\n      <td id=\"T_078dd_row1_col0\" class=\"data row1 col0\" >CAPSID_4516</td>\n      <td id=\"T_078dd_row1_col1\" class=\"data row1 col1\" >1996</td>\n      <td id=\"T_078dd_row1_col2\" class=\"data row1 col2\" >100.000000</td>\n      <td id=\"T_078dd_row1_col3\" class=\"data row1 col3\" >1</td>\n    </tr>\n    <tr>\n      <th id=\"T_078dd_level0_row2\" class=\"row_heading level0 row2\" >1998</th>\n      <td id=\"T_078dd_row2_col0\" class=\"data row2 col0\" >CAPSID_4300</td>\n      <td id=\"T_078dd_row2_col1\" class=\"data row2 col1\" >1997</td>\n      <td id=\"T_078dd_row2_col2\" class=\"data row2 col2\" >100.000000</td>\n      <td id=\"T_078dd_row2_col3\" class=\"data row2 col3\" >1</td>\n    </tr>\n    <tr>\n      <th id=\"T_078dd_level0_row3\" class=\"row_heading level0 row3\" >1999</th>\n      <td id=\"T_078dd_row3_col0\" class=\"data row3 col0\" >CAPSID_4108</td>\n      <td id=\"T_078dd_row3_col1\" class=\"data row3 col1\" >1998</td>\n      <td id=\"T_078dd_row3_col2\" class=\"data row3 col2\" >100.000000</td>\n      <td id=\"T_078dd_row3_col3\" class=\"data row3 col3\" >1</td>\n    </tr>\n    <tr>\n      <th id=\"T_078dd_level0_row4\" class=\"row_heading level0 row4\" >2000</th>\n      <td id=\"T_078dd_row4_col0\" class=\"data row4 col0\" >CAPSID_4984</td>\n      <td id=\"T_078dd_row4_col1\" class=\"data row4 col1\" >1999</td>\n      <td id=\"T_078dd_row4_col2\" class=\"data row4 col2\" >100.000000</td>\n      <td id=\"T_078dd_row4_col3\" class=\"data row4 col3\" >1</td>\n    </tr>\n  </tbody>\n</table>\n"
     },
     "metadata": {},
     "output_type": "display_data"
    },
    {
     "name": "stdout",
     "output_type": "stream",
     "text": [
      "Number of MMSeqs2 clusters: 1998\n"
     ]
    }
   ],
   "source": [
    "# Filtering using CD-HIT (default)\n",
    "df_clust = aa.filter_seq(df_seq=df_seq)\n",
    "n_clust = df_clust[\"cluster\"].nunique()\n",
    "print(f\"Number of CD-HIT clusters: {n_clust}\")\n",
    "aa.display_df(df_clust, n_rows=-5, show_shape=True)\n",
    "\n",
    "# Filtering using MMSeqs\n",
    "df_clust = aa.filter_seq(df_seq=df_seq, method=\"mmseqs\")\n",
    "n_clust = df_clust[\"cluster\"].nunique()\n",
    "print(f\"Number of MMSeqs2 clusters: {n_clust}\")"
   ],
   "metadata": {
    "collapsed": false,
    "ExecuteTime": {
     "end_time": "2025-06-17T00:30:25.580176916Z",
     "start_time": "2025-06-17T00:30:12.006362144Z"
    }
   },
   "id": "b9e4f7053030fd3f"
  },
  {
   "cell_type": "markdown",
   "source": [
    "You can obtain a redundancy-reduced set of protein sequences by selecting the representative sequence of each cluster:"
   ],
   "metadata": {
    "collapsed": false
   },
   "id": "7a2d9bf2bf0b9de6"
  },
  {
   "cell_type": "code",
   "execution_count": 3,
   "outputs": [
    {
     "name": "stdout",
     "output_type": "stream",
     "text": [
      "DataFrame shape: (1998, 4)\n"
     ]
    },
    {
     "data": {
      "text/plain": "<IPython.core.display.HTML object>",
      "text/html": "<style type=\"text/css\">\n#T_34954 thead th {\n  background-color: white;\n  color: black;\n}\n#T_34954 tbody tr:nth-child(odd) {\n  background-color: #f2f2f2;\n}\n#T_34954 tbody tr:nth-child(even) {\n  background-color: white;\n}\n#T_34954 th {\n  padding: 5px;\n  white-space: nowrap;\n}\n#T_34954  td {\n  padding: 5px;\n  white-space: nowrap;\n}\n</style>\n<table id=\"T_34954\" style='display:block; max-height: 300px; max-width: 100%; overflow-x: auto; overflow-y: auto;'>\n  <thead>\n    <tr>\n      <th class=\"blank level0\" >&nbsp;</th>\n      <th id=\"T_34954_level0_col0\" class=\"col_heading level0 col0\" >entry</th>\n      <th id=\"T_34954_level0_col1\" class=\"col_heading level0 col1\" >cluster</th>\n      <th id=\"T_34954_level0_col2\" class=\"col_heading level0 col2\" >identity_with_rep</th>\n      <th id=\"T_34954_level0_col3\" class=\"col_heading level0 col3\" >is_representative</th>\n    </tr>\n  </thead>\n  <tbody>\n    <tr>\n      <th id=\"T_34954_level0_row0\" class=\"row_heading level0 row0\" >1996</th>\n      <td id=\"T_34954_row0_col0\" class=\"data row0 col0\" >CAPSID_4936</td>\n      <td id=\"T_34954_row0_col1\" class=\"data row0 col1\" >1993</td>\n      <td id=\"T_34954_row0_col2\" class=\"data row0 col2\" >100.000000</td>\n      <td id=\"T_34954_row0_col3\" class=\"data row0 col3\" >1</td>\n    </tr>\n    <tr>\n      <th id=\"T_34954_level0_row1\" class=\"row_heading level0 row1\" >1997</th>\n      <td id=\"T_34954_row1_col0\" class=\"data row1 col0\" >CAPSID_4968</td>\n      <td id=\"T_34954_row1_col1\" class=\"data row1 col1\" >1994</td>\n      <td id=\"T_34954_row1_col2\" class=\"data row1 col2\" >100.000000</td>\n      <td id=\"T_34954_row1_col3\" class=\"data row1 col3\" >1</td>\n    </tr>\n    <tr>\n      <th id=\"T_34954_level0_row2\" class=\"row_heading level0 row2\" >1998</th>\n      <td id=\"T_34954_row2_col0\" class=\"data row2 col0\" >CAPSID_5002</td>\n      <td id=\"T_34954_row2_col1\" class=\"data row2 col1\" >1995</td>\n      <td id=\"T_34954_row2_col2\" class=\"data row2 col2\" >100.000000</td>\n      <td id=\"T_34954_row2_col3\" class=\"data row2 col3\" >1</td>\n    </tr>\n    <tr>\n      <th id=\"T_34954_level0_row3\" class=\"row_heading level0 row3\" >1999</th>\n      <td id=\"T_34954_row3_col0\" class=\"data row3 col0\" >CAPSID_5037</td>\n      <td id=\"T_34954_row3_col1\" class=\"data row3 col1\" >1996</td>\n      <td id=\"T_34954_row3_col2\" class=\"data row3 col2\" >100.000000</td>\n      <td id=\"T_34954_row3_col3\" class=\"data row3 col3\" >1</td>\n    </tr>\n    <tr>\n      <th id=\"T_34954_level0_row4\" class=\"row_heading level0 row4\" >2000</th>\n      <td id=\"T_34954_row4_col0\" class=\"data row4 col0\" >CAPSID_5069</td>\n      <td id=\"T_34954_row4_col1\" class=\"data row4 col1\" >1997</td>\n      <td id=\"T_34954_row4_col2\" class=\"data row4 col2\" >100.000000</td>\n      <td id=\"T_34954_row4_col3\" class=\"data row4 col3\" >1</td>\n    </tr>\n  </tbody>\n</table>\n"
     },
     "metadata": {},
     "output_type": "display_data"
    }
   ],
   "source": [
    "# Select redundancy-reduced sequences\n",
    "df_selected = df_clust[df_clust[\"is_representative\"] == 1]\n",
    "aa.display_df(df_selected, n_rows=-5, show_shape=True)"
   ],
   "metadata": {
    "collapsed": false,
    "ExecuteTime": {
     "end_time": "2025-06-17T00:30:25.596635765Z",
     "start_time": "2025-06-17T00:30:25.579644325Z"
    }
   },
   "id": "50a17ad119d34446"
  },
  {
   "cell_type": "markdown",
   "source": [
    "To reduce the number of clusters, you can decrease the sequence ``similarity_threshold`` (default=0.9): "
   ],
   "metadata": {
    "collapsed": false
   },
   "id": "ecfdaee3e912adef"
  },
  {
   "cell_type": "code",
   "execution_count": 4,
   "outputs": [
    {
     "name": "stdout",
     "output_type": "stream",
     "text": [
      "Number of CD-HIT clusters: 1584\n",
      "Number of MMSeqs2 clusters: 1603\n"
     ]
    }
   ],
   "source": [
    "# Decrease number of clusters by using lower sequence similarity\n",
    "df_clust = aa.filter_seq(df_seq=df_seq, similarity_threshold=0.5)\n",
    "n_clust = df_clust[\"cluster\"].nunique()\n",
    "print(f\"Number of CD-HIT clusters: {n_clust}\")\n",
    "\n",
    "# Filtering with MMSeqs\n",
    "df_clust = aa.filter_seq(df_seq=df_seq, method=\"mmseqs\", similarity_threshold=0.5)\n",
    "n_clust = df_clust[\"cluster\"].nunique()\n",
    "print(f\"Number of MMSeqs2 clusters: {n_clust}\")"
   ],
   "metadata": {
    "collapsed": false,
    "ExecuteTime": {
     "end_time": "2025-06-17T00:31:07.890317490Z",
     "start_time": "2025-06-17T00:30:25.607990888Z"
    }
   },
   "id": "ef5135c86e164027"
  },
  {
   "cell_type": "markdown",
   "source": [
    "Adjust the length of the subsequence (called 'word' or 'k-mers') using the ``word_size`` parameter, which is optimized by default depending on the similarity threshold:"
   ],
   "metadata": {
    "collapsed": false
   },
   "id": "a40d91e6340341b7"
  },
  {
   "cell_type": "code",
   "execution_count": 5,
   "outputs": [
    {
     "name": "stdout",
     "output_type": "stream",
     "text": [
      "Number of CD-HIT clusters: 1584\n"
     ]
    }
   ],
   "source": [
    "df_clust = aa.filter_seq(df_seq=df_seq, similarity_threshold=0.5, word_size=2)\n",
    "n_clust = df_clust[\"cluster\"].nunique()\n",
    "print(f\"Number of CD-HIT clusters: {n_clust}\")"
   ],
   "metadata": {
    "collapsed": false,
    "ExecuteTime": {
     "end_time": "2025-06-17T00:31:28.533352691Z",
     "start_time": "2025-06-17T00:31:07.901045405Z"
    }
   },
   "id": "7d55920a4d8a2183"
  },
  {
   "cell_type": "markdown",
   "source": [
    "For ``cd-hit``, you can change to local (less strict) sequence identity by setting ``global_identity=False``:"
   ],
   "metadata": {
    "collapsed": false
   },
   "id": "6781e00290a1ac1c"
  },
  {
   "cell_type": "code",
   "execution_count": 6,
   "outputs": [
    {
     "name": "stdout",
     "output_type": "stream",
     "text": [
      "Number of CD-HIT clusters: 1627\n"
     ]
    }
   ],
   "source": [
    "# Clustering with local sequence identity\n",
    "df_clust = aa.filter_seq(df_seq=df_seq, similarity_threshold=0.5, global_identity=False)\n",
    "n_clust = df_clust[\"cluster\"].nunique()\n",
    "print(f\"Number of CD-HIT clusters: {n_clust}\")"
   ],
   "metadata": {
    "collapsed": false,
    "ExecuteTime": {
     "end_time": "2025-06-17T00:31:32.235081616Z",
     "start_time": "2025-06-17T00:31:28.505828157Z"
    }
   },
   "id": "62d0351a3c25f270"
  },
  {
   "cell_type": "markdown",
   "source": [
    "The minimum coverage of the longer and shorter sequence can be adjusted using the ``coverage_long`` and ``coverage_short`` parameters: "
   ],
   "metadata": {
    "collapsed": false
   },
   "id": "a840b486bfb815b1"
  },
  {
   "cell_type": "code",
   "execution_count": 7,
   "outputs": [
    {
     "name": "stdout",
     "output_type": "stream",
     "text": [
      "Number of CD-HIT clusters (high coverage): 1930\n",
      "Number of CD-HIT clusters (low coverage): 1596\n"
     ]
    }
   ],
   "source": [
    "# Clustering with the highest sequence coverage\n",
    "df_clust = aa.filter_seq(df_seq=df_seq, similarity_threshold=0.5, coverage_long=1, coverage_short=1)\n",
    "n_clust = df_clust[\"cluster\"].nunique()\n",
    "print(f\"Number of CD-HIT clusters (high coverage): {n_clust}\")\n",
    "\n",
    "# Clustering with the lowest sequence coverage\n",
    "df_clust = aa.filter_seq(df_seq=df_seq, similarity_threshold=0.5, coverage_long=0.1, coverage_short=0.1)\n",
    "n_clust = df_clust[\"cluster\"].nunique()\n",
    "print(f\"Number of CD-HIT clusters (low coverage): {n_clust}\")"
   ],
   "metadata": {
    "collapsed": false,
    "ExecuteTime": {
     "end_time": "2025-06-17T00:31:47.356075584Z",
     "start_time": "2025-06-17T00:31:32.237533072Z"
    }
   },
   "id": "5da69ca3ad47a131"
  },
  {
   "cell_type": "markdown",
   "source": [
    "To sort the sequences by cluster, set ``sort_clsuters=True`` (default=``False``):"
   ],
   "metadata": {
    "collapsed": false
   },
   "id": "3937ef403556b0e3"
  },
  {
   "cell_type": "code",
   "execution_count": 8,
   "outputs": [],
   "source": [
    "# Sort sequences by clusters\n",
    "df_clust = aa.filter_seq(df_seq=df_seq, sort_clusters=True)"
   ],
   "metadata": {
    "collapsed": false,
    "ExecuteTime": {
     "end_time": "2025-06-17T00:31:47.910283187Z",
     "start_time": "2025-06-17T00:31:47.357292423Z"
    }
   },
   "id": "ce1a5c401c42fe9d"
  },
  {
   "cell_type": "markdown",
   "source": [
    "Multiprocessing can be enabled by using the ``n_jobs`` parameter, which is set to the maximum if ``n_jobs=None``. However, this is only recommend for large datasets: "
   ],
   "metadata": {
    "collapsed": false
   },
   "id": "6c846424f893e427"
  },
  {
   "cell_type": "code",
   "execution_count": 9,
   "outputs": [
    {
     "name": "stdout",
     "output_type": "stream",
     "text": [
      "Time without multiprocessing: 0.54 seconds\n",
      "Time with multiprocessing. 0.68 seconds\n"
     ]
    }
   ],
   "source": [
    "import time\n",
    "\n",
    "# Run without multiprocessing\n",
    "time_start = time.time()\n",
    "df_clust = aa.filter_seq(df_seq=df_seq, n_jobs=1)\n",
    "time_no_mp = round(time.time() - time_start, 2)\n",
    "print(f\"Time without multiprocessing: {time_no_mp} seconds\")\n",
    "\n",
    "# Run with multiprocessing\n",
    "time_start = time.time()\n",
    "df_clust = aa.filter_seq(df_seq=df_seq, n_jobs=3)\n",
    "time_mp = round(time.time() - time_start, 2)\n",
    "print(f\"Time with multiprocessing. {time_mp} seconds\")"
   ],
   "metadata": {
    "collapsed": false,
    "ExecuteTime": {
     "end_time": "2025-06-17T00:31:49.151371761Z",
     "start_time": "2025-06-17T00:31:47.919612961Z"
    }
   },
   "id": "87a6ef861d00ab12"
  },
  {
   "cell_type": "markdown",
   "source": [
    "Set ``verbose=True`` to show the direct messages of the algorithms during processing and in case of errors. This can be very detailed for MMSeqs2 and is therefore not demonstrated here. "
   ],
   "metadata": {
    "collapsed": false
   },
   "id": "9328b8f044d63fc8"
  },
  {
   "cell_type": "code",
   "execution_count": 9,
   "outputs": [],
   "source": [],
   "metadata": {
    "collapsed": false,
    "ExecuteTime": {
     "end_time": "2025-06-17T00:31:49.151675664Z",
     "start_time": "2025-06-17T00:31:49.143017119Z"
    }
   },
   "id": "d0993d1b5f9aa2b"
  }
 ],
 "metadata": {
  "kernelspec": {
   "display_name": "Python 3",
   "language": "python",
   "name": "python3"
  },
  "language_info": {
   "codemirror_mode": {
    "name": "ipython",
    "version": 2
   },
   "file_extension": ".py",
   "mimetype": "text/x-python",
   "name": "python",
   "nbconvert_exporter": "python",
   "pygments_lexer": "ipython2",
   "version": "2.7.6"
  }
 },
 "nbformat": 4,
 "nbformat_minor": 5
}
