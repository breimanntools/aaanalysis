{
 "cells": [
  {
   "cell_type": "markdown",
   "source": [
    "You can obtain a defined amino acid window (a subsequence of defined length) from a protein sequences using the ``SequencePreprocessor().get_aa_window()`` method. We first create an example sequence and the ``SequencePrepreprocessor()`` object as follows:"
   ],
   "metadata": {
    "collapsed": false
   },
   "id": "9c145a5f9339adbb"
  },
  {
   "cell_type": "code",
   "execution_count": 1,
   "outputs": [],
   "source": [
    "import aaanalysis as aa\n",
    "\n",
    "seq = \"ABCDEFGHIJ\"\n",
    "sp = aa.SequencePreprocessor()"
   ],
   "metadata": {
    "collapsed": false,
    "ExecuteTime": {
     "end_time": "2025-06-17T00:33:23.128129819Z",
     "start_time": "2025-06-17T00:33:20.129215994Z"
    }
   },
   "id": "72d98628b21cc579"
  },
  {
   "cell_type": "markdown",
   "source": [
    "Provide the sequence as ``seq`` parameter and specify a stop position using the ``pos_stop`` parameter:"
   ],
   "metadata": {
    "collapsed": false
   },
   "id": "9eaa238a85799db1"
  },
  {
   "cell_type": "code",
   "execution_count": 2,
   "outputs": [
    {
     "name": "stdout",
     "output_type": "stream",
     "text": [
      "ABCDEF\n"
     ]
    }
   ],
   "source": [
    "# Get amino acid window of size 6\n",
    "window = sp.get_aa_window(seq=seq, pos_stop=5)\n",
    "print(window)"
   ],
   "metadata": {
    "collapsed": false,
    "ExecuteTime": {
     "end_time": "2025-06-17T00:33:23.182842764Z",
     "start_time": "2025-06-17T00:33:23.132608113Z"
    }
   },
   "id": "fe88eb596c80ef26"
  },
  {
   "cell_type": "markdown",
   "source": [
    "You can change the start position (default=0) using the ``pos_start`` parameter:"
   ],
   "metadata": {
    "collapsed": false
   },
   "id": "e46c8a3a9dcdd036"
  },
  {
   "cell_type": "code",
   "execution_count": 3,
   "outputs": [
    {
     "name": "stdout",
     "output_type": "stream",
     "text": [
      "CDEF\n"
     ]
    }
   ],
   "source": [
    "# Get amino acid window of size 4\n",
    "window = sp.get_aa_window(seq=seq, pos_start=2, pos_stop=5)\n",
    "print(window)"
   ],
   "metadata": {
    "collapsed": false,
    "ExecuteTime": {
     "end_time": "2025-06-17T00:33:23.216304726Z",
     "start_time": "2025-06-17T00:33:23.139131187Z"
    }
   },
   "id": "7506d677660e735e"
  },
  {
   "cell_type": "markdown",
   "source": [
    "Instead of defining the stop position, you can set a specific length using the ``window_size`` parameter:"
   ],
   "metadata": {
    "collapsed": false
   },
   "id": "e474af83ff5ce2f7"
  },
  {
   "cell_type": "code",
   "execution_count": 4,
   "outputs": [
    {
     "name": "stdout",
     "output_type": "stream",
     "text": [
      "CDEFGHI\n"
     ]
    }
   ],
   "source": [
    "# Get amino acid window of size 7\n",
    "window = sp.get_aa_window(seq=seq, pos_start=2, window_size=7)\n",
    "print(window)"
   ],
   "metadata": {
    "collapsed": false,
    "ExecuteTime": {
     "end_time": "2025-06-17T00:33:23.243635721Z",
     "start_time": "2025-06-17T00:33:23.152980169Z"
    }
   },
   "id": "a47d93cdbe68badb"
  },
  {
   "cell_type": "markdown",
   "source": [
    "If you wish to start counting residue positions from 1 instead of 0, set ``index1=True``:"
   ],
   "metadata": {
    "collapsed": false
   },
   "id": "d29521220c9e05e4"
  },
  {
   "cell_type": "code",
   "execution_count": 5,
   "outputs": [
    {
     "name": "stdout",
     "output_type": "stream",
     "text": [
      "BCDEFGH\n"
     ]
    }
   ],
   "source": [
    "# Get amino acid window of size 7\n",
    "window = sp.get_aa_window(seq=seq, pos_start=2, window_size=7, index1=True)\n",
    "print(window)"
   ],
   "metadata": {
    "collapsed": false,
    "ExecuteTime": {
     "end_time": "2025-06-17T00:33:23.245771895Z",
     "start_time": "2025-06-17T00:33:23.199772041Z"
    }
   },
   "id": "b021192a2224e1c8"
  },
  {
   "cell_type": "markdown",
   "source": [
    "Selecting too long windows could result into ``gaps`` (default='-'), which can be disabled setting ``accept_gaps=False`` (by default enabled): "
   ],
   "metadata": {
    "collapsed": false
   },
   "id": "2bff6d12fa7a1e49"
  },
  {
   "cell_type": "code",
   "execution_count": 6,
   "outputs": [
    {
     "name": "stdout",
     "output_type": "stream",
     "text": [
      "CDEFGHIJ--\n"
     ]
    }
   ],
   "source": [
    "# Get amino acid window of size 10 (two gaps)\n",
    "window = sp.get_aa_window(seq=seq, pos_start=2, window_size=10, accept_gap=True)\n",
    "print(window)"
   ],
   "metadata": {
    "collapsed": false,
    "ExecuteTime": {
     "end_time": "2025-06-17T00:33:23.246283640Z",
     "start_time": "2025-06-17T00:33:23.200036762Z"
    }
   },
   "id": "3a7144777ab13cea"
  }
 ],
 "metadata": {
  "kernelspec": {
   "display_name": "Python 3",
   "language": "python",
   "name": "python3"
  },
  "language_info": {
   "codemirror_mode": {
    "name": "ipython",
    "version": 2
   },
   "file_extension": ".py",
   "mimetype": "text/x-python",
   "name": "python",
   "nbconvert_exporter": "python",
   "pygments_lexer": "ipython2",
   "version": "2.7.6"
  }
 },
 "nbformat": 4,
 "nbformat_minor": 5
}
