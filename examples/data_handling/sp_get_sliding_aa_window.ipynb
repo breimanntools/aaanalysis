{
 "cells": [
  {
   "cell_type": "markdown",
   "source": [
    "You can obtain multiple defined amino acid windows (shifted by 1 residue position towards the C-terminus) from a protein sequences using the ``SequencePreprocessor().get_sliding_aa_window()`` method. We first create an example sequence and the ``SequencePrepreprocessor()`` object as follows:"
   ],
   "metadata": {
    "collapsed": false
   },
   "id": "a3d92c0e51155422"
  },
  {
   "cell_type": "code",
   "execution_count": 1,
   "outputs": [],
   "source": [
    "import aaanalysis as aa\n",
    "\n",
    "seq = \"ABCDEFGHIJ\"\n",
    "sp = aa.SequencePreprocessor()"
   ],
   "metadata": {
    "collapsed": false,
    "ExecuteTime": {
     "end_time": "2025-06-17T00:33:31.356081807Z",
     "start_time": "2025-06-17T00:33:28.345324050Z"
    }
   },
   "id": "6cabbb7fb20d38c8"
  },
  {
   "cell_type": "markdown",
   "source": [
    "Provide the sequence as ``seq`` parameter and specify a stop position using the ``slid_stop`` parameter:"
   ],
   "metadata": {
    "collapsed": false
   },
   "id": "24c057e9809dea54"
  },
  {
   "cell_type": "code",
   "execution_count": 2,
   "outputs": [
    {
     "name": "stdout",
     "output_type": "stream",
     "text": [
      "['ABCDE', 'BCDEF', 'CDEFG', 'DEFGH', 'EFGHI', 'FGHIJ']\n"
     ]
    }
   ],
   "source": [
    "# Get all 6 amino acid windows of size 5\n",
    "list_windows = sp.get_sliding_aa_window(seq=seq, slide_start=0, slide_stop=9)\n",
    "print(list_windows)"
   ],
   "metadata": {
    "collapsed": false,
    "ExecuteTime": {
     "end_time": "2025-06-17T00:33:31.401339583Z",
     "start_time": "2025-06-17T00:33:31.360565523Z"
    }
   },
   "id": "9debfbd66aa3502b"
  },
  {
   "cell_type": "markdown",
   "source": [
    "You can change the start position (default=0) using the ``slide_start`` parameter:"
   ],
   "metadata": {
    "collapsed": false
   },
   "id": "39eb3ef7ab1a5f0c"
  },
  {
   "cell_type": "code",
   "execution_count": 3,
   "outputs": [
    {
     "name": "stdout",
     "output_type": "stream",
     "text": [
      "['DEFGH', 'EFGHI', 'FGHIJ']\n"
     ]
    }
   ],
   "source": [
    "# Get all 3 amino acid windows of size 5\n",
    "list_windows = sp.get_sliding_aa_window(seq=seq, slide_start=3, slide_stop=9)\n",
    "print(list_windows)"
   ],
   "metadata": {
    "collapsed": false,
    "ExecuteTime": {
     "end_time": "2025-06-17T00:33:31.433200316Z",
     "start_time": "2025-06-17T00:33:31.366061915Z"
    }
   },
   "id": "eae3f9e70bb66a1c"
  },
  {
   "cell_type": "markdown",
   "source": [
    "You can adjust the window length using the ``window_size`` parameter:"
   ],
   "metadata": {
    "collapsed": false
   },
   "id": "87364bb627f4e84e"
  },
  {
   "cell_type": "code",
   "execution_count": 4,
   "outputs": [
    {
     "name": "stdout",
     "output_type": "stream",
     "text": [
      "['BCDEFGHI', 'CDEFGHIJ']\n"
     ]
    }
   ],
   "source": [
    "# Get 2 amino acid windows of size 8 (starting from second residue)\n",
    "list_windows = sp.get_sliding_aa_window(seq=seq, slide_start=1, window_size=8)\n",
    "print(list_windows)"
   ],
   "metadata": {
    "collapsed": false,
    "ExecuteTime": {
     "end_time": "2025-06-17T00:33:31.442589663Z",
     "start_time": "2025-06-17T00:33:31.379813934Z"
    }
   },
   "id": "f566512506329f4f"
  },
  {
   "cell_type": "markdown",
   "source": [
    "If you wish to start counting residue positions from 1 instead of 0, set ``index1=True``:"
   ],
   "metadata": {
    "collapsed": false
   },
   "id": "2c7c82b1007d1b79"
  },
  {
   "cell_type": "code",
   "execution_count": 5,
   "outputs": [
    {
     "name": "stdout",
     "output_type": "stream",
     "text": [
      "['ABCDEFGH', 'BCDEFGHI', 'CDEFGHIJ']\n"
     ]
    }
   ],
   "source": [
    "# Get 3 amino acid windows of size 8 (starting from first residue)\n",
    "list_windows = sp.get_sliding_aa_window(seq=seq, slide_start=1, window_size=8, index1=True)\n",
    "print(list_windows)"
   ],
   "metadata": {
    "collapsed": false,
    "ExecuteTime": {
     "end_time": "2025-06-17T00:33:31.444667108Z",
     "start_time": "2025-06-17T00:33:31.425761729Z"
    }
   },
   "id": "3fb5408687c05ffc"
  },
  {
   "cell_type": "markdown",
   "source": [
    "Selecting too long windows could result into ``gaps`` (default='-'), which can be disabled setting ``accept_gaps=False`` (by default enabled). Sliding windows can have gaps when ``slide_stop`` is greater than the sequence length:"
   ],
   "metadata": {
    "collapsed": false
   },
   "id": "5fa8ca2092d254b9"
  },
  {
   "cell_type": "code",
   "execution_count": 6,
   "outputs": [
    {
     "name": "stdout",
     "output_type": "stream",
     "text": [
      "['ABCDEFGHIJ', 'BCDEFGHIJ-', 'CDEFGHIJ--']\n"
     ]
    }
   ],
   "source": [
    "# Get amino acid window of size 10 (until residue position 12)\n",
    "list_windows = sp.get_sliding_aa_window(seq=seq, slide_stop=11, window_size=10, accept_gap=True)\n",
    "print(list_windows)"
   ],
   "metadata": {
    "collapsed": false,
    "ExecuteTime": {
     "end_time": "2025-06-17T00:33:31.444982756Z",
     "start_time": "2025-06-17T00:33:31.425968681Z"
    }
   },
   "id": "2884520826b9763b"
  }
 ],
 "metadata": {
  "kernelspec": {
   "display_name": "Python 3",
   "language": "python",
   "name": "python3"
  },
  "language_info": {
   "codemirror_mode": {
    "name": "ipython",
    "version": 2
   },
   "file_extension": ".py",
   "mimetype": "text/x-python",
   "name": "python",
   "nbconvert_exporter": "python",
   "pygments_lexer": "ipython2",
   "version": "2.7.6"
  }
 },
 "nbformat": 4,
 "nbformat_minor": 5
}
