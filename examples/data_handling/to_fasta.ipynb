{
 "cells": [
  {
   "cell_type": "markdown",
   "source": [
    "You can save a sequence DataFrame ('df_seq') as a FASTA file using the ``to_fasta()`` function:"
   ],
   "metadata": {
    "collapsed": false
   },
   "id": "f0ee27d9e8b873be"
  },
  {
   "cell_type": "code",
   "execution_count": 1,
   "outputs": [
    {
     "data": {
      "text/plain": "<IPython.core.display.HTML object>",
      "text/html": "<style type=\"text/css\">\n#T_ec3cd thead th {\n  background-color: white;\n  color: black;\n}\n#T_ec3cd tbody tr:nth-child(odd) {\n  background-color: #f2f2f2;\n}\n#T_ec3cd tbody tr:nth-child(even) {\n  background-color: white;\n}\n#T_ec3cd th {\n  padding: 5px;\n  white-space: nowrap;\n}\n#T_ec3cd  td {\n  padding: 5px;\n  white-space: nowrap;\n}\n</style>\n<table id=\"T_ec3cd\" style='display:block; max-height: 300px; max-width: 100%; overflow-x: auto; overflow-y: auto;'>\n  <thead>\n    <tr>\n      <th class=\"blank level0\" >&nbsp;</th>\n      <th id=\"T_ec3cd_level0_col0\" class=\"col_heading level0 col0\" >entry</th>\n      <th id=\"T_ec3cd_level0_col1\" class=\"col_heading level0 col1\" >sequence</th>\n      <th id=\"T_ec3cd_level0_col2\" class=\"col_heading level0 col2\" >label</th>\n    </tr>\n  </thead>\n  <tbody>\n    <tr>\n      <th id=\"T_ec3cd_level0_row0\" class=\"row_heading level0 row0\" >1</th>\n      <td id=\"T_ec3cd_row0_col0\" class=\"data row0 col0\" >AMYLO_1</td>\n      <td id=\"T_ec3cd_row0_col1\" class=\"data row0 col1\" >AAAQAA</td>\n      <td id=\"T_ec3cd_row0_col2\" class=\"data row0 col2\" >0</td>\n    </tr>\n    <tr>\n      <th id=\"T_ec3cd_level0_row1\" class=\"row_heading level0 row1\" >2</th>\n      <td id=\"T_ec3cd_row1_col0\" class=\"data row1 col0\" >AMYLO_2</td>\n      <td id=\"T_ec3cd_row1_col1\" class=\"data row1 col1\" >QSSYSS</td>\n      <td id=\"T_ec3cd_row1_col2\" class=\"data row1 col2\" >0</td>\n    </tr>\n    <tr>\n      <th id=\"T_ec3cd_level0_row2\" class=\"row_heading level0 row2\" >3</th>\n      <td id=\"T_ec3cd_row2_col0\" class=\"data row2 col0\" >AMYLO_3</td>\n      <td id=\"T_ec3cd_row2_col1\" class=\"data row2 col1\" >QSYGQQ</td>\n      <td id=\"T_ec3cd_row2_col2\" class=\"data row2 col2\" >0</td>\n    </tr>\n    <tr>\n      <th id=\"T_ec3cd_level0_row3\" class=\"row_heading level0 row3\" >4</th>\n      <td id=\"T_ec3cd_row3_col0\" class=\"data row3 col0\" >AMYLO_4</td>\n      <td id=\"T_ec3cd_row3_col1\" class=\"data row3 col1\" >QSYNPP</td>\n      <td id=\"T_ec3cd_row3_col2\" class=\"data row3 col2\" >0</td>\n    </tr>\n    <tr>\n      <th id=\"T_ec3cd_level0_row4\" class=\"row_heading level0 row4\" >5</th>\n      <td id=\"T_ec3cd_row4_col0\" class=\"data row4 col0\" >AMYLO_5</td>\n      <td id=\"T_ec3cd_row4_col1\" class=\"data row4 col1\" >QSYSGY</td>\n      <td id=\"T_ec3cd_row4_col2\" class=\"data row4 col2\" >0</td>\n    </tr>\n    <tr>\n      <th id=\"T_ec3cd_level0_row5\" class=\"row_heading level0 row5\" >6</th>\n      <td id=\"T_ec3cd_row5_col0\" class=\"data row5 col0\" >AMYLO_6</td>\n      <td id=\"T_ec3cd_row5_col1\" class=\"data row5 col1\" >QTDARN</td>\n      <td id=\"T_ec3cd_row5_col2\" class=\"data row5 col2\" >0</td>\n    </tr>\n    <tr>\n      <th id=\"T_ec3cd_level0_row6\" class=\"row_heading level0 row6\" >7</th>\n      <td id=\"T_ec3cd_row6_col0\" class=\"data row6 col0\" >AMYLO_7</td>\n      <td id=\"T_ec3cd_row6_col1\" class=\"data row6 col1\" >QTEEKK</td>\n      <td id=\"T_ec3cd_row6_col2\" class=\"data row6 col2\" >0</td>\n    </tr>\n    <tr>\n      <th id=\"T_ec3cd_level0_row7\" class=\"row_heading level0 row7\" >8</th>\n      <td id=\"T_ec3cd_row7_col0\" class=\"data row7 col0\" >AMYLO_8</td>\n      <td id=\"T_ec3cd_row7_col1\" class=\"data row7 col1\" >QTFNLF</td>\n      <td id=\"T_ec3cd_row7_col2\" class=\"data row7 col2\" >0</td>\n    </tr>\n    <tr>\n      <th id=\"T_ec3cd_level0_row8\" class=\"row_heading level0 row8\" >9</th>\n      <td id=\"T_ec3cd_row8_col0\" class=\"data row8 col0\" >AMYLO_9</td>\n      <td id=\"T_ec3cd_row8_col1\" class=\"data row8 col1\" >QTNLYG</td>\n      <td id=\"T_ec3cd_row8_col2\" class=\"data row8 col2\" >0</td>\n    </tr>\n    <tr>\n      <th id=\"T_ec3cd_level0_row9\" class=\"row_heading level0 row9\" >10</th>\n      <td id=\"T_ec3cd_row9_col0\" class=\"data row9 col0\" >AMYLO_10</td>\n      <td id=\"T_ec3cd_row9_col1\" class=\"data row9 col1\" >QVGFGN</td>\n      <td id=\"T_ec3cd_row9_col2\" class=\"data row9 col2\" >0</td>\n    </tr>\n    <tr>\n      <th id=\"T_ec3cd_level0_row10\" class=\"row_heading level0 row10\" >11</th>\n      <td id=\"T_ec3cd_row10_col0\" class=\"data row10 col0\" >AMYLO_904</td>\n      <td id=\"T_ec3cd_row10_col1\" class=\"data row10 col1\" >NTVIIE</td>\n      <td id=\"T_ec3cd_row10_col2\" class=\"data row10 col2\" >1</td>\n    </tr>\n    <tr>\n      <th id=\"T_ec3cd_level0_row11\" class=\"row_heading level0 row11\" >12</th>\n      <td id=\"T_ec3cd_row11_col0\" class=\"data row11 col0\" >AMYLO_905</td>\n      <td id=\"T_ec3cd_row11_col1\" class=\"data row11 col1\" >NQQNQY</td>\n      <td id=\"T_ec3cd_row11_col2\" class=\"data row11 col2\" >1</td>\n    </tr>\n    <tr>\n      <th id=\"T_ec3cd_level0_row12\" class=\"row_heading level0 row12\" >13</th>\n      <td id=\"T_ec3cd_row12_col0\" class=\"data row12 col0\" >AMYLO_906</td>\n      <td id=\"T_ec3cd_row12_col1\" class=\"data row12 col1\" >NQNNFV</td>\n      <td id=\"T_ec3cd_row12_col2\" class=\"data row12 col2\" >1</td>\n    </tr>\n    <tr>\n      <th id=\"T_ec3cd_level0_row13\" class=\"row_heading level0 row13\" >14</th>\n      <td id=\"T_ec3cd_row13_col0\" class=\"data row13 col0\" >AMYLO_907</td>\n      <td id=\"T_ec3cd_row13_col1\" class=\"data row13 col1\" >NQIVYK</td>\n      <td id=\"T_ec3cd_row13_col2\" class=\"data row13 col2\" >1</td>\n    </tr>\n    <tr>\n      <th id=\"T_ec3cd_level0_row14\" class=\"row_heading level0 row14\" >15</th>\n      <td id=\"T_ec3cd_row14_col0\" class=\"data row14 col0\" >AMYLO_908</td>\n      <td id=\"T_ec3cd_row14_col1\" class=\"data row14 col1\" >NINKSN</td>\n      <td id=\"T_ec3cd_row14_col2\" class=\"data row14 col2\" >1</td>\n    </tr>\n    <tr>\n      <th id=\"T_ec3cd_level0_row15\" class=\"row_heading level0 row15\" >16</th>\n      <td id=\"T_ec3cd_row15_col0\" class=\"data row15 col0\" >AMYLO_909</td>\n      <td id=\"T_ec3cd_row15_col1\" class=\"data row15 col1\" >NQFNLM</td>\n      <td id=\"T_ec3cd_row15_col2\" class=\"data row15 col2\" >1</td>\n    </tr>\n    <tr>\n      <th id=\"T_ec3cd_level0_row16\" class=\"row_heading level0 row16\" >17</th>\n      <td id=\"T_ec3cd_row16_col0\" class=\"data row16 col0\" >AMYLO_910</td>\n      <td id=\"T_ec3cd_row16_col1\" class=\"data row16 col1\" >NNSGPN</td>\n      <td id=\"T_ec3cd_row16_col2\" class=\"data row16 col2\" >1</td>\n    </tr>\n    <tr>\n      <th id=\"T_ec3cd_level0_row17\" class=\"row_heading level0 row17\" >18</th>\n      <td id=\"T_ec3cd_row17_col0\" class=\"data row17 col0\" >AMYLO_911</td>\n      <td id=\"T_ec3cd_row17_col1\" class=\"data row17 col1\" >NNQQNY</td>\n      <td id=\"T_ec3cd_row17_col2\" class=\"data row17 col2\" >1</td>\n    </tr>\n    <tr>\n      <th id=\"T_ec3cd_level0_row18\" class=\"row_heading level0 row18\" >19</th>\n      <td id=\"T_ec3cd_row18_col0\" class=\"data row18 col0\" >AMYLO_912</td>\n      <td id=\"T_ec3cd_row18_col1\" class=\"data row18 col1\" >NKGAII</td>\n      <td id=\"T_ec3cd_row18_col2\" class=\"data row18 col2\" >1</td>\n    </tr>\n    <tr>\n      <th id=\"T_ec3cd_level0_row19\" class=\"row_heading level0 row19\" >20</th>\n      <td id=\"T_ec3cd_row19_col0\" class=\"data row19 col0\" >AMYLO_913</td>\n      <td id=\"T_ec3cd_row19_col1\" class=\"data row19 col1\" >NNNWSL</td>\n      <td id=\"T_ec3cd_row19_col2\" class=\"data row19 col2\" >1</td>\n    </tr>\n  </tbody>\n</table>\n"
     },
     "metadata": {},
     "output_type": "display_data"
    }
   ],
   "source": [
    "import aaanalysis as aa\n",
    "# Load example dataset\n",
    "df_seq = aa.load_dataset(name=\"SEQ_AMYLO\", n=10)\n",
    "aa.display_df(df_seq)\n",
    "\n",
    "# Save as fasta\n",
    "file_path = \"data/example_FASTA_save.fasta\"\n",
    "aa.to_fasta(df_seq=df_seq, file_path=file_path)"
   ],
   "metadata": {
    "collapsed": false,
    "ExecuteTime": {
     "end_time": "2025-06-17T00:33:41.377570879Z",
     "start_time": "2025-06-17T00:33:38.135366591Z"
    }
   },
   "id": "ce2cecdd1ecb9bb"
  },
  {
   "cell_type": "markdown",
   "source": [
    "The names of the entry and sequence columns from the DataFrame should match with the ``col_id`` and ``col_seq`` parameters:"
   ],
   "metadata": {
    "collapsed": false
   },
   "id": "55a4086bc604b7d4"
  },
  {
   "cell_type": "code",
   "execution_count": 2,
   "outputs": [],
   "source": [
    "# Save DataFrame with specified columns\n",
    "aa.to_fasta(df_seq=df_seq, file_path=file_path, col_seq=\"sequence\", col_id=\"entry\")"
   ],
   "metadata": {
    "collapsed": false,
    "ExecuteTime": {
     "end_time": "2025-06-17T00:33:41.401607888Z",
     "start_time": "2025-06-17T00:33:41.376708238Z"
    }
   },
   "id": "f68fe2865eda699b"
  },
  {
   "cell_type": "markdown",
   "source": [
    "Change the seperator of the FASTA headers using ``sep``: "
   ],
   "metadata": {
    "collapsed": false
   },
   "id": "f4e9c241b8ecfd8e"
  },
  {
   "cell_type": "code",
   "execution_count": 3,
   "outputs": [],
   "source": [
    "aa.to_fasta(df_seq=df_seq, file_path=file_path, sep=\",\")"
   ],
   "metadata": {
    "collapsed": false,
    "ExecuteTime": {
     "end_time": "2025-06-17T00:33:41.436199528Z",
     "start_time": "2025-06-17T00:33:41.387633639Z"
    }
   },
   "id": "7d6deee23d13865a"
  },
  {
   "cell_type": "markdown",
   "source": [
    "Specify the database column using the ``col_db`` parameter:"
   ],
   "metadata": {
    "collapsed": false
   },
   "id": "9c710491fa6c314a"
  },
  {
   "cell_type": "code",
   "execution_count": 4,
   "outputs": [],
   "source": [
    "# Add database (Swiss-Prot) to df_seq\n",
    "df_seq[\"database\"] = \"sp\"\n",
    "# Save FASTA with database information in header\n",
    "aa.to_fasta(df_seq=df_seq, file_path=file_path, col_db=\"database\")"
   ],
   "metadata": {
    "collapsed": false,
    "ExecuteTime": {
     "end_time": "2025-06-17T00:33:41.436492935Z",
     "start_time": "2025-06-17T00:33:41.427873761Z"
    }
   },
   "id": "2ed0a9f63db30118"
  },
  {
   "cell_type": "markdown",
   "source": [
    "To save additional information in the header, use the ``cols_info`` parameter providing other DataFrame column names:"
   ],
   "metadata": {
    "collapsed": false
   },
   "id": "18ac374f588efaa4"
  },
  {
   "cell_type": "code",
   "execution_count": 5,
   "outputs": [],
   "source": [
    "aa.to_fasta(df_seq=df_seq, file_path=file_path, cols_info=[\"label\"])"
   ],
   "metadata": {
    "collapsed": false,
    "ExecuteTime": {
     "end_time": "2025-06-17T00:33:41.436690985Z",
     "start_time": "2025-06-17T00:33:41.428027613Z"
    }
   },
   "id": "5cc9a5413b427192"
  }
 ],
 "metadata": {
  "kernelspec": {
   "display_name": "Python 3",
   "language": "python",
   "name": "python3"
  },
  "language_info": {
   "codemirror_mode": {
    "name": "ipython",
    "version": 2
   },
   "file_extension": ".py",
   "mimetype": "text/x-python",
   "name": "python",
   "nbconvert_exporter": "python",
   "pygments_lexer": "ipython2",
   "version": "2.7.6"
  }
 },
 "nbformat": 4,
 "nbformat_minor": 5
}
