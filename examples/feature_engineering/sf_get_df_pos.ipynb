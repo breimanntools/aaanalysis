{
 "cells": [
  {
   "cell_type": "markdown",
   "source": [
    "To demonstrate the ``SequenceFeature().get_df_pos()`` method, we load the ``DOM_GSEC`` example dataset including its respective features  (see [Breimann25a]_):"
   ],
   "metadata": {
    "collapsed": false
   },
   "id": "44db72fe072b81da"
  },
  {
   "cell_type": "code",
   "execution_count": 1,
   "outputs": [
    {
     "data": {
      "text/plain": "<IPython.core.display.HTML object>",
      "text/html": "<style type=\"text/css\">\n#T_924c3 thead th {\n  background-color: white;\n  color: black;\n}\n#T_924c3 tbody tr:nth-child(odd) {\n  background-color: #f2f2f2;\n}\n#T_924c3 tbody tr:nth-child(even) {\n  background-color: white;\n}\n#T_924c3 th {\n  padding: 5px;\n  white-space: nowrap;\n}\n#T_924c3  td {\n  padding: 5px;\n  white-space: nowrap;\n}\n</style>\n<table id=\"T_924c3\" style='display:block; max-height: 300px; max-width: 100%; overflow-x: auto; overflow-y: auto;'>\n  <thead>\n    <tr>\n      <th class=\"blank level0\" >&nbsp;</th>\n      <th id=\"T_924c3_level0_col0\" class=\"col_heading level0 col0\" >feature</th>\n      <th id=\"T_924c3_level0_col1\" class=\"col_heading level0 col1\" >category</th>\n      <th id=\"T_924c3_level0_col2\" class=\"col_heading level0 col2\" >subcategory</th>\n      <th id=\"T_924c3_level0_col3\" class=\"col_heading level0 col3\" >scale_name</th>\n      <th id=\"T_924c3_level0_col4\" class=\"col_heading level0 col4\" >scale_description</th>\n      <th id=\"T_924c3_level0_col5\" class=\"col_heading level0 col5\" >abs_auc</th>\n      <th id=\"T_924c3_level0_col6\" class=\"col_heading level0 col6\" >abs_mean_dif</th>\n      <th id=\"T_924c3_level0_col7\" class=\"col_heading level0 col7\" >mean_dif</th>\n      <th id=\"T_924c3_level0_col8\" class=\"col_heading level0 col8\" >std_test</th>\n      <th id=\"T_924c3_level0_col9\" class=\"col_heading level0 col9\" >std_ref</th>\n      <th id=\"T_924c3_level0_col10\" class=\"col_heading level0 col10\" >p_val_mann_whitney</th>\n      <th id=\"T_924c3_level0_col11\" class=\"col_heading level0 col11\" >p_val_fdr_bh</th>\n      <th id=\"T_924c3_level0_col12\" class=\"col_heading level0 col12\" >positions</th>\n    </tr>\n  </thead>\n  <tbody>\n    <tr>\n      <th id=\"T_924c3_level0_row0\" class=\"row_heading level0 row0\" >1</th>\n      <td id=\"T_924c3_row0_col0\" class=\"data row0 col0\" >TMD_C_JMD_C-Seg...3,4)-KLEP840101</td>\n      <td id=\"T_924c3_row0_col1\" class=\"data row0 col1\" >Energy</td>\n      <td id=\"T_924c3_row0_col2\" class=\"data row0 col2\" >Charge</td>\n      <td id=\"T_924c3_row0_col3\" class=\"data row0 col3\" >Charge</td>\n      <td id=\"T_924c3_row0_col4\" class=\"data row0 col4\" >Net charge (Kle...n et al., 1984)</td>\n      <td id=\"T_924c3_row0_col5\" class=\"data row0 col5\" >0.301000</td>\n      <td id=\"T_924c3_row0_col6\" class=\"data row0 col6\" >0.140000</td>\n      <td id=\"T_924c3_row0_col7\" class=\"data row0 col7\" >0.140000</td>\n      <td id=\"T_924c3_row0_col8\" class=\"data row0 col8\" >0.111692</td>\n      <td id=\"T_924c3_row0_col9\" class=\"data row0 col9\" >0.110793</td>\n      <td id=\"T_924c3_row0_col10\" class=\"data row0 col10\" >0.001116</td>\n      <td id=\"T_924c3_row0_col11\" class=\"data row0 col11\" >0.004650</td>\n      <td id=\"T_924c3_row0_col12\" class=\"data row0 col12\" >31,32,33,34,35</td>\n    </tr>\n    <tr>\n      <th id=\"T_924c3_level0_row1\" class=\"row_heading level0 row1\" >2</th>\n      <td id=\"T_924c3_row1_col0\" class=\"data row1 col0\" >TMD_C_JMD_C-Seg...3,4)-FINA910104</td>\n      <td id=\"T_924c3_row1_col1\" class=\"data row1 col1\" >Conformation</td>\n      <td id=\"T_924c3_row1_col2\" class=\"data row1 col2\" >α-helix (C-cap)</td>\n      <td id=\"T_924c3_row1_col3\" class=\"data row1 col3\" >α-helix termination</td>\n      <td id=\"T_924c3_row1_col4\" class=\"data row1 col4\" >Helix terminati...n et al., 1991)</td>\n      <td id=\"T_924c3_row1_col5\" class=\"data row1 col5\" >0.295000</td>\n      <td id=\"T_924c3_row1_col6\" class=\"data row1 col6\" >0.129490</td>\n      <td id=\"T_924c3_row1_col7\" class=\"data row1 col7\" >0.129490</td>\n      <td id=\"T_924c3_row1_col8\" class=\"data row1 col8\" >0.111228</td>\n      <td id=\"T_924c3_row1_col9\" class=\"data row1 col9\" >0.125451</td>\n      <td id=\"T_924c3_row1_col10\" class=\"data row1 col10\" >0.001413</td>\n      <td id=\"T_924c3_row1_col11\" class=\"data row1 col11\" >0.005048</td>\n      <td id=\"T_924c3_row1_col12\" class=\"data row1 col12\" >31,32,33,34,35</td>\n    </tr>\n    <tr>\n      <th id=\"T_924c3_level0_row2\" class=\"row_heading level0 row2\" >3</th>\n      <td id=\"T_924c3_row2_col0\" class=\"data row2 col0\" >TMD_C_JMD_C-Seg...6,9)-LEVM760105</td>\n      <td id=\"T_924c3_row2_col1\" class=\"data row2 col1\" >Shape</td>\n      <td id=\"T_924c3_row2_col2\" class=\"data row2 col2\" >Side chain length</td>\n      <td id=\"T_924c3_row2_col3\" class=\"data row2 col3\" >Side chain length</td>\n      <td id=\"T_924c3_row2_col4\" class=\"data row2 col4\" >Radius of gyrat... (Levitt, 1976)</td>\n      <td id=\"T_924c3_row2_col5\" class=\"data row2 col5\" >0.335000</td>\n      <td id=\"T_924c3_row2_col6\" class=\"data row2 col6\" >0.245149</td>\n      <td id=\"T_924c3_row2_col7\" class=\"data row2 col7\" >0.245149</td>\n      <td id=\"T_924c3_row2_col8\" class=\"data row2 col8\" >0.176567</td>\n      <td id=\"T_924c3_row2_col9\" class=\"data row2 col9\" >0.182470</td>\n      <td id=\"T_924c3_row2_col10\" class=\"data row2 col10\" >0.000289</td>\n      <td id=\"T_924c3_row2_col11\" class=\"data row2 col11\" >0.004133</td>\n      <td id=\"T_924c3_row2_col12\" class=\"data row2 col12\" >32,33</td>\n    </tr>\n    <tr>\n      <th id=\"T_924c3_level0_row3\" class=\"row_heading level0 row3\" >4</th>\n      <td id=\"T_924c3_row3_col0\" class=\"data row3 col0\" >TMD_C_JMD_C-Seg...3,4)-HUTJ700102</td>\n      <td id=\"T_924c3_row3_col1\" class=\"data row3 col1\" >Energy</td>\n      <td id=\"T_924c3_row3_col2\" class=\"data row3 col2\" >Entropy</td>\n      <td id=\"T_924c3_row3_col3\" class=\"data row3 col3\" >Entropy</td>\n      <td id=\"T_924c3_row3_col4\" class=\"data row3 col4\" >Absolute entrop...Hutchens, 1970)</td>\n      <td id=\"T_924c3_row3_col5\" class=\"data row3 col5\" >0.306000</td>\n      <td id=\"T_924c3_row3_col6\" class=\"data row3 col6\" >0.155710</td>\n      <td id=\"T_924c3_row3_col7\" class=\"data row3 col7\" >0.155710</td>\n      <td id=\"T_924c3_row3_col8\" class=\"data row3 col8\" >0.104963</td>\n      <td id=\"T_924c3_row3_col9\" class=\"data row3 col9\" >0.136006</td>\n      <td id=\"T_924c3_row3_col10\" class=\"data row3 col10\" >0.000921</td>\n      <td id=\"T_924c3_row3_col11\" class=\"data row3 col11\" >0.004605</td>\n      <td id=\"T_924c3_row3_col12\" class=\"data row3 col12\" >31,32,33,34,35</td>\n    </tr>\n    <tr>\n      <th id=\"T_924c3_level0_row4\" class=\"row_heading level0 row4\" >5</th>\n      <td id=\"T_924c3_row4_col0\" class=\"data row4 col0\" >TMD_C_JMD_C-Seg...6,9)-RADA880106</td>\n      <td id=\"T_924c3_row4_col1\" class=\"data row4 col1\" >ASA/Volume</td>\n      <td id=\"T_924c3_row4_col2\" class=\"data row4 col2\" >Volume</td>\n      <td id=\"T_924c3_row4_col3\" class=\"data row4 col3\" >Accessible surface area (ASA)</td>\n      <td id=\"T_924c3_row4_col4\" class=\"data row4 col4\" >Accessible surf...olfenden, 1988)</td>\n      <td id=\"T_924c3_row4_col5\" class=\"data row4 col5\" >0.342000</td>\n      <td id=\"T_924c3_row4_col6\" class=\"data row4 col6\" >0.180850</td>\n      <td id=\"T_924c3_row4_col7\" class=\"data row4 col7\" >0.180850</td>\n      <td id=\"T_924c3_row4_col8\" class=\"data row4 col8\" >0.138541</td>\n      <td id=\"T_924c3_row4_col9\" class=\"data row4 col9\" >0.145353</td>\n      <td id=\"T_924c3_row4_col10\" class=\"data row4 col10\" >0.000211</td>\n      <td id=\"T_924c3_row4_col11\" class=\"data row4 col11\" >0.005267</td>\n      <td id=\"T_924c3_row4_col12\" class=\"data row4 col12\" >32,33</td>\n    </tr>\n  </tbody>\n</table>\n"
     },
     "metadata": {},
     "output_type": "display_data"
    }
   ],
   "source": [
    "import aaanalysis as aa\n",
    "aa.options[\"verbose\"] = False\n",
    "df_seq = aa.load_dataset(name=\"DOM_GSEC\", n=20)\n",
    "labels = df_seq[\"label\"].to_list()\n",
    "df_feat = aa.load_features(name=\"DOM_GSEC\").head(100)\n",
    "features = df_feat[\"feature\"].to_list()\n",
    "sf = aa.SequenceFeature()\n",
    "df_parts = sf.get_df_parts(df_seq=df_seq)\n",
    "df_feat = sf.get_df_feat(features=features, labels=labels, df_parts=df_parts)\n",
    "aa.display_df(df_feat, n_rows=5)"
   ],
   "metadata": {
    "collapsed": false,
    "ExecuteTime": {
     "end_time": "2025-06-17T01:39:05.364809197Z",
     "start_time": "2025-06-17T01:39:02.807875165Z"
    }
   },
   "id": "52782d517a720181"
  },
  {
   "cell_type": "markdown",
   "source": [
    "``df_feat`` must be provided to create ``df_pos``, containing an aggregated numerical value (``mean_dif`` column by default) per a selected scale category level (``category`` by default):\n"
   ],
   "metadata": {
    "collapsed": false
   },
   "id": "e9aa85e6f7eb8b08"
  },
  {
   "cell_type": "code",
   "execution_count": 2,
   "outputs": [
    {
     "name": "stdout",
     "output_type": "stream",
     "text": [
      "DataFrame shape: (6, 40)\n"
     ]
    },
    {
     "data": {
      "text/plain": "<IPython.core.display.HTML object>",
      "text/html": "<style type=\"text/css\">\n#T_a9c4a thead th {\n  background-color: white;\n  color: black;\n}\n#T_a9c4a tbody tr:nth-child(odd) {\n  background-color: #f2f2f2;\n}\n#T_a9c4a tbody tr:nth-child(even) {\n  background-color: white;\n}\n#T_a9c4a th {\n  padding: 5px;\n  white-space: nowrap;\n}\n#T_a9c4a  td {\n  padding: 5px;\n  white-space: nowrap;\n}\n</style>\n<table id=\"T_a9c4a\" style='display:block; max-height: 300px; max-width: 100%; overflow-x: auto; overflow-y: auto;'>\n  <thead>\n    <tr>\n      <th class=\"blank level0\" >&nbsp;</th>\n      <th id=\"T_a9c4a_level0_col0\" class=\"col_heading level0 col0\" >1</th>\n      <th id=\"T_a9c4a_level0_col1\" class=\"col_heading level0 col1\" >2</th>\n      <th id=\"T_a9c4a_level0_col2\" class=\"col_heading level0 col2\" >3</th>\n      <th id=\"T_a9c4a_level0_col3\" class=\"col_heading level0 col3\" >4</th>\n      <th id=\"T_a9c4a_level0_col4\" class=\"col_heading level0 col4\" >5</th>\n      <th id=\"T_a9c4a_level0_col5\" class=\"col_heading level0 col5\" >6</th>\n      <th id=\"T_a9c4a_level0_col6\" class=\"col_heading level0 col6\" >7</th>\n      <th id=\"T_a9c4a_level0_col7\" class=\"col_heading level0 col7\" >8</th>\n      <th id=\"T_a9c4a_level0_col8\" class=\"col_heading level0 col8\" >9</th>\n      <th id=\"T_a9c4a_level0_col9\" class=\"col_heading level0 col9\" >10</th>\n      <th id=\"T_a9c4a_level0_col10\" class=\"col_heading level0 col10\" >11</th>\n      <th id=\"T_a9c4a_level0_col11\" class=\"col_heading level0 col11\" >12</th>\n      <th id=\"T_a9c4a_level0_col12\" class=\"col_heading level0 col12\" >13</th>\n      <th id=\"T_a9c4a_level0_col13\" class=\"col_heading level0 col13\" >14</th>\n      <th id=\"T_a9c4a_level0_col14\" class=\"col_heading level0 col14\" >15</th>\n      <th id=\"T_a9c4a_level0_col15\" class=\"col_heading level0 col15\" >16</th>\n      <th id=\"T_a9c4a_level0_col16\" class=\"col_heading level0 col16\" >17</th>\n      <th id=\"T_a9c4a_level0_col17\" class=\"col_heading level0 col17\" >18</th>\n      <th id=\"T_a9c4a_level0_col18\" class=\"col_heading level0 col18\" >19</th>\n      <th id=\"T_a9c4a_level0_col19\" class=\"col_heading level0 col19\" >20</th>\n      <th id=\"T_a9c4a_level0_col20\" class=\"col_heading level0 col20\" >21</th>\n      <th id=\"T_a9c4a_level0_col21\" class=\"col_heading level0 col21\" >22</th>\n      <th id=\"T_a9c4a_level0_col22\" class=\"col_heading level0 col22\" >23</th>\n      <th id=\"T_a9c4a_level0_col23\" class=\"col_heading level0 col23\" >24</th>\n      <th id=\"T_a9c4a_level0_col24\" class=\"col_heading level0 col24\" >25</th>\n      <th id=\"T_a9c4a_level0_col25\" class=\"col_heading level0 col25\" >26</th>\n      <th id=\"T_a9c4a_level0_col26\" class=\"col_heading level0 col26\" >27</th>\n      <th id=\"T_a9c4a_level0_col27\" class=\"col_heading level0 col27\" >28</th>\n      <th id=\"T_a9c4a_level0_col28\" class=\"col_heading level0 col28\" >29</th>\n      <th id=\"T_a9c4a_level0_col29\" class=\"col_heading level0 col29\" >30</th>\n      <th id=\"T_a9c4a_level0_col30\" class=\"col_heading level0 col30\" >31</th>\n      <th id=\"T_a9c4a_level0_col31\" class=\"col_heading level0 col31\" >32</th>\n      <th id=\"T_a9c4a_level0_col32\" class=\"col_heading level0 col32\" >33</th>\n      <th id=\"T_a9c4a_level0_col33\" class=\"col_heading level0 col33\" >34</th>\n      <th id=\"T_a9c4a_level0_col34\" class=\"col_heading level0 col34\" >35</th>\n      <th id=\"T_a9c4a_level0_col35\" class=\"col_heading level0 col35\" >36</th>\n      <th id=\"T_a9c4a_level0_col36\" class=\"col_heading level0 col36\" >37</th>\n      <th id=\"T_a9c4a_level0_col37\" class=\"col_heading level0 col37\" >38</th>\n      <th id=\"T_a9c4a_level0_col38\" class=\"col_heading level0 col38\" >39</th>\n      <th id=\"T_a9c4a_level0_col39\" class=\"col_heading level0 col39\" >40</th>\n    </tr>\n  </thead>\n  <tbody>\n    <tr>\n      <th id=\"T_a9c4a_level0_row0\" class=\"row_heading level0 row0\" >ASA/Volume</th>\n      <td id=\"T_a9c4a_row0_col0\" class=\"data row0 col0\" >0.000000</td>\n      <td id=\"T_a9c4a_row0_col1\" class=\"data row0 col1\" >0.000000</td>\n      <td id=\"T_a9c4a_row0_col2\" class=\"data row0 col2\" >0.000000</td>\n      <td id=\"T_a9c4a_row0_col3\" class=\"data row0 col3\" >0.000000</td>\n      <td id=\"T_a9c4a_row0_col4\" class=\"data row0 col4\" >0.000000</td>\n      <td id=\"T_a9c4a_row0_col5\" class=\"data row0 col5\" >-0.059101</td>\n      <td id=\"T_a9c4a_row0_col6\" class=\"data row0 col6\" >-0.040276</td>\n      <td id=\"T_a9c4a_row0_col7\" class=\"data row0 col7\" >-0.040276</td>\n      <td id=\"T_a9c4a_row0_col8\" class=\"data row0 col8\" >-0.059101</td>\n      <td id=\"T_a9c4a_row0_col9\" class=\"data row0 col9\" >-0.040276</td>\n      <td id=\"T_a9c4a_row0_col10\" class=\"data row0 col10\" >0.000000</td>\n      <td id=\"T_a9c4a_row0_col11\" class=\"data row0 col11\" >0.004078</td>\n      <td id=\"T_a9c4a_row0_col12\" class=\"data row0 col12\" >0.000000</td>\n      <td id=\"T_a9c4a_row0_col13\" class=\"data row0 col13\" >0.000000</td>\n      <td id=\"T_a9c4a_row0_col14\" class=\"data row0 col14\" >0.004078</td>\n      <td id=\"T_a9c4a_row0_col15\" class=\"data row0 col15\" >0.000000</td>\n      <td id=\"T_a9c4a_row0_col16\" class=\"data row0 col16\" >0.000000</td>\n      <td id=\"T_a9c4a_row0_col17\" class=\"data row0 col17\" >0.086081</td>\n      <td id=\"T_a9c4a_row0_col18\" class=\"data row0 col18\" >0.000000</td>\n      <td id=\"T_a9c4a_row0_col19\" class=\"data row0 col19\" >0.000000</td>\n      <td id=\"T_a9c4a_row0_col20\" class=\"data row0 col20\" >0.086081</td>\n      <td id=\"T_a9c4a_row0_col21\" class=\"data row0 col21\" >0.000000</td>\n      <td id=\"T_a9c4a_row0_col22\" class=\"data row0 col22\" >0.000000</td>\n      <td id=\"T_a9c4a_row0_col23\" class=\"data row0 col23\" >0.086081</td>\n      <td id=\"T_a9c4a_row0_col24\" class=\"data row0 col24\" >0.000000</td>\n      <td id=\"T_a9c4a_row0_col25\" class=\"data row0 col25\" >0.141517</td>\n      <td id=\"T_a9c4a_row0_col26\" class=\"data row0 col26\" >0.089894</td>\n      <td id=\"T_a9c4a_row0_col27\" class=\"data row0 col27\" >0.093706</td>\n      <td id=\"T_a9c4a_row0_col28\" class=\"data row0 col28\" >0.093706</td>\n      <td id=\"T_a9c4a_row0_col29\" class=\"data row0 col29\" >0.042851</td>\n      <td id=\"T_a9c4a_row0_col30\" class=\"data row0 col30\" >0.145993</td>\n      <td id=\"T_a9c4a_row0_col31\" class=\"data row0 col31\" >0.070463</td>\n      <td id=\"T_a9c4a_row0_col32\" class=\"data row0 col32\" >0.047510</td>\n      <td id=\"T_a9c4a_row0_col33\" class=\"data row0 col33\" >0.055056</td>\n      <td id=\"T_a9c4a_row0_col34\" class=\"data row0 col34\" >0.055056</td>\n      <td id=\"T_a9c4a_row0_col35\" class=\"data row0 col35\" >-0.016557</td>\n      <td id=\"T_a9c4a_row0_col36\" class=\"data row0 col36\" >0.018667</td>\n      <td id=\"T_a9c4a_row0_col37\" class=\"data row0 col37\" >0.000000</td>\n      <td id=\"T_a9c4a_row0_col38\" class=\"data row0 col38\" >0.000000</td>\n      <td id=\"T_a9c4a_row0_col39\" class=\"data row0 col39\" >0.187233</td>\n    </tr>\n    <tr>\n      <th id=\"T_a9c4a_level0_row1\" class=\"row_heading level0 row1\" >Conformation</th>\n      <td id=\"T_a9c4a_row1_col0\" class=\"data row1 col0\" >0.026359</td>\n      <td id=\"T_a9c4a_row1_col1\" class=\"data row1 col1\" >0.000000</td>\n      <td id=\"T_a9c4a_row1_col2\" class=\"data row1 col2\" >0.002911</td>\n      <td id=\"T_a9c4a_row1_col3\" class=\"data row1 col3\" >-0.012762</td>\n      <td id=\"T_a9c4a_row1_col4\" class=\"data row1 col4\" >0.000000</td>\n      <td id=\"T_a9c4a_row1_col5\" class=\"data row1 col5\" >0.002911</td>\n      <td id=\"T_a9c4a_row1_col6\" class=\"data row1 col6\" >-0.051884</td>\n      <td id=\"T_a9c4a_row1_col7\" class=\"data row1 col7\" >0.026359</td>\n      <td id=\"T_a9c4a_row1_col8\" class=\"data row1 col8\" >-0.020537</td>\n      <td id=\"T_a9c4a_row1_col9\" class=\"data row1 col9\" >0.026359</td>\n      <td id=\"T_a9c4a_row1_col10\" class=\"data row1 col10\" >-0.035033</td>\n      <td id=\"T_a9c4a_row1_col11\" class=\"data row1 col11\" >-0.065563</td>\n      <td id=\"T_a9c4a_row1_col12\" class=\"data row1 col12\" >0.002911</td>\n      <td id=\"T_a9c4a_row1_col13\" class=\"data row1 col13\" >-0.112500</td>\n      <td id=\"T_a9c4a_row1_col14\" class=\"data row1 col14\" >-0.039593</td>\n      <td id=\"T_a9c4a_row1_col15\" class=\"data row1 col15\" >0.177800</td>\n      <td id=\"T_a9c4a_row1_col16\" class=\"data row1 col16\" >-0.056972</td>\n      <td id=\"T_a9c4a_row1_col17\" class=\"data row1 col17\" >-0.019602</td>\n      <td id=\"T_a9c4a_row1_col18\" class=\"data row1 col18\" >0.051167</td>\n      <td id=\"T_a9c4a_row1_col19\" class=\"data row1 col19\" >-0.009796</td>\n      <td id=\"T_a9c4a_row1_col20\" class=\"data row1 col20\" >-0.112065</td>\n      <td id=\"T_a9c4a_row1_col21\" class=\"data row1 col21\" >0.051167</td>\n      <td id=\"T_a9c4a_row1_col22\" class=\"data row1 col22\" >0.000000</td>\n      <td id=\"T_a9c4a_row1_col23\" class=\"data row1 col23\" >0.015927</td>\n      <td id=\"T_a9c4a_row1_col24\" class=\"data row1 col24\" >-0.054268</td>\n      <td id=\"T_a9c4a_row1_col25\" class=\"data row1 col25\" >0.060008</td>\n      <td id=\"T_a9c4a_row1_col26\" class=\"data row1 col26\" >-0.005440</td>\n      <td id=\"T_a9c4a_row1_col27\" class=\"data row1 col27\" >0.021499</td>\n      <td id=\"T_a9c4a_row1_col28\" class=\"data row1 col28\" >0.043311</td>\n      <td id=\"T_a9c4a_row1_col29\" class=\"data row1 col29\" >0.026814</td>\n      <td id=\"T_a9c4a_row1_col30\" class=\"data row1 col30\" >0.071730</td>\n      <td id=\"T_a9c4a_row1_col31\" class=\"data row1 col31\" >0.100947</td>\n      <td id=\"T_a9c4a_row1_col32\" class=\"data row1 col32\" >0.130135</td>\n      <td id=\"T_a9c4a_row1_col33\" class=\"data row1 col33\" >0.142818</td>\n      <td id=\"T_a9c4a_row1_col34\" class=\"data row1 col34\" >0.140699</td>\n      <td id=\"T_a9c4a_row1_col35\" class=\"data row1 col35\" >0.144639</td>\n      <td id=\"T_a9c4a_row1_col36\" class=\"data row1 col36\" >0.110996</td>\n      <td id=\"T_a9c4a_row1_col37\" class=\"data row1 col37\" >0.103118</td>\n      <td id=\"T_a9c4a_row1_col38\" class=\"data row1 col38\" >0.103118</td>\n      <td id=\"T_a9c4a_row1_col39\" class=\"data row1 col39\" >0.103118</td>\n    </tr>\n    <tr>\n      <th id=\"T_a9c4a_level0_row2\" class=\"row_heading level0 row2\" >Energy</th>\n      <td id=\"T_a9c4a_row2_col0\" class=\"data row2 col0\" >0.000000</td>\n      <td id=\"T_a9c4a_row2_col1\" class=\"data row2 col1\" >0.000000</td>\n      <td id=\"T_a9c4a_row2_col2\" class=\"data row2 col2\" >0.000000</td>\n      <td id=\"T_a9c4a_row2_col3\" class=\"data row2 col3\" >0.000000</td>\n      <td id=\"T_a9c4a_row2_col4\" class=\"data row2 col4\" >0.000000</td>\n      <td id=\"T_a9c4a_row2_col5\" class=\"data row2 col5\" >0.000000</td>\n      <td id=\"T_a9c4a_row2_col6\" class=\"data row2 col6\" >0.000000</td>\n      <td id=\"T_a9c4a_row2_col7\" class=\"data row2 col7\" >0.000000</td>\n      <td id=\"T_a9c4a_row2_col8\" class=\"data row2 col8\" >0.000000</td>\n      <td id=\"T_a9c4a_row2_col9\" class=\"data row2 col9\" >0.000000</td>\n      <td id=\"T_a9c4a_row2_col10\" class=\"data row2 col10\" >0.000000</td>\n      <td id=\"T_a9c4a_row2_col11\" class=\"data row2 col11\" >0.000000</td>\n      <td id=\"T_a9c4a_row2_col12\" class=\"data row2 col12\" >-0.107934</td>\n      <td id=\"T_a9c4a_row2_col13\" class=\"data row2 col13\" >0.000000</td>\n      <td id=\"T_a9c4a_row2_col14\" class=\"data row2 col14\" >0.000000</td>\n      <td id=\"T_a9c4a_row2_col15\" class=\"data row2 col15\" >-0.011404</td>\n      <td id=\"T_a9c4a_row2_col16\" class=\"data row2 col16\" >0.000000</td>\n      <td id=\"T_a9c4a_row2_col17\" class=\"data row2 col17\" >0.000000</td>\n      <td id=\"T_a9c4a_row2_col18\" class=\"data row2 col18\" >0.010029</td>\n      <td id=\"T_a9c4a_row2_col19\" class=\"data row2 col19\" >-0.107934</td>\n      <td id=\"T_a9c4a_row2_col20\" class=\"data row2 col20\" >-0.072600</td>\n      <td id=\"T_a9c4a_row2_col21\" class=\"data row2 col21\" >0.010029</td>\n      <td id=\"T_a9c4a_row2_col22\" class=\"data row2 col22\" >-0.107934</td>\n      <td id=\"T_a9c4a_row2_col23\" class=\"data row2 col23\" >-0.066433</td>\n      <td id=\"T_a9c4a_row2_col24\" class=\"data row2 col24\" >-0.063350</td>\n      <td id=\"T_a9c4a_row2_col25\" class=\"data row2 col25\" >-0.045898</td>\n      <td id=\"T_a9c4a_row2_col26\" class=\"data row2 col26\" >-0.027333</td>\n      <td id=\"T_a9c4a_row2_col27\" class=\"data row2 col27\" >-0.021444</td>\n      <td id=\"T_a9c4a_row2_col28\" class=\"data row2 col28\" >0.023545</td>\n      <td id=\"T_a9c4a_row2_col29\" class=\"data row2 col29\" >0.010077</td>\n      <td id=\"T_a9c4a_row2_col30\" class=\"data row2 col30\" >0.070978</td>\n      <td id=\"T_a9c4a_row2_col31\" class=\"data row2 col31\" >0.055025</td>\n      <td id=\"T_a9c4a_row2_col32\" class=\"data row2 col32\" >0.015219</td>\n      <td id=\"T_a9c4a_row2_col33\" class=\"data row2 col33\" >0.058613</td>\n      <td id=\"T_a9c4a_row2_col34\" class=\"data row2 col34\" >0.045465</td>\n      <td id=\"T_a9c4a_row2_col35\" class=\"data row2 col35\" >0.051147</td>\n      <td id=\"T_a9c4a_row2_col36\" class=\"data row2 col36\" >-0.068855</td>\n      <td id=\"T_a9c4a_row2_col37\" class=\"data row2 col37\" >0.121590</td>\n      <td id=\"T_a9c4a_row2_col38\" class=\"data row2 col38\" >0.121590</td>\n      <td id=\"T_a9c4a_row2_col39\" class=\"data row2 col39\" >0.121590</td>\n    </tr>\n    <tr>\n      <th id=\"T_a9c4a_level0_row3\" class=\"row_heading level0 row3\" >Polarity</th>\n      <td id=\"T_a9c4a_row3_col0\" class=\"data row3 col0\" >0.000000</td>\n      <td id=\"T_a9c4a_row3_col1\" class=\"data row3 col1\" >0.000000</td>\n      <td id=\"T_a9c4a_row3_col2\" class=\"data row3 col2\" >0.000000</td>\n      <td id=\"T_a9c4a_row3_col3\" class=\"data row3 col3\" >-0.122285</td>\n      <td id=\"T_a9c4a_row3_col4\" class=\"data row3 col4\" >0.000000</td>\n      <td id=\"T_a9c4a_row3_col5\" class=\"data row3 col5\" >-0.079610</td>\n      <td id=\"T_a9c4a_row3_col6\" class=\"data row3 col6\" >-0.100947</td>\n      <td id=\"T_a9c4a_row3_col7\" class=\"data row3 col7\" >-0.079610</td>\n      <td id=\"T_a9c4a_row3_col8\" class=\"data row3 col8\" >-0.079610</td>\n      <td id=\"T_a9c4a_row3_col9\" class=\"data row3 col9\" >-0.079610</td>\n      <td id=\"T_a9c4a_row3_col10\" class=\"data row3 col10\" >-0.122285</td>\n      <td id=\"T_a9c4a_row3_col11\" class=\"data row3 col11\" >0.000000</td>\n      <td id=\"T_a9c4a_row3_col12\" class=\"data row3 col12\" >0.000000</td>\n      <td id=\"T_a9c4a_row3_col13\" class=\"data row3 col13\" >0.000000</td>\n      <td id=\"T_a9c4a_row3_col14\" class=\"data row3 col14\" >0.000000</td>\n      <td id=\"T_a9c4a_row3_col15\" class=\"data row3 col15\" >0.000000</td>\n      <td id=\"T_a9c4a_row3_col16\" class=\"data row3 col16\" >0.000000</td>\n      <td id=\"T_a9c4a_row3_col17\" class=\"data row3 col17\" >0.000000</td>\n      <td id=\"T_a9c4a_row3_col18\" class=\"data row3 col18\" >0.000000</td>\n      <td id=\"T_a9c4a_row3_col19\" class=\"data row3 col19\" >0.000000</td>\n      <td id=\"T_a9c4a_row3_col20\" class=\"data row3 col20\" >0.000000</td>\n      <td id=\"T_a9c4a_row3_col21\" class=\"data row3 col21\" >0.000000</td>\n      <td id=\"T_a9c4a_row3_col22\" class=\"data row3 col22\" >0.000000</td>\n      <td id=\"T_a9c4a_row3_col23\" class=\"data row3 col23\" >0.000000</td>\n      <td id=\"T_a9c4a_row3_col24\" class=\"data row3 col24\" >0.000000</td>\n      <td id=\"T_a9c4a_row3_col25\" class=\"data row3 col25\" >-0.140781</td>\n      <td id=\"T_a9c4a_row3_col26\" class=\"data row3 col26\" >-0.127236</td>\n      <td id=\"T_a9c4a_row3_col27\" class=\"data row3 col27\" >-0.127236</td>\n      <td id=\"T_a9c4a_row3_col28\" class=\"data row3 col28\" >-0.134008</td>\n      <td id=\"T_a9c4a_row3_col29\" class=\"data row3 col29\" >-0.133926</td>\n      <td id=\"T_a9c4a_row3_col30\" class=\"data row3 col30\" >-0.127236</td>\n      <td id=\"T_a9c4a_row3_col31\" class=\"data row3 col31\" >-0.067446</td>\n      <td id=\"T_a9c4a_row3_col32\" class=\"data row3 col32\" >-0.101554</td>\n      <td id=\"T_a9c4a_row3_col33\" class=\"data row3 col33\" >-0.107563</td>\n      <td id=\"T_a9c4a_row3_col34\" class=\"data row3 col34\" >-0.012088</td>\n      <td id=\"T_a9c4a_row3_col35\" class=\"data row3 col35\" >-0.012088</td>\n      <td id=\"T_a9c4a_row3_col36\" class=\"data row3 col36\" >-0.140616</td>\n      <td id=\"T_a9c4a_row3_col37\" class=\"data row3 col37\" >0.000000</td>\n      <td id=\"T_a9c4a_row3_col38\" class=\"data row3 col38\" >0.000000</td>\n      <td id=\"T_a9c4a_row3_col39\" class=\"data row3 col39\" >0.000000</td>\n    </tr>\n    <tr>\n      <th id=\"T_a9c4a_level0_row4\" class=\"row_heading level0 row4\" >Shape</th>\n      <td id=\"T_a9c4a_row4_col0\" class=\"data row4 col0\" >0.096837</td>\n      <td id=\"T_a9c4a_row4_col1\" class=\"data row4 col1\" >-0.082142</td>\n      <td id=\"T_a9c4a_row4_col2\" class=\"data row4 col2\" >0.000000</td>\n      <td id=\"T_a9c4a_row4_col3\" class=\"data row4 col3\" >0.046300</td>\n      <td id=\"T_a9c4a_row4_col4\" class=\"data row4 col4\" >0.020332</td>\n      <td id=\"T_a9c4a_row4_col5\" class=\"data row4 col5\" >-0.056744</td>\n      <td id=\"T_a9c4a_row4_col6\" class=\"data row4 col6\" >-0.022184</td>\n      <td id=\"T_a9c4a_row4_col7\" class=\"data row4 col7\" >0.025681</td>\n      <td id=\"T_a9c4a_row4_col8\" class=\"data row4 col8\" >-0.031325</td>\n      <td id=\"T_a9c4a_row4_col9\" class=\"data row4 col9\" >0.062349</td>\n      <td id=\"T_a9c4a_row4_col10\" class=\"data row4 col10\" >0.007347</td>\n      <td id=\"T_a9c4a_row4_col11\" class=\"data row4 col11\" >-0.125000</td>\n      <td id=\"T_a9c4a_row4_col12\" class=\"data row4 col12\" >0.000000</td>\n      <td id=\"T_a9c4a_row4_col13\" class=\"data row4 col13\" >-0.082142</td>\n      <td id=\"T_a9c4a_row4_col14\" class=\"data row4 col14\" >-0.125000</td>\n      <td id=\"T_a9c4a_row4_col15\" class=\"data row4 col15\" >0.000000</td>\n      <td id=\"T_a9c4a_row4_col16\" class=\"data row4 col16\" >-0.082142</td>\n      <td id=\"T_a9c4a_row4_col17\" class=\"data row4 col17\" >0.000000</td>\n      <td id=\"T_a9c4a_row4_col18\" class=\"data row4 col18\" >0.083999</td>\n      <td id=\"T_a9c4a_row4_col19\" class=\"data row4 col19\" >-0.082142</td>\n      <td id=\"T_a9c4a_row4_col20\" class=\"data row4 col20\" >0.000000</td>\n      <td id=\"T_a9c4a_row4_col21\" class=\"data row4 col21\" >0.083999</td>\n      <td id=\"T_a9c4a_row4_col22\" class=\"data row4 col22\" >0.000000</td>\n      <td id=\"T_a9c4a_row4_col23\" class=\"data row4 col23\" >0.000000</td>\n      <td id=\"T_a9c4a_row4_col24\" class=\"data row4 col24\" >0.000000</td>\n      <td id=\"T_a9c4a_row4_col25\" class=\"data row4 col25\" >0.083999</td>\n      <td id=\"T_a9c4a_row4_col26\" class=\"data row4 col26\" >-0.052823</td>\n      <td id=\"T_a9c4a_row4_col27\" class=\"data row4 col27\" >-0.052823</td>\n      <td id=\"T_a9c4a_row4_col28\" class=\"data row4 col28\" >-0.052823</td>\n      <td id=\"T_a9c4a_row4_col29\" class=\"data row4 col29\" >-0.052823</td>\n      <td id=\"T_a9c4a_row4_col30\" class=\"data row4 col30\" >0.004098</td>\n      <td id=\"T_a9c4a_row4_col31\" class=\"data row4 col31\" >0.034592</td>\n      <td id=\"T_a9c4a_row4_col32\" class=\"data row4 col32\" >0.073556</td>\n      <td id=\"T_a9c4a_row4_col33\" class=\"data row4 col33\" >0.085189</td>\n      <td id=\"T_a9c4a_row4_col34\" class=\"data row4 col34\" >0.050950</td>\n      <td id=\"T_a9c4a_row4_col35\" class=\"data row4 col35\" >0.190450</td>\n      <td id=\"T_a9c4a_row4_col36\" class=\"data row4 col36\" >0.000000</td>\n      <td id=\"T_a9c4a_row4_col37\" class=\"data row4 col37\" >0.153668</td>\n      <td id=\"T_a9c4a_row4_col38\" class=\"data row4 col38\" >0.000000</td>\n      <td id=\"T_a9c4a_row4_col39\" class=\"data row4 col39\" >0.000000</td>\n    </tr>\n  </tbody>\n</table>\n"
     },
     "metadata": {},
     "output_type": "display_data"
    }
   ],
   "source": [
    "df_pos = sf.get_df_pos(df_feat=df_feat)\n",
    "aa.display_df(df_pos, n_rows=5, show_shape=True)"
   ],
   "metadata": {
    "collapsed": false,
    "ExecuteTime": {
     "end_time": "2025-06-17T01:39:05.397959245Z",
     "start_time": "2025-06-17T01:39:04.886359297Z"
    }
   },
   "id": "d7d940ab5babec01"
  },
  {
   "cell_type": "markdown",
   "source": [
    "You can change the considered numerical and categorical columns using the ``col_val`` and ``col_cat`` parameters: "
   ],
   "metadata": {
    "collapsed": false
   },
   "id": "c49ee05b9e6c8c51"
  },
  {
   "cell_type": "code",
   "execution_count": 3,
   "outputs": [
    {
     "name": "stdout",
     "output_type": "stream",
     "text": [
      "DataFrame shape: (35, 40)\n"
     ]
    },
    {
     "data": {
      "text/plain": "<IPython.core.display.HTML object>",
      "text/html": "<style type=\"text/css\">\n#T_8f32f thead th {\n  background-color: white;\n  color: black;\n}\n#T_8f32f tbody tr:nth-child(odd) {\n  background-color: #f2f2f2;\n}\n#T_8f32f tbody tr:nth-child(even) {\n  background-color: white;\n}\n#T_8f32f th {\n  padding: 5px;\n  white-space: nowrap;\n}\n#T_8f32f  td {\n  padding: 5px;\n  white-space: nowrap;\n}\n</style>\n<table id=\"T_8f32f\" style='display:block; max-height: 300px; max-width: 100%; overflow-x: auto; overflow-y: auto;'>\n  <thead>\n    <tr>\n      <th class=\"blank level0\" >&nbsp;</th>\n      <th id=\"T_8f32f_level0_col0\" class=\"col_heading level0 col0\" >1</th>\n      <th id=\"T_8f32f_level0_col1\" class=\"col_heading level0 col1\" >2</th>\n      <th id=\"T_8f32f_level0_col2\" class=\"col_heading level0 col2\" >3</th>\n      <th id=\"T_8f32f_level0_col3\" class=\"col_heading level0 col3\" >4</th>\n      <th id=\"T_8f32f_level0_col4\" class=\"col_heading level0 col4\" >5</th>\n    </tr>\n  </thead>\n  <tbody>\n    <tr>\n      <th id=\"T_8f32f_level0_row0\" class=\"row_heading level0 row0\" >Accessible surface area (ASA)</th>\n      <td id=\"T_8f32f_row0_col0\" class=\"data row0 col0\" >0.000000</td>\n      <td id=\"T_8f32f_row0_col1\" class=\"data row0 col1\" >0.000000</td>\n      <td id=\"T_8f32f_row0_col2\" class=\"data row0 col2\" >0.000000</td>\n      <td id=\"T_8f32f_row0_col3\" class=\"data row0 col3\" >0.000000</td>\n      <td id=\"T_8f32f_row0_col4\" class=\"data row0 col4\" >0.000000</td>\n    </tr>\n    <tr>\n      <th id=\"T_8f32f_level0_row1\" class=\"row_heading level0 row1\" >Amphiphilicity</th>\n      <td id=\"T_8f32f_row1_col0\" class=\"data row1 col0\" >0.000000</td>\n      <td id=\"T_8f32f_row1_col1\" class=\"data row1 col1\" >0.000000</td>\n      <td id=\"T_8f32f_row1_col2\" class=\"data row1 col2\" >0.000000</td>\n      <td id=\"T_8f32f_row1_col3\" class=\"data row1 col3\" >0.000000</td>\n      <td id=\"T_8f32f_row1_col4\" class=\"data row1 col4\" >0.000000</td>\n    </tr>\n    <tr>\n      <th id=\"T_8f32f_level0_row2\" class=\"row_heading level0 row2\" >Amphiphilicity (α-helix)</th>\n      <td id=\"T_8f32f_row2_col0\" class=\"data row2 col0\" >0.000000</td>\n      <td id=\"T_8f32f_row2_col1\" class=\"data row2 col1\" >0.000000</td>\n      <td id=\"T_8f32f_row2_col2\" class=\"data row2 col2\" >0.000000</td>\n      <td id=\"T_8f32f_row2_col3\" class=\"data row2 col3\" >0.000000</td>\n      <td id=\"T_8f32f_row2_col4\" class=\"data row2 col4\" >0.000000</td>\n    </tr>\n    <tr>\n      <th id=\"T_8f32f_level0_row3\" class=\"row_heading level0 row3\" >Backbone-dynamics (-CH)</th>\n      <td id=\"T_8f32f_row3_col0\" class=\"data row3 col0\" >0.000000</td>\n      <td id=\"T_8f32f_row3_col1\" class=\"data row3 col1\" >0.000000</td>\n      <td id=\"T_8f32f_row3_col2\" class=\"data row3 col2\" >0.000000</td>\n      <td id=\"T_8f32f_row3_col3\" class=\"data row3 col3\" >0.000000</td>\n      <td id=\"T_8f32f_row3_col4\" class=\"data row3 col4\" >0.000000</td>\n    </tr>\n    <tr>\n      <th id=\"T_8f32f_level0_row4\" class=\"row_heading level0 row4\" >Buried</th>\n      <td id=\"T_8f32f_row4_col0\" class=\"data row4 col0\" >0.000000</td>\n      <td id=\"T_8f32f_row4_col1\" class=\"data row4 col1\" >0.000000</td>\n      <td id=\"T_8f32f_row4_col2\" class=\"data row4 col2\" >0.000000</td>\n      <td id=\"T_8f32f_row4_col3\" class=\"data row4 col3\" >0.000000</td>\n      <td id=\"T_8f32f_row4_col4\" class=\"data row4 col4\" >0.000000</td>\n    </tr>\n  </tbody>\n</table>\n"
     },
     "metadata": {},
     "output_type": "display_data"
    }
   ],
   "source": [
    "df_pos = sf.get_df_pos(df_feat=df_feat, col_val=\"abs_auc\", col_cat=\"subcategory\")\n",
    "aa.display_df(df_pos, n_rows=5, show_shape=True, n_cols=5)"
   ],
   "metadata": {
    "collapsed": false,
    "ExecuteTime": {
     "end_time": "2025-06-17T01:39:05.402610636Z",
     "start_time": "2025-06-17T01:39:05.335908779Z"
    }
   },
   "id": "50d01042896ee3e8"
  },
  {
   "cell_type": "markdown",
   "source": [
    "The residue positions can be adjusted using the ``start``, ``tmd_len``, ``jmd_n_len``, and ``jmd_c_len`` parameters:"
   ],
   "metadata": {
    "collapsed": false
   },
   "id": "d892070166e56b10"
  },
  {
   "cell_type": "code",
   "execution_count": 4,
   "outputs": [
    {
     "name": "stdout",
     "output_type": "stream",
     "text": [
      "DataFrame shape: (6, 40)\n"
     ]
    },
    {
     "data": {
      "text/plain": "<IPython.core.display.HTML object>",
      "text/html": "<style type=\"text/css\">\n#T_b82a1 thead th {\n  background-color: white;\n  color: black;\n}\n#T_b82a1 tbody tr:nth-child(odd) {\n  background-color: #f2f2f2;\n}\n#T_b82a1 tbody tr:nth-child(even) {\n  background-color: white;\n}\n#T_b82a1 th {\n  padding: 5px;\n  white-space: nowrap;\n}\n#T_b82a1  td {\n  padding: 5px;\n  white-space: nowrap;\n}\n</style>\n<table id=\"T_b82a1\" style='display:block; max-height: 300px; max-width: 100%; overflow-x: auto; overflow-y: auto;'>\n  <thead>\n    <tr>\n      <th class=\"blank level0\" >&nbsp;</th>\n      <th id=\"T_b82a1_level0_col0\" class=\"col_heading level0 col0\" >11</th>\n      <th id=\"T_b82a1_level0_col1\" class=\"col_heading level0 col1\" >12</th>\n      <th id=\"T_b82a1_level0_col2\" class=\"col_heading level0 col2\" >13</th>\n      <th id=\"T_b82a1_level0_col3\" class=\"col_heading level0 col3\" >14</th>\n      <th id=\"T_b82a1_level0_col4\" class=\"col_heading level0 col4\" >15</th>\n    </tr>\n  </thead>\n  <tbody>\n    <tr>\n      <th id=\"T_b82a1_level0_row0\" class=\"row_heading level0 row0\" >ASA/Volume</th>\n      <td id=\"T_b82a1_row0_col0\" class=\"data row0 col0\" >0.000000</td>\n      <td id=\"T_b82a1_row0_col1\" class=\"data row0 col1\" >0.004078</td>\n      <td id=\"T_b82a1_row0_col2\" class=\"data row0 col2\" >0.000000</td>\n      <td id=\"T_b82a1_row0_col3\" class=\"data row0 col3\" >0.000000</td>\n      <td id=\"T_b82a1_row0_col4\" class=\"data row0 col4\" >0.004078</td>\n    </tr>\n    <tr>\n      <th id=\"T_b82a1_level0_row1\" class=\"row_heading level0 row1\" >Conformation</th>\n      <td id=\"T_b82a1_row1_col0\" class=\"data row1 col0\" >-0.035033</td>\n      <td id=\"T_b82a1_row1_col1\" class=\"data row1 col1\" >-0.065563</td>\n      <td id=\"T_b82a1_row1_col2\" class=\"data row1 col2\" >0.002911</td>\n      <td id=\"T_b82a1_row1_col3\" class=\"data row1 col3\" >-0.112500</td>\n      <td id=\"T_b82a1_row1_col4\" class=\"data row1 col4\" >-0.039593</td>\n    </tr>\n    <tr>\n      <th id=\"T_b82a1_level0_row2\" class=\"row_heading level0 row2\" >Energy</th>\n      <td id=\"T_b82a1_row2_col0\" class=\"data row2 col0\" >0.000000</td>\n      <td id=\"T_b82a1_row2_col1\" class=\"data row2 col1\" >0.000000</td>\n      <td id=\"T_b82a1_row2_col2\" class=\"data row2 col2\" >-0.107934</td>\n      <td id=\"T_b82a1_row2_col3\" class=\"data row2 col3\" >0.000000</td>\n      <td id=\"T_b82a1_row2_col4\" class=\"data row2 col4\" >0.000000</td>\n    </tr>\n    <tr>\n      <th id=\"T_b82a1_level0_row3\" class=\"row_heading level0 row3\" >Polarity</th>\n      <td id=\"T_b82a1_row3_col0\" class=\"data row3 col0\" >-0.122285</td>\n      <td id=\"T_b82a1_row3_col1\" class=\"data row3 col1\" >0.000000</td>\n      <td id=\"T_b82a1_row3_col2\" class=\"data row3 col2\" >0.000000</td>\n      <td id=\"T_b82a1_row3_col3\" class=\"data row3 col3\" >0.000000</td>\n      <td id=\"T_b82a1_row3_col4\" class=\"data row3 col4\" >0.000000</td>\n    </tr>\n    <tr>\n      <th id=\"T_b82a1_level0_row4\" class=\"row_heading level0 row4\" >Shape</th>\n      <td id=\"T_b82a1_row4_col0\" class=\"data row4 col0\" >0.007347</td>\n      <td id=\"T_b82a1_row4_col1\" class=\"data row4 col1\" >-0.125000</td>\n      <td id=\"T_b82a1_row4_col2\" class=\"data row4 col2\" >0.000000</td>\n      <td id=\"T_b82a1_row4_col3\" class=\"data row4 col3\" >-0.082142</td>\n      <td id=\"T_b82a1_row4_col4\" class=\"data row4 col4\" >-0.125000</td>\n    </tr>\n  </tbody>\n</table>\n"
     },
     "metadata": {},
     "output_type": "display_data"
    }
   ],
   "source": [
    "# Shift positions by 10 residues\n",
    "df_pos = sf.get_df_pos(df_feat=df_feat, start=11)\n",
    "aa.display_df(df_pos, n_rows=5, show_shape=True, n_cols=5)"
   ],
   "metadata": {
    "collapsed": false,
    "ExecuteTime": {
     "end_time": "2025-06-17T01:39:05.470492616Z",
     "start_time": "2025-06-17T01:39:05.336256837Z"
    }
   },
   "id": "6ac3f0b75f8b41ad"
  },
  {
   "cell_type": "code",
   "execution_count": 5,
   "outputs": [
    {
     "name": "stdout",
     "output_type": "stream",
     "text": [
      "DataFrame shape: (6, 70)\n"
     ]
    },
    {
     "data": {
      "text/plain": "<IPython.core.display.HTML object>",
      "text/html": "<style type=\"text/css\">\n#T_28c9a thead th {\n  background-color: white;\n  color: black;\n}\n#T_28c9a tbody tr:nth-child(odd) {\n  background-color: #f2f2f2;\n}\n#T_28c9a tbody tr:nth-child(even) {\n  background-color: white;\n}\n#T_28c9a th {\n  padding: 5px;\n  white-space: nowrap;\n}\n#T_28c9a  td {\n  padding: 5px;\n  white-space: nowrap;\n}\n</style>\n<table id=\"T_28c9a\" style='display:block; max-height: 300px; max-width: 100%; overflow-x: auto; overflow-y: auto;'>\n  <thead>\n    <tr>\n      <th class=\"blank level0\" >&nbsp;</th>\n      <th id=\"T_28c9a_level0_col0\" class=\"col_heading level0 col0\" >1</th>\n      <th id=\"T_28c9a_level0_col1\" class=\"col_heading level0 col1\" >2</th>\n      <th id=\"T_28c9a_level0_col2\" class=\"col_heading level0 col2\" >3</th>\n      <th id=\"T_28c9a_level0_col3\" class=\"col_heading level0 col3\" >4</th>\n      <th id=\"T_28c9a_level0_col4\" class=\"col_heading level0 col4\" >5</th>\n    </tr>\n  </thead>\n  <tbody>\n    <tr>\n      <th id=\"T_28c9a_level0_row0\" class=\"row_heading level0 row0\" >ASA/Volume</th>\n      <td id=\"T_28c9a_row0_col0\" class=\"data row0 col0\" >0.000000</td>\n      <td id=\"T_28c9a_row0_col1\" class=\"data row0 col1\" >0.000000</td>\n      <td id=\"T_28c9a_row0_col2\" class=\"data row0 col2\" >0.000000</td>\n      <td id=\"T_28c9a_row0_col3\" class=\"data row0 col3\" >0.000000</td>\n      <td id=\"T_28c9a_row0_col4\" class=\"data row0 col4\" >0.000000</td>\n    </tr>\n    <tr>\n      <th id=\"T_28c9a_level0_row1\" class=\"row_heading level0 row1\" >Conformation</th>\n      <td id=\"T_28c9a_row1_col0\" class=\"data row1 col0\" >0.026359</td>\n      <td id=\"T_28c9a_row1_col1\" class=\"data row1 col1\" >0.000000</td>\n      <td id=\"T_28c9a_row1_col2\" class=\"data row1 col2\" >0.002911</td>\n      <td id=\"T_28c9a_row1_col3\" class=\"data row1 col3\" >-0.012762</td>\n      <td id=\"T_28c9a_row1_col4\" class=\"data row1 col4\" >0.000000</td>\n    </tr>\n    <tr>\n      <th id=\"T_28c9a_level0_row2\" class=\"row_heading level0 row2\" >Energy</th>\n      <td id=\"T_28c9a_row2_col0\" class=\"data row2 col0\" >0.000000</td>\n      <td id=\"T_28c9a_row2_col1\" class=\"data row2 col1\" >0.000000</td>\n      <td id=\"T_28c9a_row2_col2\" class=\"data row2 col2\" >0.000000</td>\n      <td id=\"T_28c9a_row2_col3\" class=\"data row2 col3\" >0.000000</td>\n      <td id=\"T_28c9a_row2_col4\" class=\"data row2 col4\" >0.000000</td>\n    </tr>\n    <tr>\n      <th id=\"T_28c9a_level0_row3\" class=\"row_heading level0 row3\" >Polarity</th>\n      <td id=\"T_28c9a_row3_col0\" class=\"data row3 col0\" >0.000000</td>\n      <td id=\"T_28c9a_row3_col1\" class=\"data row3 col1\" >0.000000</td>\n      <td id=\"T_28c9a_row3_col2\" class=\"data row3 col2\" >0.000000</td>\n      <td id=\"T_28c9a_row3_col3\" class=\"data row3 col3\" >-0.122285</td>\n      <td id=\"T_28c9a_row3_col4\" class=\"data row3 col4\" >0.000000</td>\n    </tr>\n    <tr>\n      <th id=\"T_28c9a_level0_row4\" class=\"row_heading level0 row4\" >Shape</th>\n      <td id=\"T_28c9a_row4_col0\" class=\"data row4 col0\" >0.096837</td>\n      <td id=\"T_28c9a_row4_col1\" class=\"data row4 col1\" >-0.082142</td>\n      <td id=\"T_28c9a_row4_col2\" class=\"data row4 col2\" >0.000000</td>\n      <td id=\"T_28c9a_row4_col3\" class=\"data row4 col3\" >0.046300</td>\n      <td id=\"T_28c9a_row4_col4\" class=\"data row4 col4\" >0.020332</td>\n    </tr>\n  </tbody>\n</table>\n"
     },
     "metadata": {},
     "output_type": "display_data"
    }
   ],
   "source": [
    "# Increase TMD length from 20 to 50\n",
    "df_pos = sf.get_df_pos(df_feat=df_feat, tmd_len=50)\n",
    "aa.display_df(df_pos, n_rows=5, show_shape=True, n_cols=5)"
   ],
   "metadata": {
    "collapsed": false,
    "ExecuteTime": {
     "end_time": "2025-06-17T01:39:05.705142642Z",
     "start_time": "2025-06-17T01:39:05.460210846Z"
    }
   },
   "id": "d644a42225d47796"
  },
  {
   "cell_type": "markdown",
   "source": [
    "You can select a specific parts and normalize results using the ``list_parts`` and ``normalize`` parameters:"
   ],
   "metadata": {
    "collapsed": false
   },
   "id": "701f0e2055c95a28"
  },
  {
   "cell_type": "code",
   "execution_count": 6,
   "outputs": [
    {
     "data": {
      "text/plain": "<IPython.core.display.HTML object>",
      "text/html": "<style type=\"text/css\">\n#T_ca346 thead th {\n  background-color: white;\n  color: black;\n}\n#T_ca346 tbody tr:nth-child(odd) {\n  background-color: #f2f2f2;\n}\n#T_ca346 tbody tr:nth-child(even) {\n  background-color: white;\n}\n#T_ca346 th {\n  padding: 5px;\n  white-space: nowrap;\n}\n#T_ca346  td {\n  padding: 5px;\n  white-space: nowrap;\n}\n</style>\n<table id=\"T_ca346\" style='display:block; max-height: 300px; max-width: 100%; overflow-x: auto; overflow-y: auto;'>\n  <thead>\n    <tr>\n      <th class=\"blank level0\" >&nbsp;</th>\n      <th id=\"T_ca346_level0_col0\" class=\"col_heading level0 col0\" >jmd_c</th>\n    </tr>\n  </thead>\n  <tbody>\n    <tr>\n      <th id=\"T_ca346_level0_row0\" class=\"row_heading level0 row0\" >ASA/Volume</th>\n      <td id=\"T_ca346_row0_col0\" class=\"data row0 col0\" >0.476542</td>\n    </tr>\n    <tr>\n      <th id=\"T_ca346_level0_row1\" class=\"row_heading level0 row1\" >Conformation</th>\n      <td id=\"T_ca346_row1_col0\" class=\"data row1 col0\" >0.973787</td>\n    </tr>\n    <tr>\n      <th id=\"T_ca346_level0_row2\" class=\"row_heading level0 row2\" >Energy</th>\n      <td id=\"T_ca346_row2_col0\" class=\"data row2 col0\" >0.501020</td>\n    </tr>\n    <tr>\n      <th id=\"T_ca346_level0_row3\" class=\"row_heading level0 row3\" >Polarity</th>\n      <td id=\"T_ca346_row3_col0\" class=\"data row3 col0\" >-0.480913</td>\n    </tr>\n    <tr>\n      <th id=\"T_ca346_level0_row4\" class=\"row_heading level0 row4\" >Shape</th>\n      <td id=\"T_ca346_row4_col0\" class=\"data row4 col0\" >0.501140</td>\n    </tr>\n    <tr>\n      <th id=\"T_ca346_level0_row5\" class=\"row_heading level0 row5\" >Structure-Activity</th>\n      <td id=\"T_ca346_row5_col0\" class=\"data row5 col0\" >-0.117262</td>\n    </tr>\n  </tbody>\n</table>\n"
     },
     "metadata": {},
     "output_type": "display_data"
    }
   ],
   "source": [
    "df_pos = sf.get_df_pos(df_feat=df_feat, list_parts=[\"jmd_c\"], normalize=True)\n",
    "aa.display_df(df_pos)"
   ],
   "metadata": {
    "collapsed": false,
    "ExecuteTime": {
     "end_time": "2025-06-17T01:39:05.873855067Z",
     "start_time": "2025-06-17T01:39:05.714678797Z"
    }
   },
   "id": "434d0f849f22863a"
  }
 ],
 "metadata": {
  "kernelspec": {
   "display_name": "Python 3",
   "language": "python",
   "name": "python3"
  },
  "language_info": {
   "codemirror_mode": {
    "name": "ipython",
    "version": 2
   },
   "file_extension": ".py",
   "mimetype": "text/x-python",
   "name": "python",
   "nbconvert_exporter": "python",
   "pygments_lexer": "ipython2",
   "version": "2.7.6"
  }
 },
 "nbformat": 4,
 "nbformat_minor": 5
}
