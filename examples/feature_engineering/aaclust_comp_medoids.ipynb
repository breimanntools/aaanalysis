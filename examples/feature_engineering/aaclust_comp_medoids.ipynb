{
 "cells": [
  {
   "cell_type": "markdown",
   "source": [
    "The representative samples for each cluster (called 'medoids') can be obtained using the ``AAclust().comp_medoids()`` method:"
   ],
   "metadata": {
    "collapsed": false
   },
   "id": "e85f68743d0f6ae6"
  },
  {
   "cell_type": "code",
   "execution_count": 1,
   "outputs": [
    {
     "data": {
      "text/plain": "<IPython.core.display.HTML object>",
      "text/html": "<style type=\"text/css\">\n#T_11204 thead th {\n  background-color: white;\n  color: black;\n}\n#T_11204 tbody tr:nth-child(odd) {\n  background-color: #f2f2f2;\n}\n#T_11204 tbody tr:nth-child(even) {\n  background-color: white;\n}\n#T_11204 th {\n  padding: 5px;\n  white-space: nowrap;\n}\n#T_11204  td {\n  padding: 5px;\n  white-space: nowrap;\n}\n</style>\n<table id=\"T_11204\" style='display:block; max-height: 300px; max-width: 100%; overflow-x: auto; overflow-y: auto;'>\n  <thead>\n    <tr>\n      <th class=\"blank level0\" >&nbsp;</th>\n      <th id=\"T_11204_level0_col0\" class=\"col_heading level0 col0\" >Cluster 4</th>\n      <th id=\"T_11204_level0_col1\" class=\"col_heading level0 col1\" >Cluster 2</th>\n      <th id=\"T_11204_level0_col2\" class=\"col_heading level0 col2\" >Cluster 1</th>\n      <th id=\"T_11204_level0_col3\" class=\"col_heading level0 col3\" >Cluster 3</th>\n      <th id=\"T_11204_level0_col4\" class=\"col_heading level0 col4\" >Cluster 0</th>\n    </tr>\n    <tr>\n      <th class=\"index_name level0\" >AA</th>\n      <th class=\"blank col0\" >&nbsp;</th>\n      <th class=\"blank col1\" >&nbsp;</th>\n      <th class=\"blank col2\" >&nbsp;</th>\n      <th class=\"blank col3\" >&nbsp;</th>\n      <th class=\"blank col4\" >&nbsp;</th>\n    </tr>\n  </thead>\n  <tbody>\n    <tr>\n      <th id=\"T_11204_level0_row0\" class=\"row_heading level0 row0\" >A</th>\n      <td id=\"T_11204_row0_col0\" class=\"data row0 col0\" >0.863000</td>\n      <td id=\"T_11204_row0_col1\" class=\"data row0 col1\" >0.908000</td>\n      <td id=\"T_11204_row0_col2\" class=\"data row0 col2\" >0.174000</td>\n      <td id=\"T_11204_row0_col3\" class=\"data row0 col3\" >0.100000</td>\n      <td id=\"T_11204_row0_col4\" class=\"data row0 col4\" >0.616000</td>\n    </tr>\n    <tr>\n      <th id=\"T_11204_level0_row1\" class=\"row_heading level0 row1\" >C</th>\n      <td id=\"T_11204_row1_col0\" class=\"data row1 col0\" >0.589000</td>\n      <td id=\"T_11204_row1_col1\" class=\"data row1 col1\" >0.454000</td>\n      <td id=\"T_11204_row1_col2\" class=\"data row1 col2\" >0.115000</td>\n      <td id=\"T_11204_row1_col3\" class=\"data row1 col3\" >0.200000</td>\n      <td id=\"T_11204_row1_col4\" class=\"data row1 col4\" >0.680000</td>\n    </tr>\n    <tr>\n      <th id=\"T_11204_level0_row2\" class=\"row_heading level0 row2\" >D</th>\n      <td id=\"T_11204_row2_col0\" class=\"data row2 col0\" >0.619000</td>\n      <td id=\"T_11204_row2_col1\" class=\"data row2 col1\" >0.532000</td>\n      <td id=\"T_11204_row2_col2\" class=\"data row2 col2\" >1.000000</td>\n      <td id=\"T_11204_row2_col3\" class=\"data row2 col3\" >0.400000</td>\n      <td id=\"T_11204_row2_col4\" class=\"data row2 col4\" >0.028000</td>\n    </tr>\n    <tr>\n      <th id=\"T_11204_level0_row3\" class=\"row_heading level0 row3\" >E</th>\n      <td id=\"T_11204_row3_col0\" class=\"data row3 col0\" >0.495000</td>\n      <td id=\"T_11204_row3_col1\" class=\"data row3 col1\" >0.979000</td>\n      <td id=\"T_11204_row3_col2\" class=\"data row3 col2\" >0.802000</td>\n      <td id=\"T_11204_row3_col3\" class=\"data row3 col3\" >0.500000</td>\n      <td id=\"T_11204_row3_col4\" class=\"data row3 col4\" >0.043000</td>\n    </tr>\n    <tr>\n      <th id=\"T_11204_level0_row4\" class=\"row_heading level0 row4\" >F</th>\n      <td id=\"T_11204_row4_col0\" class=\"data row4 col0\" >0.463000</td>\n      <td id=\"T_11204_row4_col1\" class=\"data row4 col1\" >0.688000</td>\n      <td id=\"T_11204_row4_col2\" class=\"data row4 col2\" >0.068000</td>\n      <td id=\"T_11204_row4_col3\" class=\"data row4 col3\" >0.700000</td>\n      <td id=\"T_11204_row4_col4\" class=\"data row4 col4\" >1.000000</td>\n    </tr>\n    <tr>\n      <th id=\"T_11204_level0_row5\" class=\"row_heading level0 row5\" >G</th>\n      <td id=\"T_11204_row5_col0\" class=\"data row5 col0\" >1.000000</td>\n      <td id=\"T_11204_row5_col1\" class=\"data row5 col1\" >0.135000</td>\n      <td id=\"T_11204_row5_col2\" class=\"data row5 col2\" >0.328000</td>\n      <td id=\"T_11204_row5_col3\" class=\"data row5 col3\" >0.000000</td>\n      <td id=\"T_11204_row5_col4\" class=\"data row5 col4\" >0.501000</td>\n    </tr>\n    <tr>\n      <th id=\"T_11204_level0_row6\" class=\"row_heading level0 row6\" >H</th>\n      <td id=\"T_11204_row6_col0\" class=\"data row6 col0\" >0.269000</td>\n      <td id=\"T_11204_row6_col1\" class=\"data row6 col1\" >0.553000</td>\n      <td id=\"T_11204_row6_col2\" class=\"data row6 col2\" >0.650000</td>\n      <td id=\"T_11204_row6_col3\" class=\"data row6 col3\" >0.600000</td>\n      <td id=\"T_11204_row6_col4\" class=\"data row6 col4\" >0.165000</td>\n    </tr>\n    <tr>\n      <th id=\"T_11204_level0_row7\" class=\"row_heading level0 row7\" >I</th>\n      <td id=\"T_11204_row7_col0\" class=\"data row7 col0\" >0.563000</td>\n      <td id=\"T_11204_row7_col1\" class=\"data row7 col1\" >0.582000</td>\n      <td id=\"T_11204_row7_col2\" class=\"data row7 col2\" >0.000000</td>\n      <td id=\"T_11204_row7_col3\" class=\"data row7 col3\" >0.400000</td>\n      <td id=\"T_11204_row7_col4\" class=\"data row7 col4\" >0.943000</td>\n    </tr>\n    <tr>\n      <th id=\"T_11204_level0_row8\" class=\"row_heading level0 row8\" >K</th>\n      <td id=\"T_11204_row8_col0\" class=\"data row8 col0\" >0.439000</td>\n      <td id=\"T_11204_row8_col1\" class=\"data row8 col1\" >0.716000</td>\n      <td id=\"T_11204_row8_col2\" class=\"data row8 col2\" >0.809000</td>\n      <td id=\"T_11204_row8_col3\" class=\"data row8 col3\" >0.500000</td>\n      <td id=\"T_11204_row8_col4\" class=\"data row8 col4\" >0.283000</td>\n    </tr>\n    <tr>\n      <th id=\"T_11204_level0_row9\" class=\"row_heading level0 row9\" >L</th>\n      <td id=\"T_11204_row9_col0\" class=\"data row9 col0\" >0.577000</td>\n      <td id=\"T_11204_row9_col1\" class=\"data row9 col1\" >0.759000</td>\n      <td id=\"T_11204_row9_col2\" class=\"data row9 col2\" >0.012000</td>\n      <td id=\"T_11204_row9_col3\" class=\"data row9 col3\" >0.400000</td>\n      <td id=\"T_11204_row9_col4\" class=\"data row9 col4\" >0.943000</td>\n    </tr>\n    <tr>\n      <th id=\"T_11204_level0_row10\" class=\"row_heading level0 row10\" >M</th>\n      <td id=\"T_11204_row10_col0\" class=\"data row10 col0\" >0.453000</td>\n      <td id=\"T_11204_row10_col1\" class=\"data row10 col1\" >1.000000</td>\n      <td id=\"T_11204_row10_col2\" class=\"data row10 col2\" >0.122000</td>\n      <td id=\"T_11204_row10_col3\" class=\"data row10 col3\" >0.400000</td>\n      <td id=\"T_11204_row10_col4\" class=\"data row10 col4\" >0.738000</td>\n    </tr>\n    <tr>\n      <th id=\"T_11204_level0_row11\" class=\"row_heading level0 row11\" >N</th>\n      <td id=\"T_11204_row11_col0\" class=\"data row11 col0\" >0.535000</td>\n      <td id=\"T_11204_row11_col1\" class=\"data row11 col1\" >0.248000</td>\n      <td id=\"T_11204_row11_col2\" class=\"data row11 col2\" >0.648000</td>\n      <td id=\"T_11204_row11_col3\" class=\"data row11 col3\" >0.400000</td>\n      <td id=\"T_11204_row11_col4\" class=\"data row11 col4\" >0.236000</td>\n    </tr>\n    <tr>\n      <th id=\"T_11204_level0_row12\" class=\"row_heading level0 row12\" >P</th>\n      <td id=\"T_11204_row12_col0\" class=\"data row12 col0\" >0.850000</td>\n      <td id=\"T_11204_row12_col1\" class=\"data row12 col1\" >0.000000</td>\n      <td id=\"T_11204_row12_col2\" class=\"data row12 col2\" >0.692000</td>\n      <td id=\"T_11204_row12_col3\" class=\"data row12 col3\" >0.300000</td>\n      <td id=\"T_11204_row12_col4\" class=\"data row12 col4\" >0.711000</td>\n    </tr>\n    <tr>\n      <th id=\"T_11204_level0_row13\" class=\"row_heading level0 row13\" >Q</th>\n      <td id=\"T_11204_row13_col0\" class=\"data row13 col0\" >0.452000</td>\n      <td id=\"T_11204_row13_col1\" class=\"data row13 col1\" >0.723000</td>\n      <td id=\"T_11204_row13_col2\" class=\"data row13 col2\" >0.724000</td>\n      <td id=\"T_11204_row13_col3\" class=\"data row13 col3\" >0.500000</td>\n      <td id=\"T_11204_row13_col4\" class=\"data row13 col4\" >0.251000</td>\n    </tr>\n    <tr>\n      <th id=\"T_11204_level0_row14\" class=\"row_heading level0 row14\" >R</th>\n      <td id=\"T_11204_row14_col0\" class=\"data row14 col0\" >0.332000</td>\n      <td id=\"T_11204_row14_col1\" class=\"data row14 col1\" >0.652000</td>\n      <td id=\"T_11204_row14_col2\" class=\"data row14 col2\" >0.778000</td>\n      <td id=\"T_11204_row14_col3\" class=\"data row14 col3\" >0.700000</td>\n      <td id=\"T_11204_row14_col4\" class=\"data row14 col4\" >0.000000</td>\n    </tr>\n    <tr>\n      <th id=\"T_11204_level0_row15\" class=\"row_heading level0 row15\" >S</th>\n      <td id=\"T_11204_row15_col0\" class=\"data row15 col0\" >0.678000</td>\n      <td id=\"T_11204_row15_col1\" class=\"data row15 col1\" >0.284000</td>\n      <td id=\"T_11204_row15_col2\" class=\"data row15 col2\" >0.352000</td>\n      <td id=\"T_11204_row15_col3\" class=\"data row15 col3\" >0.200000</td>\n      <td id=\"T_11204_row15_col4\" class=\"data row15 col4\" >0.359000</td>\n    </tr>\n    <tr>\n      <th id=\"T_11204_level0_row16\" class=\"row_heading level0 row16\" >T</th>\n      <td id=\"T_11204_row16_col0\" class=\"data row16 col0\" >0.611000</td>\n      <td id=\"T_11204_row16_col1\" class=\"data row16 col1\" >0.433000</td>\n      <td id=\"T_11204_row16_col2\" class=\"data row16 col2\" >0.274000</td>\n      <td id=\"T_11204_row16_col3\" class=\"data row16 col3\" >0.300000</td>\n      <td id=\"T_11204_row16_col4\" class=\"data row16 col4\" >0.450000</td>\n    </tr>\n    <tr>\n      <th id=\"T_11204_level0_row17\" class=\"row_heading level0 row17\" >V</th>\n      <td id=\"T_11204_row17_col0\" class=\"data row17 col0\" >0.638000</td>\n      <td id=\"T_11204_row17_col1\" class=\"data row17 col1\" >0.482000</td>\n      <td id=\"T_11204_row17_col2\" class=\"data row17 col2\" >0.071000</td>\n      <td id=\"T_11204_row17_col3\" class=\"data row17 col3\" >0.300000</td>\n      <td id=\"T_11204_row17_col4\" class=\"data row17 col4\" >0.825000</td>\n    </tr>\n    <tr>\n      <th id=\"T_11204_level0_row18\" class=\"row_heading level0 row18\" >W</th>\n      <td id=\"T_11204_row18_col0\" class=\"data row18 col0\" >0.000000</td>\n      <td id=\"T_11204_row18_col1\" class=\"data row18 col1\" >0.567000</td>\n      <td id=\"T_11204_row18_col2\" class=\"data row18 col2\" >0.220000</td>\n      <td id=\"T_11204_row18_col3\" class=\"data row18 col3\" >1.000000</td>\n      <td id=\"T_11204_row18_col4\" class=\"data row18 col4\" >0.878000</td>\n    </tr>\n    <tr>\n      <th id=\"T_11204_level0_row19\" class=\"row_heading level0 row19\" >Y</th>\n      <td id=\"T_11204_row19_col0\" class=\"data row19 col0\" >0.232000</td>\n      <td id=\"T_11204_row19_col1\" class=\"data row19 col1\" >0.319000</td>\n      <td id=\"T_11204_row19_col2\" class=\"data row19 col2\" >0.313000</td>\n      <td id=\"T_11204_row19_col3\" class=\"data row19 col3\" >0.800000</td>\n      <td id=\"T_11204_row19_col4\" class=\"data row19 col4\" >0.880000</td>\n    </tr>\n  </tbody>\n</table>\n"
     },
     "metadata": {},
     "output_type": "display_data"
    }
   ],
   "source": [
    "import aaanalysis as aa\n",
    "import pandas as pd\n",
    "# Create example dataset comprising 100 scales\n",
    "df_scales = aa.load_scales().T.sample(100).T\n",
    "X = df_scales.T\n",
    "\n",
    "# Fit AAclust model and obtain clustering centers for 5 clusters\n",
    "aac = aa.AAclust()\n",
    "labels = aac.fit(X, n_clusters=5).labels_\n",
    "centers, labels_centers = aac.comp_medoids(X=X, labels=labels)\n",
    "\n",
    "# Create DataFrame with cluster centers\n",
    "columns = [f\"Cluster {i}\" for i in labels_centers]\n",
    "df_medoids = pd.DataFrame(centers.T, columns=columns, index=df_scales.index)\n",
    "aa.display_df(df_medoids)"
   ],
   "metadata": {
    "collapsed": false,
    "ExecuteTime": {
     "end_time": "2025-06-17T01:48:42.737291190Z",
     "start_time": "2025-06-17T01:48:41.340202298Z"
    }
   },
   "id": "a450796ee556b14f"
  }
 ],
 "metadata": {
  "kernelspec": {
   "display_name": "Python 3",
   "language": "python",
   "name": "python3"
  },
  "language_info": {
   "codemirror_mode": {
    "name": "ipython",
    "version": 2
   },
   "file_extension": ".py",
   "mimetype": "text/x-python",
   "name": "python",
   "nbconvert_exporter": "python",
   "pygments_lexer": "ipython2",
   "version": "2.7.6"
  }
 },
 "nbformat": 4,
 "nbformat_minor": 5
}
