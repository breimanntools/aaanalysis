{
 "cells": [
  {
   "cell_type": "markdown",
   "source": [
    "The ``AAclust`` clustering wrapper class can utilize any clustering model that uses the ``n_clusters`` parameter:"
   ],
   "metadata": {
    "collapsed": false
   },
   "id": "741764e99c337cd5"
  },
  {
   "cell_type": "code",
   "execution_count": 1,
   "outputs": [],
   "source": [
    "from sklearn.cluster import (KMeans, AgglomerativeClustering, MiniBatchKMeans, SpectralClustering)\n",
    "import aaanalysis as aa\n",
    "\n",
    "# AAclust with KMens (default)\n",
    "aac = aa.AAclust(model_class=KMeans)\n",
    "# AAclust with MiniBatchKMeans\n",
    "aac = aa.AAclust(model_class=MiniBatchKMeans)\n",
    "# AAclust with SpectralClustering\n",
    "aac = aa.AAclust(model_class=SpectralClustering)"
   ],
   "metadata": {
    "collapsed": false,
    "ExecuteTime": {
     "end_time": "2025-06-17T01:48:22.135976203Z",
     "start_time": "2025-06-17T01:48:18.631607449Z"
    }
   },
   "id": "d6b7e933d7b4cd8c"
  },
  {
   "cell_type": "markdown",
   "source": [
    "The hierarchical agglomerative clustering model utilizes four different linkage measures, which can be provided to ``AAclust``by its ``model_kwargs`` parameter:"
   ],
   "metadata": {
    "collapsed": false
   },
   "id": "bb2d5da95a669656"
  },
  {
   "cell_type": "code",
   "execution_count": 2,
   "outputs": [],
   "source": [
    "# AAclust using AgglomerativeClustering with Euclidean distance\n",
    "aac = aa.AAclust(model_class=AgglomerativeClustering, model_kwargs=dict(linkage='average'))\n",
    "# Other linkage methods are 'ward', 'complete', and 'single' "
   ],
   "metadata": {
    "collapsed": false,
    "ExecuteTime": {
     "end_time": "2025-06-17T01:48:22.146258987Z",
     "start_time": "2025-06-17T01:48:22.140798194Z"
    }
   },
   "id": "c979d5e8417c426c"
  }
 ],
 "metadata": {
  "kernelspec": {
   "display_name": "Python 3",
   "language": "python",
   "name": "python3"
  },
  "language_info": {
   "codemirror_mode": {
    "name": "ipython",
    "version": 2
   },
   "file_extension": ".py",
   "mimetype": "text/x-python",
   "name": "python",
   "nbconvert_exporter": "python",
   "pygments_lexer": "ipython2",
   "version": "2.7.6"
  }
 },
 "nbformat": 4,
 "nbformat_minor": 5
}
