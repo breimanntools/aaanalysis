{
 "cells": [
  {
   "cell_type": "markdown",
   "source": [
    "The ``AAclustPlot`` object utilizes Transformer models, such as Principal Component Analysis (PCA), to visualize the ``AAclust`` clustering results. Valid models can be provided via the ``model_class`` parameter (default=PCA):"
   ],
   "metadata": {
    "collapsed": false
   },
   "id": "6a583045cc9951a6"
  },
  {
   "cell_type": "code",
   "execution_count": 1,
   "outputs": [],
   "source": [
    "import aaanalysis as aa\n",
    "# Valid transformer models\n",
    "from sklearn.decomposition import PCA, KernelPCA, FastICA, TruncatedSVD, NMF\n",
    "from sklearn.manifold import LocallyLinearEmbedding, Isomap\n",
    "# Initialize AAclustPlot with PCA\n",
    "aac_plot = aa.AAclustPlot(model_class=PCA)"
   ],
   "metadata": {
    "collapsed": false,
    "ExecuteTime": {
     "end_time": "2025-06-17T01:41:56.195921236Z",
     "start_time": "2025-06-17T01:41:53.201112373Z"
    }
   },
   "id": "a9d3a71ed2e69638"
  },
  {
   "cell_type": "markdown",
   "source": [
    "Arguments of the transformer model can be set using the ``model_kwargs`` parameters:"
   ],
   "metadata": {
    "collapsed": false
   },
   "id": "825389d273f4f681"
  },
  {
   "cell_type": "code",
   "execution_count": 2,
   "outputs": [],
   "source": [
    "aac_plot = aa.AAclustPlot(model_class=PCA, model_kwargs=dict(svd_solver=\"full\"))"
   ],
   "metadata": {
    "collapsed": false,
    "ExecuteTime": {
     "end_time": "2025-06-17T01:41:56.204013066Z",
     "start_time": "2025-06-17T01:41:56.201519467Z"
    }
   },
   "id": "4992aa8c0c94039b"
  }
 ],
 "metadata": {
  "kernelspec": {
   "display_name": "Python 3",
   "language": "python",
   "name": "python3"
  },
  "language_info": {
   "codemirror_mode": {
    "name": "ipython",
    "version": 2
   },
   "file_extension": ".py",
   "mimetype": "text/x-python",
   "name": "python",
   "nbconvert_exporter": "python",
   "pygments_lexer": "ipython2",
   "version": "2.7.6"
  }
 },
 "nbformat": 4,
 "nbformat_minor": 5
}
