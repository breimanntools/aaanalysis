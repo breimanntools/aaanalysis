{
 "cells": [
  {
   "cell_type": "markdown",
   "source": [
    "To demonstrate the ``SequenceFeature().get_df_feat()`` method, we load the ``DOM_GSEC`` example dataset including its respective features  (see [Breimann25a]_):"
   ],
   "metadata": {
    "collapsed": false
   },
   "id": "a533611595b10bcd"
  },
  {
   "cell_type": "code",
   "execution_count": 1,
   "outputs": [
    {
     "data": {
      "text/plain": "<IPython.core.display.HTML object>",
      "text/html": "<style type=\"text/css\">\n#T_d82d1 thead th {\n  background-color: white;\n  color: black;\n}\n#T_d82d1 tbody tr:nth-child(odd) {\n  background-color: #f2f2f2;\n}\n#T_d82d1 tbody tr:nth-child(even) {\n  background-color: white;\n}\n#T_d82d1 th {\n  padding: 5px;\n  white-space: nowrap;\n}\n#T_d82d1  td {\n  padding: 5px;\n  white-space: nowrap;\n}\n</style>\n<table id=\"T_d82d1\" style='display:block; max-height: 300px; max-width: 100%; overflow-x: auto; overflow-y: auto;'>\n  <thead>\n    <tr>\n      <th class=\"blank level0\" >&nbsp;</th>\n      <th id=\"T_d82d1_level0_col0\" class=\"col_heading level0 col0\" >feature</th>\n      <th id=\"T_d82d1_level0_col1\" class=\"col_heading level0 col1\" >category</th>\n      <th id=\"T_d82d1_level0_col2\" class=\"col_heading level0 col2\" >subcategory</th>\n      <th id=\"T_d82d1_level0_col3\" class=\"col_heading level0 col3\" >scale_name</th>\n      <th id=\"T_d82d1_level0_col4\" class=\"col_heading level0 col4\" >scale_description</th>\n      <th id=\"T_d82d1_level0_col5\" class=\"col_heading level0 col5\" >abs_auc</th>\n      <th id=\"T_d82d1_level0_col6\" class=\"col_heading level0 col6\" >abs_mean_dif</th>\n      <th id=\"T_d82d1_level0_col7\" class=\"col_heading level0 col7\" >mean_dif</th>\n      <th id=\"T_d82d1_level0_col8\" class=\"col_heading level0 col8\" >std_test</th>\n      <th id=\"T_d82d1_level0_col9\" class=\"col_heading level0 col9\" >std_ref</th>\n      <th id=\"T_d82d1_level0_col10\" class=\"col_heading level0 col10\" >p_val_mann_whitney</th>\n      <th id=\"T_d82d1_level0_col11\" class=\"col_heading level0 col11\" >p_val_fdr_bh</th>\n      <th id=\"T_d82d1_level0_col12\" class=\"col_heading level0 col12\" >positions</th>\n      <th id=\"T_d82d1_level0_col13\" class=\"col_heading level0 col13\" >feat_importance</th>\n      <th id=\"T_d82d1_level0_col14\" class=\"col_heading level0 col14\" >feat_importance_std</th>\n    </tr>\n  </thead>\n  <tbody>\n    <tr>\n      <th id=\"T_d82d1_level0_row0\" class=\"row_heading level0 row0\" >1</th>\n      <td id=\"T_d82d1_row0_col0\" class=\"data row0 col0\" >TMD_C_JMD_C-Seg...3,4)-KLEP840101</td>\n      <td id=\"T_d82d1_row0_col1\" class=\"data row0 col1\" >Energy</td>\n      <td id=\"T_d82d1_row0_col2\" class=\"data row0 col2\" >Charge</td>\n      <td id=\"T_d82d1_row0_col3\" class=\"data row0 col3\" >Charge</td>\n      <td id=\"T_d82d1_row0_col4\" class=\"data row0 col4\" >Net charge (Kle...n et al., 1984)</td>\n      <td id=\"T_d82d1_row0_col5\" class=\"data row0 col5\" >0.244000</td>\n      <td id=\"T_d82d1_row0_col6\" class=\"data row0 col6\" >0.103666</td>\n      <td id=\"T_d82d1_row0_col7\" class=\"data row0 col7\" >0.103666</td>\n      <td id=\"T_d82d1_row0_col8\" class=\"data row0 col8\" >0.106692</td>\n      <td id=\"T_d82d1_row0_col9\" class=\"data row0 col9\" >0.110506</td>\n      <td id=\"T_d82d1_row0_col10\" class=\"data row0 col10\" >0.000000</td>\n      <td id=\"T_d82d1_row0_col11\" class=\"data row0 col11\" >0.000000</td>\n      <td id=\"T_d82d1_row0_col12\" class=\"data row0 col12\" >31,32,33,34,35</td>\n      <td id=\"T_d82d1_row0_col13\" class=\"data row0 col13\" >0.970400</td>\n      <td id=\"T_d82d1_row0_col14\" class=\"data row0 col14\" >1.438918</td>\n    </tr>\n    <tr>\n      <th id=\"T_d82d1_level0_row1\" class=\"row_heading level0 row1\" >2</th>\n      <td id=\"T_d82d1_row1_col0\" class=\"data row1 col0\" >TMD_C_JMD_C-Seg...3,4)-FINA910104</td>\n      <td id=\"T_d82d1_row1_col1\" class=\"data row1 col1\" >Conformation</td>\n      <td id=\"T_d82d1_row1_col2\" class=\"data row1 col2\" >α-helix (C-cap)</td>\n      <td id=\"T_d82d1_row1_col3\" class=\"data row1 col3\" >α-helix termination</td>\n      <td id=\"T_d82d1_row1_col4\" class=\"data row1 col4\" >Helix terminati...n et al., 1991)</td>\n      <td id=\"T_d82d1_row1_col5\" class=\"data row1 col5\" >0.243000</td>\n      <td id=\"T_d82d1_row1_col6\" class=\"data row1 col6\" >0.085064</td>\n      <td id=\"T_d82d1_row1_col7\" class=\"data row1 col7\" >0.085064</td>\n      <td id=\"T_d82d1_row1_col8\" class=\"data row1 col8\" >0.098774</td>\n      <td id=\"T_d82d1_row1_col9\" class=\"data row1 col9\" >0.096946</td>\n      <td id=\"T_d82d1_row1_col10\" class=\"data row1 col10\" >0.000000</td>\n      <td id=\"T_d82d1_row1_col11\" class=\"data row1 col11\" >0.000000</td>\n      <td id=\"T_d82d1_row1_col12\" class=\"data row1 col12\" >31,32,33,34,35</td>\n      <td id=\"T_d82d1_row1_col13\" class=\"data row1 col13\" >0.000000</td>\n      <td id=\"T_d82d1_row1_col14\" class=\"data row1 col14\" >0.000000</td>\n    </tr>\n    <tr>\n      <th id=\"T_d82d1_level0_row2\" class=\"row_heading level0 row2\" >3</th>\n      <td id=\"T_d82d1_row2_col0\" class=\"data row2 col0\" >TMD_C_JMD_C-Seg...6,9)-LEVM760105</td>\n      <td id=\"T_d82d1_row2_col1\" class=\"data row2 col1\" >Shape</td>\n      <td id=\"T_d82d1_row2_col2\" class=\"data row2 col2\" >Side chain length</td>\n      <td id=\"T_d82d1_row2_col3\" class=\"data row2 col3\" >Side chain length</td>\n      <td id=\"T_d82d1_row2_col4\" class=\"data row2 col4\" >Radius of gyrat... (Levitt, 1976)</td>\n      <td id=\"T_d82d1_row2_col5\" class=\"data row2 col5\" >0.233000</td>\n      <td id=\"T_d82d1_row2_col6\" class=\"data row2 col6\" >0.137044</td>\n      <td id=\"T_d82d1_row2_col7\" class=\"data row2 col7\" >0.137044</td>\n      <td id=\"T_d82d1_row2_col8\" class=\"data row2 col8\" >0.161683</td>\n      <td id=\"T_d82d1_row2_col9\" class=\"data row2 col9\" >0.176964</td>\n      <td id=\"T_d82d1_row2_col10\" class=\"data row2 col10\" >0.000000</td>\n      <td id=\"T_d82d1_row2_col11\" class=\"data row2 col11\" >0.000001</td>\n      <td id=\"T_d82d1_row2_col12\" class=\"data row2 col12\" >32,33</td>\n      <td id=\"T_d82d1_row2_col13\" class=\"data row2 col13\" >1.554800</td>\n      <td id=\"T_d82d1_row2_col14\" class=\"data row2 col14\" >2.109848</td>\n    </tr>\n    <tr>\n      <th id=\"T_d82d1_level0_row3\" class=\"row_heading level0 row3\" >4</th>\n      <td id=\"T_d82d1_row3_col0\" class=\"data row3 col0\" >TMD_C_JMD_C-Seg...3,4)-HUTJ700102</td>\n      <td id=\"T_d82d1_row3_col1\" class=\"data row3 col1\" >Energy</td>\n      <td id=\"T_d82d1_row3_col2\" class=\"data row3 col2\" >Entropy</td>\n      <td id=\"T_d82d1_row3_col3\" class=\"data row3 col3\" >Entropy</td>\n      <td id=\"T_d82d1_row3_col4\" class=\"data row3 col4\" >Absolute entrop...Hutchens, 1970)</td>\n      <td id=\"T_d82d1_row3_col5\" class=\"data row3 col5\" >0.229000</td>\n      <td id=\"T_d82d1_row3_col6\" class=\"data row3 col6\" >0.098224</td>\n      <td id=\"T_d82d1_row3_col7\" class=\"data row3 col7\" >0.098224</td>\n      <td id=\"T_d82d1_row3_col8\" class=\"data row3 col8\" >0.106865</td>\n      <td id=\"T_d82d1_row3_col9\" class=\"data row3 col9\" >0.124608</td>\n      <td id=\"T_d82d1_row3_col10\" class=\"data row3 col10\" >0.000000</td>\n      <td id=\"T_d82d1_row3_col11\" class=\"data row3 col11\" >0.000001</td>\n      <td id=\"T_d82d1_row3_col12\" class=\"data row3 col12\" >31,32,33,34,35</td>\n      <td id=\"T_d82d1_row3_col13\" class=\"data row3 col13\" >3.111200</td>\n      <td id=\"T_d82d1_row3_col14\" class=\"data row3 col14\" >3.109955</td>\n    </tr>\n    <tr>\n      <th id=\"T_d82d1_level0_row4\" class=\"row_heading level0 row4\" >5</th>\n      <td id=\"T_d82d1_row4_col0\" class=\"data row4 col0\" >TMD_C_JMD_C-Seg...6,9)-RADA880106</td>\n      <td id=\"T_d82d1_row4_col1\" class=\"data row4 col1\" >ASA/Volume</td>\n      <td id=\"T_d82d1_row4_col2\" class=\"data row4 col2\" >Volume</td>\n      <td id=\"T_d82d1_row4_col3\" class=\"data row4 col3\" >Accessible surface area (ASA)</td>\n      <td id=\"T_d82d1_row4_col4\" class=\"data row4 col4\" >Accessible surf...olfenden, 1988)</td>\n      <td id=\"T_d82d1_row4_col5\" class=\"data row4 col5\" >0.223000</td>\n      <td id=\"T_d82d1_row4_col6\" class=\"data row4 col6\" >0.095071</td>\n      <td id=\"T_d82d1_row4_col7\" class=\"data row4 col7\" >0.095071</td>\n      <td id=\"T_d82d1_row4_col8\" class=\"data row4 col8\" >0.114758</td>\n      <td id=\"T_d82d1_row4_col9\" class=\"data row4 col9\" >0.132829</td>\n      <td id=\"T_d82d1_row4_col10\" class=\"data row4 col10\" >0.000000</td>\n      <td id=\"T_d82d1_row4_col11\" class=\"data row4 col11\" >0.000002</td>\n      <td id=\"T_d82d1_row4_col12\" class=\"data row4 col12\" >32,33</td>\n      <td id=\"T_d82d1_row4_col13\" class=\"data row4 col13\" >0.000000</td>\n      <td id=\"T_d82d1_row4_col14\" class=\"data row4 col14\" >0.000000</td>\n    </tr>\n  </tbody>\n</table>\n"
     },
     "metadata": {},
     "output_type": "display_data"
    }
   ],
   "source": [
    "import aaanalysis as aa\n",
    "aa.options[\"verbose\"] = False\n",
    "df_seq = aa.load_dataset(name=\"DOM_GSEC\")\n",
    "labels = df_seq[\"label\"].to_list()\n",
    "df_feat = aa.load_features(name=\"DOM_GSEC\")\n",
    "features = df_feat[\"feature\"].to_list()\n",
    "sf = aa.SequenceFeature()\n",
    "df_parts = sf.get_df_parts(df_seq=df_seq)\n",
    "aa.display_df(df_feat, n_rows=5)\n"
   ],
   "metadata": {
    "collapsed": false,
    "ExecuteTime": {
     "end_time": "2025-06-17T01:38:41.336319847Z",
     "start_time": "2025-06-17T01:38:39.664733086Z"
    }
   },
   "id": "106310b2803427d6"
  },
  {
   "cell_type": "markdown",
   "source": [
    "``features``, ``df_parts``, and the ``labels`` of the respective samples of the sequence DataFrame must be provided to retrieve the feature DataFrame:"
   ],
   "metadata": {
    "collapsed": false
   },
   "id": "c7a3de55d3655505"
  },
  {
   "cell_type": "code",
   "execution_count": 2,
   "outputs": [
    {
     "data": {
      "text/plain": "<IPython.core.display.HTML object>",
      "text/html": "<style type=\"text/css\">\n#T_bbf58 thead th {\n  background-color: white;\n  color: black;\n}\n#T_bbf58 tbody tr:nth-child(odd) {\n  background-color: #f2f2f2;\n}\n#T_bbf58 tbody tr:nth-child(even) {\n  background-color: white;\n}\n#T_bbf58 th {\n  padding: 5px;\n  white-space: nowrap;\n}\n#T_bbf58  td {\n  padding: 5px;\n  white-space: nowrap;\n}\n</style>\n<table id=\"T_bbf58\" style='display:block; max-height: 300px; max-width: 100%; overflow-x: auto; overflow-y: auto;'>\n  <thead>\n    <tr>\n      <th class=\"blank level0\" >&nbsp;</th>\n      <th id=\"T_bbf58_level0_col0\" class=\"col_heading level0 col0\" >feature</th>\n      <th id=\"T_bbf58_level0_col1\" class=\"col_heading level0 col1\" >category</th>\n      <th id=\"T_bbf58_level0_col2\" class=\"col_heading level0 col2\" >subcategory</th>\n      <th id=\"T_bbf58_level0_col3\" class=\"col_heading level0 col3\" >scale_name</th>\n      <th id=\"T_bbf58_level0_col4\" class=\"col_heading level0 col4\" >scale_description</th>\n      <th id=\"T_bbf58_level0_col5\" class=\"col_heading level0 col5\" >abs_auc</th>\n      <th id=\"T_bbf58_level0_col6\" class=\"col_heading level0 col6\" >abs_mean_dif</th>\n      <th id=\"T_bbf58_level0_col7\" class=\"col_heading level0 col7\" >mean_dif</th>\n      <th id=\"T_bbf58_level0_col8\" class=\"col_heading level0 col8\" >std_test</th>\n      <th id=\"T_bbf58_level0_col9\" class=\"col_heading level0 col9\" >std_ref</th>\n      <th id=\"T_bbf58_level0_col10\" class=\"col_heading level0 col10\" >p_val_mann_whitney</th>\n      <th id=\"T_bbf58_level0_col11\" class=\"col_heading level0 col11\" >p_val_fdr_bh</th>\n      <th id=\"T_bbf58_level0_col12\" class=\"col_heading level0 col12\" >positions</th>\n    </tr>\n  </thead>\n  <tbody>\n    <tr>\n      <th id=\"T_bbf58_level0_row0\" class=\"row_heading level0 row0\" >1</th>\n      <td id=\"T_bbf58_row0_col0\" class=\"data row0 col0\" >TMD_C_JMD_C-Seg...3,4)-KLEP840101</td>\n      <td id=\"T_bbf58_row0_col1\" class=\"data row0 col1\" >Energy</td>\n      <td id=\"T_bbf58_row0_col2\" class=\"data row0 col2\" >Charge</td>\n      <td id=\"T_bbf58_row0_col3\" class=\"data row0 col3\" >Charge</td>\n      <td id=\"T_bbf58_row0_col4\" class=\"data row0 col4\" >Net charge (Kle...n et al., 1984)</td>\n      <td id=\"T_bbf58_row0_col5\" class=\"data row0 col5\" >0.335000</td>\n      <td id=\"T_bbf58_row0_col6\" class=\"data row0 col6\" >0.168254</td>\n      <td id=\"T_bbf58_row0_col7\" class=\"data row0 col7\" >0.168254</td>\n      <td id=\"T_bbf58_row0_col8\" class=\"data row0 col8\" >0.106692</td>\n      <td id=\"T_bbf58_row0_col9\" class=\"data row0 col9\" >0.124924</td>\n      <td id=\"T_bbf58_row0_col10\" class=\"data row0 col10\" >0.000000</td>\n      <td id=\"T_bbf58_row0_col11\" class=\"data row0 col11\" >0.000000</td>\n      <td id=\"T_bbf58_row0_col12\" class=\"data row0 col12\" >31,32,33,34,35</td>\n    </tr>\n    <tr>\n      <th id=\"T_bbf58_level0_row1\" class=\"row_heading level0 row1\" >2</th>\n      <td id=\"T_bbf58_row1_col0\" class=\"data row1 col0\" >TMD_C_JMD_C-Seg...3,4)-FINA910104</td>\n      <td id=\"T_bbf58_row1_col1\" class=\"data row1 col1\" >Conformation</td>\n      <td id=\"T_bbf58_row1_col2\" class=\"data row1 col2\" >α-helix (C-cap)</td>\n      <td id=\"T_bbf58_row1_col3\" class=\"data row1 col3\" >α-helix termination</td>\n      <td id=\"T_bbf58_row1_col4\" class=\"data row1 col4\" >Helix terminati...n et al., 1991)</td>\n      <td id=\"T_bbf58_row1_col5\" class=\"data row1 col5\" >0.333000</td>\n      <td id=\"T_bbf58_row1_col6\" class=\"data row1 col6\" >0.150698</td>\n      <td id=\"T_bbf58_row1_col7\" class=\"data row1 col7\" >0.150698</td>\n      <td id=\"T_bbf58_row1_col8\" class=\"data row1 col8\" >0.098774</td>\n      <td id=\"T_bbf58_row1_col9\" class=\"data row1 col9\" >0.119888</td>\n      <td id=\"T_bbf58_row1_col10\" class=\"data row1 col10\" >0.000000</td>\n      <td id=\"T_bbf58_row1_col11\" class=\"data row1 col11\" >0.000000</td>\n      <td id=\"T_bbf58_row1_col12\" class=\"data row1 col12\" >31,32,33,34,35</td>\n    </tr>\n    <tr>\n      <th id=\"T_bbf58_level0_row2\" class=\"row_heading level0 row2\" >3</th>\n      <td id=\"T_bbf58_row2_col0\" class=\"data row2 col0\" >TMD_C_JMD_C-Seg...6,9)-LEVM760105</td>\n      <td id=\"T_bbf58_row2_col1\" class=\"data row2 col1\" >Shape</td>\n      <td id=\"T_bbf58_row2_col2\" class=\"data row2 col2\" >Side chain length</td>\n      <td id=\"T_bbf58_row2_col3\" class=\"data row2 col3\" >Side chain length</td>\n      <td id=\"T_bbf58_row2_col4\" class=\"data row2 col4\" >Radius of gyrat... (Levitt, 1976)</td>\n      <td id=\"T_bbf58_row2_col5\" class=\"data row2 col5\" >0.330000</td>\n      <td id=\"T_bbf58_row2_col6\" class=\"data row2 col6\" >0.246867</td>\n      <td id=\"T_bbf58_row2_col7\" class=\"data row2 col7\" >0.246867</td>\n      <td id=\"T_bbf58_row2_col8\" class=\"data row2 col8\" >0.161683</td>\n      <td id=\"T_bbf58_row2_col9\" class=\"data row2 col9\" >0.197489</td>\n      <td id=\"T_bbf58_row2_col10\" class=\"data row2 col10\" >0.000000</td>\n      <td id=\"T_bbf58_row2_col11\" class=\"data row2 col11\" >0.000000</td>\n      <td id=\"T_bbf58_row2_col12\" class=\"data row2 col12\" >32,33</td>\n    </tr>\n    <tr>\n      <th id=\"T_bbf58_level0_row3\" class=\"row_heading level0 row3\" >4</th>\n      <td id=\"T_bbf58_row3_col0\" class=\"data row3 col0\" >TMD_C_JMD_C-Seg...3,4)-HUTJ700102</td>\n      <td id=\"T_bbf58_row3_col1\" class=\"data row3 col1\" >Energy</td>\n      <td id=\"T_bbf58_row3_col2\" class=\"data row3 col2\" >Entropy</td>\n      <td id=\"T_bbf58_row3_col3\" class=\"data row3 col3\" >Entropy</td>\n      <td id=\"T_bbf58_row3_col4\" class=\"data row3 col4\" >Absolute entrop...Hutchens, 1970)</td>\n      <td id=\"T_bbf58_row3_col5\" class=\"data row3 col5\" >0.327000</td>\n      <td id=\"T_bbf58_row3_col6\" class=\"data row3 col6\" >0.162229</td>\n      <td id=\"T_bbf58_row3_col7\" class=\"data row3 col7\" >0.162229</td>\n      <td id=\"T_bbf58_row3_col8\" class=\"data row3 col8\" >0.106865</td>\n      <td id=\"T_bbf58_row3_col9\" class=\"data row3 col9\" >0.135247</td>\n      <td id=\"T_bbf58_row3_col10\" class=\"data row3 col10\" >0.000000</td>\n      <td id=\"T_bbf58_row3_col11\" class=\"data row3 col11\" >0.000000</td>\n      <td id=\"T_bbf58_row3_col12\" class=\"data row3 col12\" >31,32,33,34,35</td>\n    </tr>\n    <tr>\n      <th id=\"T_bbf58_level0_row4\" class=\"row_heading level0 row4\" >5</th>\n      <td id=\"T_bbf58_row4_col0\" class=\"data row4 col0\" >TMD_C_JMD_C-Seg...6,9)-RADA880106</td>\n      <td id=\"T_bbf58_row4_col1\" class=\"data row4 col1\" >ASA/Volume</td>\n      <td id=\"T_bbf58_row4_col2\" class=\"data row4 col2\" >Volume</td>\n      <td id=\"T_bbf58_row4_col3\" class=\"data row4 col3\" >Accessible surface area (ASA)</td>\n      <td id=\"T_bbf58_row4_col4\" class=\"data row4 col4\" >Accessible surf...olfenden, 1988)</td>\n      <td id=\"T_bbf58_row4_col5\" class=\"data row4 col5\" >0.322000</td>\n      <td id=\"T_bbf58_row4_col6\" class=\"data row4 col6\" >0.184252</td>\n      <td id=\"T_bbf58_row4_col7\" class=\"data row4 col7\" >0.184252</td>\n      <td id=\"T_bbf58_row4_col8\" class=\"data row4 col8\" >0.114758</td>\n      <td id=\"T_bbf58_row4_col9\" class=\"data row4 col9\" >0.164757</td>\n      <td id=\"T_bbf58_row4_col10\" class=\"data row4 col10\" >0.000000</td>\n      <td id=\"T_bbf58_row4_col11\" class=\"data row4 col11\" >0.000000</td>\n      <td id=\"T_bbf58_row4_col12\" class=\"data row4 col12\" >32,33</td>\n    </tr>\n  </tbody>\n</table>\n"
     },
     "metadata": {},
     "output_type": "display_data"
    }
   ],
   "source": [
    "# Mean difference values are higher because here negative samples (instead of unlabeled ones in Breimann25a) are used as a reference dataset\n",
    "df_feat = sf.get_df_feat(features=features, df_parts=df_parts, labels=labels)\n",
    "aa.display_df(df_feat, n_rows=5)"
   ],
   "metadata": {
    "collapsed": false,
    "ExecuteTime": {
     "end_time": "2025-06-17T01:38:42.020949867Z",
     "start_time": "2025-06-17T01:38:41.336528371Z"
    }
   },
   "id": "e5cea0c8ffa97d68"
  },
  {
   "cell_type": "markdown",
   "source": [
    "You can adjust the provided labels of the test and reference group using ``label_test`` and ``label_ref``, which will alter the sign in ``mean_dif``:"
   ],
   "metadata": {
    "collapsed": false
   },
   "id": "d5b4dfae1d178a91"
  },
  {
   "cell_type": "code",
   "execution_count": 3,
   "outputs": [
    {
     "data": {
      "text/plain": "<IPython.core.display.HTML object>",
      "text/html": "<style type=\"text/css\">\n#T_b230f thead th {\n  background-color: white;\n  color: black;\n}\n#T_b230f tbody tr:nth-child(odd) {\n  background-color: #f2f2f2;\n}\n#T_b230f tbody tr:nth-child(even) {\n  background-color: white;\n}\n#T_b230f th {\n  padding: 5px;\n  white-space: nowrap;\n}\n#T_b230f  td {\n  padding: 5px;\n  white-space: nowrap;\n}\n</style>\n<table id=\"T_b230f\" style='display:block; max-height: 300px; max-width: 100%; overflow-x: auto; overflow-y: auto;'>\n  <thead>\n    <tr>\n      <th class=\"blank level0\" >&nbsp;</th>\n      <th id=\"T_b230f_level0_col0\" class=\"col_heading level0 col0\" >mean_dif</th>\n    </tr>\n  </thead>\n  <tbody>\n    <tr>\n      <th id=\"T_b230f_level0_row0\" class=\"row_heading level0 row0\" >1</th>\n      <td id=\"T_b230f_row0_col0\" class=\"data row0 col0\" >-0.168254</td>\n    </tr>\n    <tr>\n      <th id=\"T_b230f_level0_row1\" class=\"row_heading level0 row1\" >2</th>\n      <td id=\"T_b230f_row1_col0\" class=\"data row1 col0\" >-0.150698</td>\n    </tr>\n    <tr>\n      <th id=\"T_b230f_level0_row2\" class=\"row_heading level0 row2\" >3</th>\n      <td id=\"T_b230f_row2_col0\" class=\"data row2 col0\" >-0.246867</td>\n    </tr>\n    <tr>\n      <th id=\"T_b230f_level0_row3\" class=\"row_heading level0 row3\" >4</th>\n      <td id=\"T_b230f_row3_col0\" class=\"data row3 col0\" >-0.162229</td>\n    </tr>\n    <tr>\n      <th id=\"T_b230f_level0_row4\" class=\"row_heading level0 row4\" >5</th>\n      <td id=\"T_b230f_row4_col0\" class=\"data row4 col0\" >-0.184252</td>\n    </tr>\n  </tbody>\n</table>\n"
     },
     "metadata": {},
     "output_type": "display_data"
    }
   ],
   "source": [
    "df_feat = sf.get_df_feat(features=features, df_parts=df_parts, labels=labels, label_test=0, label_ref=1)\n",
    "# Mean difference values display opposite signs because they represent the computed difference between the mean of the test group and the mean of the reference group\n",
    "aa.display_df(df_feat, n_rows=5, col_to_show=\"mean_dif\")"
   ],
   "metadata": {
    "collapsed": false,
    "ExecuteTime": {
     "end_time": "2025-06-17T01:38:42.623342324Z",
     "start_time": "2025-06-17T01:38:42.023568485Z"
    }
   },
   "id": "92807a45d06c0712"
  },
  {
   "cell_type": "markdown",
   "source": [
    "The residue positions can be adjusted using the ``start``, ``tmd_len``, ``jmd_n_len``, and ``jmd_c_len`` parameters:"
   ],
   "metadata": {
    "collapsed": false
   },
   "id": "e7fb985c162ad01a"
  },
  {
   "cell_type": "code",
   "execution_count": 4,
   "outputs": [
    {
     "data": {
      "text/plain": "<IPython.core.display.HTML object>",
      "text/html": "<style type=\"text/css\">\n#T_2468d thead th {\n  background-color: white;\n  color: black;\n}\n#T_2468d tbody tr:nth-child(odd) {\n  background-color: #f2f2f2;\n}\n#T_2468d tbody tr:nth-child(even) {\n  background-color: white;\n}\n#T_2468d th {\n  padding: 5px;\n  white-space: nowrap;\n}\n#T_2468d  td {\n  padding: 5px;\n  white-space: nowrap;\n}\n</style>\n<table id=\"T_2468d\" style='display:block; max-height: 300px; max-width: 100%; overflow-x: auto; overflow-y: auto;'>\n  <thead>\n    <tr>\n      <th class=\"blank level0\" >&nbsp;</th>\n      <th id=\"T_2468d_level0_col0\" class=\"col_heading level0 col0\" >positions</th>\n    </tr>\n  </thead>\n  <tbody>\n    <tr>\n      <th id=\"T_2468d_level0_row0\" class=\"row_heading level0 row0\" >1</th>\n      <td id=\"T_2468d_row0_col0\" class=\"data row0 col0\" >41,42,43,44,45</td>\n    </tr>\n    <tr>\n      <th id=\"T_2468d_level0_row1\" class=\"row_heading level0 row1\" >2</th>\n      <td id=\"T_2468d_row1_col0\" class=\"data row1 col0\" >41,42,43,44,45</td>\n    </tr>\n    <tr>\n      <th id=\"T_2468d_level0_row2\" class=\"row_heading level0 row2\" >3</th>\n      <td id=\"T_2468d_row2_col0\" class=\"data row2 col0\" >42,43</td>\n    </tr>\n    <tr>\n      <th id=\"T_2468d_level0_row3\" class=\"row_heading level0 row3\" >4</th>\n      <td id=\"T_2468d_row3_col0\" class=\"data row3 col0\" >41,42,43,44,45</td>\n    </tr>\n    <tr>\n      <th id=\"T_2468d_level0_row4\" class=\"row_heading level0 row4\" >5</th>\n      <td id=\"T_2468d_row4_col0\" class=\"data row4 col0\" >42,43</td>\n    </tr>\n  </tbody>\n</table>\n"
     },
     "metadata": {},
     "output_type": "display_data"
    }
   ],
   "source": [
    "# Shift positions by 10 residues\n",
    "df_feat = sf.get_df_feat(features=features, df_parts=df_parts, labels=labels,\n",
    "                         start=11)\n",
    "aa.display_df(df_feat, n_rows=5, col_to_show=\"positions\")"
   ],
   "metadata": {
    "collapsed": false,
    "ExecuteTime": {
     "end_time": "2025-06-17T01:38:43.225324964Z",
     "start_time": "2025-06-17T01:38:42.620392272Z"
    }
   },
   "id": "cf80a221946a8472"
  },
  {
   "cell_type": "code",
   "execution_count": 5,
   "outputs": [
    {
     "data": {
      "text/plain": "<IPython.core.display.HTML object>",
      "text/html": "<style type=\"text/css\">\n#T_e6000 thead th {\n  background-color: white;\n  color: black;\n}\n#T_e6000 tbody tr:nth-child(odd) {\n  background-color: #f2f2f2;\n}\n#T_e6000 tbody tr:nth-child(even) {\n  background-color: white;\n}\n#T_e6000 th {\n  padding: 5px;\n  white-space: nowrap;\n}\n#T_e6000  td {\n  padding: 5px;\n  white-space: nowrap;\n}\n</style>\n<table id=\"T_e6000\" style='display:block; max-height: 300px; max-width: 100%; overflow-x: auto; overflow-y: auto;'>\n  <thead>\n    <tr>\n      <th class=\"blank level0\" >&nbsp;</th>\n      <th id=\"T_e6000_level0_col0\" class=\"col_heading level0 col0\" >positions</th>\n    </tr>\n  </thead>\n  <tbody>\n    <tr>\n      <th id=\"T_e6000_level0_row0\" class=\"row_heading level0 row0\" >1</th>\n      <td id=\"T_e6000_row0_col0\" class=\"data row0 col0\" >53,54,55,56,57,58,59,60,61</td>\n    </tr>\n    <tr>\n      <th id=\"T_e6000_level0_row1\" class=\"row_heading level0 row1\" >2</th>\n      <td id=\"T_e6000_row1_col0\" class=\"data row1 col0\" >53,54,55,56,57,58,59,60,61</td>\n    </tr>\n    <tr>\n      <th id=\"T_e6000_level0_row2\" class=\"row_heading level0 row2\" >3</th>\n      <td id=\"T_e6000_row2_col0\" class=\"data row2 col0\" >55,56,57,58</td>\n    </tr>\n    <tr>\n      <th id=\"T_e6000_level0_row3\" class=\"row_heading level0 row3\" >4</th>\n      <td id=\"T_e6000_row3_col0\" class=\"data row3 col0\" >53,54,55,56,57,58,59,60,61</td>\n    </tr>\n    <tr>\n      <th id=\"T_e6000_level0_row4\" class=\"row_heading level0 row4\" >5</th>\n      <td id=\"T_e6000_row4_col0\" class=\"data row4 col0\" >55,56,57,58</td>\n    </tr>\n  </tbody>\n</table>\n"
     },
     "metadata": {},
     "output_type": "display_data"
    }
   ],
   "source": [
    "# Increase TMD length from 20 to 50\n",
    "df_feat = sf.get_df_feat(features=features, df_parts=df_parts, labels=labels,\n",
    "                         tmd_len=50)\n",
    "aa.display_df(df_feat, n_rows=5, col_to_show=\"positions\")"
   ],
   "metadata": {
    "collapsed": false,
    "ExecuteTime": {
     "end_time": "2025-06-17T01:38:43.915805714Z",
     "start_time": "2025-06-17T01:38:43.222616106Z"
    }
   },
   "id": "eb07a8ba8d1eb90f"
  },
  {
   "cell_type": "markdown",
   "source": [
    "T-test can be used instead of Mann-Whitney-U-test by setting ``parameteric=True``:"
   ],
   "metadata": {
    "collapsed": false
   },
   "id": "c24f1c8c208860b7"
  },
  {
   "cell_type": "code",
   "execution_count": 6,
   "outputs": [
    {
     "data": {
      "text/plain": "<IPython.core.display.HTML object>",
      "text/html": "<style type=\"text/css\">\n#T_807f8 thead th {\n  background-color: white;\n  color: black;\n}\n#T_807f8 tbody tr:nth-child(odd) {\n  background-color: #f2f2f2;\n}\n#T_807f8 tbody tr:nth-child(even) {\n  background-color: white;\n}\n#T_807f8 th {\n  padding: 5px;\n  white-space: nowrap;\n}\n#T_807f8  td {\n  padding: 5px;\n  white-space: nowrap;\n}\n</style>\n<table id=\"T_807f8\" style='display:block; max-height: 300px; max-width: 100%; overflow-x: auto; overflow-y: auto;'>\n  <thead>\n    <tr>\n      <th class=\"blank level0\" >&nbsp;</th>\n      <th id=\"T_807f8_level0_col0\" class=\"col_heading level0 col0\" >p_val_ttest_indep</th>\n    </tr>\n  </thead>\n  <tbody>\n    <tr>\n      <th id=\"T_807f8_level0_row0\" class=\"row_heading level0 row0\" >1</th>\n      <td id=\"T_807f8_row0_col0\" class=\"data row0 col0\" >0.000000</td>\n    </tr>\n    <tr>\n      <th id=\"T_807f8_level0_row1\" class=\"row_heading level0 row1\" >2</th>\n      <td id=\"T_807f8_row1_col0\" class=\"data row1 col0\" >0.000000</td>\n    </tr>\n    <tr>\n      <th id=\"T_807f8_level0_row2\" class=\"row_heading level0 row2\" >3</th>\n      <td id=\"T_807f8_row2_col0\" class=\"data row2 col0\" >0.000000</td>\n    </tr>\n    <tr>\n      <th id=\"T_807f8_level0_row3\" class=\"row_heading level0 row3\" >4</th>\n      <td id=\"T_807f8_row3_col0\" class=\"data row3 col0\" >0.000000</td>\n    </tr>\n    <tr>\n      <th id=\"T_807f8_level0_row4\" class=\"row_heading level0 row4\" >5</th>\n      <td id=\"T_807f8_row4_col0\" class=\"data row4 col0\" >0.000000</td>\n    </tr>\n  </tbody>\n</table>\n"
     },
     "metadata": {},
     "output_type": "display_data"
    }
   ],
   "source": [
    "df_feat = sf.get_df_feat(features=features, df_parts=df_parts, labels=labels, parametric=True)\n",
    "aa.display_df(df_feat, n_rows=5, col_to_show=\"p_val_ttest_indep\")"
   ],
   "metadata": {
    "collapsed": false,
    "ExecuteTime": {
     "end_time": "2025-06-17T01:38:44.517078302Z",
     "start_time": "2025-06-17T01:38:43.912450761Z"
    }
   },
   "id": "293cf6c18bd2fdd3"
  }
 ],
 "metadata": {
  "kernelspec": {
   "display_name": "Python 3",
   "language": "python",
   "name": "python3"
  },
  "language_info": {
   "codemirror_mode": {
    "name": "ipython",
    "version": 2
   },
   "file_extension": ".py",
   "mimetype": "text/x-python",
   "name": "python",
   "nbconvert_exporter": "python",
   "pygments_lexer": "ipython2",
   "version": "2.7.6"
  }
 },
 "nbformat": 4,
 "nbformat_minor": 5
}
