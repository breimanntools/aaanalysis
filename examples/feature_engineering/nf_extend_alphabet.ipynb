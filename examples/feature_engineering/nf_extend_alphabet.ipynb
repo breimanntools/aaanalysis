{
 "cells": [
  {
   "cell_type": "markdown",
   "source": [
    "To address gaps in protein sequences caused by amino acids not encoded in your scales, the ``NumericalFeature().extend_alphabet()`` method effectively expands the existing alphabet. It adds new letters with values based on key statistics like minimum or average, calculated from the current amino acids. This enhancement helps prevent missing values and improves the reliability of feature engineering. To demonstrate this, we load our default scale DataFrame using ``load_scales``:"
   ],
   "metadata": {
    "collapsed": false
   },
   "id": "1db8a3b5a337bad4"
  },
  {
   "cell_type": "code",
   "execution_count": 3,
   "outputs": [
    {
     "name": "stdout",
     "output_type": "stream",
     "text": [
      "DataFrame shape: (20, 586)\n"
     ]
    },
    {
     "data": {
      "text/plain": "<IPython.core.display.HTML object>",
      "text/html": "<style type=\"text/css\">\n#T_0f0dc thead th {\n  background-color: white;\n  color: black;\n}\n#T_0f0dc tbody tr:nth-child(odd) {\n  background-color: #f2f2f2;\n}\n#T_0f0dc tbody tr:nth-child(even) {\n  background-color: white;\n}\n#T_0f0dc th {\n  padding: 5px;\n  white-space: nowrap;\n}\n#T_0f0dc  td {\n  padding: 5px;\n  white-space: nowrap;\n}\n</style>\n<table id=\"T_0f0dc\" style='display:block; max-height: 300px; max-width: 100%; overflow-x: auto; overflow-y: auto;'>\n  <thead>\n    <tr>\n      <th class=\"blank level0\" >&nbsp;</th>\n      <th id=\"T_0f0dc_level0_col0\" class=\"col_heading level0 col0\" >ANDN920101</th>\n      <th id=\"T_0f0dc_level0_col1\" class=\"col_heading level0 col1\" >ARGP820101</th>\n      <th id=\"T_0f0dc_level0_col2\" class=\"col_heading level0 col2\" >ARGP820102</th>\n    </tr>\n    <tr>\n      <th class=\"index_name level0\" >AA</th>\n      <th class=\"blank col0\" >&nbsp;</th>\n      <th class=\"blank col1\" >&nbsp;</th>\n      <th class=\"blank col2\" >&nbsp;</th>\n    </tr>\n  </thead>\n  <tbody>\n    <tr>\n      <th id=\"T_0f0dc_level0_row0\" class=\"row_heading level0 row0\" >A</th>\n      <td id=\"T_0f0dc_row0_col0\" class=\"data row0 col0\" >0.494000</td>\n      <td id=\"T_0f0dc_row0_col1\" class=\"data row0 col1\" >0.230000</td>\n      <td id=\"T_0f0dc_row0_col2\" class=\"data row0 col2\" >0.355000</td>\n    </tr>\n    <tr>\n      <th id=\"T_0f0dc_level0_row1\" class=\"row_heading level0 row1\" >C</th>\n      <td id=\"T_0f0dc_row1_col0\" class=\"data row1 col0\" >0.864000</td>\n      <td id=\"T_0f0dc_row1_col1\" class=\"data row1 col1\" >0.404000</td>\n      <td id=\"T_0f0dc_row1_col2\" class=\"data row1 col2\" >0.579000</td>\n    </tr>\n    <tr>\n      <th id=\"T_0f0dc_level0_row2\" class=\"row_heading level0 row2\" >D</th>\n      <td id=\"T_0f0dc_row2_col0\" class=\"data row2 col0\" >1.000000</td>\n      <td id=\"T_0f0dc_row2_col1\" class=\"data row2 col1\" >0.174000</td>\n      <td id=\"T_0f0dc_row2_col2\" class=\"data row2 col2\" >0.000000</td>\n    </tr>\n    <tr>\n      <th id=\"T_0f0dc_level0_row3\" class=\"row_heading level0 row3\" >E</th>\n      <td id=\"T_0f0dc_row3_col0\" class=\"data row3 col0\" >0.420000</td>\n      <td id=\"T_0f0dc_row3_col1\" class=\"data row3 col1\" >0.177000</td>\n      <td id=\"T_0f0dc_row3_col2\" class=\"data row3 col2\" >0.019000</td>\n    </tr>\n    <tr>\n      <th id=\"T_0f0dc_level0_row4\" class=\"row_heading level0 row4\" >F</th>\n      <td id=\"T_0f0dc_row4_col0\" class=\"data row4 col0\" >0.877000</td>\n      <td id=\"T_0f0dc_row4_col1\" class=\"data row4 col1\" >0.762000</td>\n      <td id=\"T_0f0dc_row4_col2\" class=\"data row4 col2\" >0.601000</td>\n    </tr>\n    <tr>\n      <th id=\"T_0f0dc_level0_row5\" class=\"row_heading level0 row5\" >G</th>\n      <td id=\"T_0f0dc_row5_col0\" class=\"data row5 col0\" >0.025000</td>\n      <td id=\"T_0f0dc_row5_col1\" class=\"data row5 col1\" >0.026000</td>\n      <td id=\"T_0f0dc_row5_col2\" class=\"data row5 col2\" >0.138000</td>\n    </tr>\n    <tr>\n      <th id=\"T_0f0dc_level0_row6\" class=\"row_heading level0 row6\" >H</th>\n      <td id=\"T_0f0dc_row6_col0\" class=\"data row6 col0\" >0.840000</td>\n      <td id=\"T_0f0dc_row6_col1\" class=\"data row6 col1\" >0.230000</td>\n      <td id=\"T_0f0dc_row6_col2\" class=\"data row6 col2\" >0.082000</td>\n    </tr>\n    <tr>\n      <th id=\"T_0f0dc_level0_row7\" class=\"row_heading level0 row7\" >I</th>\n      <td id=\"T_0f0dc_row7_col0\" class=\"data row7 col0\" >0.000000</td>\n      <td id=\"T_0f0dc_row7_col1\" class=\"data row7 col1\" >0.838000</td>\n      <td id=\"T_0f0dc_row7_col2\" class=\"data row7 col2\" >0.440000</td>\n    </tr>\n    <tr>\n      <th id=\"T_0f0dc_level0_row8\" class=\"row_heading level0 row8\" >K</th>\n      <td id=\"T_0f0dc_row8_col0\" class=\"data row8 col0\" >0.506000</td>\n      <td id=\"T_0f0dc_row8_col1\" class=\"data row8 col1\" >0.434000</td>\n      <td id=\"T_0f0dc_row8_col2\" class=\"data row8 col2\" >0.003000</td>\n    </tr>\n    <tr>\n      <th id=\"T_0f0dc_level0_row9\" class=\"row_heading level0 row9\" >L</th>\n      <td id=\"T_0f0dc_row9_col0\" class=\"data row9 col0\" >0.272000</td>\n      <td id=\"T_0f0dc_row9_col1\" class=\"data row9 col1\" >0.577000</td>\n      <td id=\"T_0f0dc_row9_col2\" class=\"data row9 col2\" >1.000000</td>\n    </tr>\n    <tr>\n      <th id=\"T_0f0dc_level0_row10\" class=\"row_heading level0 row10\" >M</th>\n      <td id=\"T_0f0dc_row10_col0\" class=\"data row10 col0\" >0.704000</td>\n      <td id=\"T_0f0dc_row10_col1\" class=\"data row10 col1\" >0.445000</td>\n      <td id=\"T_0f0dc_row10_col2\" class=\"data row10 col2\" >0.824000</td>\n    </tr>\n    <tr>\n      <th id=\"T_0f0dc_level0_row11\" class=\"row_heading level0 row11\" >N</th>\n      <td id=\"T_0f0dc_row11_col0\" class=\"data row11 col0\" >0.988000</td>\n      <td id=\"T_0f0dc_row11_col1\" class=\"data row11 col1\" >0.023000</td>\n      <td id=\"T_0f0dc_row11_col2\" class=\"data row11 col2\" >0.057000</td>\n    </tr>\n    <tr>\n      <th id=\"T_0f0dc_level0_row12\" class=\"row_heading level0 row12\" >P</th>\n      <td id=\"T_0f0dc_row12_col0\" class=\"data row12 col0\" >0.605000</td>\n      <td id=\"T_0f0dc_row12_col1\" class=\"data row12 col1\" >0.736000</td>\n      <td id=\"T_0f0dc_row12_col2\" class=\"data row12 col2\" >0.223000</td>\n    </tr>\n    <tr>\n      <th id=\"T_0f0dc_level0_row13\" class=\"row_heading level0 row13\" >Q</th>\n      <td id=\"T_0f0dc_row13_col0\" class=\"data row13 col0\" >0.519000</td>\n      <td id=\"T_0f0dc_row13_col1\" class=\"data row13 col1\" >0.000000</td>\n      <td id=\"T_0f0dc_row13_col2\" class=\"data row13 col2\" >0.211000</td>\n    </tr>\n    <tr>\n      <th id=\"T_0f0dc_level0_row14\" class=\"row_heading level0 row14\" >R</th>\n      <td id=\"T_0f0dc_row14_col0\" class=\"data row14 col0\" >0.531000</td>\n      <td id=\"T_0f0dc_row14_col1\" class=\"data row14 col1\" >0.226000</td>\n      <td id=\"T_0f0dc_row14_col2\" class=\"data row14 col2\" >0.047000</td>\n    </tr>\n    <tr>\n      <th id=\"T_0f0dc_level0_row15\" class=\"row_heading level0 row15\" >S</th>\n      <td id=\"T_0f0dc_row15_col0\" class=\"data row15 col0\" >0.679000</td>\n      <td id=\"T_0f0dc_row15_col1\" class=\"data row15 col1\" >0.019000</td>\n      <td id=\"T_0f0dc_row15_col2\" class=\"data row15 col2\" >0.289000</td>\n    </tr>\n    <tr>\n      <th id=\"T_0f0dc_level0_row16\" class=\"row_heading level0 row16\" >T</th>\n      <td id=\"T_0f0dc_row16_col0\" class=\"data row16 col0\" >0.494000</td>\n      <td id=\"T_0f0dc_row16_col1\" class=\"data row16 col1\" >0.019000</td>\n      <td id=\"T_0f0dc_row16_col2\" class=\"data row16 col2\" >0.248000</td>\n    </tr>\n    <tr>\n      <th id=\"T_0f0dc_level0_row17\" class=\"row_heading level0 row17\" >V</th>\n      <td id=\"T_0f0dc_row17_col0\" class=\"data row17 col0\" >0.000000</td>\n      <td id=\"T_0f0dc_row17_col1\" class=\"data row17 col1\" >0.498000</td>\n      <td id=\"T_0f0dc_row17_col2\" class=\"data row17 col2\" >0.324000</td>\n    </tr>\n    <tr>\n      <th id=\"T_0f0dc_level0_row18\" class=\"row_heading level0 row18\" >W</th>\n      <td id=\"T_0f0dc_row18_col0\" class=\"data row18 col0\" >0.926000</td>\n      <td id=\"T_0f0dc_row18_col1\" class=\"data row18 col1\" >1.000000</td>\n      <td id=\"T_0f0dc_row18_col2\" class=\"data row18 col2\" >0.226000</td>\n    </tr>\n    <tr>\n      <th id=\"T_0f0dc_level0_row19\" class=\"row_heading level0 row19\" >Y</th>\n      <td id=\"T_0f0dc_row19_col0\" class=\"data row19 col0\" >0.802000</td>\n      <td id=\"T_0f0dc_row19_col1\" class=\"data row19 col1\" >0.709000</td>\n      <td id=\"T_0f0dc_row19_col2\" class=\"data row19 col2\" >0.107000</td>\n    </tr>\n  </tbody>\n</table>\n"
     },
     "metadata": {},
     "output_type": "display_data"
    }
   ],
   "source": [
    "import aaanalysis as aa\n",
    "df_scales = aa.load_scales()\n",
    "aa.display_df(df_scales, n_cols=3, show_shape=True)"
   ],
   "metadata": {
    "collapsed": false,
    "ExecuteTime": {
     "end_time": "2025-06-17T01:38:02.461734243Z",
     "start_time": "2025-06-17T01:38:02.323414902Z"
    }
   },
   "id": "443ea4a013ed4378"
  },
  {
   "cell_type": "markdown",
   "source": [
    "Using the utility ``NumericalFeature`` class, you can add a new letter (``new_letter``) to the ``df_seq`` DataFrame and select a ``value_type`` (default='mean'). "
   ],
   "metadata": {
    "collapsed": false
   },
   "id": "26408740c9508aee"
  },
  {
   "cell_type": "code",
   "execution_count": 4,
   "outputs": [
    {
     "name": "stdout",
     "output_type": "stream",
     "text": [
      "DataFrame shape: (21, 586)\n"
     ]
    },
    {
     "data": {
      "text/plain": "<IPython.core.display.HTML object>",
      "text/html": "<style type=\"text/css\">\n#T_b10f1 thead th {\n  background-color: white;\n  color: black;\n}\n#T_b10f1 tbody tr:nth-child(odd) {\n  background-color: #f2f2f2;\n}\n#T_b10f1 tbody tr:nth-child(even) {\n  background-color: white;\n}\n#T_b10f1 th {\n  padding: 5px;\n  white-space: nowrap;\n}\n#T_b10f1  td {\n  padding: 5px;\n  white-space: nowrap;\n}\n</style>\n<table id=\"T_b10f1\" style='display:block; max-height: 300px; max-width: 100%; overflow-x: auto; overflow-y: auto;'>\n  <thead>\n    <tr>\n      <th class=\"blank level0\" >&nbsp;</th>\n      <th id=\"T_b10f1_level0_col0\" class=\"col_heading level0 col0\" >ANDN920101</th>\n      <th id=\"T_b10f1_level0_col1\" class=\"col_heading level0 col1\" >ARGP820101</th>\n      <th id=\"T_b10f1_level0_col2\" class=\"col_heading level0 col2\" >ARGP820102</th>\n    </tr>\n    <tr>\n      <th class=\"index_name level0\" >AA</th>\n      <th class=\"blank col0\" >&nbsp;</th>\n      <th class=\"blank col1\" >&nbsp;</th>\n      <th class=\"blank col2\" >&nbsp;</th>\n    </tr>\n  </thead>\n  <tbody>\n    <tr>\n      <th id=\"T_b10f1_level0_row0\" class=\"row_heading level0 row0\" >X</th>\n      <td id=\"T_b10f1_row0_col0\" class=\"data row0 col0\" >0.577300</td>\n      <td id=\"T_b10f1_row0_col1\" class=\"data row0 col1\" >0.376350</td>\n      <td id=\"T_b10f1_row0_col2\" class=\"data row0 col2\" >0.288650</td>\n    </tr>\n  </tbody>\n</table>\n"
     },
     "metadata": {},
     "output_type": "display_data"
    }
   ],
   "source": [
    "nf = aa.NumericalFeature()\n",
    "# Add new letter in last row of DataFrame\n",
    "df_scales_x_mean = nf.extend_alphabet(df_scales=df_scales, new_letter=\"X\")\n",
    "aa.display_df(df_scales_x_mean, n_cols=3, show_shape=True, row_to_show=\"X\")"
   ],
   "metadata": {
    "collapsed": false,
    "ExecuteTime": {
     "end_time": "2025-06-17T01:38:02.550375372Z",
     "start_time": "2025-06-17T01:38:02.393493979Z"
    }
   },
   "id": "8f0784935e259173"
  },
  {
   "cell_type": "code",
   "execution_count": 5,
   "outputs": [
    {
     "data": {
      "text/plain": "<IPython.core.display.HTML object>",
      "text/html": "<style type=\"text/css\">\n#T_59b81 thead th {\n  background-color: white;\n  color: black;\n}\n#T_59b81 tbody tr:nth-child(odd) {\n  background-color: #f2f2f2;\n}\n#T_59b81 tbody tr:nth-child(even) {\n  background-color: white;\n}\n#T_59b81 th {\n  padding: 5px;\n  white-space: nowrap;\n}\n#T_59b81  td {\n  padding: 5px;\n  white-space: nowrap;\n}\n</style>\n<table id=\"T_59b81\" style='display:block; max-height: 300px; max-width: 100%; overflow-x: auto; overflow-y: auto;'>\n  <thead>\n    <tr>\n      <th class=\"blank level0\" >&nbsp;</th>\n      <th id=\"T_59b81_level0_col0\" class=\"col_heading level0 col0\" >ANDN920101</th>\n      <th id=\"T_59b81_level0_col1\" class=\"col_heading level0 col1\" >ARGP820101</th>\n      <th id=\"T_59b81_level0_col2\" class=\"col_heading level0 col2\" >ARGP820102</th>\n    </tr>\n    <tr>\n      <th class=\"index_name level0\" >AA</th>\n      <th class=\"blank col0\" >&nbsp;</th>\n      <th class=\"blank col1\" >&nbsp;</th>\n      <th class=\"blank col2\" >&nbsp;</th>\n    </tr>\n  </thead>\n  <tbody>\n    <tr>\n      <th id=\"T_59b81_level0_row0\" class=\"row_heading level0 row0\" >X</th>\n      <td id=\"T_59b81_row0_col0\" class=\"data row0 col0\" >0.000000</td>\n      <td id=\"T_59b81_row0_col1\" class=\"data row0 col1\" >0.000000</td>\n      <td id=\"T_59b81_row0_col2\" class=\"data row0 col2\" >0.000000</td>\n    </tr>\n  </tbody>\n</table>\n"
     },
     "metadata": {},
     "output_type": "display_data"
    }
   ],
   "source": [
    "# This should set each value of X to 0 since scales are min-max normalized\n",
    "df_scales_x_min = nf.extend_alphabet(df_scales=df_scales, new_letter=\"X\", value_type=\"min\")\n",
    "aa.display_df(df_scales_x_min, n_cols=3, row_to_show=\"X\")"
   ],
   "metadata": {
    "collapsed": false,
    "ExecuteTime": {
     "end_time": "2025-06-17T01:38:02.646796408Z",
     "start_time": "2025-06-17T01:38:02.530235027Z"
    }
   },
   "id": "844c986241971b75"
  },
  {
   "cell_type": "markdown",
   "source": [
    "This modified ``df_scales`` DataFrame can now set as global default using ``options``:"
   ],
   "metadata": {
    "collapsed": false
   },
   "id": "1e9604e21fac8255"
  },
  {
   "cell_type": "code",
   "execution_count": 6,
   "outputs": [
    {
     "data": {
      "text/plain": "<IPython.core.display.HTML object>",
      "text/html": "<style type=\"text/css\">\n#T_5634b thead th {\n  background-color: white;\n  color: black;\n}\n#T_5634b tbody tr:nth-child(odd) {\n  background-color: #f2f2f2;\n}\n#T_5634b tbody tr:nth-child(even) {\n  background-color: white;\n}\n#T_5634b th {\n  padding: 5px;\n  white-space: nowrap;\n}\n#T_5634b  td {\n  padding: 5px;\n  white-space: nowrap;\n}\n</style>\n<table id=\"T_5634b\" style='display:block; max-height: 300px; max-width: 100%; overflow-x: auto; overflow-y: auto;'>\n  <thead>\n    <tr>\n      <th class=\"blank level0\" >&nbsp;</th>\n      <th id=\"T_5634b_level0_col0\" class=\"col_heading level0 col0\" >ANDN920101</th>\n      <th id=\"T_5634b_level0_col1\" class=\"col_heading level0 col1\" >ARGP820101</th>\n      <th id=\"T_5634b_level0_col2\" class=\"col_heading level0 col2\" >ARGP820102</th>\n    </tr>\n    <tr>\n      <th class=\"index_name level0\" >AA</th>\n      <th class=\"blank col0\" >&nbsp;</th>\n      <th class=\"blank col1\" >&nbsp;</th>\n      <th class=\"blank col2\" >&nbsp;</th>\n    </tr>\n  </thead>\n  <tbody>\n    <tr>\n      <th id=\"T_5634b_level0_row0\" class=\"row_heading level0 row0\" >X</th>\n      <td id=\"T_5634b_row0_col0\" class=\"data row0 col0\" >0.577300</td>\n      <td id=\"T_5634b_row0_col1\" class=\"data row0 col1\" >0.376350</td>\n      <td id=\"T_5634b_row0_col2\" class=\"data row0 col2\" >0.288650</td>\n    </tr>\n  </tbody>\n</table>\n"
     },
     "metadata": {},
     "output_type": "display_data"
    }
   ],
   "source": [
    "aa.options[\"df_scales\"] = df_scales_x_mean\n",
    "# This will set internal default df_scales (but not affect load_scales)\n",
    "cpp_plot = aa.CPPPlot()\n",
    "df_scales_default = cpp_plot._df_scales\n",
    "aa.display_df(df_scales_default, n_cols=3, row_to_show=\"X\")"
   ],
   "metadata": {
    "collapsed": false,
    "ExecuteTime": {
     "end_time": "2025-06-17T01:38:02.909815256Z",
     "start_time": "2025-06-17T01:38:02.661375135Z"
    }
   },
   "id": "d72fd9011721df58"
  }
 ],
 "metadata": {
  "kernelspec": {
   "display_name": "Python 3",
   "language": "python",
   "name": "python3"
  },
  "language_info": {
   "codemirror_mode": {
    "name": "ipython",
    "version": 2
   },
   "file_extension": ".py",
   "mimetype": "text/x-python",
   "name": "python",
   "nbconvert_exporter": "python",
   "pygments_lexer": "ipython2",
   "version": "2.7.6"
  }
 },
 "nbformat": 4,
 "nbformat_minor": 5
}
