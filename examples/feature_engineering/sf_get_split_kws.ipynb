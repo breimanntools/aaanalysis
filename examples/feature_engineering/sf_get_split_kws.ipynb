{
 "cells": [
  {
   "cell_type": "markdown",
   "source": [
    "Get default arguments for all splits types (``Segment``, ``Pattern``, ``PeriodicPattern``):"
   ],
   "metadata": {
    "collapsed": false
   },
   "id": "290b7ff300455499"
  },
  {
   "cell_type": "code",
   "execution_count": 1,
   "outputs": [
    {
     "data": {
      "text/plain": "{'Segment': {'n_split_min': 1, 'n_split_max': 15},\n 'Pattern': {'steps': [3, 4], 'n_min': 2, 'n_max': 4, 'len_max': 15},\n 'PeriodicPattern': {'steps': [3, 4]}}"
     },
     "execution_count": 1,
     "metadata": {},
     "output_type": "execute_result"
    }
   ],
   "source": [
    "import aaanalysis as aa\n",
    "sf = aa.SequenceFeature()\n",
    "split_kws = sf.get_split_kws()\n",
    "split_kws"
   ],
   "metadata": {
    "collapsed": false,
    "ExecuteTime": {
     "end_time": "2025-06-17T01:40:16.866695599Z",
     "start_time": "2025-06-17T01:40:13.531829496Z"
    }
   },
   "id": "65d93efc6b0fd542"
  },
  {
   "cell_type": "markdown",
   "source": [
    "You can also retrieve arguments for specific split types:"
   ],
   "metadata": {
    "collapsed": false
   },
   "id": "e8cfff8a29ae6cfc"
  },
  {
   "cell_type": "code",
   "execution_count": 2,
   "outputs": [
    {
     "data": {
      "text/plain": "{'Segment': {'n_split_min': 1, 'n_split_max': 15},\n 'Pattern': {'steps': [3, 4], 'n_min': 2, 'n_max': 4, 'len_max': 15}}"
     },
     "execution_count": 2,
     "metadata": {},
     "output_type": "execute_result"
    }
   ],
   "source": [
    "split_kws = sf.get_split_kws(split_types=[\"Segment\", \"Pattern\"])\n",
    "split_kws"
   ],
   "metadata": {
    "collapsed": false,
    "ExecuteTime": {
     "end_time": "2025-06-17T01:40:16.873118765Z",
     "start_time": "2025-06-17T01:40:16.866568751Z"
    }
   },
   "id": "1f0d8200fece12cf"
  },
  {
   "cell_type": "markdown",
   "source": [
    "The arguments for each split type can be adjusted. For ``Segments``, their minimum and maximum length can be changed by the ``n_split_min`` (default=1) and ``n_split_max`` (default=15) parameters:"
   ],
   "metadata": {
    "collapsed": false
   },
   "id": "ad038b5a11bd91f"
  },
  {
   "cell_type": "code",
   "execution_count": 3,
   "outputs": [
    {
     "data": {
      "text/plain": "{'Segment': {'n_split_min': 5, 'n_split_max': 10}}"
     },
     "execution_count": 3,
     "metadata": {},
     "output_type": "execute_result"
    }
   ],
   "source": [
    "split_kws = sf.get_split_kws(split_types=\"Segment\", n_split_min=5, n_split_max=10)\n",
    "split_kws"
   ],
   "metadata": {
    "collapsed": false,
    "ExecuteTime": {
     "end_time": "2025-06-17T01:40:16.879576525Z",
     "start_time": "2025-06-17T01:40:16.874031394Z"
    }
   },
   "id": "165ba615561e85a4"
  },
  {
   "cell_type": "markdown",
   "source": [
    "For ``PeriodicPattern``, the step size of each odd and even step can be specified as follows using the ``steps_periodicpattern`` (default=[3, 4]):"
   ],
   "metadata": {
    "collapsed": false
   },
   "id": "e24eaea83bb5add8"
  },
  {
   "cell_type": "code",
   "execution_count": 4,
   "outputs": [
    {
     "data": {
      "text/plain": "{'PeriodicPattern': {'steps': [5, 10]}}"
     },
     "execution_count": 4,
     "metadata": {},
     "output_type": "execute_result"
    }
   ],
   "source": [
    "split_kws = sf.get_split_kws(split_types=\"PeriodicPattern\", steps_periodicpattern=[5, 10])\n",
    "split_kws"
   ],
   "metadata": {
    "collapsed": false,
    "ExecuteTime": {
     "end_time": "2025-06-17T01:40:16.886316362Z",
     "start_time": "2025-06-17T01:40:16.881682278Z"
    }
   },
   "id": "e02c925f4b5b8040"
  },
  {
   "cell_type": "markdown",
   "source": [
    "And for ``Patterns``, the step size, the minimum and maximum number of steps, and the maximum residue size of the pattern can be adjusted using the ``steps_pattern`` (default=[3, 4]), ``n_min`` (default=2), ``n_max`` (default=4), and ``len_max`` (default=10) parameters: "
   ],
   "metadata": {
    "collapsed": false
   },
   "id": "cae54f2921b5d767"
  },
  {
   "cell_type": "code",
   "execution_count": 5,
   "outputs": [
    {
     "data": {
      "text/plain": "{'Pattern': {'steps': [5, 10], 'n_min': 3, 'n_max': 5, 'len_max': 30}}"
     },
     "execution_count": 5,
     "metadata": {},
     "output_type": "execute_result"
    }
   ],
   "source": [
    "split_kws = sf.get_split_kws(split_types=\"Pattern\", steps_pattern=[5, 10], n_min=3, n_max=5, len_max=30)\n",
    "split_kws"
   ],
   "metadata": {
    "collapsed": false,
    "ExecuteTime": {
     "end_time": "2025-06-17T01:40:17.016768342Z",
     "start_time": "2025-06-17T01:40:17.004584950Z"
    }
   },
   "id": "796532a7b9be40bd"
  }
 ],
 "metadata": {
  "kernelspec": {
   "display_name": "Python 3",
   "language": "python",
   "name": "python3"
  },
  "language_info": {
   "codemirror_mode": {
    "name": "ipython",
    "version": 2
   },
   "file_extension": ".py",
   "mimetype": "text/x-python",
   "name": "python",
   "nbconvert_exporter": "python",
   "pygments_lexer": "ipython2",
   "version": "2.7.6"
  }
 },
 "nbformat": 4,
 "nbformat_minor": 5
}
