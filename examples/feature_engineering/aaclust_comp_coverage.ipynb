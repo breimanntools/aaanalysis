{
 "cells": [
  {
   "cell_type": "markdown",
   "source": [
    "The overlap of unique names between two list of names (in percentage) can be computed by ``AAclust().comp_coverage()`` method: "
   ],
   "metadata": {
    "collapsed": false
   },
   "id": "c7b798218d08b817"
  },
  {
   "cell_type": "code",
   "execution_count": 1,
   "outputs": [
    {
     "name": "stdout",
     "output_type": "stream",
     "text": [
      "The scale subcategories of the first 50 scales cover 6.76%\n",
      " of all scale subcategories from AAontology.\n"
     ]
    }
   ],
   "source": [
    "import aaanalysis as aa\n",
    "df_cat = aa.load_scales(name=\"scales_cat\")\n",
    "names_ref = df_cat[\"subcategory\"].to_list()\n",
    "names = names_ref[0:50]\n",
    "coverage = aa.AAclust().comp_coverage(names=names, names_ref=names_ref)\n",
    "print(f\"The scale subcategories of the first 50 scales cover {coverage}%\\n of all scale subcategories from AAontology.\")"
   ],
   "metadata": {
    "collapsed": false,
    "ExecuteTime": {
     "end_time": "2025-06-17T01:48:32.681711766Z",
     "start_time": "2025-06-17T01:48:31.656978654Z"
    }
   },
   "id": "5d5b338f600e789d"
  }
 ],
 "metadata": {
  "kernelspec": {
   "display_name": "Python 3",
   "language": "python",
   "name": "python3"
  },
  "language_info": {
   "codemirror_mode": {
    "name": "ipython",
    "version": 2
   },
   "file_extension": ".py",
   "mimetype": "text/x-python",
   "name": "python",
   "nbconvert_exporter": "python",
   "pygments_lexer": "ipython2",
   "version": "2.7.6"
  }
 },
 "nbformat": 4,
 "nbformat_minor": 5
}
