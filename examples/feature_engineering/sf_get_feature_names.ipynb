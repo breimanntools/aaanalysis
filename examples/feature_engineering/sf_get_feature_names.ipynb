{
 "cells": [
  {
   "cell_type": "markdown",
   "source": [
    "To obtain feature names, we retrieve feature ids using the ``SequenceFeature().get_features()`` method:"
   ],
   "metadata": {
    "collapsed": false
   },
   "id": "4c2952c2f9b97d62"
  },
  {
   "cell_type": "code",
   "execution_count": 1,
   "outputs": [
    {
     "name": "stdout",
     "output_type": "stream",
     "text": [
      "['TMD-Segment(1,1)-ANDN920101', 'TMD-Segment(1,1)-ARGP820101', 'TMD-Segment(1,1)-ARGP820102', 'TMD-Segment(1,1)-ARGP820103', 'TMD-Segment(1,1)-BEGF750101']\n"
     ]
    }
   ],
   "source": [
    "import pandas as pd\n",
    "import aaanalysis as aa\n",
    "sf = aa.SequenceFeature()\n",
    "features = sf.get_features()\n",
    "print(features[0:5])"
   ],
   "metadata": {
    "collapsed": false,
    "ExecuteTime": {
     "end_time": "2025-06-17T01:39:07.210649427Z",
     "start_time": "2025-06-17T01:39:05.359952561Z"
    }
   },
   "id": "8471876c51ade2bf"
  },
  {
   "cell_type": "markdown",
   "source": [
    "A list of feature names can now be created using the ``SequenceFeature().get_feature_name()`` method:"
   ],
   "metadata": {
    "collapsed": false
   },
   "id": "d4bf340cb1223686"
  },
  {
   "cell_type": "code",
   "execution_count": 2,
   "outputs": [
    {
     "name": "stdout",
     "output_type": "stream",
     "text": [
      "['Backbone-dynamics (-CH) [11-30]', 'Hydrophobicity [11-30]', 'Amphiphilicity (α-helix) [11-30]', 'Buried [11-30]', 'α-helix [11-30]']\n"
     ]
    }
   ],
   "source": [
    "feature_names = sf.get_feature_names(features=features)\n",
    "print(feature_names[0:5])"
   ],
   "metadata": {
    "collapsed": false,
    "ExecuteTime": {
     "end_time": "2025-06-17T01:39:27.811113495Z",
     "start_time": "2025-06-17T01:39:07.184103311Z"
    }
   },
   "id": "2a3576432ab4bb5"
  },
  {
   "cell_type": "markdown",
   "source": [
    "The ``start`` position and the length of the sequence parts (``tmd_len``, ``jmd_n_len``, and ``jmd_c_len``) can be adjusted:"
   ],
   "metadata": {
    "collapsed": false
   },
   "id": "52179554e1df0c10"
  },
  {
   "cell_type": "code",
   "execution_count": 3,
   "outputs": [
    {
     "name": "stdout",
     "output_type": "stream",
     "text": [
      "['Backbone-dynamics (-CH) [30-49]', 'Hydrophobicity [30-49]', 'Amphiphilicity (α-helix) [30-49]', 'Buried [30-49]', 'α-helix [30-49]']\n"
     ]
    }
   ],
   "source": [
    "# Shift start position from 1 to 20\n",
    "feature_names = sf.get_feature_names(features=features, start=20)\n",
    "print(feature_names[0:5])"
   ],
   "metadata": {
    "collapsed": false,
    "ExecuteTime": {
     "end_time": "2025-06-17T01:39:46.417177542Z",
     "start_time": "2025-06-17T01:39:27.832201187Z"
    }
   },
   "id": "ed8c2ad87c7ef962"
  },
  {
   "cell_type": "code",
   "execution_count": 4,
   "outputs": [
    {
     "name": "stdout",
     "output_type": "stream",
     "text": [
      "['Backbone-dynamics (-CH) [11-110]', 'Hydrophobicity [11-110]', 'Amphiphilicity (α-helix) [11-110]', 'Buried [11-110]', 'α-helix [11-110]']\n"
     ]
    }
   ],
   "source": [
    "# Change TMD length from 20 to 100\n",
    "feature_names = sf.get_feature_names(features=features, tmd_len=100)\n",
    "print(feature_names[0:5])"
   ],
   "metadata": {
    "collapsed": false,
    "ExecuteTime": {
     "end_time": "2025-06-17T01:40:06.330231937Z",
     "start_time": "2025-06-17T01:39:46.418469178Z"
    }
   },
   "id": "64524a722f908375"
  },
  {
   "cell_type": "markdown",
   "source": [
    "If features with customized scales are used, provide a matching ``df_cat``, which must comprise a ``scale_id``, ``category``, and ``subcategory`` column:"
   ],
   "metadata": {
    "collapsed": false
   },
   "id": "fcdd03837ca7e195"
  },
  {
   "cell_type": "code",
   "execution_count": 6,
   "outputs": [
    {
     "name": "stdout",
     "output_type": "stream",
     "text": [
      "['Scale1_subcategory [11-30]', 'Scale1_subcategory [11-20]', 'Scale1_subcategory [21-30]']\n"
     ]
    }
   ],
   "source": [
    "# Create customized features and df_cat\n",
    "features = [\"TMD-Segment(1,1)-Scale1\", \"TMD-Segment(1,2)-Scale1\", \"TMD-Segment(2,2)-Scale1\"]\n",
    "cols = [\"scale_id\", \"category\", \"subcategory\", \"scale_name\"]\n",
    "vals = [\"Scale1\", \"Scale1_category\", \"Scale1_subcategory\", \"scale_name1\"]\n",
    "df_cat = pd.DataFrame([vals], columns=cols)\n",
    "feature_names = sf.get_feature_names(features=features, df_cat=df_cat)\n",
    "print(feature_names)"
   ],
   "metadata": {
    "collapsed": false,
    "ExecuteTime": {
     "end_time": "2025-06-17T01:41:30.686377353Z",
     "start_time": "2025-06-17T01:41:30.653822476Z"
    }
   },
   "id": "39258c91590d8ecc"
  },
  {
   "cell_type": "code",
   "execution_count": null,
   "outputs": [],
   "source": [],
   "metadata": {
    "collapsed": false
   },
   "id": "635632d902b52543"
  }
 ],
 "metadata": {
  "kernelspec": {
   "display_name": "Python 3",
   "language": "python",
   "name": "python3"
  },
  "language_info": {
   "codemirror_mode": {
    "name": "ipython",
    "version": 2
   },
   "file_extension": ".py",
   "mimetype": "text/x-python",
   "name": "python",
   "nbconvert_exporter": "python",
   "pygments_lexer": "ipython2",
   "version": "2.7.6"
  }
 },
 "nbformat": 4,
 "nbformat_minor": 5
}
