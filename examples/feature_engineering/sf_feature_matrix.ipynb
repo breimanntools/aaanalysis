{
 "cells": [
  {
   "cell_type": "markdown",
   "source": [
    "To demonstrate the ``SequenceFeature().feature_matrix()`` method, we load the ``DOM_GSEC`` example dataset including its respective features  (see [Breimann25a]_):"
   ],
   "metadata": {
    "collapsed": false
   },
   "id": "92725d10bb835e87"
  },
  {
   "cell_type": "code",
   "execution_count": 1,
   "outputs": [],
   "source": [
    "import aaanalysis as aa\n",
    "aa.options[\"verbose\"] = False\n",
    "df_seq = aa.load_dataset(name=\"DOM_GSEC\")\n",
    "labels = df_seq[\"label\"].to_list()\n",
    "df_feat = aa.load_features(name=\"DOM_GSEC\")\n",
    "features = df_feat[\"feature\"].to_list()\n",
    "sf = aa.SequenceFeature()\n",
    "df_parts = sf.get_df_parts(df_seq=df_seq)"
   ],
   "metadata": {
    "collapsed": false,
    "ExecuteTime": {
     "end_time": "2025-06-17T01:38:29.334170143Z",
     "start_time": "2025-06-17T01:38:28.258196823Z"
    }
   },
   "id": "4201cc6002df68e7"
  },
  {
   "cell_type": "markdown",
   "source": [
    "``features`` and ``df_parts`` must be provided to retrieve the feature matrix:"
   ],
   "metadata": {
    "collapsed": false
   },
   "id": "2d502810dc52c7d0"
  },
  {
   "cell_type": "code",
   "execution_count": 2,
   "outputs": [
    {
     "name": "stdout",
     "output_type": "stream",
     "text": [
      "n samples: 126\n",
      "n features: 150\n",
      "Shape of X: (126, 150)\n"
     ]
    }
   ],
   "source": [
    "X = sf.feature_matrix(features=features, df_parts=df_parts)\n",
    "print(f\"n samples: {len(df_parts)}\")\n",
    "print(f\"n features: {len(features)}\")\n",
    "# X has a shape of n_samples, n_features\n",
    "print(f\"Shape of X: {X.shape}\")"
   ],
   "metadata": {
    "collapsed": false,
    "ExecuteTime": {
     "end_time": "2025-06-17T01:38:29.894049681Z",
     "start_time": "2025-06-17T01:38:29.327604349Z"
    }
   },
   "id": "2a45ef6af14b4dae"
  },
  {
   "cell_type": "markdown",
   "source": [
    "If sequences in ``df_parts``, you can enable ``accept_gaps`` so that the feature values are computed as the average of the part-split combination ignoring gaps."
   ],
   "metadata": {
    "collapsed": false
   },
   "id": "bd77dd2fc6113408"
  },
  {
   "cell_type": "code",
   "execution_count": 3,
   "outputs": [],
   "source": [
    "X = sf.feature_matrix(features=features, df_parts=df_parts, accept_gaps=True)"
   ],
   "metadata": {
    "collapsed": false,
    "ExecuteTime": {
     "end_time": "2025-06-17T01:38:30.946642070Z",
     "start_time": "2025-06-17T01:38:29.889317965Z"
    }
   },
   "id": "7544c98642ae5a0d"
  },
  {
   "cell_type": "markdown",
   "source": [
    "Multiprocessing can be used by using the ``n_jobs`` parameter, which is set to the maximum if ``n_jobs=None``. However, this is only recommend for more than ~1000 features per core due to potential process management overhead.   "
   ],
   "metadata": {
    "collapsed": false
   },
   "id": "b90445ee76807fbf"
  },
  {
   "cell_type": "code",
   "execution_count": 4,
   "outputs": [
    {
     "name": "stdout",
     "output_type": "stream",
     "text": [
      "Time without multiprocessing: 0.54 seconds\n",
      "Time with multiprocessing. 9.33 seconds\n"
     ]
    }
   ],
   "source": [
    "import time\n",
    "\n",
    "# Run without multiprocessing\n",
    "time_start = time.time()\n",
    "X = sf.feature_matrix(features=features, df_parts=df_parts)\n",
    "time_no_mp = round(time.time() - time_start, 2)\n",
    "print(f\"Time without multiprocessing: {time_no_mp} seconds\")\n",
    "\n",
    "# Run with multiprocessing\n",
    "time_start = time.time()\n",
    "X = sf.feature_matrix(features=features, df_parts=df_parts, n_jobs=None)\n",
    "time_mp = round(time.time() - time_start, 2)\n",
    "print(f\"Time with multiprocessing. {time_mp} seconds\")"
   ],
   "metadata": {
    "collapsed": false,
    "ExecuteTime": {
     "end_time": "2025-06-17T01:38:40.827144907Z",
     "start_time": "2025-06-17T01:38:30.952070824Z"
    }
   },
   "id": "ffc9409ece80e47f"
  }
 ],
 "metadata": {
  "kernelspec": {
   "display_name": "Python 3",
   "language": "python",
   "name": "python3"
  },
  "language_info": {
   "codemirror_mode": {
    "name": "ipython",
    "version": 2
   },
   "file_extension": ".py",
   "mimetype": "text/x-python",
   "name": "python",
   "nbconvert_exporter": "python",
   "pygments_lexer": "ipython2",
   "version": "2.7.6"
  }
 },
 "nbformat": 4,
 "nbformat_minor": 5
}
