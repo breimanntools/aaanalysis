{
 "cells": [
  {
   "cell_type": "markdown",
   "source": [
    "The ``CPPPlot`` object offers various visualizations of the feature obtained ``CPP`` and can be instantiated without setting any parameter:"
   ],
   "metadata": {
    "collapsed": false
   },
   "id": "5ed8ac0e0f9cadee"
  },
  {
   "cell_type": "code",
   "execution_count": 1,
   "outputs": [],
   "source": [
    "import aaanalysis as aa\n",
    "cpp_plot = aa.CPPPlot()"
   ],
   "metadata": {
    "collapsed": false,
    "ExecuteTime": {
     "end_time": "2025-06-17T01:14:36.364256081Z",
     "start_time": "2025-06-17T01:14:31.612029446Z"
    }
   },
   "id": "7108eaf191c03de2"
  },
  {
   "cell_type": "markdown",
   "source": [
    "If the used ``Scales`` are deviating from the AAanalysis default ones, you should provide matching ``df_scales`` and ``df_cat`` DataFrames:"
   ],
   "metadata": {
    "collapsed": false
   },
   "id": "ddc3ac85bfc35a03"
  },
  {
   "cell_type": "code",
   "execution_count": 3,
   "outputs": [],
   "source": [
    "import pandas as pd\n",
    "df_scales = pd.DataFrame({\"Scale 1\": [1, 1, 2]}, index=[\"A\", \"B\", \"C\"])\n",
    "df_cat = pd.DataFrame({\"scale_id\": [\"Scale 1\"], \"category\": [\"Category 1\"], \n",
    "                       \"subcategory\": [\"subcategory 1\"], \"scale_name\": [\"Scale_name 1\"]})\n",
    "cpp_plot = aa.CPPPlot(df_scales=df_scales, df_cat=df_cat)"
   ],
   "metadata": {
    "collapsed": false,
    "ExecuteTime": {
     "end_time": "2025-06-17T01:15:44.857601300Z",
     "start_time": "2025-06-17T01:15:44.797665977Z"
    }
   },
   "id": "da47d13d9538b60d"
  },
  {
   "cell_type": "markdown",
   "source": [
    "Adjust the length of the N- and C-terminal JMDs by using ``jmd_n_len`` and ``jmd_c_len`` parameters:"
   ],
   "metadata": {
    "collapsed": false
   },
   "id": "478406f43fe3ffb3"
  },
  {
   "cell_type": "code",
   "execution_count": 4,
   "outputs": [],
   "source": [
    "cpp_plot = aa.CPPPlot(jmd_c_len=0, jmd_n_len=20)"
   ],
   "metadata": {
    "collapsed": false,
    "ExecuteTime": {
     "end_time": "2025-06-17T01:15:49.177825729Z",
     "start_time": "2025-06-17T01:15:49.024292754Z"
    }
   },
   "id": "41f60848256ae709"
  },
  {
   "cell_type": "code",
   "execution_count": null,
   "outputs": [],
   "source": [],
   "metadata": {
    "collapsed": false
   },
   "id": "b0e814dcebe3ccea"
  }
 ],
 "metadata": {
  "kernelspec": {
   "display_name": "Python 3",
   "language": "python",
   "name": "python3"
  },
  "language_info": {
   "codemirror_mode": {
    "name": "ipython",
    "version": 2
   },
   "file_extension": ".py",
   "mimetype": "text/x-python",
   "name": "python",
   "nbconvert_exporter": "python",
   "pygments_lexer": "ipython2",
   "version": "2.7.6"
  }
 },
 "nbformat": 4,
 "nbformat_minor": 5
}
