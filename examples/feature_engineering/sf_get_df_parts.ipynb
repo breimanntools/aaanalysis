{
 "cells": [
  {
   "cell_type": "markdown",
   "source": [
    "To demonstrate the ``SequenceFeature().get_df_parts()``, we first obtain an example sequence dataset using the ``load_dataset()`` function:"
   ],
   "metadata": {
    "collapsed": false
   },
   "id": "8fe5c36ad82fa407"
  },
  {
   "cell_type": "code",
   "execution_count": 1,
   "outputs": [
    {
     "name": "stdout",
     "output_type": "stream",
     "text": [
      "DataFrame shape: (7862, 3)\n"
     ]
    },
    {
     "data": {
      "text/plain": "<IPython.core.display.HTML object>",
      "text/html": "<style type=\"text/css\">\n#T_3dfaf thead th {\n  background-color: white;\n  color: black;\n}\n#T_3dfaf tbody tr:nth-child(odd) {\n  background-color: #f2f2f2;\n}\n#T_3dfaf tbody tr:nth-child(even) {\n  background-color: white;\n}\n#T_3dfaf th {\n  padding: 5px;\n  white-space: nowrap;\n}\n#T_3dfaf  td {\n  padding: 5px;\n  white-space: nowrap;\n}\n</style>\n<table id=\"T_3dfaf\" style='display:block; max-height: 300px; max-width: 100%; overflow-x: auto; overflow-y: auto;'>\n  <thead>\n    <tr>\n      <th class=\"blank level0\" >&nbsp;</th>\n      <th id=\"T_3dfaf_level0_col0\" class=\"col_heading level0 col0\" >entry</th>\n      <th id=\"T_3dfaf_level0_col1\" class=\"col_heading level0 col1\" >sequence</th>\n      <th id=\"T_3dfaf_level0_col2\" class=\"col_heading level0 col2\" >label</th>\n    </tr>\n  </thead>\n  <tbody>\n    <tr>\n      <th id=\"T_3dfaf_level0_row0\" class=\"row_heading level0 row0\" >1</th>\n      <td id=\"T_3dfaf_row0_col0\" class=\"data row0 col0\" >CAPSID_1</td>\n      <td id=\"T_3dfaf_row0_col1\" class=\"data row0 col1\" >MVTHNVK...KLDEENV</td>\n      <td id=\"T_3dfaf_row0_col2\" class=\"data row0 col2\" >0</td>\n    </tr>\n    <tr>\n      <th id=\"T_3dfaf_level0_row1\" class=\"row_heading level0 row1\" >2</th>\n      <td id=\"T_3dfaf_row1_col0\" class=\"data row1 col0\" >CAPSID_2</td>\n      <td id=\"T_3dfaf_row1_col1\" class=\"data row1 col1\" >MKKRQKK...ARHFGEE</td>\n      <td id=\"T_3dfaf_row1_col2\" class=\"data row1 col2\" >0</td>\n    </tr>\n    <tr>\n      <th id=\"T_3dfaf_level0_row2\" class=\"row_heading level0 row2\" >3</th>\n      <td id=\"T_3dfaf_row2_col0\" class=\"data row2 col0\" >CAPSID_3</td>\n      <td id=\"T_3dfaf_row2_col1\" class=\"data row2 col1\" >MRYGGSV...QEVELVD</td>\n      <td id=\"T_3dfaf_row2_col2\" class=\"data row2 col2\" >0</td>\n    </tr>\n  </tbody>\n</table>\n"
     },
     "metadata": {},
     "output_type": "display_data"
    }
   ],
   "source": [
    "import aaanalysis as aa\n",
    "sf = aa.SequenceFeature()\n",
    "df_seq = aa.load_dataset(name=\"SEQ_CAPSID\")\n",
    "aa.display_df(df_seq, n_rows=3, show_shape=True, char_limit=15)\n"
   ],
   "metadata": {
    "collapsed": false,
    "ExecuteTime": {
     "end_time": "2025-06-17T01:39:01.317740115Z",
     "start_time": "2025-06-17T01:38:59.513585353Z"
    }
   },
   "id": "d431f13e6f7cdb34"
  },
  {
   "cell_type": "markdown",
   "source": [
    "By default, three sequence parts (``tmd``, ``jmd_n_tmd_n``, ``tmd_c_jmd_c``) with a ``jmd_n`` and ``jmd_c`` length of each 10 residues are provided:"
   ],
   "metadata": {
    "collapsed": false
   },
   "id": "9f3996f317aad35b"
  },
  {
   "cell_type": "code",
   "execution_count": 2,
   "outputs": [
    {
     "name": "stdout",
     "output_type": "stream",
     "text": [
      "DataFrame shape: (7862, 3)\n"
     ]
    },
    {
     "data": {
      "text/plain": "<IPython.core.display.HTML object>",
      "text/html": "<style type=\"text/css\">\n#T_aaa46 thead th {\n  background-color: white;\n  color: black;\n}\n#T_aaa46 tbody tr:nth-child(odd) {\n  background-color: #f2f2f2;\n}\n#T_aaa46 tbody tr:nth-child(even) {\n  background-color: white;\n}\n#T_aaa46 th {\n  padding: 5px;\n  white-space: nowrap;\n}\n#T_aaa46  td {\n  padding: 5px;\n  white-space: nowrap;\n}\n</style>\n<table id=\"T_aaa46\" style='display:block; max-height: 300px; max-width: 100%; overflow-x: auto; overflow-y: auto;'>\n  <thead>\n    <tr>\n      <th class=\"blank level0\" >&nbsp;</th>\n      <th id=\"T_aaa46_level0_col0\" class=\"col_heading level0 col0\" >tmd</th>\n      <th id=\"T_aaa46_level0_col1\" class=\"col_heading level0 col1\" >jmd_n_tmd_n</th>\n      <th id=\"T_aaa46_level0_col2\" class=\"col_heading level0 col2\" >tmd_c_jmd_c</th>\n    </tr>\n    <tr>\n      <th class=\"index_name level0\" >entry</th>\n      <th class=\"blank col0\" >&nbsp;</th>\n      <th class=\"blank col1\" >&nbsp;</th>\n      <th class=\"blank col2\" >&nbsp;</th>\n    </tr>\n  </thead>\n  <tbody>\n    <tr>\n      <th id=\"T_aaa46_level0_row0\" class=\"row_heading level0 row0\" >CAPSID_1</th>\n      <td id=\"T_aaa46_row0_col0\" class=\"data row0 col0\" >HVTRRSY...DDDTPRI</td>\n      <td id=\"T_aaa46_row0_col1\" class=\"data row0 col1\" >MVTHNVK...FTNPTVT</td>\n      <td id=\"T_aaa46_row0_col2\" class=\"data row0 col2\" >ARHGDNN...KLDEENV</td>\n    </tr>\n    <tr>\n      <th id=\"T_aaa46_level0_row1\" class=\"row_heading level0 row1\" >CAPSID_2</th>\n      <td id=\"T_aaa46_row1_col0\" class=\"data row1 col0\" >SNFTDTS...RMAMLEA</td>\n      <td id=\"T_aaa46_row1_col1\" class=\"data row1 col1\" >MKKRQKK...MTIHEEF</td>\n      <td id=\"T_aaa46_row1_col2\" class=\"data row1 col2\" >GHFDGLS...ARHFGEE</td>\n    </tr>\n    <tr>\n      <th id=\"T_aaa46_level0_row2\" class=\"row_heading level0 row2\" >CAPSID_3</th>\n      <td id=\"T_aaa46_row2_col0\" class=\"data row2 col0\" >ELEVSLH...KSPGSGA</td>\n      <td id=\"T_aaa46_row2_col1\" class=\"data row2 col1\" >MRYGGSV...YSAAALS</td>\n      <td id=\"T_aaa46_row2_col2\" class=\"data row2 col2\" >AAAELSA...QEVELVD</td>\n    </tr>\n    <tr>\n      <th id=\"T_aaa46_level0_row3\" class=\"row_heading level0 row3\" >CAPSID_4</th>\n      <td id=\"T_aaa46_row3_col0\" class=\"data row3 col0\" >VGRHRRI...KRRQALE</td>\n      <td id=\"T_aaa46_row3_col1\" class=\"data row3 col1\" >MERGDIP...KAEDVSK</td>\n      <td id=\"T_aaa46_row3_col2\" class=\"data row3 col2\" >YQRIRDE...EMDAGLI</td>\n    </tr>\n    <tr>\n      <th id=\"T_aaa46_level0_row4\" class=\"row_heading level0 row4\" >CAPSID_5</th>\n      <td id=\"T_aaa46_row4_col0\" class=\"data row4 col0\" >LILFTQV...QMPSGCV</td>\n      <td id=\"T_aaa46_row4_col1\" class=\"data row4 col1\" >MKRIYLL...EMIKSTP</td>\n      <td id=\"T_aaa46_row4_col2\" class=\"data row4 col2\" >YGNTITL...ITELTHQ</td>\n    </tr>\n  </tbody>\n</table>\n"
     },
     "metadata": {},
     "output_type": "display_data"
    }
   ],
   "source": [
    "df_parts = sf.get_df_parts(df_seq=df_seq)\n",
    "aa.display_df(df=df_parts, n_rows=5, show_shape=True, char_limit=15)"
   ],
   "metadata": {
    "collapsed": false,
    "ExecuteTime": {
     "end_time": "2025-06-17T01:39:08.122474544Z",
     "start_time": "2025-06-17T01:39:01.340298332Z"
    }
   },
   "id": "fe5279861c5e7e5c"
  },
  {
   "cell_type": "markdown",
   "source": [
    "Any combination of valid sequence parts can be obtained using the ``list_part`` parameter:"
   ],
   "metadata": {
    "collapsed": false
   },
   "id": "fc6ae2133a89827c"
  },
  {
   "cell_type": "code",
   "execution_count": 3,
   "outputs": [
    {
     "name": "stdout",
     "output_type": "stream",
     "text": [
      "DataFrame shape: (7862, 4)\n"
     ]
    },
    {
     "data": {
      "text/plain": "<IPython.core.display.HTML object>",
      "text/html": "<style type=\"text/css\">\n#T_f88c1 thead th {\n  background-color: white;\n  color: black;\n}\n#T_f88c1 tbody tr:nth-child(odd) {\n  background-color: #f2f2f2;\n}\n#T_f88c1 tbody tr:nth-child(even) {\n  background-color: white;\n}\n#T_f88c1 th {\n  padding: 5px;\n  white-space: nowrap;\n}\n#T_f88c1  td {\n  padding: 5px;\n  white-space: nowrap;\n}\n</style>\n<table id=\"T_f88c1\" style='display:block; max-height: 300px; max-width: 100%; overflow-x: auto; overflow-y: auto;'>\n  <thead>\n    <tr>\n      <th class=\"blank level0\" >&nbsp;</th>\n      <th id=\"T_f88c1_level0_col0\" class=\"col_heading level0 col0\" >jmd_n</th>\n      <th id=\"T_f88c1_level0_col1\" class=\"col_heading level0 col1\" >tmd</th>\n      <th id=\"T_f88c1_level0_col2\" class=\"col_heading level0 col2\" >jmd_c</th>\n      <th id=\"T_f88c1_level0_col3\" class=\"col_heading level0 col3\" >tmd_jmd</th>\n    </tr>\n    <tr>\n      <th class=\"index_name level0\" >entry</th>\n      <th class=\"blank col0\" >&nbsp;</th>\n      <th class=\"blank col1\" >&nbsp;</th>\n      <th class=\"blank col2\" >&nbsp;</th>\n      <th class=\"blank col3\" >&nbsp;</th>\n    </tr>\n  </thead>\n  <tbody>\n    <tr>\n      <th id=\"T_f88c1_level0_row0\" class=\"row_heading level0 row0\" >CAPSID_1</th>\n      <td id=\"T_f88c1_row0_col0\" class=\"data row0 col0\" >MVTHNVKINK</td>\n      <td id=\"T_f88c1_row0_col1\" class=\"data row0 col1\" >HVTRRSY...DDDTPRI</td>\n      <td id=\"T_f88c1_row0_col2\" class=\"data row0 col2\" >PATKLDEENV</td>\n      <td id=\"T_f88c1_row0_col3\" class=\"data row0 col3\" >MVTHNVK...KLDEENV</td>\n    </tr>\n    <tr>\n      <th id=\"T_f88c1_level0_row1\" class=\"row_heading level0 row1\" >CAPSID_2</th>\n      <td id=\"T_f88c1_row1_col0\" class=\"data row1 col0\" >MKKRQKKMTL</td>\n      <td id=\"T_f88c1_row1_col1\" class=\"data row1 col1\" >SNFTDTS...RMAMLEA</td>\n      <td id=\"T_f88c1_row1_col2\" class=\"data row1 col2\" >VINARHFGEE</td>\n      <td id=\"T_f88c1_row1_col3\" class=\"data row1 col3\" >MKKRQKK...ARHFGEE</td>\n    </tr>\n    <tr>\n      <th id=\"T_f88c1_level0_row2\" class=\"row_heading level0 row2\" >CAPSID_3</th>\n      <td id=\"T_f88c1_row2_col0\" class=\"data row2 col0\" >MRYGGSVISQ</td>\n      <td id=\"T_f88c1_row2_col1\" class=\"data row2 col1\" >ELEVSLH...KSPGSGA</td>\n      <td id=\"T_f88c1_row2_col2\" class=\"data row2 col2\" >PDKQEVELVD</td>\n      <td id=\"T_f88c1_row2_col3\" class=\"data row2 col3\" >MRYGGSV...QEVELVD</td>\n    </tr>\n  </tbody>\n</table>\n"
     },
     "metadata": {},
     "output_type": "display_data"
    }
   ],
   "source": [
    "df_parts = sf.get_df_parts(df_seq=df_seq, list_parts=['jmd_n', 'tmd', 'jmd_c', 'tmd_jmd'])\n",
    "aa.display_df(df=df_parts, n_rows=3, show_shape=True, char_limit=15)"
   ],
   "metadata": {
    "collapsed": false,
    "ExecuteTime": {
     "end_time": "2025-06-17T01:39:12.705569543Z",
     "start_time": "2025-06-17T01:39:07.390835025Z"
    }
   },
   "id": "b898929b81fab5be"
  },
  {
   "cell_type": "markdown",
   "source": [
    "Set the length of both JMDs by the ``jmd_c_len`` and ``jmd_n_len`` parameters:"
   ],
   "metadata": {
    "collapsed": false
   },
   "id": "db3de6fa4712f2da"
  },
  {
   "cell_type": "code",
   "execution_count": 4,
   "outputs": [
    {
     "name": "stdout",
     "output_type": "stream",
     "text": [
      "DataFrame shape: (7862, 4)\n"
     ]
    },
    {
     "data": {
      "text/plain": "<IPython.core.display.HTML object>",
      "text/html": "<style type=\"text/css\">\n#T_af418 thead th {\n  background-color: white;\n  color: black;\n}\n#T_af418 tbody tr:nth-child(odd) {\n  background-color: #f2f2f2;\n}\n#T_af418 tbody tr:nth-child(even) {\n  background-color: white;\n}\n#T_af418 th {\n  padding: 5px;\n  white-space: nowrap;\n}\n#T_af418  td {\n  padding: 5px;\n  white-space: nowrap;\n}\n</style>\n<table id=\"T_af418\" style='display:block; max-height: 300px; max-width: 100%; overflow-x: auto; overflow-y: auto;'>\n  <thead>\n    <tr>\n      <th class=\"blank level0\" >&nbsp;</th>\n      <th id=\"T_af418_level0_col0\" class=\"col_heading level0 col0\" >jmd_n</th>\n      <th id=\"T_af418_level0_col1\" class=\"col_heading level0 col1\" >tmd</th>\n      <th id=\"T_af418_level0_col2\" class=\"col_heading level0 col2\" >jmd_c</th>\n      <th id=\"T_af418_level0_col3\" class=\"col_heading level0 col3\" >tmd_jmd</th>\n    </tr>\n    <tr>\n      <th class=\"index_name level0\" >entry</th>\n      <th class=\"blank col0\" >&nbsp;</th>\n      <th class=\"blank col1\" >&nbsp;</th>\n      <th class=\"blank col2\" >&nbsp;</th>\n      <th class=\"blank col3\" >&nbsp;</th>\n    </tr>\n  </thead>\n  <tbody>\n    <tr>\n      <th id=\"T_af418_level0_row0\" class=\"row_heading level0 row0\" >CAPSID_1</th>\n      <td id=\"T_af418_row0_col0\" class=\"data row0 col0\" >MVTHNVK...RRSYSSA</td>\n      <td id=\"T_af418_row0_col1\" class=\"data row0 col1\" >KEVLEIP...RIPATKL</td>\n      <td id=\"T_af418_row0_col2\" class=\"data row0 col2\" >DEENV</td>\n      <td id=\"T_af418_row0_col3\" class=\"data row0 col3\" >MVTHNVK...KLDEENV</td>\n    </tr>\n    <tr>\n      <th id=\"T_af418_level0_row1\" class=\"row_heading level0 row1\" >CAPSID_2</th>\n      <td id=\"T_af418_row1_col0\" class=\"data row1 col0\" >MKKRQKK...TDTSFQD</td>\n      <td id=\"T_af418_row1_col1\" class=\"data row1 col1\" >FVSAEQV...EAVINAR</td>\n      <td id=\"T_af418_row1_col2\" class=\"data row1 col2\" >HFGEE</td>\n      <td id=\"T_af418_row1_col3\" class=\"data row1 col3\" >MKKRQKK...ARHFGEE</td>\n    </tr>\n    <tr>\n      <th id=\"T_af418_level0_row2\" class=\"row_heading level0 row2\" >CAPSID_3</th>\n      <td id=\"T_af418_row2_col0\" class=\"data row2 col0\" >MRYGGSV...VSLHMAF</td>\n      <td id=\"T_af418_row2_col1\" class=\"data row2 col1\" >VEARSAR...GAPDKQE</td>\n      <td id=\"T_af418_row2_col2\" class=\"data row2 col2\" >VELVD</td>\n      <td id=\"T_af418_row2_col3\" class=\"data row2 col3\" >MRYGGSV...QEVELVD</td>\n    </tr>\n  </tbody>\n</table>\n"
     },
     "metadata": {},
     "output_type": "display_data"
    }
   ],
   "source": [
    "df_parts = sf.get_df_parts(df_seq=df_seq, list_parts=['jmd_n', 'tmd', 'jmd_c', 'tmd_jmd'], jmd_c_len=5, jmd_n_len=20)\n",
    "aa.display_df(df=df_parts, n_rows=3, show_shape=True, char_limit=15)"
   ],
   "metadata": {
    "collapsed": false,
    "ExecuteTime": {
     "end_time": "2025-06-17T01:39:16.944598715Z",
     "start_time": "2025-06-17T01:39:12.693473014Z"
    }
   },
   "id": "31691067bc25ef70"
  },
  {
   "cell_type": "markdown",
   "source": [
    "A JMD length of 0 is indicated by '...':"
   ],
   "metadata": {
    "collapsed": false
   },
   "id": "dad0d9bea2815cad"
  },
  {
   "cell_type": "code",
   "execution_count": 5,
   "outputs": [
    {
     "name": "stdout",
     "output_type": "stream",
     "text": [
      "DataFrame shape: (7862, 2)\n"
     ]
    },
    {
     "data": {
      "text/plain": "<IPython.core.display.HTML object>",
      "text/html": "<style type=\"text/css\">\n#T_fd015 thead th {\n  background-color: white;\n  color: black;\n}\n#T_fd015 tbody tr:nth-child(odd) {\n  background-color: #f2f2f2;\n}\n#T_fd015 tbody tr:nth-child(even) {\n  background-color: white;\n}\n#T_fd015 th {\n  padding: 5px;\n  white-space: nowrap;\n}\n#T_fd015  td {\n  padding: 5px;\n  white-space: nowrap;\n}\n</style>\n<table id=\"T_fd015\" style='display:block; max-height: 300px; max-width: 100%; overflow-x: auto; overflow-y: auto;'>\n  <thead>\n    <tr>\n      <th class=\"blank level0\" >&nbsp;</th>\n      <th id=\"T_fd015_level0_col0\" class=\"col_heading level0 col0\" >jmd_n</th>\n      <th id=\"T_fd015_level0_col1\" class=\"col_heading level0 col1\" >jmd_n_tmd_n</th>\n    </tr>\n    <tr>\n      <th class=\"index_name level0\" >entry</th>\n      <th class=\"blank col0\" >&nbsp;</th>\n      <th class=\"blank col1\" >&nbsp;</th>\n    </tr>\n  </thead>\n  <tbody>\n    <tr>\n      <th id=\"T_fd015_level0_row0\" class=\"row_heading level0 row0\" >CAPSID_1</th>\n      <td id=\"T_fd015_row0_col0\" class=\"data row0 col0\" ></td>\n      <td id=\"T_fd015_row0_col1\" class=\"data row0 col1\" >MVTHNVK...DDGSFTN</td>\n    </tr>\n    <tr>\n      <th id=\"T_fd015_level0_row1\" class=\"row_heading level0 row1\" >CAPSID_2</th>\n      <td id=\"T_fd015_row1_col0\" class=\"data row1 col0\" ></td>\n      <td id=\"T_fd015_row1_col1\" class=\"data row1 col1\" >MKKRQKK...MMLDLMT</td>\n    </tr>\n    <tr>\n      <th id=\"T_fd015_level0_row2\" class=\"row_heading level0 row2\" >CAPSID_3</th>\n      <td id=\"T_fd015_row2_col0\" class=\"data row2 col0\" ></td>\n      <td id=\"T_fd015_row2_col1\" class=\"data row2 col1\" >MRYGGSV...EHHNVRY</td>\n    </tr>\n  </tbody>\n</table>\n"
     },
     "metadata": {},
     "output_type": "display_data"
    }
   ],
   "source": [
    "df_parts = sf.get_df_parts(df_seq=df_seq, list_parts=['jmd_n', 'jmd_n_tmd_n'], jmd_n_len=0)\n",
    "aa.display_df(df=df_parts, n_rows=3, show_shape=True, char_limit=15)"
   ],
   "metadata": {
    "collapsed": false,
    "ExecuteTime": {
     "end_time": "2025-06-17T01:39:21.183649757Z",
     "start_time": "2025-06-17T01:39:16.936344411Z"
    }
   },
   "id": "853278ae66bb82cb"
  },
  {
   "cell_type": "markdown",
   "source": [
    "To select all possible parts, set ``all_parts=True``: "
   ],
   "metadata": {
    "collapsed": false
   },
   "id": "ed107d5583626337"
  },
  {
   "cell_type": "code",
   "execution_count": 6,
   "outputs": [
    {
     "name": "stdout",
     "output_type": "stream",
     "text": [
      "DataFrame shape: (7862, 8)\n"
     ]
    },
    {
     "data": {
      "text/plain": "<IPython.core.display.HTML object>",
      "text/html": "<style type=\"text/css\">\n#T_45e1d thead th {\n  background-color: white;\n  color: black;\n}\n#T_45e1d tbody tr:nth-child(odd) {\n  background-color: #f2f2f2;\n}\n#T_45e1d tbody tr:nth-child(even) {\n  background-color: white;\n}\n#T_45e1d th {\n  padding: 5px;\n  white-space: nowrap;\n}\n#T_45e1d  td {\n  padding: 5px;\n  white-space: nowrap;\n}\n</style>\n<table id=\"T_45e1d\" style='display:block; max-height: 300px; max-width: 100%; overflow-x: auto; overflow-y: auto;'>\n  <thead>\n    <tr>\n      <th class=\"blank level0\" >&nbsp;</th>\n      <th id=\"T_45e1d_level0_col0\" class=\"col_heading level0 col0\" >tmd</th>\n      <th id=\"T_45e1d_level0_col1\" class=\"col_heading level0 col1\" >tmd_n</th>\n      <th id=\"T_45e1d_level0_col2\" class=\"col_heading level0 col2\" >tmd_c</th>\n      <th id=\"T_45e1d_level0_col3\" class=\"col_heading level0 col3\" >jmd_n</th>\n      <th id=\"T_45e1d_level0_col4\" class=\"col_heading level0 col4\" >jmd_c</th>\n      <th id=\"T_45e1d_level0_col5\" class=\"col_heading level0 col5\" >tmd_jmd</th>\n      <th id=\"T_45e1d_level0_col6\" class=\"col_heading level0 col6\" >jmd_n_tmd_n</th>\n      <th id=\"T_45e1d_level0_col7\" class=\"col_heading level0 col7\" >tmd_c_jmd_c</th>\n    </tr>\n    <tr>\n      <th class=\"index_name level0\" >entry</th>\n      <th class=\"blank col0\" >&nbsp;</th>\n      <th class=\"blank col1\" >&nbsp;</th>\n      <th class=\"blank col2\" >&nbsp;</th>\n      <th class=\"blank col3\" >&nbsp;</th>\n      <th class=\"blank col4\" >&nbsp;</th>\n      <th class=\"blank col5\" >&nbsp;</th>\n      <th class=\"blank col6\" >&nbsp;</th>\n      <th class=\"blank col7\" >&nbsp;</th>\n    </tr>\n  </thead>\n  <tbody>\n    <tr>\n      <th id=\"T_45e1d_level0_row0\" class=\"row_heading level0 row0\" >CAPSID_1</th>\n      <td id=\"T_45e1d_row0_col0\" class=\"data row0 col0\" >HVTRRSY...DDDTPRI</td>\n      <td id=\"T_45e1d_row0_col1\" class=\"data row0 col1\" >HVTRRSY...FTNPTVT</td>\n      <td id=\"T_45e1d_row0_col2\" class=\"data row0 col2\" >ARHGDNN...DDDTPRI</td>\n      <td id=\"T_45e1d_row0_col3\" class=\"data row0 col3\" >MVTHNVKINK</td>\n      <td id=\"T_45e1d_row0_col4\" class=\"data row0 col4\" >PATKLDEENV</td>\n      <td id=\"T_45e1d_row0_col5\" class=\"data row0 col5\" >MVTHNVK...KLDEENV</td>\n      <td id=\"T_45e1d_row0_col6\" class=\"data row0 col6\" >MVTHNVK...FTNPTVT</td>\n      <td id=\"T_45e1d_row0_col7\" class=\"data row0 col7\" >ARHGDNN...KLDEENV</td>\n    </tr>\n    <tr>\n      <th id=\"T_45e1d_level0_row1\" class=\"row_heading level0 row1\" >CAPSID_2</th>\n      <td id=\"T_45e1d_row1_col0\" class=\"data row1 col0\" >SNFTDTS...RMAMLEA</td>\n      <td id=\"T_45e1d_row1_col1\" class=\"data row1 col1\" >SNFTDTS...MTIHEEF</td>\n      <td id=\"T_45e1d_row1_col2\" class=\"data row1 col2\" >GHFDGLS...RMAMLEA</td>\n      <td id=\"T_45e1d_row1_col3\" class=\"data row1 col3\" >MKKRQKKMTL</td>\n      <td id=\"T_45e1d_row1_col4\" class=\"data row1 col4\" >VINARHFGEE</td>\n      <td id=\"T_45e1d_row1_col5\" class=\"data row1 col5\" >MKKRQKK...ARHFGEE</td>\n      <td id=\"T_45e1d_row1_col6\" class=\"data row1 col6\" >MKKRQKK...MTIHEEF</td>\n      <td id=\"T_45e1d_row1_col7\" class=\"data row1 col7\" >GHFDGLS...ARHFGEE</td>\n    </tr>\n    <tr>\n      <th id=\"T_45e1d_level0_row2\" class=\"row_heading level0 row2\" >CAPSID_3</th>\n      <td id=\"T_45e1d_row2_col0\" class=\"data row2 col0\" >ELEVSLH...KSPGSGA</td>\n      <td id=\"T_45e1d_row2_col1\" class=\"data row2 col1\" >ELEVSLH...YSAAALS</td>\n      <td id=\"T_45e1d_row2_col2\" class=\"data row2 col2\" >AAAELSA...KSPGSGA</td>\n      <td id=\"T_45e1d_row2_col3\" class=\"data row2 col3\" >MRYGGSVISQ</td>\n      <td id=\"T_45e1d_row2_col4\" class=\"data row2 col4\" >PDKQEVELVD</td>\n      <td id=\"T_45e1d_row2_col5\" class=\"data row2 col5\" >MRYGGSV...QEVELVD</td>\n      <td id=\"T_45e1d_row2_col6\" class=\"data row2 col6\" >MRYGGSV...YSAAALS</td>\n      <td id=\"T_45e1d_row2_col7\" class=\"data row2 col7\" >AAAELSA...QEVELVD</td>\n    </tr>\n  </tbody>\n</table>\n"
     },
     "metadata": {},
     "output_type": "display_data"
    }
   ],
   "source": [
    "df_parts = sf.get_df_parts(df_seq=df_seq, all_parts=True)\n",
    "aa.display_df(df=df_parts, n_rows=3, show_shape=True, char_limit=15)"
   ],
   "metadata": {
    "collapsed": false,
    "ExecuteTime": {
     "end_time": "2025-06-17T01:39:25.310861216Z",
     "start_time": "2025-06-17T01:39:21.191328656Z"
    }
   },
   "id": "1e7886461ef0cde4"
  },
  {
   "cell_type": "markdown",
   "source": [
    "Entries with sequence gaps can be removed setting ``remove_entries_with_gaps=True``:"
   ],
   "metadata": {
    "collapsed": false
   },
   "id": "c1cdc698656151a"
  },
  {
   "cell_type": "code",
   "execution_count": 7,
   "outputs": [
    {
     "name": "stdout",
     "output_type": "stream",
     "text": [
      "5 sequence with gaps were removed\n"
     ]
    }
   ],
   "source": [
    "n_total = len(df_parts)\n",
    "# Disable warning that entries have been removed and re-instantiate SequenceFeature\n",
    "aa.options[\"verbose\"] = False   \n",
    "sf = aa.SequenceFeature()\n",
    "df_parts = sf.get_df_parts(df_seq=df_seq, remove_entries_with_gaps=True)\n",
    "n_removed = n_total - len(df_parts)\n",
    "print(f\"{n_removed} sequence with gaps were removed\")"
   ],
   "metadata": {
    "collapsed": false,
    "ExecuteTime": {
     "end_time": "2025-06-17T01:39:29.540062256Z",
     "start_time": "2025-06-17T01:39:25.325556637Z"
    }
   },
   "id": "f221befa0aee519b"
  },
  {
   "cell_type": "markdown",
   "source": [
    "``SequenceFeature().get_df_parts()`` works with four different ``df_seq`` formats, which we demonstrate using the ``DOM_GSEC`` domain level γ-secretase substrates dataset (see [Breimann25a]_). Next to the common 'entry', 'sequence', and 'label' columns, this dataset provides columns for the TMD start and stop position ('tmd_start', 'tmd_stop') and the default sequence parts 'jmd_n', 'tmd', 'jmd_c':"
   ],
   "metadata": {
    "collapsed": false
   },
   "id": "3e770ed374940c77"
  },
  {
   "cell_type": "code",
   "execution_count": 8,
   "outputs": [
    {
     "data": {
      "text/plain": "<IPython.core.display.HTML object>",
      "text/html": "<style type=\"text/css\">\n#T_aec0b thead th {\n  background-color: white;\n  color: black;\n}\n#T_aec0b tbody tr:nth-child(odd) {\n  background-color: #f2f2f2;\n}\n#T_aec0b tbody tr:nth-child(even) {\n  background-color: white;\n}\n#T_aec0b th {\n  padding: 5px;\n  white-space: nowrap;\n}\n#T_aec0b  td {\n  padding: 5px;\n  white-space: nowrap;\n}\n</style>\n<table id=\"T_aec0b\" style='display:block; max-height: 300px; max-width: 100%; overflow-x: auto; overflow-y: auto;'>\n  <thead>\n    <tr>\n      <th class=\"blank level0\" >&nbsp;</th>\n      <th id=\"T_aec0b_level0_col0\" class=\"col_heading level0 col0\" >entry</th>\n      <th id=\"T_aec0b_level0_col1\" class=\"col_heading level0 col1\" >sequence</th>\n      <th id=\"T_aec0b_level0_col2\" class=\"col_heading level0 col2\" >label</th>\n      <th id=\"T_aec0b_level0_col3\" class=\"col_heading level0 col3\" >tmd_start</th>\n      <th id=\"T_aec0b_level0_col4\" class=\"col_heading level0 col4\" >tmd_stop</th>\n      <th id=\"T_aec0b_level0_col5\" class=\"col_heading level0 col5\" >jmd_n</th>\n      <th id=\"T_aec0b_level0_col6\" class=\"col_heading level0 col6\" >tmd</th>\n      <th id=\"T_aec0b_level0_col7\" class=\"col_heading level0 col7\" >jmd_c</th>\n    </tr>\n  </thead>\n  <tbody>\n    <tr>\n      <th id=\"T_aec0b_level0_row0\" class=\"row_heading level0 row0\" >1</th>\n      <td id=\"T_aec0b_row0_col0\" class=\"data row0 col0\" >P05067</td>\n      <td id=\"T_aec0b_row0_col1\" class=\"data row0 col1\" >MLPGLALLLLAAWTA...GYENPTYKFFEQMQN</td>\n      <td id=\"T_aec0b_row0_col2\" class=\"data row0 col2\" >1</td>\n      <td id=\"T_aec0b_row0_col3\" class=\"data row0 col3\" >701</td>\n      <td id=\"T_aec0b_row0_col4\" class=\"data row0 col4\" >723</td>\n      <td id=\"T_aec0b_row0_col5\" class=\"data row0 col5\" >FAEDVGSNKG</td>\n      <td id=\"T_aec0b_row0_col6\" class=\"data row0 col6\" >AIIGLMVGGVVIATVIVITLVML</td>\n      <td id=\"T_aec0b_row0_col7\" class=\"data row0 col7\" >KKKQYTSIHH</td>\n    </tr>\n    <tr>\n      <th id=\"T_aec0b_level0_row1\" class=\"row_heading level0 row1\" >2</th>\n      <td id=\"T_aec0b_row1_col0\" class=\"data row1 col0\" >P14925</td>\n      <td id=\"T_aec0b_row1_col1\" class=\"data row1 col1\" >MAGRARSGLLLLLLG...EEEYSAPLPKPAPSS</td>\n      <td id=\"T_aec0b_row1_col2\" class=\"data row1 col2\" >1</td>\n      <td id=\"T_aec0b_row1_col3\" class=\"data row1 col3\" >868</td>\n      <td id=\"T_aec0b_row1_col4\" class=\"data row1 col4\" >890</td>\n      <td id=\"T_aec0b_row1_col5\" class=\"data row1 col5\" >KLSTEPGSGV</td>\n      <td id=\"T_aec0b_row1_col6\" class=\"data row1 col6\" >SVVLITTLLVIPVLVLLAIVMFI</td>\n      <td id=\"T_aec0b_row1_col7\" class=\"data row1 col7\" >RWKKSRAFGD</td>\n    </tr>\n    <tr>\n      <th id=\"T_aec0b_level0_row2\" class=\"row_heading level0 row2\" >3</th>\n      <td id=\"T_aec0b_row2_col0\" class=\"data row2 col0\" >P70180</td>\n      <td id=\"T_aec0b_row2_col1\" class=\"data row2 col1\" >MRSLLLFTFSACVLL...RELREDSIRSHFSVA</td>\n      <td id=\"T_aec0b_row2_col2\" class=\"data row2 col2\" >1</td>\n      <td id=\"T_aec0b_row2_col3\" class=\"data row2 col3\" >477</td>\n      <td id=\"T_aec0b_row2_col4\" class=\"data row2 col4\" >499</td>\n      <td id=\"T_aec0b_row2_col5\" class=\"data row2 col5\" >PCKSSGGLEE</td>\n      <td id=\"T_aec0b_row2_col6\" class=\"data row2 col6\" >SAVTGIVVGALLGAGLLMAFYFF</td>\n      <td id=\"T_aec0b_row2_col7\" class=\"data row2 col7\" >RKKYRITIER</td>\n    </tr>\n    <tr>\n      <th id=\"T_aec0b_level0_row3\" class=\"row_heading level0 row3\" >4</th>\n      <td id=\"T_aec0b_row3_col0\" class=\"data row3 col0\" >Q03157</td>\n      <td id=\"T_aec0b_row3_col1\" class=\"data row3 col1\" >MGPTSPAARGQGRRW...HGYENPTYRFLEERP</td>\n      <td id=\"T_aec0b_row3_col2\" class=\"data row3 col2\" >1</td>\n      <td id=\"T_aec0b_row3_col3\" class=\"data row3 col3\" >585</td>\n      <td id=\"T_aec0b_row3_col4\" class=\"data row3 col4\" >607</td>\n      <td id=\"T_aec0b_row3_col5\" class=\"data row3 col5\" >APSGTGVSRE</td>\n      <td id=\"T_aec0b_row3_col6\" class=\"data row3 col6\" >ALSGLLIMGAGGGSLIVLSLLLL</td>\n      <td id=\"T_aec0b_row3_col7\" class=\"data row3 col7\" >RKKKPYGTIS</td>\n    </tr>\n    <tr>\n      <th id=\"T_aec0b_level0_row4\" class=\"row_heading level0 row4\" >5</th>\n      <td id=\"T_aec0b_row4_col0\" class=\"data row4 col0\" >Q06481</td>\n      <td id=\"T_aec0b_row4_col1\" class=\"data row4 col1\" >MAATGTAAAAATGRL...GYENPTYKYLEQMQI</td>\n      <td id=\"T_aec0b_row4_col2\" class=\"data row4 col2\" >1</td>\n      <td id=\"T_aec0b_row4_col3\" class=\"data row4 col3\" >694</td>\n      <td id=\"T_aec0b_row4_col4\" class=\"data row4 col4\" >716</td>\n      <td id=\"T_aec0b_row4_col5\" class=\"data row4 col5\" >LREDFSLSSS</td>\n      <td id=\"T_aec0b_row4_col6\" class=\"data row4 col6\" >ALIGLLVIAVAIATVIVISLVML</td>\n      <td id=\"T_aec0b_row4_col7\" class=\"data row4 col7\" >RKRQYGTISH</td>\n    </tr>\n  </tbody>\n</table>\n"
     },
     "metadata": {},
     "output_type": "display_data"
    }
   ],
   "source": [
    "df_seq = aa.load_dataset(name=\"DOM_GSEC\")\n",
    "aa.display_df(df_seq, n_rows=5)"
   ],
   "metadata": {
    "collapsed": false,
    "ExecuteTime": {
     "end_time": "2025-06-17T01:39:29.600209458Z",
     "start_time": "2025-06-17T01:39:29.542454198Z"
    }
   },
   "id": "25ec0c1db0cbeb02"
  },
  {
   "cell_type": "markdown",
   "source": [
    "1. **Position-based format**:"
   ],
   "metadata": {
    "collapsed": false
   },
   "id": "faa737227bab3e53"
  },
  {
   "cell_type": "code",
   "execution_count": 9,
   "outputs": [
    {
     "data": {
      "text/plain": "<IPython.core.display.HTML object>",
      "text/html": "<style type=\"text/css\">\n#T_25bee thead th {\n  background-color: white;\n  color: black;\n}\n#T_25bee tbody tr:nth-child(odd) {\n  background-color: #f2f2f2;\n}\n#T_25bee tbody tr:nth-child(even) {\n  background-color: white;\n}\n#T_25bee th {\n  padding: 5px;\n  white-space: nowrap;\n}\n#T_25bee  td {\n  padding: 5px;\n  white-space: nowrap;\n}\n</style>\n<table id=\"T_25bee\" style='display:block; max-height: 300px; max-width: 100%; overflow-x: auto; overflow-y: auto;'>\n  <thead>\n    <tr>\n      <th class=\"blank level0\" >&nbsp;</th>\n      <th id=\"T_25bee_level0_col0\" class=\"col_heading level0 col0\" >jmd_n</th>\n      <th id=\"T_25bee_level0_col1\" class=\"col_heading level0 col1\" >tmd</th>\n      <th id=\"T_25bee_level0_col2\" class=\"col_heading level0 col2\" >jmd_c</th>\n    </tr>\n    <tr>\n      <th class=\"index_name level0\" >entry</th>\n      <th class=\"blank col0\" >&nbsp;</th>\n      <th class=\"blank col1\" >&nbsp;</th>\n      <th class=\"blank col2\" >&nbsp;</th>\n    </tr>\n  </thead>\n  <tbody>\n    <tr>\n      <th id=\"T_25bee_level0_row0\" class=\"row_heading level0 row0\" >P05067</th>\n      <td id=\"T_25bee_row0_col0\" class=\"data row0 col0\" >FAEDVGSNKG</td>\n      <td id=\"T_25bee_row0_col1\" class=\"data row0 col1\" >AIIGLMVGGVVIATVIVITLVML</td>\n      <td id=\"T_25bee_row0_col2\" class=\"data row0 col2\" >KKKQYTSIHH</td>\n    </tr>\n    <tr>\n      <th id=\"T_25bee_level0_row1\" class=\"row_heading level0 row1\" >P14925</th>\n      <td id=\"T_25bee_row1_col0\" class=\"data row1 col0\" >KLSTEPGSGV</td>\n      <td id=\"T_25bee_row1_col1\" class=\"data row1 col1\" >SVVLITTLLVIPVLVLLAIVMFI</td>\n      <td id=\"T_25bee_row1_col2\" class=\"data row1 col2\" >RWKKSRAFGD</td>\n    </tr>\n    <tr>\n      <th id=\"T_25bee_level0_row2\" class=\"row_heading level0 row2\" >P70180</th>\n      <td id=\"T_25bee_row2_col0\" class=\"data row2 col0\" >PCKSSGGLEE</td>\n      <td id=\"T_25bee_row2_col1\" class=\"data row2 col1\" >SAVTGIVVGALLGAGLLMAFYFF</td>\n      <td id=\"T_25bee_row2_col2\" class=\"data row2 col2\" >RKKYRITIER</td>\n    </tr>\n  </tbody>\n</table>\n"
     },
     "metadata": {},
     "output_type": "display_data"
    }
   ],
   "source": [
    "cols_position_based = [\"entry\", \"sequence\", \"tmd_start\", \"tmd_stop\"]\n",
    "list_parts = [\"jmd_n\", \"tmd\", \"jmd_c\"]\n",
    "df_parts = sf.get_df_parts(df_seq=df_seq[cols_position_based], list_parts=list_parts)\n",
    "aa.display_df(df_parts, n_rows=3)"
   ],
   "metadata": {
    "collapsed": false,
    "ExecuteTime": {
     "end_time": "2025-06-17T01:39:29.681992296Z",
     "start_time": "2025-06-17T01:39:29.623244589Z"
    }
   },
   "id": "7b41c7e044dff604"
  },
  {
   "cell_type": "markdown",
   "source": [
    "2. **Part-based format**:"
   ],
   "metadata": {
    "collapsed": false
   },
   "id": "dede7db16c89a36c"
  },
  {
   "cell_type": "code",
   "execution_count": 10,
   "outputs": [
    {
     "data": {
      "text/plain": "<IPython.core.display.HTML object>",
      "text/html": "<style type=\"text/css\">\n#T_b7730 thead th {\n  background-color: white;\n  color: black;\n}\n#T_b7730 tbody tr:nth-child(odd) {\n  background-color: #f2f2f2;\n}\n#T_b7730 tbody tr:nth-child(even) {\n  background-color: white;\n}\n#T_b7730 th {\n  padding: 5px;\n  white-space: nowrap;\n}\n#T_b7730  td {\n  padding: 5px;\n  white-space: nowrap;\n}\n</style>\n<table id=\"T_b7730\" style='display:block; max-height: 300px; max-width: 100%; overflow-x: auto; overflow-y: auto;'>\n  <thead>\n    <tr>\n      <th class=\"blank level0\" >&nbsp;</th>\n      <th id=\"T_b7730_level0_col0\" class=\"col_heading level0 col0\" >jmd_n</th>\n      <th id=\"T_b7730_level0_col1\" class=\"col_heading level0 col1\" >tmd</th>\n      <th id=\"T_b7730_level0_col2\" class=\"col_heading level0 col2\" >jmd_c</th>\n    </tr>\n    <tr>\n      <th class=\"index_name level0\" >entry</th>\n      <th class=\"blank col0\" >&nbsp;</th>\n      <th class=\"blank col1\" >&nbsp;</th>\n      <th class=\"blank col2\" >&nbsp;</th>\n    </tr>\n  </thead>\n  <tbody>\n    <tr>\n      <th id=\"T_b7730_level0_row0\" class=\"row_heading level0 row0\" >P05067</th>\n      <td id=\"T_b7730_row0_col0\" class=\"data row0 col0\" >FAEDVGSNKG</td>\n      <td id=\"T_b7730_row0_col1\" class=\"data row0 col1\" >AIIGLMVGGVVIATVIVITLVML</td>\n      <td id=\"T_b7730_row0_col2\" class=\"data row0 col2\" >KKKQYTSIHH</td>\n    </tr>\n    <tr>\n      <th id=\"T_b7730_level0_row1\" class=\"row_heading level0 row1\" >P14925</th>\n      <td id=\"T_b7730_row1_col0\" class=\"data row1 col0\" >KLSTEPGSGV</td>\n      <td id=\"T_b7730_row1_col1\" class=\"data row1 col1\" >SVVLITTLLVIPVLVLLAIVMFI</td>\n      <td id=\"T_b7730_row1_col2\" class=\"data row1 col2\" >RWKKSRAFGD</td>\n    </tr>\n    <tr>\n      <th id=\"T_b7730_level0_row2\" class=\"row_heading level0 row2\" >P70180</th>\n      <td id=\"T_b7730_row2_col0\" class=\"data row2 col0\" >PCKSSGGLEE</td>\n      <td id=\"T_b7730_row2_col1\" class=\"data row2 col1\" >SAVTGIVVGALLGAGLLMAFYFF</td>\n      <td id=\"T_b7730_row2_col2\" class=\"data row2 col2\" >RKKYRITIER</td>\n    </tr>\n  </tbody>\n</table>\n"
     },
     "metadata": {},
     "output_type": "display_data"
    }
   ],
   "source": [
    "cols_part_based = [\"entry\", \"jmd_n\", \"tmd\", \"jmd_c\"]\n",
    "df_parts = sf.get_df_parts(df_seq=df_seq[cols_part_based], list_parts=list_parts)\n",
    "aa.display_df(df_parts, n_rows=3)"
   ],
   "metadata": {
    "collapsed": false,
    "ExecuteTime": {
     "end_time": "2025-06-17T01:39:29.801316252Z",
     "start_time": "2025-06-17T01:39:29.686127455Z"
    }
   },
   "id": "8ffa9a7170c1eef4"
  },
  {
   "cell_type": "markdown",
   "source": [
    "3. **Sequence-TMD-based format**:"
   ],
   "metadata": {
    "collapsed": false
   },
   "id": "2d513be96c6e0f3e"
  },
  {
   "cell_type": "code",
   "execution_count": 11,
   "outputs": [
    {
     "data": {
      "text/plain": "<IPython.core.display.HTML object>",
      "text/html": "<style type=\"text/css\">\n#T_f03ac thead th {\n  background-color: white;\n  color: black;\n}\n#T_f03ac tbody tr:nth-child(odd) {\n  background-color: #f2f2f2;\n}\n#T_f03ac tbody tr:nth-child(even) {\n  background-color: white;\n}\n#T_f03ac th {\n  padding: 5px;\n  white-space: nowrap;\n}\n#T_f03ac  td {\n  padding: 5px;\n  white-space: nowrap;\n}\n</style>\n<table id=\"T_f03ac\" style='display:block; max-height: 300px; max-width: 100%; overflow-x: auto; overflow-y: auto;'>\n  <thead>\n    <tr>\n      <th class=\"blank level0\" >&nbsp;</th>\n      <th id=\"T_f03ac_level0_col0\" class=\"col_heading level0 col0\" >jmd_n</th>\n      <th id=\"T_f03ac_level0_col1\" class=\"col_heading level0 col1\" >tmd</th>\n      <th id=\"T_f03ac_level0_col2\" class=\"col_heading level0 col2\" >jmd_c</th>\n    </tr>\n    <tr>\n      <th class=\"index_name level0\" >entry</th>\n      <th class=\"blank col0\" >&nbsp;</th>\n      <th class=\"blank col1\" >&nbsp;</th>\n      <th class=\"blank col2\" >&nbsp;</th>\n    </tr>\n  </thead>\n  <tbody>\n    <tr>\n      <th id=\"T_f03ac_level0_row0\" class=\"row_heading level0 row0\" >P05067</th>\n      <td id=\"T_f03ac_row0_col0\" class=\"data row0 col0\" >FAEDVGSNKG</td>\n      <td id=\"T_f03ac_row0_col1\" class=\"data row0 col1\" >AIIGLMVGGVVIATVIVITLVML</td>\n      <td id=\"T_f03ac_row0_col2\" class=\"data row0 col2\" >KKKQYTSIHH</td>\n    </tr>\n    <tr>\n      <th id=\"T_f03ac_level0_row1\" class=\"row_heading level0 row1\" >P14925</th>\n      <td id=\"T_f03ac_row1_col0\" class=\"data row1 col0\" >KLSTEPGSGV</td>\n      <td id=\"T_f03ac_row1_col1\" class=\"data row1 col1\" >SVVLITTLLVIPVLVLLAIVMFI</td>\n      <td id=\"T_f03ac_row1_col2\" class=\"data row1 col2\" >RWKKSRAFGD</td>\n    </tr>\n    <tr>\n      <th id=\"T_f03ac_level0_row2\" class=\"row_heading level0 row2\" >P70180</th>\n      <td id=\"T_f03ac_row2_col0\" class=\"data row2 col0\" >PCKSSGGLEE</td>\n      <td id=\"T_f03ac_row2_col1\" class=\"data row2 col1\" >SAVTGIVVGALLGAGLLMAFYFF</td>\n      <td id=\"T_f03ac_row2_col2\" class=\"data row2 col2\" >RKKYRITIER</td>\n    </tr>\n  </tbody>\n</table>\n"
     },
     "metadata": {},
     "output_type": "display_data"
    }
   ],
   "source": [
    "cols_sequence_tmd_based = [\"entry\", \"sequence\", \"tmd\"]\n",
    "df_parts = sf.get_df_parts(df_seq=df_seq[cols_sequence_tmd_based], list_parts=list_parts)\n",
    "aa.display_df(df_parts, n_rows=3)"
   ],
   "metadata": {
    "collapsed": false,
    "ExecuteTime": {
     "end_time": "2025-06-17T01:39:29.929400636Z",
     "start_time": "2025-06-17T01:39:29.846531614Z"
    }
   },
   "id": "8414c835984f8b08"
  },
  {
   "cell_type": "markdown",
   "source": [
    "4. **Sequence-based format**:"
   ],
   "metadata": {
    "collapsed": false
   },
   "id": "e1f74cc7fd8730cf"
  },
  {
   "cell_type": "code",
   "execution_count": 12,
   "outputs": [
    {
     "data": {
      "text/plain": "<IPython.core.display.HTML object>",
      "text/html": "<style type=\"text/css\">\n#T_a1c3f thead th {\n  background-color: white;\n  color: black;\n}\n#T_a1c3f tbody tr:nth-child(odd) {\n  background-color: #f2f2f2;\n}\n#T_a1c3f tbody tr:nth-child(even) {\n  background-color: white;\n}\n#T_a1c3f th {\n  padding: 5px;\n  white-space: nowrap;\n}\n#T_a1c3f  td {\n  padding: 5px;\n  white-space: nowrap;\n}\n</style>\n<table id=\"T_a1c3f\" style='display:block; max-height: 300px; max-width: 100%; overflow-x: auto; overflow-y: auto;'>\n  <thead>\n    <tr>\n      <th class=\"blank level0\" >&nbsp;</th>\n      <th id=\"T_a1c3f_level0_col0\" class=\"col_heading level0 col0\" >jmd_n</th>\n      <th id=\"T_a1c3f_level0_col1\" class=\"col_heading level0 col1\" >tmd</th>\n      <th id=\"T_a1c3f_level0_col2\" class=\"col_heading level0 col2\" >jmd_c</th>\n    </tr>\n    <tr>\n      <th class=\"index_name level0\" >entry</th>\n      <th class=\"blank col0\" >&nbsp;</th>\n      <th class=\"blank col1\" >&nbsp;</th>\n      <th class=\"blank col2\" >&nbsp;</th>\n    </tr>\n  </thead>\n  <tbody>\n    <tr>\n      <th id=\"T_a1c3f_level0_row0\" class=\"row_heading level0 row0\" >P05067</th>\n      <td id=\"T_a1c3f_row0_col0\" class=\"data row0 col0\" >MLPGLALLLL</td>\n      <td id=\"T_a1c3f_row0_col1\" class=\"data row0 col1\" >AAWTARALEVPTDGN...ERHLSKMQQNGYENP</td>\n      <td id=\"T_a1c3f_row0_col2\" class=\"data row0 col2\" >TYKFFEQMQN</td>\n    </tr>\n    <tr>\n      <th id=\"T_a1c3f_level0_row1\" class=\"row_heading level0 row1\" >P14925</th>\n      <td id=\"T_a1c3f_row1_col0\" class=\"data row1 col0\" >MAGRARSGLL</td>\n      <td id=\"T_a1c3f_row1_col1\" class=\"data row1 col1\" >LLLLGLLALQSSCLA...EKDEDDGTESEEEYS</td>\n      <td id=\"T_a1c3f_row1_col2\" class=\"data row1 col2\" >APLPKPAPSS</td>\n    </tr>\n    <tr>\n      <th id=\"T_a1c3f_level0_row2\" class=\"row_heading level0 row2\" >P70180</th>\n      <td id=\"T_a1c3f_row2_col0\" class=\"data row2 col0\" >MRSLLLFTFS</td>\n      <td id=\"T_a1c3f_row2_col1\" class=\"data row2 col1\" >ACVLLARVLLAGGAS...QQEESNIGKHRELRE</td>\n      <td id=\"T_a1c3f_row2_col2\" class=\"data row2 col2\" >DSIRSHFSVA</td>\n    </tr>\n  </tbody>\n</table>\n"
     },
     "metadata": {},
     "output_type": "display_data"
    }
   ],
   "source": [
    "cols_sequence_based = [\"entry\", \"sequence\"]\n",
    "df_parts = sf.get_df_parts(df_seq=df_seq[cols_sequence_based], list_parts=list_parts)\n",
    "# Only providing the sequence will create flanking jmd_n and jmd_c regions defined by \n",
    "# their length and the tmd as the remaining middle part\n",
    "aa.display_df(df_parts, n_rows=3)"
   ],
   "metadata": {
    "collapsed": false,
    "ExecuteTime": {
     "end_time": "2025-06-17T01:39:30.037700064Z",
     "start_time": "2025-06-17T01:39:29.969274732Z"
    }
   },
   "id": "71eb9e642b178618"
  }
 ],
 "metadata": {
  "kernelspec": {
   "display_name": "Python 3",
   "language": "python",
   "name": "python3"
  },
  "language_info": {
   "codemirror_mode": {
    "name": "ipython",
    "version": 2
   },
   "file_extension": ".py",
   "mimetype": "text/x-python",
   "name": "python",
   "nbconvert_exporter": "python",
   "pygments_lexer": "ipython2",
   "version": "2.7.6"
  }
 },
 "nbformat": 4,
 "nbformat_minor": 5
}
