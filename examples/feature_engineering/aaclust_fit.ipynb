{
 "cells": [
  {
   "cell_type": "markdown",
   "source": [
    "We load an example scale dataset to showcase the ``AAclust().fit()`` method:"
   ],
   "metadata": {
    "collapsed": false
   },
   "id": "9de0b73486a5e355"
  },
  {
   "cell_type": "code",
   "execution_count": 1,
   "outputs": [],
   "source": [
    "import aaanalysis as aa\n",
    "aa.options[\"verbose\"] = False\n",
    "\n",
    "# Create test dataset of 25 amino acid scales\n",
    "df_scales = aa.load_scales().T.sample(25).T\n",
    "X = df_scales.T"
   ],
   "metadata": {
    "collapsed": false,
    "ExecuteTime": {
     "end_time": "2025-06-17T01:48:53.737666216Z",
     "start_time": "2025-06-17T01:48:52.271746010Z"
    }
   },
   "id": "60ce10e199a1a270"
  },
  {
   "cell_type": "markdown",
   "source": [
    "By fitting ``AAclust``, its three-step algorithm is performed to select an optimized ``n_clusters`` (k). The three steps involve (1) an estimation of lower bound of k, (2) refinement of k, and (3) an optional clustering merging. Various results are saved as attributes: "
   ],
   "metadata": {
    "collapsed": false
   },
   "id": "70e721551475cda0"
  },
  {
   "cell_type": "code",
   "execution_count": 2,
   "outputs": [
    {
     "name": "stdout",
     "output_type": "stream",
     "text": [
      "n_clusters:  4\n",
      "Labels:  [0 0 0 1 1 3 2 0 2 1 2 0 1 1 0 3 1 1 1 0 1 0 0 2 2]\n",
      "Labels of medoids:  [0 1 3 2]\n",
      "DataFrame shape: (20, 4)\n"
     ]
    },
    {
     "data": {
      "text/plain": "<IPython.core.display.HTML object>",
      "text/html": "<style type=\"text/css\">\n#T_6113c thead th {\n  background-color: white;\n  color: black;\n}\n#T_6113c tbody tr:nth-child(odd) {\n  background-color: #f2f2f2;\n}\n#T_6113c tbody tr:nth-child(even) {\n  background-color: white;\n}\n#T_6113c th {\n  padding: 5px;\n  white-space: nowrap;\n}\n#T_6113c  td {\n  padding: 5px;\n  white-space: nowrap;\n}\n</style>\n<table id=\"T_6113c\" style='display:block; max-height: 300px; max-width: 100%; overflow-x: auto; overflow-y: auto;'>\n  <thead>\n    <tr>\n      <th class=\"blank level0\" >&nbsp;</th>\n      <th id=\"T_6113c_level0_col0\" class=\"col_heading level0 col0\" >ISOY800107</th>\n      <th id=\"T_6113c_level0_col1\" class=\"col_heading level0 col1\" >MIYS850101</th>\n      <th id=\"T_6113c_level0_col2\" class=\"col_heading level0 col2\" >MIYS990103</th>\n      <th id=\"T_6113c_level0_col3\" class=\"col_heading level0 col3\" >EISD860101</th>\n    </tr>\n    <tr>\n      <th class=\"index_name level0\" >AA</th>\n      <th class=\"blank col0\" >&nbsp;</th>\n      <th class=\"blank col1\" >&nbsp;</th>\n      <th class=\"blank col2\" >&nbsp;</th>\n      <th class=\"blank col3\" >&nbsp;</th>\n    </tr>\n  </thead>\n  <tbody>\n    <tr>\n      <th id=\"T_6113c_level0_row0\" class=\"row_heading level0 row0\" >A</th>\n      <td id=\"T_6113c_row0_col0\" class=\"data row0 col0\" >0.482000</td>\n      <td id=\"T_6113c_row0_col1\" class=\"data row0 col1\" >0.360000</td>\n      <td id=\"T_6113c_row0_col2\" class=\"data row0 col2\" >0.500000</td>\n      <td id=\"T_6113c_row0_col3\" class=\"data row0 col3\" >0.589000</td>\n    </tr>\n    <tr>\n      <th id=\"T_6113c_level0_row1\" class=\"row_heading level0 row1\" >C</th>\n      <td id=\"T_6113c_row1_col0\" class=\"data row1 col0\" >0.518000</td>\n      <td id=\"T_6113c_row1_col1\" class=\"data row1 col1\" >0.678000</td>\n      <td id=\"T_6113c_row1_col2\" class=\"data row1 col2\" >0.029000</td>\n      <td id=\"T_6113c_row1_col3\" class=\"data row1 col3\" >0.528000</td>\n    </tr>\n    <tr>\n      <th id=\"T_6113c_level0_row2\" class=\"row_heading level0 row2\" >D</th>\n      <td id=\"T_6113c_row2_col0\" class=\"data row2 col0\" >0.637000</td>\n      <td id=\"T_6113c_row2_col1\" class=\"data row2 col1\" >0.140000</td>\n      <td id=\"T_6113c_row2_col2\" class=\"data row2 col2\" >0.786000</td>\n      <td id=\"T_6113c_row2_col3\" class=\"data row2 col3\" >0.191000</td>\n    </tr>\n    <tr>\n      <th id=\"T_6113c_level0_row3\" class=\"row_heading level0 row3\" >E</th>\n      <td id=\"T_6113c_row3_col0\" class=\"data row3 col0\" >0.914000</td>\n      <td id=\"T_6113c_row3_col1\" class=\"data row3 col1\" >0.162000</td>\n      <td id=\"T_6113c_row3_col2\" class=\"data row3 col2\" >0.871000</td>\n      <td id=\"T_6113c_row3_col3\" class=\"data row3 col3\" >0.285000</td>\n    </tr>\n    <tr>\n      <th id=\"T_6113c_level0_row4\" class=\"row_heading level0 row4\" >F</th>\n      <td id=\"T_6113c_row4_col0\" class=\"data row4 col0\" >0.155000</td>\n      <td id=\"T_6113c_row4_col1\" class=\"data row4 col1\" >1.000000</td>\n      <td id=\"T_6113c_row4_col2\" class=\"data row4 col2\" >0.057000</td>\n      <td id=\"T_6113c_row4_col3\" class=\"data row4 col3\" >0.936000</td>\n    </tr>\n  </tbody>\n</table>\n"
     },
     "metadata": {},
     "output_type": "display_data"
    }
   ],
   "source": [
    "# Fit clustering model\n",
    "aac = aa.AAclust()\n",
    "aac.fit(X)\n",
    "# Get output parameters\n",
    "n_clusters = aac.n_clusters\n",
    "print(\"n_clusters: \", n_clusters)\n",
    "labels = aac.labels_\n",
    "print(\"Labels: \", labels)\n",
    "centers = aac.centers_ # Cluster centers (average scales for each cluster)\n",
    "labels_centers = aac.labels_centers_\n",
    "medoids = aac.medoids_ # Representative scale for each cluster\n",
    "labels_medoids = aac.labels_medoids_\n",
    "print(\"Labels of medoids: \", labels_medoids)\n",
    "is_medoid = aac.is_medoid_\n",
    "df_scales_medoids = df_scales.T[is_medoid].T\n",
    "aa.display_df(df_scales_medoids, show_shape=True, n_rows=5)"
   ],
   "metadata": {
    "collapsed": false,
    "ExecuteTime": {
     "end_time": "2025-06-17T01:48:54.160322562Z",
     "start_time": "2025-06-17T01:48:53.710535816Z"
    }
   },
   "id": "c21b9a117157a86c"
  },
  {
   "cell_type": "markdown",
   "source": [
    "``names`` can be provided to the ``AAclust().fit()`` method to retrieve the names of the medoids:"
   ],
   "metadata": {
    "collapsed": false
   },
   "id": "c43dd15477ce22b3"
  },
  {
   "cell_type": "code",
   "execution_count": 3,
   "outputs": [
    {
     "name": "stdout",
     "output_type": "stream",
     "text": [
      "Name of medoid scales:\n",
      "['scale 10', 'scale 15', 'scale 4']\n"
     ]
    }
   ],
   "source": [
    "names = [f\"scale {i+1}\" for i in range(len(df_scales.T))]\n",
    "aac.fit(X, names=names)\n",
    "medoid_names = aac.medoid_names_\n",
    "print(\"Name of medoid scales:\")\n",
    "print(medoid_names)"
   ],
   "metadata": {
    "collapsed": false,
    "ExecuteTime": {
     "end_time": "2025-06-17T01:48:54.160891892Z",
     "start_time": "2025-06-17T01:48:54.082923208Z"
    }
   },
   "id": "b07558342d78ab97"
  },
  {
   "cell_type": "markdown",
   "source": [
    "The ``n_clusters`` parameter can as well be pre-defined:"
   ],
   "metadata": {
    "collapsed": false
   },
   "id": "f42e4f7242b4b638"
  },
  {
   "cell_type": "code",
   "execution_count": 4,
   "outputs": [
    {
     "name": "stdout",
     "output_type": "stream",
     "text": [
      "Name of medoid scales:\n",
      "['scale 20', 'scale 15', 'scale 22', 'scale 14', 'scale 6', 'scale 24', 'scale 9']\n"
     ]
    }
   ],
   "source": [
    "aac.fit(X, n_clusters=7, names=names)\n",
    "medoid_names = aac.medoid_names_\n",
    "print(\"Name of medoid scales:\")\n",
    "print(medoid_names)"
   ],
   "metadata": {
    "collapsed": false,
    "ExecuteTime": {
     "end_time": "2025-06-17T01:48:54.168163824Z",
     "start_time": "2025-06-17T01:48:54.149315910Z"
    }
   },
   "id": "7d15144c49a1b15f"
  },
  {
   "cell_type": "markdown",
   "source": [
    "The second step of the ``AAclust`` algorithm (recursive k optimization) can be adjusted using the ``min_th`` and ``on_center`` parameters:"
   ],
   "metadata": {
    "collapsed": false
   },
   "id": "ddc1c0123987a46d"
  },
  {
   "cell_type": "code",
   "execution_count": 5,
   "outputs": [
    {
     "name": "stdout",
     "output_type": "stream",
     "text": [
      "n clusters (pairwise correlation):  10\n",
      "n clusters (center correlation):  5\n"
     ]
    }
   ],
   "source": [
    "# Pearson correlation within all cluster members >= 0.5\n",
    "aac.fit(X, on_center=False, min_th=0.5)\n",
    "print(\"n clusters (pairwise correlation): \", aac.n_clusters)\n",
    "# Pearson correlation between all cluster members and the respective center >= 0.5\n",
    "aac.fit(X, on_center=True, min_th=0.5)\n",
    "print(\"n clusters (center correlation): \", aac.n_clusters)\n",
    "# The latter is less strict, leading to bigger and thus fewer clusters "
   ],
   "metadata": {
    "collapsed": false,
    "ExecuteTime": {
     "end_time": "2025-06-17T01:48:54.486817676Z",
     "start_time": "2025-06-17T01:48:54.174211860Z"
    }
   },
   "id": "8055721fbad30eff"
  },
  {
   "cell_type": "markdown",
   "source": [
    "The third and optional merging step can be adjusted using the ``metric`` parameter and disabled setting ``merge=False``. The attributes can be directly retrieved since the ``AAclust.fit()`` method returns the fitted clustering model:"
   ],
   "metadata": {
    "collapsed": false
   },
   "id": "ec92bb70e293fc54"
  },
  {
   "cell_type": "code",
   "execution_count": 6,
   "outputs": [
    {
     "name": "stdout",
     "output_type": "stream",
     "text": [
      "n clusters (merging, euclidean):  54\n",
      "n clusters (no merging, euclidean):  54\n",
      "n clusters (merging, cosine):  52\n",
      "n clusters (no merging, cosine):  59\n"
     ]
    }
   ],
   "source": [
    "# Load over 500 scales\n",
    "X = aa.load_scales().T\n",
    "n_with_merging_euclidean = aac.fit(X, metric=\"euclidean\").n_clusters\n",
    "n_without_merging_euclidean = aac.fit(X, merge=False, metric=\"euclidean\").n_clusters\n",
    "n_with_merging_cosine = aac.fit(X, metric=\"cosine\").n_clusters\n",
    "n_without_merging_cosine = aac.fit(X, merge=False, metric=\"cosine\").n_clusters\n",
    "print(\"n clusters (merging, euclidean): \", n_with_merging_euclidean)\n",
    "print(\"n clusters (no merging, euclidean): \", n_with_merging_euclidean)\n",
    "print(\"n clusters (merging, cosine): \", n_with_merging_cosine)\n",
    "print(\"n clusters (no merging, cosine): \", n_without_merging_cosine)"
   ],
   "metadata": {
    "collapsed": false,
    "ExecuteTime": {
     "end_time": "2025-06-17T01:49:01.810691183Z",
     "start_time": "2025-06-17T01:48:54.484434090Z"
    }
   },
   "id": "d97f55178f816158"
  }
 ],
 "metadata": {
  "kernelspec": {
   "display_name": "Python 3",
   "language": "python",
   "name": "python3"
  },
  "language_info": {
   "codemirror_mode": {
    "name": "ipython",
    "version": 2
   },
   "file_extension": ".py",
   "mimetype": "text/x-python",
   "name": "python",
   "nbconvert_exporter": "python",
   "pygments_lexer": "ipython2",
   "version": "2.7.6"
  }
 },
 "nbformat": 4,
 "nbformat_minor": 5
}
