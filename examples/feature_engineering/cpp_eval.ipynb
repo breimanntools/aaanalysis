{
 "cells": [
  {
   "cell_type": "markdown",
   "source": [
    "To demonstrate the ``CPP().eval()`` method, we load the ``DOM_GSEC_PU`` example dataset and its respective feature set (see [Breimann25a]_):"
   ],
   "metadata": {
    "collapsed": false
   },
   "id": "8ec434fb8662effa"
  },
  {
   "cell_type": "code",
   "execution_count": 1,
   "outputs": [],
   "source": [
    "import aaanalysis as aa\n",
    "aa.options[\"verbose\"] = False\n",
    "df_seq = aa.load_dataset(name=\"DOM_GSEC_PU\", n=50)\n",
    "labels = df_seq[\"label\"].to_list()\n",
    "sf = aa.SequenceFeature()\n",
    "df_parts = sf.get_df_parts(df_seq=df_seq)\n",
    "df_cat = aa.load_scales(name=\"scales_cat\")\n",
    "df_scales = aa.load_scales()\n",
    "df_feat_best = aa.load_features()"
   ],
   "metadata": {
    "collapsed": false,
    "ExecuteTime": {
     "end_time": "2025-06-17T01:11:28.010098282Z",
     "start_time": "2025-06-17T01:11:24.277228579Z"
    }
   },
   "id": "70efb29d5772038e"
  },
  {
   "cell_type": "markdown",
   "source": [
    "We can now create feature sets using the ``CPP().run()`` method:"
   ],
   "metadata": {
    "collapsed": false
   },
   "id": "a7353775ba2eada5"
  },
  {
   "cell_type": "code",
   "execution_count": 2,
   "outputs": [],
   "source": [
    "# Use all scales\n",
    "cpp = aa.CPP(df_parts=df_parts)\n",
    "df_feat_all_scales = cpp.run(labels=labels, label_ref=2)"
   ],
   "metadata": {
    "collapsed": false,
    "ExecuteTime": {
     "end_time": "2025-06-17T01:13:03.893021627Z",
     "start_time": "2025-06-17T01:11:36.583817839Z"
    }
   },
   "id": "fb3edc25322f7b63"
  },
  {
   "cell_type": "code",
   "execution_count": 3,
   "outputs": [],
   "source": [
    "# Use Conformation scales\n",
    "scales_conformation = df_cat[df_cat[\"category\"] == \"Conformation\"][\"scale_id\"].to_list()\n",
    "cpp = aa.CPP(df_parts=df_parts, df_scales=df_scales[scales_conformation])\n",
    "df_feat_conformation = cpp.run(labels=labels, label_ref=2)"
   ],
   "metadata": {
    "collapsed": false,
    "ExecuteTime": {
     "end_time": "2025-06-17T01:13:41.834373961Z",
     "start_time": "2025-06-17T01:13:11.072767140Z"
    }
   },
   "id": "d8aad6a3e33249a6"
  },
  {
   "cell_type": "code",
   "execution_count": 4,
   "outputs": [],
   "source": [
    "# Use Energy scales\n",
    "scales_energy = df_cat[df_cat[\"category\"] == \"Energy\"][\"scale_id\"].to_list()\n",
    "cpp = aa.CPP(df_parts=df_parts, df_scales=df_scales[scales_energy])\n",
    "df_feat_energy = cpp.run(labels=labels, label_ref=2)"
   ],
   "metadata": {
    "collapsed": false,
    "ExecuteTime": {
     "end_time": "2025-06-17T01:13:47.617916134Z",
     "start_time": "2025-06-17T01:13:41.845025309Z"
    }
   },
   "id": "cc529b8b7b0a9746"
  },
  {
   "cell_type": "code",
   "execution_count": 5,
   "outputs": [],
   "source": [
    "# Use Polarity scales\n",
    "scales_polarity = df_cat[df_cat[\"category\"] == \"Polarity\"][\"scale_id\"].to_list()\n",
    "cpp = aa.CPP(df_parts=df_parts, df_scales=df_scales[scales_polarity])\n",
    "df_feat_polarity = cpp.run(labels=labels, label_ref=2)"
   ],
   "metadata": {
    "collapsed": false,
    "ExecuteTime": {
     "end_time": "2025-06-17T01:14:05.728770567Z",
     "start_time": "2025-06-17T01:13:47.683159382Z"
    }
   },
   "id": "d3eb4226ec927785"
  },
  {
   "cell_type": "markdown",
   "source": [
    "These sets can be evaluated using the ``CPP().eval()`` method, which needs the list of feature DataFrames (``list_df_feat``) and ``labels`` as input:"
   ],
   "metadata": {
    "collapsed": false
   },
   "id": "4732eebb9f87dd93"
  },
  {
   "cell_type": "code",
   "execution_count": 6,
   "outputs": [
    {
     "data": {
      "text/plain": "<IPython.core.display.HTML object>",
      "text/html": "<style type=\"text/css\">\n#T_e5da5 thead th {\n  background-color: white;\n  color: black;\n}\n#T_e5da5 tbody tr:nth-child(odd) {\n  background-color: #f2f2f2;\n}\n#T_e5da5 tbody tr:nth-child(even) {\n  background-color: white;\n}\n#T_e5da5 th {\n  padding: 5px;\n  white-space: nowrap;\n}\n#T_e5da5  td {\n  padding: 5px;\n  white-space: nowrap;\n}\n</style>\n<table id=\"T_e5da5\" style='display:block; max-height: 300px; max-width: 100%; overflow-x: auto; overflow-y: auto;'>\n  <thead>\n    <tr>\n      <th class=\"blank level0\" >&nbsp;</th>\n      <th id=\"T_e5da5_level0_col0\" class=\"col_heading level0 col0\" >name</th>\n      <th id=\"T_e5da5_level0_col1\" class=\"col_heading level0 col1\" >n_features</th>\n      <th id=\"T_e5da5_level0_col2\" class=\"col_heading level0 col2\" >avg_ABS_AUC</th>\n      <th id=\"T_e5da5_level0_col3\" class=\"col_heading level0 col3\" >range_ABS_AUC</th>\n      <th id=\"T_e5da5_level0_col4\" class=\"col_heading level0 col4\" >avg_MEAN_DIF</th>\n      <th id=\"T_e5da5_level0_col5\" class=\"col_heading level0 col5\" >n_clusters</th>\n      <th id=\"T_e5da5_level0_col6\" class=\"col_heading level0 col6\" >avg_n_feat_per_clust</th>\n      <th id=\"T_e5da5_level0_col7\" class=\"col_heading level0 col7\" >std_n_feat_per_clust</th>\n    </tr>\n  </thead>\n  <tbody>\n    <tr>\n      <th id=\"T_e5da5_level0_row0\" class=\"row_heading level0 row0\" >1</th>\n      <td id=\"T_e5da5_row0_col0\" class=\"data row0 col0\" >Set 1</td>\n      <td id=\"T_e5da5_row0_col1\" class=\"data row0 col1\" >(150, [18, 0, 56, 27, 0, 16, 17, 16])</td>\n      <td id=\"T_e5da5_row0_col2\" class=\"data row0 col2\" >0.164000</td>\n      <td id=\"T_e5da5_row0_col3\" class=\"data row0 col3\" >[0.126, 0.142, 0.162, 0.181, 0.244]</td>\n      <td id=\"T_e5da5_row0_col4\" class=\"data row0 col4\" >(np.float64(0.083), np.float64(-0.08))</td>\n      <td id=\"T_e5da5_row0_col5\" class=\"data row0 col5\" >21</td>\n      <td id=\"T_e5da5_row0_col6\" class=\"data row0 col6\" >7.140000</td>\n      <td id=\"T_e5da5_row0_col7\" class=\"data row0 col7\" >5.100000</td>\n    </tr>\n    <tr>\n      <th id=\"T_e5da5_level0_row1\" class=\"row_heading level0 row1\" >2</th>\n      <td id=\"T_e5da5_row1_col0\" class=\"data row1 col0\" >Set 2</td>\n      <td id=\"T_e5da5_row1_col1\" class=\"data row1 col1\" >(100, [11, 9, 28, 14, 12, 14, 7, 5])</td>\n      <td id=\"T_e5da5_row1_col2\" class=\"data row1 col2\" >0.251000</td>\n      <td id=\"T_e5da5_row1_col3\" class=\"data row1 col3\" >[0.224, 0.238, 0.248, 0.264, 0.32]</td>\n      <td id=\"T_e5da5_row1_col4\" class=\"data row1 col4\" >(np.float64(0.114), np.float64(-0.105))</td>\n      <td id=\"T_e5da5_row1_col5\" class=\"data row1 col5\" >13</td>\n      <td id=\"T_e5da5_row1_col6\" class=\"data row1 col6\" >7.690000</td>\n      <td id=\"T_e5da5_row1_col7\" class=\"data row1 col7\" >5.780000</td>\n    </tr>\n    <tr>\n      <th id=\"T_e5da5_level0_row2\" class=\"row_heading level0 row2\" >3</th>\n      <td id=\"T_e5da5_row2_col0\" class=\"data row2 col0\" >Set 3</td>\n      <td id=\"T_e5da5_row2_col1\" class=\"data row2 col1\" >(100, [0, 0, 100, 0, 0, 0, 0, 0])</td>\n      <td id=\"T_e5da5_row2_col2\" class=\"data row2 col2\" >0.209000</td>\n      <td id=\"T_e5da5_row2_col3\" class=\"data row2 col3\" >[0.17, 0.183, 0.206, 0.229, 0.293]</td>\n      <td id=\"T_e5da5_row2_col4\" class=\"data row2 col4\" >(np.float64(0.104), np.float64(-0.095))</td>\n      <td id=\"T_e5da5_row2_col5\" class=\"data row2 col5\" >10</td>\n      <td id=\"T_e5da5_row2_col6\" class=\"data row2 col6\" >10.000000</td>\n      <td id=\"T_e5da5_row2_col7\" class=\"data row2 col7\" >5.370000</td>\n    </tr>\n    <tr>\n      <th id=\"T_e5da5_level0_row3\" class=\"row_heading level0 row3\" >4</th>\n      <td id=\"T_e5da5_row3_col0\" class=\"data row3 col0\" >Set 4</td>\n      <td id=\"T_e5da5_row3_col1\" class=\"data row3 col1\" >(53, [0, 0, 0, 53, 0, 0, 0, 0])</td>\n      <td id=\"T_e5da5_row3_col2\" class=\"data row3 col2\" >0.188000</td>\n      <td id=\"T_e5da5_row3_col3\" class=\"data row3 col3\" >[0.082, 0.153, 0.186, 0.225, 0.32]</td>\n      <td id=\"T_e5da5_row3_col4\" class=\"data row3 col4\" >(np.float64(0.096), np.float64(-0.089))</td>\n      <td id=\"T_e5da5_row3_col5\" class=\"data row3 col5\" >3</td>\n      <td id=\"T_e5da5_row3_col6\" class=\"data row3 col6\" >17.670000</td>\n      <td id=\"T_e5da5_row3_col7\" class=\"data row3 col7\" >3.860000</td>\n    </tr>\n    <tr>\n      <th id=\"T_e5da5_level0_row4\" class=\"row_heading level0 row4\" >5</th>\n      <td id=\"T_e5da5_row4_col0\" class=\"data row4 col0\" >Set 5</td>\n      <td id=\"T_e5da5_row4_col1\" class=\"data row4 col1\" >(60, [0, 0, 0, 0, 0, 60, 0, 0])</td>\n      <td id=\"T_e5da5_row4_col2\" class=\"data row4 col2\" >0.182000</td>\n      <td id=\"T_e5da5_row4_col3\" class=\"data row4 col3\" >[0.044, 0.142, 0.178, 0.222, 0.305]</td>\n      <td id=\"T_e5da5_row4_col4\" class=\"data row4 col4\" >(np.float64(0.098), np.float64(-0.094))</td>\n      <td id=\"T_e5da5_row4_col5\" class=\"data row4 col5\" >8</td>\n      <td id=\"T_e5da5_row4_col6\" class=\"data row4 col6\" >7.500000</td>\n      <td id=\"T_e5da5_row4_col7\" class=\"data row4 col7\" >3.500000</td>\n    </tr>\n  </tbody>\n</table>\n"
     },
     "metadata": {},
     "output_type": "display_data"
    }
   ],
   "source": [
    "# Create new CPP object with all scales\n",
    "list_df_feat = [df_feat_best, df_feat_all_scales, df_feat_conformation, df_feat_energy, df_feat_polarity]\n",
    "cpp = aa.CPP(df_parts=df_parts, df_scales=df_scales)\n",
    "df_eval = cpp.eval(list_df_feat=list_df_feat, labels=labels, label_ref=2)\n",
    "aa.display_df(df_eval)"
   ],
   "metadata": {
    "collapsed": false,
    "ExecuteTime": {
     "end_time": "2025-06-17T01:14:07.200436316Z",
     "start_time": "2025-06-17T01:14:05.768757660Z"
    }
   },
   "id": "410c1ca950639034"
  },
  {
   "cell_type": "markdown",
   "source": [
    "The feature sets can be named using the ``names_feature_sets`` parameter:"
   ],
   "metadata": {
    "collapsed": false
   },
   "id": "1deac16f27a10933"
  },
  {
   "cell_type": "code",
   "execution_count": 7,
   "outputs": [
    {
     "data": {
      "text/plain": "<IPython.core.display.HTML object>",
      "text/html": "<style type=\"text/css\">\n#T_25b16 thead th {\n  background-color: white;\n  color: black;\n}\n#T_25b16 tbody tr:nth-child(odd) {\n  background-color: #f2f2f2;\n}\n#T_25b16 tbody tr:nth-child(even) {\n  background-color: white;\n}\n#T_25b16 th {\n  padding: 5px;\n  white-space: nowrap;\n}\n#T_25b16  td {\n  padding: 5px;\n  white-space: nowrap;\n}\n</style>\n<table id=\"T_25b16\" style='display:block; max-height: 300px; max-width: 100%; overflow-x: auto; overflow-y: auto;'>\n  <thead>\n    <tr>\n      <th class=\"blank level0\" >&nbsp;</th>\n      <th id=\"T_25b16_level0_col0\" class=\"col_heading level0 col0\" >name</th>\n      <th id=\"T_25b16_level0_col1\" class=\"col_heading level0 col1\" >n_features</th>\n      <th id=\"T_25b16_level0_col2\" class=\"col_heading level0 col2\" >avg_ABS_AUC</th>\n      <th id=\"T_25b16_level0_col3\" class=\"col_heading level0 col3\" >range_ABS_AUC</th>\n      <th id=\"T_25b16_level0_col4\" class=\"col_heading level0 col4\" >avg_MEAN_DIF</th>\n      <th id=\"T_25b16_level0_col5\" class=\"col_heading level0 col5\" >n_clusters</th>\n      <th id=\"T_25b16_level0_col6\" class=\"col_heading level0 col6\" >avg_n_feat_per_clust</th>\n      <th id=\"T_25b16_level0_col7\" class=\"col_heading level0 col7\" >std_n_feat_per_clust</th>\n    </tr>\n  </thead>\n  <tbody>\n    <tr>\n      <th id=\"T_25b16_level0_row0\" class=\"row_heading level0 row0\" >1</th>\n      <td id=\"T_25b16_row0_col0\" class=\"data row0 col0\" >Best features</td>\n      <td id=\"T_25b16_row0_col1\" class=\"data row0 col1\" >(150, [18, 0, 56, 27, 0, 16, 17, 16])</td>\n      <td id=\"T_25b16_row0_col2\" class=\"data row0 col2\" >0.164000</td>\n      <td id=\"T_25b16_row0_col3\" class=\"data row0 col3\" >[0.126, 0.142, 0.162, 0.181, 0.244]</td>\n      <td id=\"T_25b16_row0_col4\" class=\"data row0 col4\" >(np.float64(0.083), np.float64(-0.08))</td>\n      <td id=\"T_25b16_row0_col5\" class=\"data row0 col5\" >24</td>\n      <td id=\"T_25b16_row0_col6\" class=\"data row0 col6\" >6.250000</td>\n      <td id=\"T_25b16_row0_col7\" class=\"data row0 col7\" >4.580000</td>\n    </tr>\n    <tr>\n      <th id=\"T_25b16_level0_row1\" class=\"row_heading level0 row1\" >2</th>\n      <td id=\"T_25b16_row1_col0\" class=\"data row1 col0\" >All scales</td>\n      <td id=\"T_25b16_row1_col1\" class=\"data row1 col1\" >(100, [11, 9, 28, 14, 12, 14, 7, 5])</td>\n      <td id=\"T_25b16_row1_col2\" class=\"data row1 col2\" >0.251000</td>\n      <td id=\"T_25b16_row1_col3\" class=\"data row1 col3\" >[0.224, 0.238, 0.248, 0.264, 0.32]</td>\n      <td id=\"T_25b16_row1_col4\" class=\"data row1 col4\" >(np.float64(0.114), np.float64(-0.105))</td>\n      <td id=\"T_25b16_row1_col5\" class=\"data row1 col5\" >13</td>\n      <td id=\"T_25b16_row1_col6\" class=\"data row1 col6\" >7.690000</td>\n      <td id=\"T_25b16_row1_col7\" class=\"data row1 col7\" >4.190000</td>\n    </tr>\n    <tr>\n      <th id=\"T_25b16_level0_row2\" class=\"row_heading level0 row2\" >3</th>\n      <td id=\"T_25b16_row2_col0\" class=\"data row2 col0\" >Conformation</td>\n      <td id=\"T_25b16_row2_col1\" class=\"data row2 col1\" >(100, [0, 0, 100, 0, 0, 0, 0, 0])</td>\n      <td id=\"T_25b16_row2_col2\" class=\"data row2 col2\" >0.209000</td>\n      <td id=\"T_25b16_row2_col3\" class=\"data row2 col3\" >[0.17, 0.183, 0.206, 0.229, 0.293]</td>\n      <td id=\"T_25b16_row2_col4\" class=\"data row2 col4\" >(np.float64(0.104), np.float64(-0.095))</td>\n      <td id=\"T_25b16_row2_col5\" class=\"data row2 col5\" >8</td>\n      <td id=\"T_25b16_row2_col6\" class=\"data row2 col6\" >12.500000</td>\n      <td id=\"T_25b16_row2_col7\" class=\"data row2 col7\" >5.810000</td>\n    </tr>\n    <tr>\n      <th id=\"T_25b16_level0_row3\" class=\"row_heading level0 row3\" >4</th>\n      <td id=\"T_25b16_row3_col0\" class=\"data row3 col0\" >Energy</td>\n      <td id=\"T_25b16_row3_col1\" class=\"data row3 col1\" >(53, [0, 0, 0, 53, 0, 0, 0, 0])</td>\n      <td id=\"T_25b16_row3_col2\" class=\"data row3 col2\" >0.188000</td>\n      <td id=\"T_25b16_row3_col3\" class=\"data row3 col3\" >[0.082, 0.153, 0.186, 0.225, 0.32]</td>\n      <td id=\"T_25b16_row3_col4\" class=\"data row3 col4\" >(np.float64(0.096), np.float64(-0.089))</td>\n      <td id=\"T_25b16_row3_col5\" class=\"data row3 col5\" >3</td>\n      <td id=\"T_25b16_row3_col6\" class=\"data row3 col6\" >17.670000</td>\n      <td id=\"T_25b16_row3_col7\" class=\"data row3 col7\" >9.030000</td>\n    </tr>\n    <tr>\n      <th id=\"T_25b16_level0_row4\" class=\"row_heading level0 row4\" >5</th>\n      <td id=\"T_25b16_row4_col0\" class=\"data row4 col0\" >Polarity</td>\n      <td id=\"T_25b16_row4_col1\" class=\"data row4 col1\" >(60, [0, 0, 0, 0, 0, 60, 0, 0])</td>\n      <td id=\"T_25b16_row4_col2\" class=\"data row4 col2\" >0.182000</td>\n      <td id=\"T_25b16_row4_col3\" class=\"data row4 col3\" >[0.044, 0.142, 0.178, 0.222, 0.305]</td>\n      <td id=\"T_25b16_row4_col4\" class=\"data row4 col4\" >(np.float64(0.098), np.float64(-0.094))</td>\n      <td id=\"T_25b16_row4_col5\" class=\"data row4 col5\" >11</td>\n      <td id=\"T_25b16_row4_col6\" class=\"data row4 col6\" >5.450000</td>\n      <td id=\"T_25b16_row4_col7\" class=\"data row4 col7\" >2.930000</td>\n    </tr>\n  </tbody>\n</table>\n"
     },
     "metadata": {},
     "output_type": "display_data"
    }
   ],
   "source": [
    "names_feature_sets = [\"Best features\", \"All scales\", \"Conformation\", \"Energy\", \"Polarity\"]\n",
    "df_eval = cpp.eval(list_df_feat=list_df_feat, labels=labels, label_ref=2, names_feature_sets=names_feature_sets)\n",
    "aa.display_df(df_eval)"
   ],
   "metadata": {
    "collapsed": false,
    "ExecuteTime": {
     "end_time": "2025-06-17T01:14:08.258152324Z",
     "start_time": "2025-06-17T01:14:07.156891730Z"
    }
   },
   "id": "6fa060c90bb616a4"
  },
  {
   "cell_type": "markdown",
   "source": [
    "The evaluation can be focused on specific scale categories using the ``list_cat`` parameter:"
   ],
   "metadata": {
    "collapsed": false
   },
   "id": "2cd6c41b225479a1"
  },
  {
   "cell_type": "code",
   "execution_count": 8,
   "outputs": [
    {
     "data": {
      "text/plain": "<IPython.core.display.HTML object>",
      "text/html": "<style type=\"text/css\">\n#T_c6870 thead th {\n  background-color: white;\n  color: black;\n}\n#T_c6870 tbody tr:nth-child(odd) {\n  background-color: #f2f2f2;\n}\n#T_c6870 tbody tr:nth-child(even) {\n  background-color: white;\n}\n#T_c6870 th {\n  padding: 5px;\n  white-space: nowrap;\n}\n#T_c6870  td {\n  padding: 5px;\n  white-space: nowrap;\n}\n</style>\n<table id=\"T_c6870\" style='display:block; max-height: 300px; max-width: 100%; overflow-x: auto; overflow-y: auto;'>\n  <thead>\n    <tr>\n      <th class=\"blank level0\" >&nbsp;</th>\n      <th id=\"T_c6870_level0_col0\" class=\"col_heading level0 col0\" >name</th>\n      <th id=\"T_c6870_level0_col1\" class=\"col_heading level0 col1\" >n_features</th>\n      <th id=\"T_c6870_level0_col2\" class=\"col_heading level0 col2\" >avg_ABS_AUC</th>\n      <th id=\"T_c6870_level0_col3\" class=\"col_heading level0 col3\" >range_ABS_AUC</th>\n      <th id=\"T_c6870_level0_col4\" class=\"col_heading level0 col4\" >avg_MEAN_DIF</th>\n      <th id=\"T_c6870_level0_col5\" class=\"col_heading level0 col5\" >n_clusters</th>\n      <th id=\"T_c6870_level0_col6\" class=\"col_heading level0 col6\" >avg_n_feat_per_clust</th>\n      <th id=\"T_c6870_level0_col7\" class=\"col_heading level0 col7\" >std_n_feat_per_clust</th>\n    </tr>\n  </thead>\n  <tbody>\n    <tr>\n      <th id=\"T_c6870_level0_row0\" class=\"row_heading level0 row0\" >1</th>\n      <td id=\"T_c6870_row0_col0\" class=\"data row0 col0\" >Set 1</td>\n      <td id=\"T_c6870_row0_col1\" class=\"data row0 col1\" >(99, [56, 27, 16])</td>\n      <td id=\"T_c6870_row0_col2\" class=\"data row0 col2\" >0.165000</td>\n      <td id=\"T_c6870_row0_col3\" class=\"data row0 col3\" >[0.126, 0.142, 0.165, 0.181, 0.244]</td>\n      <td id=\"T_c6870_row0_col4\" class=\"data row0 col4\" >(np.float64(0.083), np.float64(-0.079))</td>\n      <td id=\"T_c6870_row0_col5\" class=\"data row0 col5\" >17</td>\n      <td id=\"T_c6870_row0_col6\" class=\"data row0 col6\" >5.820000</td>\n      <td id=\"T_c6870_row0_col7\" class=\"data row0 col7\" >4.120000</td>\n    </tr>\n    <tr>\n      <th id=\"T_c6870_level0_row1\" class=\"row_heading level0 row1\" >2</th>\n      <td id=\"T_c6870_row1_col0\" class=\"data row1 col0\" >Set 2</td>\n      <td id=\"T_c6870_row1_col1\" class=\"data row1 col1\" >(56, [28, 14, 14])</td>\n      <td id=\"T_c6870_row1_col2\" class=\"data row1 col2\" >0.252000</td>\n      <td id=\"T_c6870_row1_col3\" class=\"data row1 col3\" >[0.224, 0.234, 0.248, 0.266, 0.32]</td>\n      <td id=\"T_c6870_row1_col4\" class=\"data row1 col4\" >(np.float64(0.114), np.float64(-0.106))</td>\n      <td id=\"T_c6870_row1_col5\" class=\"data row1 col5\" >9</td>\n      <td id=\"T_c6870_row1_col6\" class=\"data row1 col6\" >6.220000</td>\n      <td id=\"T_c6870_row1_col7\" class=\"data row1 col7\" >3.080000</td>\n    </tr>\n    <tr>\n      <th id=\"T_c6870_level0_row2\" class=\"row_heading level0 row2\" >3</th>\n      <td id=\"T_c6870_row2_col0\" class=\"data row2 col0\" >Set 3</td>\n      <td id=\"T_c6870_row2_col1\" class=\"data row2 col1\" >(100, [100, 0, 0])</td>\n      <td id=\"T_c6870_row2_col2\" class=\"data row2 col2\" >0.209000</td>\n      <td id=\"T_c6870_row2_col3\" class=\"data row2 col3\" >[0.17, 0.183, 0.206, 0.229, 0.293]</td>\n      <td id=\"T_c6870_row2_col4\" class=\"data row2 col4\" >(np.float64(0.104), np.float64(-0.095))</td>\n      <td id=\"T_c6870_row2_col5\" class=\"data row2 col5\" >12</td>\n      <td id=\"T_c6870_row2_col6\" class=\"data row2 col6\" >8.330000</td>\n      <td id=\"T_c6870_row2_col7\" class=\"data row2 col7\" >5.530000</td>\n    </tr>\n    <tr>\n      <th id=\"T_c6870_level0_row3\" class=\"row_heading level0 row3\" >4</th>\n      <td id=\"T_c6870_row3_col0\" class=\"data row3 col0\" >Set 4</td>\n      <td id=\"T_c6870_row3_col1\" class=\"data row3 col1\" >(53, [0, 53, 0])</td>\n      <td id=\"T_c6870_row3_col2\" class=\"data row3 col2\" >0.188000</td>\n      <td id=\"T_c6870_row3_col3\" class=\"data row3 col3\" >[0.082, 0.153, 0.186, 0.225, 0.32]</td>\n      <td id=\"T_c6870_row3_col4\" class=\"data row3 col4\" >(np.float64(0.096), np.float64(-0.089))</td>\n      <td id=\"T_c6870_row3_col5\" class=\"data row3 col5\" >5</td>\n      <td id=\"T_c6870_row3_col6\" class=\"data row3 col6\" >10.600000</td>\n      <td id=\"T_c6870_row3_col7\" class=\"data row3 col7\" >5.710000</td>\n    </tr>\n    <tr>\n      <th id=\"T_c6870_level0_row4\" class=\"row_heading level0 row4\" >5</th>\n      <td id=\"T_c6870_row4_col0\" class=\"data row4 col0\" >Set 5</td>\n      <td id=\"T_c6870_row4_col1\" class=\"data row4 col1\" >(60, [0, 0, 60])</td>\n      <td id=\"T_c6870_row4_col2\" class=\"data row4 col2\" >0.182000</td>\n      <td id=\"T_c6870_row4_col3\" class=\"data row4 col3\" >[0.044, 0.142, 0.178, 0.222, 0.305]</td>\n      <td id=\"T_c6870_row4_col4\" class=\"data row4 col4\" >(np.float64(0.098), np.float64(-0.094))</td>\n      <td id=\"T_c6870_row4_col5\" class=\"data row4 col5\" >8</td>\n      <td id=\"T_c6870_row4_col6\" class=\"data row4 col6\" >7.500000</td>\n      <td id=\"T_c6870_row4_col7\" class=\"data row4 col7\" >3.430000</td>\n    </tr>\n  </tbody>\n</table>\n"
     },
     "metadata": {},
     "output_type": "display_data"
    }
   ],
   "source": [
    "df_eval = cpp.eval(list_df_feat=list_df_feat, labels=labels, label_ref=2, list_cat=[\"Conformation\", \"Energy\", \"Polarity\"])\n",
    "aa.display_df(df_eval)"
   ],
   "metadata": {
    "collapsed": false,
    "ExecuteTime": {
     "end_time": "2025-06-17T01:14:09.082124527Z",
     "start_time": "2025-06-17T01:14:08.277184941Z"
    }
   },
   "id": "aa88cde09aac934a"
  },
  {
   "cell_type": "markdown",
   "source": [
    "To compare feature sets with different sets of parts, provide a list of part DataFrames (``list_df_parts``) matching to the list of feature DataFrames:"
   ],
   "metadata": {
    "collapsed": false
   },
   "id": "39df7d44da26850c"
  },
  {
   "cell_type": "code",
   "execution_count": 9,
   "outputs": [],
   "source": [
    "# Load one of the provided top scale datasets\n",
    "split_kws = sf.get_split_kws(split_types=[\"Segment\"], n_split_max=5)\n",
    "df_scales = aa.load_scales(top60_n=38)\n",
    "list_parts = [\"tmd\", \"tmd_jmd\", \"jmd_n_tmd_n\" ,\"tmd_c_jmd_c\"]\n",
    "list_df_feat1 = []\n",
    "list_df_parts = []\n",
    "for part in list_parts:\n",
    "    df_parts = sf.get_df_parts(df_seq=df_seq, list_parts=part)\n",
    "    cpp = aa.CPP(df_parts=df_parts, split_kws=split_kws, df_scales=df_scales)\n",
    "    df_feat = cpp.run(labels=labels, label_ref=2, max_overlap=1, max_cor=1)\n",
    "    list_df_feat1.append(df_feat)\n",
    "    list_df_parts.append(df_parts)"
   ],
   "metadata": {
    "collapsed": false,
    "ExecuteTime": {
     "end_time": "2025-06-17T01:14:10.455000229Z",
     "start_time": "2025-06-17T01:14:09.080589100Z"
    }
   },
   "id": "e32c9dadcebe5e60"
  },
  {
   "cell_type": "code",
   "execution_count": 10,
   "outputs": [
    {
     "data": {
      "text/plain": "<IPython.core.display.HTML object>",
      "text/html": "<style type=\"text/css\">\n#T_4f202 thead th {\n  background-color: white;\n  color: black;\n}\n#T_4f202 tbody tr:nth-child(odd) {\n  background-color: #f2f2f2;\n}\n#T_4f202 tbody tr:nth-child(even) {\n  background-color: white;\n}\n#T_4f202 th {\n  padding: 5px;\n  white-space: nowrap;\n}\n#T_4f202  td {\n  padding: 5px;\n  white-space: nowrap;\n}\n</style>\n<table id=\"T_4f202\" style='display:block; max-height: 300px; max-width: 100%; overflow-x: auto; overflow-y: auto;'>\n  <thead>\n    <tr>\n      <th class=\"blank level0\" >&nbsp;</th>\n      <th id=\"T_4f202_level0_col0\" class=\"col_heading level0 col0\" >name</th>\n      <th id=\"T_4f202_level0_col1\" class=\"col_heading level0 col1\" >n_features</th>\n      <th id=\"T_4f202_level0_col2\" class=\"col_heading level0 col2\" >avg_ABS_AUC</th>\n      <th id=\"T_4f202_level0_col3\" class=\"col_heading level0 col3\" >range_ABS_AUC</th>\n      <th id=\"T_4f202_level0_col4\" class=\"col_heading level0 col4\" >avg_MEAN_DIF</th>\n      <th id=\"T_4f202_level0_col5\" class=\"col_heading level0 col5\" >n_clusters</th>\n      <th id=\"T_4f202_level0_col6\" class=\"col_heading level0 col6\" >avg_n_feat_per_clust</th>\n      <th id=\"T_4f202_level0_col7\" class=\"col_heading level0 col7\" >std_n_feat_per_clust</th>\n    </tr>\n  </thead>\n  <tbody>\n    <tr>\n      <th id=\"T_4f202_level0_row0\" class=\"row_heading level0 row0\" >1</th>\n      <td id=\"T_4f202_row0_col0\" class=\"data row0 col0\" >tmd</td>\n      <td id=\"T_4f202_row0_col1\" class=\"data row0 col1\" >(100, [9, 16, 28, 2, 10, 12, 10, 13])</td>\n      <td id=\"T_4f202_row0_col2\" class=\"data row0 col2\" >0.139000</td>\n      <td id=\"T_4f202_row0_col3\" class=\"data row0 col3\" >[0.067, 0.115, 0.142, 0.162, 0.21]</td>\n      <td id=\"T_4f202_row0_col4\" class=\"data row0 col4\" >(np.float64(0.055), np.float64(-0.057))</td>\n      <td id=\"T_4f202_row0_col5\" class=\"data row0 col5\" >11</td>\n      <td id=\"T_4f202_row0_col6\" class=\"data row0 col6\" >9.090000</td>\n      <td id=\"T_4f202_row0_col7\" class=\"data row0 col7\" >3.340000</td>\n    </tr>\n    <tr>\n      <th id=\"T_4f202_level0_row1\" class=\"row_heading level0 row1\" >2</th>\n      <td id=\"T_4f202_row1_col0\" class=\"data row1 col0\" >tmd_jmd</td>\n      <td id=\"T_4f202_row1_col1\" class=\"data row1 col1\" >(100, [11, 13, 18, 14, 5, 23, 5, 11])</td>\n      <td id=\"T_4f202_row1_col2\" class=\"data row1 col2\" >0.165000</td>\n      <td id=\"T_4f202_row1_col3\" class=\"data row1 col3\" >[0.092, 0.135, 0.161, 0.19, 0.275]</td>\n      <td id=\"T_4f202_row1_col4\" class=\"data row1 col4\" >(np.float64(0.056), np.float64(-0.053))</td>\n      <td id=\"T_4f202_row1_col5\" class=\"data row1 col5\" >23</td>\n      <td id=\"T_4f202_row1_col6\" class=\"data row1 col6\" >4.350000</td>\n      <td id=\"T_4f202_row1_col7\" class=\"data row1 col7\" >2.080000</td>\n    </tr>\n    <tr>\n      <th id=\"T_4f202_level0_row2\" class=\"row_heading level0 row2\" >3</th>\n      <td id=\"T_4f202_row2_col0\" class=\"data row2 col0\" >jmd_n_tmd_n</td>\n      <td id=\"T_4f202_row2_col1\" class=\"data row2 col1\" >(100, [14, 10, 25, 5, 10, 17, 9, 10])</td>\n      <td id=\"T_4f202_row2_col2\" class=\"data row2 col2\" >0.148000</td>\n      <td id=\"T_4f202_row2_col3\" class=\"data row2 col3\" >[0.077, 0.122, 0.143, 0.17, 0.246]</td>\n      <td id=\"T_4f202_row2_col4\" class=\"data row2 col4\" >(np.float64(0.054), np.float64(-0.061))</td>\n      <td id=\"T_4f202_row2_col5\" class=\"data row2 col5\" >10</td>\n      <td id=\"T_4f202_row2_col6\" class=\"data row2 col6\" >10.000000</td>\n      <td id=\"T_4f202_row2_col7\" class=\"data row2 col7\" >7.710000</td>\n    </tr>\n    <tr>\n      <th id=\"T_4f202_level0_row3\" class=\"row_heading level0 row3\" >4</th>\n      <td id=\"T_4f202_row3_col0\" class=\"data row3 col0\" >tmd_c_jmd_c</td>\n      <td id=\"T_4f202_row3_col1\" class=\"data row3 col1\" >(100, [13, 17, 29, 18, 1, 17, 0, 5])</td>\n      <td id=\"T_4f202_row3_col2\" class=\"data row3 col2\" >0.165000</td>\n      <td id=\"T_4f202_row3_col3\" class=\"data row3 col3\" >[0.077, 0.134, 0.162, 0.193, 0.32]</td>\n      <td id=\"T_4f202_row3_col4\" class=\"data row3 col4\" >(np.float64(0.074), np.float64(-0.07))</td>\n      <td id=\"T_4f202_row3_col5\" class=\"data row3 col5\" >14</td>\n      <td id=\"T_4f202_row3_col6\" class=\"data row3 col6\" >7.140000</td>\n      <td id=\"T_4f202_row3_col7\" class=\"data row3 col7\" >3.660000</td>\n    </tr>\n  </tbody>\n</table>\n"
     },
     "metadata": {},
     "output_type": "display_data"
    }
   ],
   "source": [
    "# Create evaluation for unfiltered features\n",
    "df_eval = cpp.eval(list_df_feat=list_df_feat1, labels=labels, label_ref=2, names_feature_sets=list_parts, list_df_parts=list_df_parts)\n",
    "aa.display_df(df_eval)"
   ],
   "metadata": {
    "collapsed": false,
    "ExecuteTime": {
     "end_time": "2025-06-17T01:14:11.978674231Z",
     "start_time": "2025-06-17T01:14:10.478022358Z"
    }
   },
   "id": "d0f7b69a5e87ebc6"
  },
  {
   "cell_type": "code",
   "execution_count": null,
   "outputs": [],
   "source": [],
   "metadata": {
    "collapsed": false
   },
   "id": "d0f6a1cdddaf7222"
  }
 ],
 "metadata": {
  "kernelspec": {
   "display_name": "Python 3",
   "language": "python",
   "name": "python3"
  },
  "language_info": {
   "codemirror_mode": {
    "name": "ipython",
    "version": 2
   },
   "file_extension": ".py",
   "mimetype": "text/x-python",
   "name": "python",
   "nbconvert_exporter": "python",
   "pygments_lexer": "ipython2",
   "version": "2.7.6"
  }
 },
 "nbformat": 4,
 "nbformat_minor": 5
}
