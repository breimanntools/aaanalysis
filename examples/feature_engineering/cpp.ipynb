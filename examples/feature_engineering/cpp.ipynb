{
 "cells": [
  {
   "cell_type": "markdown",
   "source": [
    "To create an ``CPP`` object, you just need to provide a valid ``df_parts`` DataFrame:"
   ],
   "metadata": {
    "collapsed": false
   },
   "id": "d10214ea72cde9bf"
  },
  {
   "cell_type": "code",
   "execution_count": 1,
   "outputs": [],
   "source": [
    "import aaanalysis as aa\n",
    "df_seq = aa.load_dataset(name=\"DOM_GSEC\", n=50)\n",
    "sf = aa.SequenceFeature()\n",
    "df_parts = sf.get_df_parts(df_seq=df_seq)\n",
    "# Create CPP object\n",
    "cpp = aa.CPP(df_parts=df_parts)"
   ],
   "metadata": {
    "collapsed": false,
    "ExecuteTime": {
     "end_time": "2025-06-17T01:00:33.773844180Z",
     "start_time": "2025-06-17T01:00:30.531436518Z"
    }
   },
   "id": "7359c4e758485099"
  },
  {
   "cell_type": "markdown",
   "source": [
    "You can adjust **Parts**, **Splits**, and **Scales** as follows:"
   ],
   "metadata": {
    "collapsed": false
   },
   "id": "4518d3526a2224a5"
  },
  {
   "cell_type": "code",
   "execution_count": 2,
   "outputs": [],
   "source": [
    "df_parts = sf.get_df_parts(df_seq=df_seq, list_parts=[\"tmd_jmd\"])\n",
    "split_kws = sf.get_split_kws(split_types=[\"Segment\"], n_split_max=1)\n",
    "df_scales = aa.load_scales()\n",
    "scales = list(df_scales)[0:10]\n",
    "# Create CPP object for Segments over the complete TMD-JMD with 10 first scales \n",
    "cpp = aa.CPP(df_parts=df_parts, split_kws=split_kws, df_scales=df_scales[scales])"
   ],
   "metadata": {
    "collapsed": false,
    "ExecuteTime": {
     "end_time": "2025-06-17T01:00:33.854941585Z",
     "start_time": "2025-06-17T01:00:33.788883216Z"
    }
   },
   "id": "16f1edfa683e235a"
  }
 ],
 "metadata": {
  "kernelspec": {
   "display_name": "Python 3",
   "language": "python",
   "name": "python3"
  },
  "language_info": {
   "codemirror_mode": {
    "name": "ipython",
    "version": 2
   },
   "file_extension": ".py",
   "mimetype": "text/x-python",
   "name": "python",
   "nbconvert_exporter": "python",
   "pygments_lexer": "ipython2",
   "version": "2.7.6"
  }
 },
 "nbformat": 4,
 "nbformat_minor": 5
}
