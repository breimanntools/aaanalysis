{
 "cells": [
  {
   "cell_type": "markdown",
   "source": [
    "By default, the ``SequenceFeature().get_features()`` method creates all features for the default **Parts**, **Splits**, and **Scales**:"
   ],
   "metadata": {
    "collapsed": false
   },
   "id": "7082fdde0606d6b"
  },
  {
   "cell_type": "code",
   "execution_count": 1,
   "outputs": [
    {
     "name": "stdout",
     "output_type": "stream",
     "text": [
      "580140 features were created, such as:\n",
      "['TMD-Segment(1,1)-ANDN920101', 'TMD-Segment(1,1)-ARGP820101', 'TMD-Segment(1,1)-ARGP820102', 'TMD-Segment(1,1)-ARGP820103', 'TMD-Segment(1,1)-BEGF750101']\n"
     ]
    }
   ],
   "source": [
    "import aaanalysis as aa\n",
    "sf = aa.SequenceFeature()\n",
    "features = sf.get_features()\n",
    "print(f\"{len(features)} features were created, such as:\")\n",
    "print(features[0:5])"
   ],
   "metadata": {
    "collapsed": false,
    "ExecuteTime": {
     "end_time": "2025-06-17T01:39:11.481951432Z",
     "start_time": "2025-06-17T01:39:10.020532759Z"
    }
   },
   "id": "b0b4e49023288689"
  },
  {
   "cell_type": "markdown",
   "source": [
    "Beside the default parts, the default splits can be retrieved using the ``SequenceFeature().get_split_kws()`` method and the scales by using the ``load_scales()`` function:"
   ],
   "metadata": {
    "collapsed": false
   },
   "id": "e12aea592af5f6b5"
  },
  {
   "cell_type": "code",
   "execution_count": 2,
   "outputs": [
    {
     "name": "stdout",
     "output_type": "stream",
     "text": [
      "3 parts x 330 splits x 586 scales = 580140 features\n"
     ]
    }
   ],
   "source": [
    "split_kws = sf.get_split_kws()\n",
    "list_scales = list(aa.load_scales())\n",
    "list_parts = [\"tmd\", \"jmd_n_tmd_n\", \"tmd_c_jmd_c\"]\n",
    "features = sf.get_features(list_parts=list_parts, split_kws=split_kws, list_scales=list_scales)\n",
    "n_parts = len(list_parts)\n",
    "n_scales = len(list_scales)\n",
    "n_splits = int(len(features) / (n_parts * n_scales))\n",
    "print(f\"{n_parts} parts x {n_splits} splits x {n_scales} scales = {len(features)} features\")"
   ],
   "metadata": {
    "collapsed": false,
    "ExecuteTime": {
     "end_time": "2025-06-17T01:39:11.716282167Z",
     "start_time": "2025-06-17T01:39:11.482172932Z"
    }
   },
   "id": "d636f86617e3ba97"
  },
  {
   "cell_type": "markdown",
   "source": [
    "To obtain features for all ``Parts`` set ``all_parts=True``:"
   ],
   "metadata": {
    "collapsed": false
   },
   "id": "623291074e8f5fa7"
  },
  {
   "cell_type": "code",
   "execution_count": 3,
   "outputs": [
    {
     "name": "stdout",
     "output_type": "stream",
     "text": [
      "1547040 features were created\n"
     ]
    }
   ],
   "source": [
    "features = sf.get_features(all_parts=True)\n",
    "print(f\"{len(features)} features were created\")"
   ],
   "metadata": {
    "collapsed": false,
    "ExecuteTime": {
     "end_time": "2025-06-17T01:39:12.250309027Z",
     "start_time": "2025-06-17T01:39:11.721616721Z"
    }
   },
   "id": "576c85333ee20820"
  },
  {
   "cell_type": "markdown",
   "source": [
    "``Parts`` and ``Scales`` can be easily changed by adjusting their respective lists. To change ``Splits``, you can create a new ``split_kws``:"
   ],
   "metadata": {
    "collapsed": false
   },
   "id": "355dbd03d965b425"
  },
  {
   "cell_type": "code",
   "execution_count": 4,
   "outputs": [
    {
     "name": "stdout",
     "output_type": "stream",
     "text": [
      "5 features were created: \n",
      "['TMD-Segment(1,5)-scale_1', 'TMD-Segment(2,5)-scale_1', 'TMD-Segment(3,5)-scale_1', 'TMD-Segment(4,5)-scale_1', 'TMD-Segment(5,5)-scale_1']\n"
     ]
    }
   ],
   "source": [
    "split_kws = sf.get_split_kws(split_types=[\"Segment\"], n_split_min=5, n_split_max=5)\n",
    "features = sf.get_features(list_parts=[\"tmd\"], list_scales=[\"scale_1\"], split_kws=split_kws)\n",
    "print(f\"{len(features)} features were created: \")\n",
    "print(features)"
   ],
   "metadata": {
    "collapsed": false,
    "ExecuteTime": {
     "end_time": "2025-06-17T01:39:12.329723534Z",
     "start_time": "2025-06-17T01:39:12.324262984Z"
    }
   },
   "id": "4300aaf6ad079076"
  }
 ],
 "metadata": {
  "kernelspec": {
   "display_name": "Python 3",
   "language": "python",
   "name": "python3"
  },
  "language_info": {
   "codemirror_mode": {
    "name": "ipython",
    "version": 2
   },
   "file_extension": ".py",
   "mimetype": "text/x-python",
   "name": "python",
   "nbconvert_exporter": "python",
   "pygments_lexer": "ipython2",
   "version": "2.7.6"
  }
 },
 "nbformat": 4,
 "nbformat_minor": 5
}
